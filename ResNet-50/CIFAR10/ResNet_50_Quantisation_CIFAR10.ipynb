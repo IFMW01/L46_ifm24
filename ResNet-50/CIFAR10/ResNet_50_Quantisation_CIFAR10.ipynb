{
  "cells": [
    {
      "cell_type": "code",
      "execution_count": null,
      "metadata": {
        "colab": {
          "base_uri": "https://localhost:8080/"
        },
        "id": "g5UR0O-BbO19",
        "outputId": "838b9620-d9ea-4e49-d0a0-5fd9a0d31142"
      },
      "outputs": [
        {
          "name": "stdout",
          "output_type": "stream",
          "text": [
            "Collecting tensorflow-model-optimization\n",
            "  Downloading tensorflow_model_optimization-0.7.5-py2.py3-none-any.whl (241 kB)\n",
            "\u001b[2K     \u001b[90m━━━━━━━━━━━━━━━━━━━━━━━━━━━━━━━━━━━━━━━━\u001b[0m \u001b[32m241.2/241.2 kB\u001b[0m \u001b[31m2.4 MB/s\u001b[0m eta \u001b[36m0:00:00\u001b[0m\n",
            "\u001b[?25hRequirement already satisfied: absl-py~=1.2 in /usr/local/lib/python3.10/dist-packages (from tensorflow-model-optimization) (1.4.0)\n",
            "Requirement already satisfied: dm-tree~=0.1.1 in /usr/local/lib/python3.10/dist-packages (from tensorflow-model-optimization) (0.1.8)\n",
            "Requirement already satisfied: numpy~=1.23 in /usr/local/lib/python3.10/dist-packages (from tensorflow-model-optimization) (1.23.5)\n",
            "Requirement already satisfied: six~=1.14 in /usr/local/lib/python3.10/dist-packages (from tensorflow-model-optimization) (1.16.0)\n",
            "Installing collected packages: tensorflow-model-optimization\n",
            "Successfully installed tensorflow-model-optimization-0.7.5\n"
          ]
        }
      ],
      "source": [
        "import tensorflow as tf\n",
        "import keras\n",
        "from keras import layers\n",
        "import numpy as np\n",
        "import pandas as pd\n",
        "from sklearn.decomposition import PCA\n",
        "from sklearn.preprocessing import StandardScaler\n",
        "import matplotlib.pyplot as plt\n",
        "from sklearn.manifold import TSNE\n",
        "!pip install tensorflow-model-optimization\n",
        "from tensorflow_model_optimization.python.core.sparsity.keras import prune, pruning_callbacks\n",
        "import tensorflow_model_optimization as tfmot\n",
        "from tensorflow_model_optimization.sparsity import keras as sparsity\n",
        "from tensorflow.keras.models import load_model\n",
        "from google.colab import files\n",
        "import shutil\n",
        "import gc\n",
        "from keras.datasets import cifar10\n",
        "from tensorflow.keras import layers\n",
        "\n",
        "np.random.seed(42)\n",
        "tf.random.set_seed(42)"
      ]
    },
    {
      "cell_type": "code",
      "execution_count": null,
      "metadata": {
        "colab": {
          "base_uri": "https://localhost:8080/"
        },
        "id": "kgdWDGbE0e-h",
        "outputId": "a7efacda-9817-441b-b7e1-6d2ec7235d41"
      },
      "outputs": [
        {
          "name": "stdout",
          "output_type": "stream",
          "text": [
            "Downloading data from https://www.cs.toronto.edu/~kriz/cifar-100-python.tar.gz\n",
            "169001437/169001437 [==============================] - 6s 0us/step\n",
            "x_train shape: (50000, 32, 32, 3, 1)\n",
            "50000 train samples\n",
            "10000 test samples\n"
          ]
        }
      ],
      "source": [
        "def build_resnet_model(input_shape, num_classes):\n",
        "    model= tf.keras.applications.ResNet50(include_top=False,\n",
        "    input_shape=input_shape,\n",
        "    pooling='avg',classes=num_classes,\n",
        "    weights=None)\n",
        "    for layer in model.layers:\n",
        "      layer.trainable=True\n",
        "    dnn_model = keras.Sequential()\n",
        "    dnn_model.add(model)\n",
        "    dnn_model.add(keras.layers.Flatten())\n",
        "    dnn_model.add(keras.layers.Dense(512, activation='relu'))\n",
        "    dnn_model.add(keras.layers.Dense(num_classes, activation='softmax'))\n",
        "    dnn_model.compile(optimizer='adam', loss='categorical_crossentropy', metrics=['accuracy'])\n",
        "    return dnn_model\n",
        "\n",
        "# Load and preprocess MNIST data\n",
        "num_classes = 10\n",
        "input_shape = (32, 32, 3)\n",
        "\n",
        "# Load the data and split it between train and test sets\n",
        "(x_train, y_train), (x_test, y_test) = cifar10.load_data()\n",
        "\n",
        "# Load the data and split it between train and test sets\n",
        "\n",
        "# Scale images to the [0, 1] range\n",
        "x_train = x_train.astype(\"float32\") / 255\n",
        "x_test = x_test.astype(\"float32\") / 255\n",
        "# Make sure images have shape (28, 28, 1)\n",
        "x_train = np.expand_dims(x_train, -1)\n",
        "x_test = np.expand_dims(x_test, -1)\n",
        "print(\"x_train shape:\", x_train.shape)\n",
        "print(x_train.shape[0], \"train samples\")\n",
        "print(x_test.shape[0], \"test samples\")\n",
        "\n",
        "\n",
        "# convert class vectors to binary class matrices\n",
        "y_train = keras.utils.to_categorical(y_train, num_classes)\n",
        "y_test = keras.utils.to_categorical(y_test, num_classes)\n",
        "\n"
      ]
    },
    {
      "cell_type": "code",
      "execution_count": null,
      "metadata": {
        "id": "ISdhEM6VaVA4"
      },
      "outputs": [],
      "source": [
        "def train_ResNet(model, train_data, train_labels, test_data, test_labels):\n",
        "    model.save_weights(init_weights)\n",
        "    model.save(init_model)\n",
        "    initailsoftmax = model.predict(test_data)\n",
        "    initaildf = pd.DataFrame(initailsoftmax)\n",
        "    filename = filepath + '0_softmax.csv'\n",
        "    initaildf.to_csv(filename,index=False)\n",
        "    epoch = 1\n",
        "    while epoch < 26:\n",
        "        print(f\"Epoch {epoch}:\")\n",
        "\n",
        "        # Training on one epoch\n",
        "        model.fit(train_data, train_labels, epochs=1, batch_size=64, verbose=1)\n",
        "\n",
        "        # Evaluate on the test dataset\n",
        "        loss, accuracy = model.evaluate(test_data, test_labels, verbose=0)\n",
        "        results = model.predict(test_data)\n",
        "        softmax_df = pd.DataFrame(results)\n",
        "        filename = filepath+str(epoch)+'_softmax.csv'\n",
        "        softmax_df.to_csv(filename,index=False)\n",
        "\n",
        "        print(f\"Test Loss: {loss}, Test Accuracy: {accuracy}\")\n",
        "        if epoch ==25:\n",
        "          model.save_weights(final_weights)\n",
        "          model.save(final_model)\n",
        "        epoch += 1\n",
        "\n",
        "\n"
      ]
    },
    {
      "cell_type": "code",
      "execution_count": null,
      "metadata": {
        "id": "ZW6sVYElRjz-"
      },
      "outputs": [],
      "source": [
        "model_name = 'resnet'\n",
        "dataset = 'CIFAR10'"
      ]
    },
    {
      "cell_type": "markdown",
      "metadata": {
        "id": "2EJSiXMAb4UR"
      },
      "source": [
        "# Creating Base Models"
      ]
    },
    {
      "cell_type": "code",
      "execution_count": null,
      "metadata": {
        "id": "1WZTNNxJciha"
      },
      "outputs": [],
      "source": [
        "filepath = '/content/base/'\n",
        "init_weights = filepath + model_name + dataset + '_init_weights.tf'\n",
        "init_model = filepath + model_name + dataset +'_init.tf'\n",
        "final_weights = filepath + model_name + dataset +'_final_weights.tf'\n",
        "final_model= filepath + model_name + dataset +'_final.tf'"
      ]
    },
    {
      "cell_type": "code",
      "execution_count": null,
      "metadata": {
        "id": "slUSKBbwgTV4"
      },
      "outputs": [],
      "source": [
        "!mkdir '/content/base/'"
      ]
    },
    {
      "cell_type": "code",
      "execution_count": null,
      "metadata": {
        "id": "ws_M91l3fZ24"
      },
      "outputs": [],
      "source": [
        "base = build_resnet_model(input_shape, num_classes)"
      ]
    },
    {
      "cell_type": "code",
      "execution_count": null,
      "metadata": {
        "colab": {
          "base_uri": "https://localhost:8080/"
        },
        "id": "xEAxJbswxiTX",
        "outputId": "3ca19a36-ba16-4a35-e52d-955631e6998d"
      },
      "outputs": [
        {
          "name": "stdout",
          "output_type": "stream",
          "text": [
            "313/313 [==============================] - 7s 11ms/step\n",
            "Epoch 1:\n",
            "782/782 [==============================] - 78s 55ms/step - loss: 4.0642 - accuracy: 0.0745\n",
            "313/313 [==============================] - 3s 9ms/step\n",
            "Test Loss: 3.792030096054077, Test Accuracy: 0.10930000245571136\n",
            "Epoch 2:\n",
            "782/782 [==============================] - 41s 52ms/step - loss: 3.5296 - accuracy: 0.1504\n",
            "313/313 [==============================] - 3s 9ms/step\n",
            "Test Loss: 3.8749582767486572, Test Accuracy: 0.11710000038146973\n",
            "Epoch 3:\n",
            "782/782 [==============================] - 41s 52ms/step - loss: 3.3413 - accuracy: 0.1840\n",
            "313/313 [==============================] - 3s 10ms/step\n",
            "Test Loss: 4.150251388549805, Test Accuracy: 0.11089999973773956\n",
            "Epoch 4:\n",
            "782/782 [==============================] - 41s 53ms/step - loss: 3.2389 - accuracy: 0.2070\n",
            "313/313 [==============================] - 3s 9ms/step\n",
            "Test Loss: 3.595339059829712, Test Accuracy: 0.1565999984741211\n",
            "Epoch 5:\n",
            "782/782 [==============================] - 43s 55ms/step - loss: 3.1096 - accuracy: 0.2309\n",
            "313/313 [==============================] - 3s 10ms/step\n",
            "Test Loss: 3.050424337387085, Test Accuracy: 0.24969999492168427\n",
            "Epoch 6:\n",
            "782/782 [==============================] - 41s 52ms/step - loss: 2.8119 - accuracy: 0.2879\n",
            "313/313 [==============================] - 3s 11ms/step\n",
            "Test Loss: 3.1777777671813965, Test Accuracy: 0.22280000150203705\n",
            "Epoch 7:\n",
            "782/782 [==============================] - 41s 52ms/step - loss: 2.9731 - accuracy: 0.2555\n",
            "313/313 [==============================] - 3s 9ms/step\n",
            "Test Loss: 3.5656394958496094, Test Accuracy: 0.1720999926328659\n",
            "Epoch 8:\n",
            "782/782 [==============================] - 41s 52ms/step - loss: 2.8786 - accuracy: 0.2736\n",
            "313/313 [==============================] - 3s 9ms/step\n",
            "Test Loss: 3.0080602169036865, Test Accuracy: 0.26339998841285706\n",
            "Epoch 9:\n",
            "782/782 [==============================] - 42s 54ms/step - loss: 2.8148 - accuracy: 0.2844\n",
            "313/313 [==============================] - 3s 9ms/step\n",
            "Test Loss: 3.206465482711792, Test Accuracy: 0.23090000450611115\n",
            "Epoch 10:\n",
            "782/782 [==============================] - 43s 55ms/step - loss: 2.5656 - accuracy: 0.3352\n",
            "313/313 [==============================] - 3s 9ms/step\n",
            "Test Loss: 3.086392641067505, Test Accuracy: 0.25940001010894775\n",
            "Epoch 11:\n",
            "782/782 [==============================] - 41s 52ms/step - loss: 2.4879 - accuracy: 0.3524\n",
            "313/313 [==============================] - 3s 9ms/step\n",
            "Test Loss: 3.2431743144989014, Test Accuracy: 0.2345000058412552\n",
            "Epoch 12:\n",
            "782/782 [==============================] - 40s 52ms/step - loss: 3.2539 - accuracy: 0.2124\n",
            "313/313 [==============================] - 3s 9ms/step\n",
            "Test Loss: 3.450692653656006, Test Accuracy: 0.19930000603199005\n",
            "Epoch 13:\n",
            "782/782 [==============================] - 40s 51ms/step - loss: 2.8074 - accuracy: 0.2871\n",
            "313/313 [==============================] - 3s 8ms/step\n",
            "Test Loss: 2.9613826274871826, Test Accuracy: 0.26899999380111694\n",
            "Epoch 14:\n",
            "782/782 [==============================] - 41s 52ms/step - loss: 2.5607 - accuracy: 0.3365\n",
            "313/313 [==============================] - 3s 9ms/step\n",
            "Test Loss: 3.0436365604400635, Test Accuracy: 0.26100000739097595\n",
            "Epoch 15:\n",
            "782/782 [==============================] - 42s 53ms/step - loss: 2.4309 - accuracy: 0.3642\n",
            "313/313 [==============================] - 3s 10ms/step\n",
            "Test Loss: 2.784759998321533, Test Accuracy: 0.3059999942779541\n",
            "Epoch 16:\n",
            "782/782 [==============================] - 41s 52ms/step - loss: 2.3486 - accuracy: 0.3798\n",
            "313/313 [==============================] - 3s 9ms/step\n",
            "Test Loss: 2.963846206665039, Test Accuracy: 0.29280000925064087\n",
            "Epoch 17:\n",
            "782/782 [==============================] - 41s 52ms/step - loss: 2.3108 - accuracy: 0.3897\n",
            "313/313 [==============================] - 3s 9ms/step\n",
            "Test Loss: 2.844933271408081, Test Accuracy: 0.30630001425743103\n",
            "Epoch 18:\n",
            "782/782 [==============================] - 41s 52ms/step - loss: 2.3473 - accuracy: 0.3820\n",
            "313/313 [==============================] - 3s 9ms/step\n",
            "Test Loss: 3.374892234802246, Test Accuracy: 0.23399999737739563\n",
            "Epoch 19:\n",
            "782/782 [==============================] - 41s 52ms/step - loss: 2.2380 - accuracy: 0.4054\n",
            "313/313 [==============================] - 3s 9ms/step\n",
            "Test Loss: 3.008079767227173, Test Accuracy: 0.29190000891685486\n",
            "Epoch 20:\n",
            "782/782 [==============================] - 40s 52ms/step - loss: 2.1470 - accuracy: 0.4251\n",
            "313/313 [==============================] - 3s 10ms/step\n",
            "Test Loss: 3.6243252754211426, Test Accuracy: 0.22609999775886536\n",
            "Epoch 21:\n",
            "782/782 [==============================] - 40s 51ms/step - loss: 1.9199 - accuracy: 0.4764\n",
            "313/313 [==============================] - 3s 9ms/step\n",
            "Test Loss: 2.607877731323242, Test Accuracy: 0.3626999855041504\n",
            "Epoch 22:\n",
            "782/782 [==============================] - 41s 53ms/step - loss: 1.8419 - accuracy: 0.4961\n",
            "313/313 [==============================] - 3s 11ms/step\n",
            "Test Loss: 2.8589749336242676, Test Accuracy: 0.33899998664855957\n",
            "Epoch 23:\n",
            "782/782 [==============================] - 40s 52ms/step - loss: 1.8227 - accuracy: 0.5030\n",
            "313/313 [==============================] - 3s 10ms/step\n",
            "Test Loss: 3.2865500450134277, Test Accuracy: 0.274399995803833\n",
            "Epoch 24:\n",
            "782/782 [==============================] - 40s 51ms/step - loss: 1.6972 - accuracy: 0.5258\n",
            "313/313 [==============================] - 3s 9ms/step\n",
            "Test Loss: 2.8833560943603516, Test Accuracy: 0.34769999980926514\n",
            "Epoch 25:\n",
            "782/782 [==============================] - 40s 52ms/step - loss: 1.5163 - accuracy: 0.5757\n",
            "313/313 [==============================] - 3s 9ms/step\n",
            "Test Loss: 3.1426682472229004, Test Accuracy: 0.3206999897956848\n"
          ]
        }
      ],
      "source": [
        "train_ResNet(base,x_train,y_train,x_test,y_test)"
      ]
    },
    {
      "cell_type": "code",
      "execution_count": null,
      "metadata": {
        "id": "FJTpZuPCRNuO"
      },
      "outputs": [],
      "source": [
        "del (base)\n",
        "gc.collect()\n",
        "keras.backend.clear_session()"
      ]
    },
    {
      "cell_type": "markdown",
      "metadata": {
        "id": "ug9epnRWclXx"
      },
      "source": [
        "# Independant model one"
      ]
    },
    {
      "cell_type": "code",
      "execution_count": null,
      "metadata": {
        "id": "CgYyTzPGckv5"
      },
      "outputs": [],
      "source": [
        "filepath = '/content/independant_1/'\n",
        "init_weights = filepath + model_name + dataset + '_init_weights.tf'\n",
        "init_model = filepath + model_name + dataset + '_init.tf'\n",
        "final_weights = filepath + model_name + dataset + '_final_weights.tf'\n",
        "final_model= filepath + model_name + dataset + '_final.tf'"
      ]
    },
    {
      "cell_type": "code",
      "execution_count": null,
      "metadata": {
        "id": "a27D5LR5gpFp"
      },
      "outputs": [],
      "source": [
        "!mkdir  '/content/independant_1/'"
      ]
    },
    {
      "cell_type": "code",
      "execution_count": null,
      "metadata": {
        "id": "0ZmvRweSc6P8"
      },
      "outputs": [],
      "source": [
        "model_independant_1 = build_resnet_model(input_shape, num_classes)"
      ]
    },
    {
      "cell_type": "code",
      "execution_count": null,
      "metadata": {
        "colab": {
          "base_uri": "https://localhost:8080/"
        },
        "id": "nbSGMFzRdA5Z",
        "outputId": "31b325fb-8959-4d29-ad32-8a3fad96c24b"
      },
      "outputs": [
        {
          "name": "stdout",
          "output_type": "stream",
          "text": [
            "313/313 [==============================] - 4s 9ms/step\n",
            "Epoch 1:\n",
            "782/782 [==============================] - 73s 53ms/step - loss: 4.0672 - accuracy: 0.0743\n",
            "313/313 [==============================] - 3s 9ms/step\n",
            "Test Loss: 4.085111618041992, Test Accuracy: 0.09790000319480896\n",
            "Epoch 2:\n",
            "782/782 [==============================] - 42s 53ms/step - loss: 3.5874 - accuracy: 0.1406\n",
            "313/313 [==============================] - 3s 10ms/step\n",
            "Test Loss: 6.239832401275635, Test Accuracy: 0.07940000295639038\n",
            "Epoch 3:\n",
            "782/782 [==============================] - 42s 53ms/step - loss: 3.4075 - accuracy: 0.1766\n",
            "313/313 [==============================] - 3s 9ms/step\n",
            "Test Loss: 3.7001678943634033, Test Accuracy: 0.1574999988079071\n",
            "Epoch 4:\n",
            "782/782 [==============================] - 43s 55ms/step - loss: 3.2157 - accuracy: 0.2099\n",
            "313/313 [==============================] - 3s 9ms/step\n",
            "Test Loss: 4.452499866485596, Test Accuracy: 0.12370000034570694\n",
            "Epoch 5:\n",
            "782/782 [==============================] - 43s 55ms/step - loss: 2.9198 - accuracy: 0.2630\n",
            "313/313 [==============================] - 3s 10ms/step\n",
            "Test Loss: 3.4748897552490234, Test Accuracy: 0.21559999883174896\n",
            "Epoch 6:\n",
            "782/782 [==============================] - 42s 54ms/step - loss: 2.7211 - accuracy: 0.3002\n",
            "313/313 [==============================] - 3s 10ms/step\n",
            "Test Loss: 5.789721965789795, Test Accuracy: 0.16599999368190765\n",
            "Epoch 7:\n",
            "782/782 [==============================] - 42s 54ms/step - loss: 2.5595 - accuracy: 0.3335\n",
            "313/313 [==============================] - 3s 10ms/step\n",
            "Test Loss: 3.5467183589935303, Test Accuracy: 0.20569999516010284\n",
            "Epoch 8:\n",
            "782/782 [==============================] - 42s 53ms/step - loss: 2.7183 - accuracy: 0.3089\n",
            "313/313 [==============================] - 3s 11ms/step\n",
            "Test Loss: 2.8527214527130127, Test Accuracy: 0.29679998755455017\n",
            "Epoch 9:\n",
            "782/782 [==============================] - 42s 53ms/step - loss: 2.4708 - accuracy: 0.3559\n",
            "313/313 [==============================] - 3s 9ms/step\n",
            "Test Loss: 3.665778875350952, Test Accuracy: 0.19249999523162842\n",
            "Epoch 10:\n",
            "782/782 [==============================] - 42s 53ms/step - loss: 2.4594 - accuracy: 0.3597\n",
            "313/313 [==============================] - 3s 9ms/step\n",
            "Test Loss: 3.40419340133667, Test Accuracy: 0.2371000051498413\n",
            "Epoch 11:\n",
            "782/782 [==============================] - 43s 55ms/step - loss: 2.3409 - accuracy: 0.3841\n",
            "313/313 [==============================] - 3s 9ms/step\n",
            "Test Loss: 3.1281964778900146, Test Accuracy: 0.2533999979496002\n",
            "Epoch 12:\n",
            "782/782 [==============================] - 43s 54ms/step - loss: 2.2931 - accuracy: 0.3948\n",
            "313/313 [==============================] - 3s 10ms/step\n",
            "Test Loss: 3.1271159648895264, Test Accuracy: 0.2606000006198883\n",
            "Epoch 13:\n",
            "782/782 [==============================] - 41s 52ms/step - loss: 2.3666 - accuracy: 0.3804\n",
            "313/313 [==============================] - 3s 11ms/step\n",
            "Test Loss: 2.824568271636963, Test Accuracy: 0.3100000023841858\n",
            "Epoch 14:\n",
            "782/782 [==============================] - 41s 53ms/step - loss: 2.0939 - accuracy: 0.4394\n",
            "313/313 [==============================] - 3s 10ms/step\n",
            "Test Loss: 2.846038341522217, Test Accuracy: 0.32179999351501465\n",
            "Epoch 15:\n",
            "782/782 [==============================] - 42s 53ms/step - loss: 2.2361 - accuracy: 0.4124\n",
            "313/313 [==============================] - 3s 9ms/step\n",
            "Test Loss: 3.9488930702209473, Test Accuracy: 0.14259999990463257\n",
            "Epoch 16:\n",
            "782/782 [==============================] - 42s 54ms/step - loss: 2.5790 - accuracy: 0.3356\n",
            "313/313 [==============================] - 3s 9ms/step\n",
            "Test Loss: 2.935457706451416, Test Accuracy: 0.295199990272522\n",
            "Epoch 17:\n",
            "782/782 [==============================] - 41s 53ms/step - loss: 2.1874 - accuracy: 0.4172\n",
            "313/313 [==============================] - 3s 9ms/step\n",
            "Test Loss: 2.7863237857818604, Test Accuracy: 0.33660000562667847\n",
            "Epoch 18:\n",
            "782/782 [==============================] - 42s 53ms/step - loss: 1.9777 - accuracy: 0.4655\n",
            "313/313 [==============================] - 3s 9ms/step\n",
            "Test Loss: 2.8678178787231445, Test Accuracy: 0.3257000148296356\n",
            "Epoch 19:\n",
            "782/782 [==============================] - 41s 53ms/step - loss: 2.0269 - accuracy: 0.4554\n",
            "313/313 [==============================] - 3s 9ms/step\n",
            "Test Loss: 2.952104091644287, Test Accuracy: 0.31360000371932983\n",
            "Epoch 20:\n",
            "782/782 [==============================] - 44s 56ms/step - loss: 2.1777 - accuracy: 0.4231\n",
            "313/313 [==============================] - 3s 9ms/step\n",
            "Test Loss: 2.8578038215637207, Test Accuracy: 0.32440000772476196\n",
            "Epoch 21:\n",
            "782/782 [==============================] - 42s 54ms/step - loss: 1.7648 - accuracy: 0.5153\n",
            "313/313 [==============================] - 3s 9ms/step\n",
            "Test Loss: 3.117990255355835, Test Accuracy: 0.31150001287460327\n",
            "Epoch 22:\n",
            "782/782 [==============================] - 41s 53ms/step - loss: 1.5700 - accuracy: 0.5594\n",
            "313/313 [==============================] - 3s 9ms/step\n",
            "Test Loss: 2.763314962387085, Test Accuracy: 0.367000013589859\n",
            "Epoch 23:\n",
            "782/782 [==============================] - 40s 52ms/step - loss: 1.4881 - accuracy: 0.5820\n",
            "313/313 [==============================] - 3s 9ms/step\n",
            "Test Loss: 2.9599647521972656, Test Accuracy: 0.34380000829696655\n",
            "Epoch 24:\n",
            "782/782 [==============================] - 40s 51ms/step - loss: 1.3202 - accuracy: 0.6252\n",
            "313/313 [==============================] - 3s 9ms/step\n",
            "Test Loss: 2.9133849143981934, Test Accuracy: 0.38339999318122864\n",
            "Epoch 25:\n",
            "782/782 [==============================] - 40s 51ms/step - loss: 1.2509 - accuracy: 0.6409\n",
            "313/313 [==============================] - 3s 9ms/step\n",
            "Test Loss: 3.3034613132476807, Test Accuracy: 0.33649998903274536\n"
          ]
        }
      ],
      "source": [
        "train_ResNet(model_independant_1,x_train,y_train,x_test,y_test)"
      ]
    },
    {
      "cell_type": "code",
      "execution_count": null,
      "metadata": {
        "id": "XW6INm6kSxFS"
      },
      "outputs": [],
      "source": [
        "del (model_independant_1)\n",
        "gc.collect()\n",
        "keras.backend.clear_session()"
      ]
    },
    {
      "cell_type": "markdown",
      "metadata": {
        "id": "X2OTEYTFdUAE"
      },
      "source": [
        "# Independant 2"
      ]
    },
    {
      "cell_type": "code",
      "execution_count": null,
      "metadata": {
        "id": "m_6iAeLLdWyf"
      },
      "outputs": [],
      "source": [
        "filepath = '/content/independant_2/'\n",
        "init_weights = filepath + model_name + dataset + '_init_weights.tf'\n",
        "init_model = filepath + model_name + dataset + '_init.tf'\n",
        "final_weights =filepath + model_name + dataset + '_final_weights.tf'\n",
        "final_model= filepath + model_name + dataset + '_final.tf'"
      ]
    },
    {
      "cell_type": "code",
      "execution_count": null,
      "metadata": {
        "id": "Qq4QQMaTgwcV"
      },
      "outputs": [],
      "source": [
        "!mkdir '/content/independant_2/'"
      ]
    },
    {
      "cell_type": "code",
      "execution_count": null,
      "metadata": {
        "id": "WB-QyYy1df0r"
      },
      "outputs": [],
      "source": [
        "model_independant_2 = build_resnet_model(input_shape, num_classes)"
      ]
    },
    {
      "cell_type": "code",
      "execution_count": null,
      "metadata": {
        "colab": {
          "base_uri": "https://localhost:8080/"
        },
        "id": "axvsh5YIdjHr",
        "outputId": "dcbaf7e4-254f-4ec8-96c0-61fc6985a92c"
      },
      "outputs": [
        {
          "name": "stdout",
          "output_type": "stream",
          "text": [
            "313/313 [==============================] - 4s 9ms/step\n",
            "Epoch 1:\n",
            "782/782 [==============================] - 71s 51ms/step - loss: 4.0599 - accuracy: 0.0756\n",
            "313/313 [==============================] - 3s 9ms/step\n",
            "Test Loss: 4.630768299102783, Test Accuracy: 0.05209999904036522\n",
            "Epoch 2:\n",
            "782/782 [==============================] - 40s 50ms/step - loss: 3.5607 - accuracy: 0.1456\n",
            "313/313 [==============================] - 3s 8ms/step\n",
            "Test Loss: 4.0450215339660645, Test Accuracy: 0.10740000009536743\n",
            "Epoch 3:\n",
            "782/782 [==============================] - 39s 50ms/step - loss: 3.4442 - accuracy: 0.1676\n",
            "313/313 [==============================] - 3s 10ms/step\n",
            "Test Loss: 4.889508247375488, Test Accuracy: 0.052299998700618744\n",
            "Epoch 4:\n",
            "782/782 [==============================] - 42s 53ms/step - loss: 3.4096 - accuracy: 0.1747\n",
            "313/313 [==============================] - 3s 10ms/step\n",
            "Test Loss: 4.063724994659424, Test Accuracy: 0.10689999908208847\n",
            "Epoch 5:\n",
            "782/782 [==============================] - 41s 53ms/step - loss: 3.2918 - accuracy: 0.1946\n",
            "313/313 [==============================] - 3s 10ms/step\n",
            "Test Loss: 4.791679859161377, Test Accuracy: 0.06610000133514404\n",
            "Epoch 6:\n",
            "782/782 [==============================] - 41s 52ms/step - loss: 3.1423 - accuracy: 0.2211\n",
            "313/313 [==============================] - 3s 11ms/step\n",
            "Test Loss: 4.918937683105469, Test Accuracy: 0.05310000106692314\n",
            "Epoch 7:\n",
            "782/782 [==============================] - 40s 51ms/step - loss: 3.2107 - accuracy: 0.2103\n",
            "313/313 [==============================] - 3s 10ms/step\n",
            "Test Loss: 3.707404375076294, Test Accuracy: 0.14399999380111694\n",
            "Epoch 8:\n",
            "782/782 [==============================] - 40s 51ms/step - loss: 3.0786 - accuracy: 0.2312\n",
            "313/313 [==============================] - 3s 9ms/step\n",
            "Test Loss: 3.369119882583618, Test Accuracy: 0.20640000700950623\n",
            "Epoch 9:\n",
            "782/782 [==============================] - 40s 51ms/step - loss: 2.9063 - accuracy: 0.2696\n",
            "313/313 [==============================] - 3s 9ms/step\n",
            "Test Loss: 2.9498825073242188, Test Accuracy: 0.2676999866962433\n",
            "Epoch 10:\n",
            "782/782 [==============================] - 41s 53ms/step - loss: 2.7172 - accuracy: 0.3082\n",
            "313/313 [==============================] - 3s 9ms/step\n",
            "Test Loss: 2.914166212081909, Test Accuracy: 0.29269999265670776\n",
            "Epoch 11:\n",
            "782/782 [==============================] - 41s 52ms/step - loss: 2.7516 - accuracy: 0.3021\n",
            "313/313 [==============================] - 3s 9ms/step\n",
            "Test Loss: 3.038243293762207, Test Accuracy: 0.26350000500679016\n",
            "Epoch 12:\n",
            "782/782 [==============================] - 41s 52ms/step - loss: 2.5913 - accuracy: 0.3332\n",
            "313/313 [==============================] - 3s 9ms/step\n",
            "Test Loss: 3.218660831451416, Test Accuracy: 0.23880000412464142\n",
            "Epoch 13:\n",
            "782/782 [==============================] - 40s 51ms/step - loss: 2.4858 - accuracy: 0.3532\n",
            "313/313 [==============================] - 3s 9ms/step\n",
            "Test Loss: 2.734894275665283, Test Accuracy: 0.310699999332428\n",
            "Epoch 14:\n",
            "782/782 [==============================] - 40s 51ms/step - loss: 2.5349 - accuracy: 0.3443\n",
            "313/313 [==============================] - 3s 11ms/step\n",
            "Test Loss: 4.666369438171387, Test Accuracy: 0.09830000251531601\n",
            "Epoch 15:\n",
            "782/782 [==============================] - 40s 51ms/step - loss: 2.3863 - accuracy: 0.3747\n",
            "313/313 [==============================] - 3s 10ms/step\n",
            "Test Loss: 2.9275896549224854, Test Accuracy: 0.3025999963283539\n",
            "Epoch 16:\n",
            "782/782 [==============================] - 40s 52ms/step - loss: 2.1328 - accuracy: 0.4285\n",
            "313/313 [==============================] - 3s 10ms/step\n",
            "Test Loss: 2.9021713733673096, Test Accuracy: 0.3068999946117401\n",
            "Epoch 17:\n",
            "782/782 [==============================] - 40s 51ms/step - loss: 2.1815 - accuracy: 0.4191\n",
            "313/313 [==============================] - 3s 11ms/step\n",
            "Test Loss: 3.3981499671936035, Test Accuracy: 0.25529998540878296\n",
            "Epoch 18:\n",
            "782/782 [==============================] - 40s 51ms/step - loss: 2.1710 - accuracy: 0.4209\n",
            "313/313 [==============================] - 3s 10ms/step\n",
            "Test Loss: 3.060737133026123, Test Accuracy: 0.2782000005245209\n",
            "Epoch 19:\n",
            "782/782 [==============================] - 40s 51ms/step - loss: 2.2721 - accuracy: 0.3979\n",
            "313/313 [==============================] - 3s 10ms/step\n",
            "Test Loss: 2.8769783973693848, Test Accuracy: 0.30230000615119934\n",
            "Epoch 20:\n",
            "782/782 [==============================] - 40s 51ms/step - loss: 2.1586 - accuracy: 0.4256\n",
            "313/313 [==============================] - 3s 9ms/step\n",
            "Test Loss: 2.859527826309204, Test Accuracy: 0.29899999499320984\n",
            "Epoch 21:\n",
            "782/782 [==============================] - 40s 51ms/step - loss: 2.2039 - accuracy: 0.4151\n",
            "313/313 [==============================] - 3s 11ms/step\n",
            "Test Loss: 2.8848419189453125, Test Accuracy: 0.32339999079704285\n",
            "Epoch 22:\n",
            "782/782 [==============================] - 40s 51ms/step - loss: 1.9019 - accuracy: 0.4828\n",
            "313/313 [==============================] - 3s 9ms/step\n",
            "Test Loss: 2.753816843032837, Test Accuracy: 0.3431999981403351\n",
            "Epoch 23:\n",
            "782/782 [==============================] - 40s 52ms/step - loss: 1.6600 - accuracy: 0.5387\n",
            "313/313 [==============================] - 3s 9ms/step\n",
            "Test Loss: 3.0878896713256836, Test Accuracy: 0.30250000953674316\n",
            "Epoch 24:\n",
            "782/782 [==============================] - 40s 52ms/step - loss: 1.7810 - accuracy: 0.5109\n",
            "313/313 [==============================] - 3s 9ms/step\n",
            "Test Loss: 2.9038443565368652, Test Accuracy: 0.3305000066757202\n",
            "Epoch 25:\n",
            "782/782 [==============================] - 40s 52ms/step - loss: 1.5846 - accuracy: 0.5561\n",
            "313/313 [==============================] - 3s 9ms/step\n",
            "Test Loss: 2.81581711769104, Test Accuracy: 0.3476000130176544\n"
          ]
        }
      ],
      "source": [
        "train_ResNet(model_independant_2,x_train,y_train,x_test,y_test)"
      ]
    },
    {
      "cell_type": "code",
      "execution_count": null,
      "metadata": {
        "id": "-t_bBGPKS9oi"
      },
      "outputs": [],
      "source": [
        "del (model_independant_2)\n",
        "gc.collect()\n",
        "keras.backend.clear_session()"
      ]
    },
    {
      "cell_type": "markdown",
      "metadata": {
        "id": "TxQrGkUBYePo"
      },
      "source": [
        "#Download Independant Models"
      ]
    },
    {
      "cell_type": "code",
      "execution_count": null,
      "metadata": {
        "colab": {
          "base_uri": "https://localhost:8080/",
          "height": 34
        },
        "id": "g1ii0HZCYZ1_",
        "outputId": "62dc4280-6325-4742-ee8d-83c1efca453e"
      },
      "outputs": [
        {
          "data": {
            "application/javascript": [
              "\n",
              "    async function download(id, filename, size) {\n",
              "      if (!google.colab.kernel.accessAllowed) {\n",
              "        return;\n",
              "      }\n",
              "      const div = document.createElement('div');\n",
              "      const label = document.createElement('label');\n",
              "      label.textContent = `Downloading \"${filename}\": `;\n",
              "      div.appendChild(label);\n",
              "      const progress = document.createElement('progress');\n",
              "      progress.max = size;\n",
              "      div.appendChild(progress);\n",
              "      document.body.appendChild(div);\n",
              "\n",
              "      const buffers = [];\n",
              "      let downloaded = 0;\n",
              "\n",
              "      const channel = await google.colab.kernel.comms.open(id);\n",
              "      // Send a message to notify the kernel that we're ready.\n",
              "      channel.send({})\n",
              "\n",
              "      for await (const message of channel.messages) {\n",
              "        // Send a message to notify the kernel that we're ready.\n",
              "        channel.send({})\n",
              "        if (message.buffers) {\n",
              "          for (const buffer of message.buffers) {\n",
              "            buffers.push(buffer);\n",
              "            downloaded += buffer.byteLength;\n",
              "            progress.value = downloaded;\n",
              "          }\n",
              "        }\n",
              "      }\n",
              "      const blob = new Blob(buffers, {type: 'application/binary'});\n",
              "      const a = document.createElement('a');\n",
              "      a.href = window.URL.createObjectURL(blob);\n",
              "      a.download = filename;\n",
              "      div.appendChild(a);\n",
              "      a.click();\n",
              "      div.remove();\n",
              "    }\n",
              "  "
            ],
            "text/plain": [
              "<IPython.core.display.Javascript object>"
            ]
          },
          "metadata": {},
          "output_type": "display_data"
        },
        {
          "data": {
            "application/javascript": [
              "download(\"download_50e44c9e-1c2c-4b71-81cf-b40b09d58781\", \"base.zip\", 758978522)"
            ],
            "text/plain": [
              "<IPython.core.display.Javascript object>"
            ]
          },
          "metadata": {},
          "output_type": "display_data"
        }
      ],
      "source": [
        "shutil.make_archive(\"base\", 'zip', \"base\")\n",
        "files.download(\"base.zip\")"
      ]
    },
    {
      "cell_type": "code",
      "execution_count": null,
      "metadata": {
        "colab": {
          "base_uri": "https://localhost:8080/",
          "height": 34
        },
        "id": "mvnU0VFaYccw",
        "outputId": "a9b87cac-e149-43c5-a0e9-74c7f3485fb1"
      },
      "outputs": [
        {
          "data": {
            "application/javascript": [
              "\n",
              "    async function download(id, filename, size) {\n",
              "      if (!google.colab.kernel.accessAllowed) {\n",
              "        return;\n",
              "      }\n",
              "      const div = document.createElement('div');\n",
              "      const label = document.createElement('label');\n",
              "      label.textContent = `Downloading \"${filename}\": `;\n",
              "      div.appendChild(label);\n",
              "      const progress = document.createElement('progress');\n",
              "      progress.max = size;\n",
              "      div.appendChild(progress);\n",
              "      document.body.appendChild(div);\n",
              "\n",
              "      const buffers = [];\n",
              "      let downloaded = 0;\n",
              "\n",
              "      const channel = await google.colab.kernel.comms.open(id);\n",
              "      // Send a message to notify the kernel that we're ready.\n",
              "      channel.send({})\n",
              "\n",
              "      for await (const message of channel.messages) {\n",
              "        // Send a message to notify the kernel that we're ready.\n",
              "        channel.send({})\n",
              "        if (message.buffers) {\n",
              "          for (const buffer of message.buffers) {\n",
              "            buffers.push(buffer);\n",
              "            downloaded += buffer.byteLength;\n",
              "            progress.value = downloaded;\n",
              "          }\n",
              "        }\n",
              "      }\n",
              "      const blob = new Blob(buffers, {type: 'application/binary'});\n",
              "      const a = document.createElement('a');\n",
              "      a.href = window.URL.createObjectURL(blob);\n",
              "      a.download = filename;\n",
              "      div.appendChild(a);\n",
              "      a.click();\n",
              "      div.remove();\n",
              "    }\n",
              "  "
            ],
            "text/plain": [
              "<IPython.core.display.Javascript object>"
            ]
          },
          "metadata": {},
          "output_type": "display_data"
        },
        {
          "data": {
            "application/javascript": [
              "download(\"download_9b23d5f1-6c4c-4098-b124-4a729de2bc76\", \"independant_1.zip\", 757886288)"
            ],
            "text/plain": [
              "<IPython.core.display.Javascript object>"
            ]
          },
          "metadata": {},
          "output_type": "display_data"
        }
      ],
      "source": [
        "shutil.make_archive(\"independant_1\", 'zip', \"independant_1\")\n",
        "files.download(\"independant_1.zip\")"
      ]
    },
    {
      "cell_type": "code",
      "execution_count": null,
      "metadata": {
        "colab": {
          "base_uri": "https://localhost:8080/",
          "height": 34
        },
        "id": "dlW_iuJEYdt4",
        "outputId": "9ffdcc6f-d0ad-4230-cd2a-d884834af170"
      },
      "outputs": [
        {
          "data": {
            "application/javascript": [
              "\n",
              "    async function download(id, filename, size) {\n",
              "      if (!google.colab.kernel.accessAllowed) {\n",
              "        return;\n",
              "      }\n",
              "      const div = document.createElement('div');\n",
              "      const label = document.createElement('label');\n",
              "      label.textContent = `Downloading \"${filename}\": `;\n",
              "      div.appendChild(label);\n",
              "      const progress = document.createElement('progress');\n",
              "      progress.max = size;\n",
              "      div.appendChild(progress);\n",
              "      document.body.appendChild(div);\n",
              "\n",
              "      const buffers = [];\n",
              "      let downloaded = 0;\n",
              "\n",
              "      const channel = await google.colab.kernel.comms.open(id);\n",
              "      // Send a message to notify the kernel that we're ready.\n",
              "      channel.send({})\n",
              "\n",
              "      for await (const message of channel.messages) {\n",
              "        // Send a message to notify the kernel that we're ready.\n",
              "        channel.send({})\n",
              "        if (message.buffers) {\n",
              "          for (const buffer of message.buffers) {\n",
              "            buffers.push(buffer);\n",
              "            downloaded += buffer.byteLength;\n",
              "            progress.value = downloaded;\n",
              "          }\n",
              "        }\n",
              "      }\n",
              "      const blob = new Blob(buffers, {type: 'application/binary'});\n",
              "      const a = document.createElement('a');\n",
              "      a.href = window.URL.createObjectURL(blob);\n",
              "      a.download = filename;\n",
              "      div.appendChild(a);\n",
              "      a.click();\n",
              "      div.remove();\n",
              "    }\n",
              "  "
            ],
            "text/plain": [
              "<IPython.core.display.Javascript object>"
            ]
          },
          "metadata": {},
          "output_type": "display_data"
        },
        {
          "data": {
            "application/javascript": [
              "download(\"download_0d07a03c-a022-4f10-9a57-8ee2f6bcb90e\", \"independant_2.zip\", 754647154)"
            ],
            "text/plain": [
              "<IPython.core.display.Javascript object>"
            ]
          },
          "metadata": {},
          "output_type": "display_data"
        }
      ],
      "source": [
        "\n",
        "shutil.make_archive(\"independant_2\", 'zip', \"independant_2\")\n",
        "files.download(\"independant_2.zip\")"
      ]
    },
    {
      "cell_type": "markdown",
      "metadata": {
        "id": "1M1eiG9hE3Up"
      },
      "source": [
        "---"
      ]
    },
    {
      "cell_type": "markdown",
      "metadata": {
        "id": "BXdp-pUi2U5_"
      },
      "source": [
        "# Distillation"
      ]
    },
    {
      "cell_type": "code",
      "execution_count": null,
      "metadata": {
        "id": "q1gaVGRegqu_"
      },
      "outputs": [],
      "source": [
        "def train_custom(model, train_data, train_labels, test_data, test_labels):\n",
        "    initailsoftmax = model.student.predict(test_data)\n",
        "    model.student.save_weights(init_weights)\n",
        "    model.student.save(init_model)\n",
        "    initaildf = pd.DataFrame(initailsoftmax)\n",
        "    filename = filepath + '0_softmax.csv'\n",
        "    initaildf.to_csv(filename,index=False)\n",
        "    epoch = 1\n",
        "    while epoch < 26:\n",
        "        print(f\"Epoch {epoch}:\")\n",
        "\n",
        "        # Training on one epoch\n",
        "        model.fit(train_data, train_labels, epochs=1, batch_size=64, verbose=1)\n",
        "\n",
        "        # Evaluate on the test dataset\n",
        "        results = model.student.predict(test_data)\n",
        "        softmax_df = pd.DataFrame(results)\n",
        "        filename = filepath+str(epoch)+'_softmax.csv'\n",
        "        softmax_df.to_csv(filename,index=False)\n",
        "        loss,accuracy = model.student.evaluate(test_data,test_labels)\n",
        "        print(f\"Test Loss: {loss}, Test Accuracy: {accuracy}\")\n",
        "\n",
        "        if epoch ==25:\n",
        "          model.student.save_weights(final_weights)\n",
        "          model.student.save(final_model)\n",
        "        epoch += 1\n",
        "\n",
        "# TO DO EVALUATE FUNCTION\n"
      ]
    },
    {
      "cell_type": "code",
      "execution_count": null,
      "metadata": {
        "id": "HfM5ezDj2mCH"
      },
      "outputs": [],
      "source": [
        "class Distiller(tf.keras.Model):\n",
        "    def __init__(self, student, teacher):\n",
        "        super().__init__()\n",
        "        self.teacher = teacher\n",
        "        self.student = student\n",
        "\n",
        "    def compile(\n",
        "        self,\n",
        "        optimizer,\n",
        "        metrics,\n",
        "        student_loss_fn,\n",
        "        distillation_loss_fn,\n",
        "        alpha,\n",
        "        temperature,\n",
        "    ):\n",
        "        super().compile(optimizer=optimizer, metrics=metrics)\n",
        "        self.student_loss_fn = student_loss_fn\n",
        "        self.distillation_loss_fn = distillation_loss_fn\n",
        "        self.alpha = alpha\n",
        "        self.temperature = temperature\n",
        "\n",
        "    def train_step(self, data):\n",
        "        # Unpack data\n",
        "        x, y = data\n",
        "\n",
        "        # Forward pass of teacher\n",
        "        teacher_predictions = self.teacher(x, training=False)\n",
        "\n",
        "        with tf.GradientTape() as tape:\n",
        "            # Forward pass of student\n",
        "            student_predictions = self.student(x, training=True)\n",
        "\n",
        "            # Compute losses\n",
        "            student_loss = self.student_loss_fn(y, student_predictions)\n",
        "\n",
        "            distillation_loss = (\n",
        "                self.distillation_loss_fn(\n",
        "                    tf.nn.softmax(teacher_predictions / self.temperature, axis=1),\n",
        "                    tf.nn.softmax(student_predictions / self.temperature, axis=1),\n",
        "                )\n",
        "                * self.temperature**2\n",
        "            )\n",
        "\n",
        "            loss = self.alpha * student_loss + (1 - self.alpha) * distillation_loss\n",
        "\n",
        "        # Compute gradients\n",
        "        trainable_vars = self.student.trainable_variables\n",
        "        gradients = tape.gradient(loss, trainable_vars)\n",
        "\n",
        "        # Update weights\n",
        "        self.optimizer.apply_gradients(zip(gradients, trainable_vars))\n",
        "\n",
        "        # Update the metrics configured in `compile()`.\n",
        "        self.compiled_metrics.update_state(y, student_predictions)\n",
        "\n",
        "        # Return a dict of performance\n",
        "        results = {m.name: m.result() for m in self.metrics}\n",
        "        results.update(\n",
        "            {\"student_loss\": student_loss, \"distillation_loss\": distillation_loss}\n",
        "        )\n",
        "\n",
        "        return results\n",
        "\n",
        "    def test_step(self, data):\n",
        "        # Unpack the data\n",
        "        x, y = data\n",
        "\n",
        "        # Compute predictions\n",
        "        y_prediction = self.student(x, training=False)\n",
        "        print(y_prediction)\n",
        "        # Calculate the loss\n",
        "        student_loss = self.student_loss_fn(y, y_prediction)\n",
        "\n",
        "        # Update the metrics.\n",
        "        self.compiled_metrics.update_state(y, y_prediction)\n",
        "\n",
        "        # Return a dict of performance\n",
        "        results = {m.name: m.result() for m in self.metrics}\n",
        "        results.update({\"student_loss\": student_loss})\n",
        "        return results"
      ]
    },
    {
      "cell_type": "markdown",
      "metadata": {
        "id": "OgQPe37aj3Ek"
      },
      "source": [
        "# Student 0.1 Alpha"
      ]
    },
    {
      "cell_type": "code",
      "execution_count": null,
      "metadata": {
        "id": "EGgaXEX8j7IG"
      },
      "outputs": [],
      "source": [
        "model_path = '/content/base/resnetCIFAR10_init.tf'\n",
        "student = load_model(model_path)\n",
        "student_scratch = tf.keras.models.clone_model(student)\n"
      ]
    },
    {
      "cell_type": "code",
      "execution_count": null,
      "metadata": {
        "colab": {
          "background_save": true
        },
        "id": "ab_sFwqB-Tsh"
      },
      "outputs": [],
      "source": [
        "teacher_model_path = '/content/base/resnetCIFAR10_final.tf'\n",
        "techer_model = load_model(teacher_model_path)"
      ]
    },
    {
      "cell_type": "code",
      "execution_count": null,
      "metadata": {
        "colab": {
          "background_save": true
        },
        "id": "KL5sBYc19ITH"
      },
      "outputs": [],
      "source": [
        "distiller = Distiller(student=student, teacher=techer_model)\n",
        "distiller.compile(\n",
        "    optimizer=tf.keras.optimizers.Adamax(learning_rate=0.001),\n",
        "    metrics=[tf.keras.metrics.CategoricalCrossentropy()],\n",
        "    student_loss_fn=tf.keras.losses.CategoricalCrossentropy(from_logits=True),\n",
        "    distillation_loss_fn=tf.keras.losses.KLDivergence(),\n",
        "    alpha=0.1,\n",
        "    temperature=3,\n",
        ")"
      ]
    },
    {
      "cell_type": "code",
      "execution_count": null,
      "metadata": {
        "colab": {
          "background_save": true
        },
        "id": "mvIefPKXnZ17"
      },
      "outputs": [],
      "source": [
        "filepath = '/content/student_same/'\n",
        "init_weights = filepath + model_name + dataset + '_init_weights.tf'\n",
        "init_model = filepath + model_name + dataset + '_init.tf'\n",
        "final_weights = filepath + model_name + dataset + '_final_weights.tf'\n",
        "final_model= filepath + model_name + dataset + 'final.tf'"
      ]
    },
    {
      "cell_type": "code",
      "execution_count": null,
      "metadata": {
        "id": "UqIWgvFfnUH2"
      },
      "outputs": [],
      "source": [
        "!mkdir '/content/student_same/'"
      ]
    },
    {
      "cell_type": "code",
      "execution_count": null,
      "metadata": {
        "id": "K9Or3ngvlCSk"
      },
      "outputs": [],
      "source": [
        "train_custom(distiller, x_train,y_train,x_test,y_test)"
      ]
    },
    {
      "cell_type": "code",
      "execution_count": null,
      "metadata": {
        "colab": {
          "background_save": true
        },
        "id": "lTMYO7__Uzxz"
      },
      "outputs": [],
      "source": [
        "del (student)\n",
        "gc.collect()\n",
        "keras.backend.clear_session()"
      ]
    },
    {
      "cell_type": "markdown",
      "metadata": {
        "id": "OaN0-7_6U9e6"
      },
      "source": [
        "# Student same Alpha 0.5"
      ]
    },
    {
      "cell_type": "code",
      "execution_count": null,
      "metadata": {
        "id": "HLTcfc2UVIfO"
      },
      "outputs": [],
      "source": [
        "model_path = '/content/base/ResNetCIFAR10_init.tf'\n",
        "student = load_model(model_path)\n",
        "student_scratch = tf.keras.models.clone_model(student)"
      ]
    },
    {
      "cell_type": "code",
      "execution_count": null,
      "metadata": {
        "id": "q0xmOf5IVI-G"
      },
      "outputs": [],
      "source": [
        "distiller = Distiller(student=student, teacher=techer_model)\n",
        "distiller.compile(\n",
        "    optimizer=tf.keras.optimizers.Adamax(learning_rate=0.001),\n",
        "    metrics=[tf.keras.metrics.CategoricalCrossentropy()],\n",
        "    student_loss_fn=tf.keras.losses.CategoricalCrossentropy(from_logits=True),\n",
        "    distillation_loss_fn=tf.keras.losses.KLDivergence(),\n",
        "    alpha=0.5,\n",
        "    temperature=3,\n",
        ")"
      ]
    },
    {
      "cell_type": "code",
      "execution_count": null,
      "metadata": {
        "id": "U4fyr8rwVPsI"
      },
      "outputs": [],
      "source": [
        "filepath = '/content/student_same_50/'\n",
        "init_weights = filepath + model_name + dataset + '_init_weights.tf'\n",
        "init_model = filepath + model_name + dataset + '_init.tf'\n",
        "final_weights = filepath + model_name + dataset + '_final_weights.tf'\n",
        "final_model= filepath + model_name + dataset + 'final.tf'"
      ]
    },
    {
      "cell_type": "code",
      "execution_count": null,
      "metadata": {
        "id": "IzbhPktzVokH"
      },
      "outputs": [],
      "source": [
        "!mkdir '/content/student_same_50/'"
      ]
    },
    {
      "cell_type": "code",
      "execution_count": null,
      "metadata": {
        "id": "yKi3Se4kVoIT"
      },
      "outputs": [],
      "source": [
        "train_custom(distiller, x_train,y_train,x_test,y_test)"
      ]
    },
    {
      "cell_type": "code",
      "execution_count": null,
      "metadata": {
        "id": "VFEgkn-4V38i"
      },
      "outputs": [],
      "source": [
        "del (student)\n",
        "gc.collect()\n",
        "keras.backend.clear_session()"
      ]
    },
    {
      "cell_type": "markdown",
      "metadata": {
        "id": "gMgWdqc_Vyr4"
      },
      "source": [
        "# Student same Alpha 0.9"
      ]
    },
    {
      "cell_type": "code",
      "execution_count": null,
      "metadata": {
        "id": "ispYXVKaV46U"
      },
      "outputs": [],
      "source": [
        "model_path = '/content/base/ResNetCIFAR10_init.tf'\n",
        "student = load_model(model_path)\n",
        "student_scratch = tf.keras.models.clone_model(student)\n",
        "\n",
        "distiller = Distiller(student=student, teacher=techer_model)\n",
        "distiller.compile(\n",
        "    optimizer=tf.keras.optimizers.Adamax(learning_rate=0.001),\n",
        "    metrics=[tf.keras.metrics.CategoricalCrossentropy()],\n",
        "    student_loss_fn=tf.keras.losses.CategoricalCrossentropy(from_logits=True),\n",
        "    distillation_loss_fn=tf.keras.losses.KLDivergence(),\n",
        "    alpha=0.5,\n",
        "    temperature=3,\n",
        ")\n",
        "\n",
        "filepath = '/content/student_same_90/'\n",
        "init_weights = filepath + model_name + dataset + '_init_weights.tf'\n",
        "init_model = filepath + model_name + dataset + '_init.tf'\n",
        "final_weights = filepath + model_name + dataset + '_final_weights.tf'\n",
        "final_model= filepath + model_name + dataset + 'final.tf'\n",
        "\n",
        "!mkdir '/content/student_same_90/'"
      ]
    },
    {
      "cell_type": "code",
      "execution_count": null,
      "metadata": {
        "id": "lCOpusp6WA5k"
      },
      "outputs": [],
      "source": [
        "train_custom(distiller, x_train,y_train,x_test,y_test)"
      ]
    },
    {
      "cell_type": "code",
      "execution_count": null,
      "metadata": {
        "id": "XYgkhmXlWC0H"
      },
      "outputs": [],
      "source": [
        "del (student)\n",
        "gc.collect()\n",
        "keras.backend.clear_session()"
      ]
    },
    {
      "cell_type": "markdown",
      "metadata": {
        "id": "6dvNBKhsWLqR"
      },
      "source": [
        "---"
      ]
    },
    {
      "cell_type": "markdown",
      "metadata": {
        "id": "zICDaDog2MSQ"
      },
      "source": [
        "# Download Distill Data"
      ]
    },
    {
      "cell_type": "code",
      "execution_count": null,
      "metadata": {
        "id": "Nr0X0Tyi29wn"
      },
      "outputs": [],
      "source": [
        "shutil.make_archive(\"student_same\", 'zip', \"student_same\")\n",
        "files.download(\"student_same.zip\")"
      ]
    },
    {
      "cell_type": "code",
      "execution_count": null,
      "metadata": {
        "id": "1xO74JYY3Etr"
      },
      "outputs": [],
      "source": [
        "shutil.make_archive(\"student_same_50\", 'zip', \"student_same_50\")\n",
        "files.download(\"student_same_50.zip\")"
      ]
    },
    {
      "cell_type": "code",
      "execution_count": null,
      "metadata": {
        "id": "sSJkyuJP3LjW"
      },
      "outputs": [],
      "source": [
        "shutil.make_archive(\"student_same_90\", 'zip', \"student_same_90\")\n",
        "files.download(\"student_same_90.zip\")"
      ]
    },
    {
      "cell_type": "markdown",
      "metadata": {
        "id": "ZCQ1ucn3X8lA"
      },
      "source": [
        "---\n",
        "\n",
        "# Qunatisation\n",
        "\n",
        "https://github.com/sonalimedani/TF_Quantization/blob/master/quantization.ipynb\n",
        "\n",
        "https://medium.com/@sonalimedani/post-training-quantization-with-tensorflow-lite-on-a-keras-model-f373068966c4"
      ]
    },
    {
      "cell_type": "markdown",
      "metadata": {
        "id": "X69D_tTXecfn"
      },
      "source": [
        "**Default**: 8 Bit"
      ]
    },
    {
      "cell_type": "code",
      "execution_count": null,
      "metadata": {
        "id": "h-3BCaalLyoM"
      },
      "outputs": [],
      "source": [
        "path = '/content/base/ResNetCIFAR10_final.tf'\n",
        "model = tf.keras.models.load_model(path)\n",
        "model.evaluate(x_test,y_test)"
      ]
    },
    {
      "cell_type": "code",
      "execution_count": null,
      "metadata": {
        "id": "NeW5pwbUZaPE"
      },
      "outputs": [],
      "source": [
        "filepath = '/content/quantised_8_bit/'\n",
        "!mkdir '/content/quantised_8_bit/'"
      ]
    },
    {
      "cell_type": "code",
      "execution_count": null,
      "metadata": {
        "id": "HAJQfzGfKjCT"
      },
      "outputs": [],
      "source": [
        "converter = tf.lite.TFLiteConverter.from_keras_model(model)\n",
        "converter.optimizations = [tf.lite.Optimize.DEFAULT]\n",
        "tflite_quant_model = converter.convert()\n",
        "#saving converted model in \"converted_quant_model.tflite\" file\n",
        "open(filepath+\"8_bit.tflite\", \"wb\").write(tflite_quant_model)"
      ]
    },
    {
      "cell_type": "code",
      "execution_count": null,
      "metadata": {
        "id": "4Il7AvI1ZvPy"
      },
      "outputs": [],
      "source": [
        "import os\n",
        "print(\"Float model in Mb:\", os.path.getsize(filepath+\"8_bit.tflite\") / float(2**20))\n",
        "print(\"Quantized model in Mb:\", os.path.getsize(filepath+\"8_bit.tflite\") / float(2**20))\n",
        "print(\"Compression ratio:\", os.path.getsize(filepath+\"8_bit.tflite\")/os.path.getsize(path))"
      ]
    },
    {
      "cell_type": "code",
      "execution_count": null,
      "metadata": {
        "id": "4szzB8pWZ78D"
      },
      "outputs": [],
      "source": [
        "interpreter = tf.lite.Interpreter(model_path=(filepath+\"8_bit.tflite\"))\n",
        "interpreter.allocate_tensors()\n",
        "# Get input and output tensors.\n",
        "input_details = interpreter.get_input_details()\n",
        "output_details = interpreter.get_output_details()\n",
        "# Test model on some input data.\n",
        "input_shape = input_details[0]['shape']\n",
        "acc=0\n",
        "results_default = pd.DataFrame()\n",
        "for i in range(len(x_test)):\n",
        "    input_data = x_test[i].reshape(input_shape)\n",
        "    interpreter.set_tensor(input_details[0]['index'], input_data)\n",
        "    interpreter.invoke()\n",
        "    output_data = interpreter.get_tensor(output_details[0]['index'])\n",
        "    row = pd.DataFrame(output_data)\n",
        "    results_default = pd.concat([results_default, row], ignore_index=True)\n",
        "    if(np.argmax(output_data) == np.argmax(y_test[i])):\n",
        "        acc+=1\n",
        "acc = acc/len(x_test)\n",
        "print(acc*100)"
      ]
    },
    {
      "cell_type": "code",
      "execution_count": null,
      "metadata": {
        "id": "YpLAOjXtzwJd"
      },
      "outputs": [],
      "source": [
        "results_default"
      ]
    },
    {
      "cell_type": "code",
      "execution_count": null,
      "metadata": {
        "id": "6h3FAVP8c0A3"
      },
      "outputs": [],
      "source": [
        "results_default.to_csv((filepath+\"25_softmax.csv\"),index=False)"
      ]
    },
    {
      "cell_type": "markdown",
      "metadata": {
        "id": "jpxVyxMGefBb"
      },
      "source": [
        "**16 bit**"
      ]
    },
    {
      "cell_type": "code",
      "execution_count": null,
      "metadata": {
        "id": "LlVMMwy1O-E4"
      },
      "outputs": [],
      "source": [
        "model = tf.keras.models.load_model(path)\n"
      ]
    },
    {
      "cell_type": "code",
      "execution_count": null,
      "metadata": {
        "id": "PIrx8SJkaK2g"
      },
      "outputs": [],
      "source": [
        "filepath = '/content/quantised_16_bit/'\n",
        "!mkdir '/content/quantised_16_bit/'"
      ]
    },
    {
      "cell_type": "code",
      "execution_count": null,
      "metadata": {
        "id": "XVkn8lg5cWIa"
      },
      "outputs": [],
      "source": [
        "converter = tf.lite.TFLiteConverter.from_keras_model(model)\n",
        "converter.optimizations = [tf.lite.Optimize.DEFAULT]\n",
        "converter.optimizations = [tf.lite.Optimize.DEFAULT]\n",
        "converter.target_spec.supported_types = [tf.float16]\n",
        "tflite_quant_model = converter.convert()\n",
        "#saving converted model in \"converted_quant_model.tflite\" file\n",
        "open((filepath +\"16_bit.tflite\"), \"wb\").write(tflite_quant_model)"
      ]
    },
    {
      "cell_type": "code",
      "execution_count": null,
      "metadata": {
        "id": "6S89XWCTbGHF"
      },
      "outputs": [],
      "source": [
        "import os\n",
        "print(\"Float model in Mb:\", os.path.getsize(filepath +\"16_bit.tflite\") / float(2**20))\n",
        "print(\"Quantized model in Mb:\", os.path.getsize(filepath +\"16_bit.tflite\") / float(2**20))\n",
        "print(\"Compression ratio:\", os.path.getsize(filepath +\"16_bit.tflite\")/os.path.getsize(path))"
      ]
    },
    {
      "cell_type": "code",
      "execution_count": null,
      "metadata": {
        "id": "5dGGvQ6SZlyV"
      },
      "outputs": [],
      "source": [
        "interpreter = tf.lite.Interpreter(model_path=filepath +\"16_bit.tflite\")\n",
        "interpreter.allocate_tensors()\n",
        "# Get input and output tensors.\n",
        "input_details = interpreter.get_input_details()\n",
        "output_details = interpreter.get_output_details()\n",
        "# Test model on some input data.\n",
        "input_shape = input_details[0]['shape']\n",
        "acc=0\n",
        "results_16_b = pd.DataFrame()\n",
        "for i in range(len(x_test)):\n",
        "    input_data = x_test[i].reshape(input_shape)\n",
        "    interpreter.set_tensor(input_details[0]['index'], input_data)\n",
        "    interpreter.invoke()\n",
        "    output_data = interpreter.get_tensor(output_details[0]['index'])\n",
        "    row = pd.DataFrame(output_data)\n",
        "    results_16_b = pd.concat([results_16_b, row], ignore_index=True)\n",
        "    if(np.argmax(output_data) == np.argmax(y_test[i])):\n",
        "        acc+=1\n",
        "acc = acc/len(x_test)\n",
        "print(acc*100)"
      ]
    },
    {
      "cell_type": "code",
      "execution_count": null,
      "metadata": {
        "id": "fm8vJ_qrfyYt"
      },
      "outputs": [],
      "source": [
        "results_16_b"
      ]
    },
    {
      "cell_type": "code",
      "execution_count": null,
      "metadata": {
        "id": "3sYfcMpA0Ciz"
      },
      "outputs": [],
      "source": [
        "results_16_b.to_csv(filepath +'25_softmax.csv',index =False)"
      ]
    }
  ],
  "metadata": {
    "accelerator": "GPU",
    "colab": {
      "provenance": []
    },
    "kernelspec": {
      "display_name": "Python 3",
      "name": "python3"
    },
    "language_info": {
      "name": "python"
    }
  },
  "nbformat": 4,
  "nbformat_minor": 0
}