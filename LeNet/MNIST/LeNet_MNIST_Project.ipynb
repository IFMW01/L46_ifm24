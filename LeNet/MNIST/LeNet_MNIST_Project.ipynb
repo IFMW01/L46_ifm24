{
  "nbformat": 4,
  "nbformat_minor": 0,
  "metadata": {
    "colab": {
      "provenance": [],
      "gpuType": "T4"
    },
    "kernelspec": {
      "name": "python3",
      "display_name": "Python 3"
    },
    "language_info": {
      "name": "python"
    },
    "accelerator": "GPU"
  },
  "cells": [
    {
      "cell_type": "code",
      "source": [
        "import tensorflow as tf\n",
        "import keras\n",
        "from keras import layers\n",
        "import numpy as np\n",
        "import pandas as pd\n",
        "from sklearn.decomposition import PCA\n",
        "from sklearn.preprocessing import StandardScaler\n",
        "import matplotlib.pyplot as plt\n",
        "from sklearn.manifold import TSNE\n",
        "!pip install tensorflow-model-optimization\n",
        "from tensorflow_model_optimization.python.core.sparsity.keras import prune, pruning_callbacks\n",
        "import tensorflow_model_optimization as tfmot\n",
        "from tensorflow_model_optimization.sparsity import keras as sparsity\n",
        "from tensorflow.keras.models import load_model\n",
        "from google.colab import files\n",
        "import shutil\n",
        "import gc\n",
        "\n",
        "np.random.seed(42)\n",
        "tf.random.set_seed(42)"
      ],
      "metadata": {
        "id": "g5UR0O-BbO19",
        "colab": {
          "base_uri": "https://localhost:8080/"
        },
        "outputId": "42e06bf5-79f7-4707-a9c9-c5b3e39c168d"
      },
      "execution_count": null,
      "outputs": [
        {
          "output_type": "stream",
          "name": "stdout",
          "text": [
            "Collecting tensorflow-model-optimization\n",
            "  Downloading tensorflow_model_optimization-0.7.5-py2.py3-none-any.whl (241 kB)\n",
            "\u001b[2K     \u001b[90m━━━━━━━━━━━━━━━━━━━━━━━━━━━━━━━━━━━━━━━━\u001b[0m \u001b[32m241.2/241.2 kB\u001b[0m \u001b[31m5.0 MB/s\u001b[0m eta \u001b[36m0:00:00\u001b[0m\n",
            "\u001b[?25hRequirement already satisfied: absl-py~=1.2 in /usr/local/lib/python3.10/dist-packages (from tensorflow-model-optimization) (1.4.0)\n",
            "Requirement already satisfied: dm-tree~=0.1.1 in /usr/local/lib/python3.10/dist-packages (from tensorflow-model-optimization) (0.1.8)\n",
            "Requirement already satisfied: numpy~=1.23 in /usr/local/lib/python3.10/dist-packages (from tensorflow-model-optimization) (1.23.5)\n",
            "Requirement already satisfied: six~=1.14 in /usr/local/lib/python3.10/dist-packages (from tensorflow-model-optimization) (1.16.0)\n",
            "Installing collected packages: tensorflow-model-optimization\n",
            "Successfully installed tensorflow-model-optimization-0.7.5\n"
          ]
        }
      ]
    },
    {
      "cell_type": "code",
      "execution_count": null,
      "metadata": {
        "id": "kgdWDGbE0e-h",
        "colab": {
          "base_uri": "https://localhost:8080/"
        },
        "outputId": "49e64b4c-d89d-4319-f07a-5f8b0e141b48"
      },
      "outputs": [
        {
          "output_type": "stream",
          "name": "stdout",
          "text": [
            "Downloading data from https://storage.googleapis.com/tensorflow/tf-keras-datasets/mnist.npz\n",
            "11490434/11490434 [==============================] - 0s 0us/step\n",
            "x_train shape: (60000, 28, 28, 1)\n",
            "60000 train samples\n",
            "10000 test samples\n"
          ]
        }
      ],
      "source": [
        "def build_lenet_model(input_shape, num_classes):\n",
        "    model = keras.Sequential([\n",
        "        keras.layers.Conv2D(32, kernel_size=(3, 3), activation='relu', input_shape=input_shape),\n",
        "        keras.layers.MaxPooling2D(pool_size=(2, 2)),\n",
        "        keras.layers.Conv2D(64, kernel_size=(3, 3), activation='relu'),\n",
        "        keras.layers.MaxPooling2D(pool_size=(2, 2)),\n",
        "        keras.layers.Flatten(),\n",
        "        keras.layers.Dense(128, activation='relu'),\n",
        "        keras.layers.Dense(num_classes, activation='softmax')\n",
        "    ])\n",
        "    model.compile(optimizer='adam', loss='categorical_crossentropy', metrics=['accuracy'])\n",
        "    return model\n",
        "\n",
        "# Load and preprocess MNIST data\n",
        "num_classes = 10\n",
        "input_shape = (28, 28, 1)\n",
        "\n",
        "# Load the data and split it between train and test sets\n",
        "(x_train, y_train), (x_test, y_test) = keras.datasets.mnist.load_data()\n",
        "\n",
        "# Scale images to the [0, 1] range\n",
        "x_train = x_train.astype(\"float32\") / 255\n",
        "x_test = x_test.astype(\"float32\") / 255\n",
        "# Make sure images have shape (28, 28, 1)\n",
        "x_train = np.expand_dims(x_train, -1)\n",
        "x_test = np.expand_dims(x_test, -1)\n",
        "print(\"x_train shape:\", x_train.shape)\n",
        "print(x_train.shape[0], \"train samples\")\n",
        "print(x_test.shape[0], \"test samples\")\n",
        "\n",
        "\n",
        "# convert class vectors to binary class matrices\n",
        "y_train = keras.utils.to_categorical(y_train, num_classes)\n",
        "y_test = keras.utils.to_categorical(y_test, num_classes)\n",
        "\n"
      ]
    },
    {
      "cell_type": "code",
      "source": [
        "def train_lenet(model, train_data, train_labels, test_data, test_labels):\n",
        "    model.save_weights(init_weights)\n",
        "    model.save(init_model)\n",
        "    initailsoftmax = model.predict(test_data)\n",
        "    initaildf = pd.DataFrame(initailsoftmax)\n",
        "    filename = filepath + '0_softmax.csv'\n",
        "    initaildf.to_csv(filename,index=False)\n",
        "    epoch = 1\n",
        "    while epoch < 26:\n",
        "        print(f\"Epoch {epoch}:\")\n",
        "\n",
        "        # Training on one epoch\n",
        "        model.fit(train_data, train_labels, epochs=1, batch_size=64, verbose=1)\n",
        "\n",
        "        # Evaluate on the test dataset\n",
        "        loss, accuracy = model.evaluate(test_data, test_labels, verbose=0)\n",
        "        results = model.predict(test_data)\n",
        "        softmax_df = pd.DataFrame(results)\n",
        "        filename = filepath+str(epoch)+'_softmax.csv'\n",
        "        softmax_df.to_csv(filename,index=False)\n",
        "\n",
        "        print(f\"Test Loss: {loss}, Test Accuracy: {accuracy}\")\n",
        "        if epoch ==25:\n",
        "          model.save_weights(final_weights)\n",
        "          model.save(final_model)\n",
        "        epoch += 1\n",
        "\n",
        "\n"
      ],
      "metadata": {
        "id": "ISdhEM6VaVA4"
      },
      "execution_count": null,
      "outputs": []
    },
    {
      "cell_type": "code",
      "source": [
        "model_name = 'LeNet'\n",
        "dataset = 'MNIST'"
      ],
      "metadata": {
        "id": "ZW6sVYElRjz-"
      },
      "execution_count": null,
      "outputs": []
    },
    {
      "cell_type": "markdown",
      "source": [
        "# Creating Base Models"
      ],
      "metadata": {
        "id": "2EJSiXMAb4UR"
      }
    },
    {
      "cell_type": "code",
      "source": [
        "filepath = '/content/base/'\n",
        "init_weights = filepath + model_name + dataset + '_init_weights.tf'\n",
        "init_model = filepath + model_name + dataset +'_init.tf'\n",
        "final_weights = filepath + model_name + dataset +'_final_weights.tf'\n",
        "final_model= filepath + model_name + dataset +'_final.tf'"
      ],
      "metadata": {
        "id": "1WZTNNxJciha"
      },
      "execution_count": null,
      "outputs": []
    },
    {
      "cell_type": "code",
      "source": [
        "!mkdir '/content/base/'"
      ],
      "metadata": {
        "id": "slUSKBbwgTV4"
      },
      "execution_count": null,
      "outputs": []
    },
    {
      "cell_type": "code",
      "source": [
        "base = build_lenet_model(input_shape, num_classes)"
      ],
      "metadata": {
        "id": "ws_M91l3fZ24"
      },
      "execution_count": null,
      "outputs": []
    },
    {
      "cell_type": "code",
      "source": [
        "base.summary()"
      ],
      "metadata": {
        "colab": {
          "base_uri": "https://localhost:8080/"
        },
        "id": "UQaQ90kIhske",
        "outputId": "0ff330a0-220f-4576-ddd3-626c7ec85b93"
      },
      "execution_count": null,
      "outputs": [
        {
          "output_type": "stream",
          "name": "stdout",
          "text": [
            "Model: \"sequential\"\n",
            "_________________________________________________________________\n",
            " Layer (type)                Output Shape              Param #   \n",
            "=================================================================\n",
            " conv2d (Conv2D)             (None, 26, 26, 32)        320       \n",
            "                                                                 \n",
            " max_pooling2d (MaxPooling2  (None, 13, 13, 32)        0         \n",
            " D)                                                              \n",
            "                                                                 \n",
            " conv2d_1 (Conv2D)           (None, 11, 11, 64)        18496     \n",
            "                                                                 \n",
            " max_pooling2d_1 (MaxPoolin  (None, 5, 5, 64)          0         \n",
            " g2D)                                                            \n",
            "                                                                 \n",
            " flatten (Flatten)           (None, 1600)              0         \n",
            "                                                                 \n",
            " dense (Dense)               (None, 128)               204928    \n",
            "                                                                 \n",
            " dense_1 (Dense)             (None, 10)                1290      \n",
            "                                                                 \n",
            "=================================================================\n",
            "Total params: 225034 (879.04 KB)\n",
            "Trainable params: 225034 (879.04 KB)\n",
            "Non-trainable params: 0 (0.00 Byte)\n",
            "_________________________________________________________________\n"
          ]
        }
      ]
    },
    {
      "cell_type": "code",
      "source": [
        "train_lenet(base,x_train,y_train,x_test,y_test)"
      ],
      "metadata": {
        "colab": {
          "base_uri": "https://localhost:8080/"
        },
        "id": "xEAxJbswxiTX",
        "outputId": "24426f11-3bcb-4aa5-acdf-7c7ea874a623"
      },
      "execution_count": null,
      "outputs": [
        {
          "output_type": "stream",
          "name": "stdout",
          "text": [
            "313/313 [==============================] - 3s 3ms/step\n",
            "Epoch 1:\n",
            "938/938 [==============================] - 12s 7ms/step - loss: 0.1462 - accuracy: 0.9565\n",
            "313/313 [==============================] - 1s 2ms/step\n",
            "Test Loss: 0.06029600650072098, Test Accuracy: 0.9812999963760376\n",
            "Epoch 2:\n",
            "938/938 [==============================] - 4s 4ms/step - loss: 0.0467 - accuracy: 0.9856\n",
            "313/313 [==============================] - 1s 2ms/step\n",
            "Test Loss: 0.04760419949889183, Test Accuracy: 0.9854000210762024\n",
            "Epoch 3:\n",
            "938/938 [==============================] - 4s 4ms/step - loss: 0.0318 - accuracy: 0.9901\n",
            "313/313 [==============================] - 1s 2ms/step\n",
            "Test Loss: 0.043411146849393845, Test Accuracy: 0.9868000149726868\n",
            "Epoch 4:\n",
            "938/938 [==============================] - 4s 5ms/step - loss: 0.0220 - accuracy: 0.9931\n",
            "313/313 [==============================] - 1s 2ms/step\n",
            "Test Loss: 0.037612270563840866, Test Accuracy: 0.9886000156402588\n",
            "Epoch 5:\n",
            "938/938 [==============================] - 4s 4ms/step - loss: 0.0167 - accuracy: 0.9950\n",
            "313/313 [==============================] - 1s 2ms/step\n",
            "Test Loss: 0.039779212325811386, Test Accuracy: 0.9883999824523926\n",
            "Epoch 6:\n",
            "938/938 [==============================] - 4s 5ms/step - loss: 0.0127 - accuracy: 0.9964\n",
            "313/313 [==============================] - 1s 2ms/step\n",
            "Test Loss: 0.04945624619722366, Test Accuracy: 0.9871000051498413\n",
            "Epoch 7:\n",
            "938/938 [==============================] - 4s 4ms/step - loss: 0.0105 - accuracy: 0.9967\n",
            "313/313 [==============================] - 1s 2ms/step\n",
            "Test Loss: 0.03659588471055031, Test Accuracy: 0.9901000261306763\n",
            "Epoch 8:\n",
            "938/938 [==============================] - 5s 5ms/step - loss: 0.0100 - accuracy: 0.9966\n",
            "313/313 [==============================] - 1s 2ms/step\n",
            "Test Loss: 0.0343608595430851, Test Accuracy: 0.9898999929428101\n",
            "Epoch 9:\n",
            "938/938 [==============================] - 4s 4ms/step - loss: 0.0075 - accuracy: 0.9974\n",
            "313/313 [==============================] - 1s 3ms/step\n",
            "Test Loss: 0.03161926940083504, Test Accuracy: 0.9907000064849854\n",
            "Epoch 10:\n",
            "938/938 [==============================] - 4s 4ms/step - loss: 0.0065 - accuracy: 0.9978\n",
            "313/313 [==============================] - 1s 2ms/step\n",
            "Test Loss: 0.040640655905008316, Test Accuracy: 0.9900000095367432\n",
            "Epoch 11:\n",
            "938/938 [==============================] - 4s 5ms/step - loss: 0.0060 - accuracy: 0.9979\n",
            "313/313 [==============================] - 1s 2ms/step\n",
            "Test Loss: 0.0334007553756237, Test Accuracy: 0.9905999898910522\n",
            "Epoch 12:\n",
            "938/938 [==============================] - 4s 4ms/step - loss: 0.0048 - accuracy: 0.9984\n",
            "313/313 [==============================] - 1s 2ms/step\n",
            "Test Loss: 0.03505997732281685, Test Accuracy: 0.9911999702453613\n",
            "Epoch 13:\n",
            "938/938 [==============================] - 4s 4ms/step - loss: 0.0062 - accuracy: 0.9978\n",
            "313/313 [==============================] - 1s 2ms/step\n",
            "Test Loss: 0.03250773996114731, Test Accuracy: 0.991599977016449\n",
            "Epoch 14:\n",
            "938/938 [==============================] - 4s 4ms/step - loss: 0.0058 - accuracy: 0.9979\n",
            "313/313 [==============================] - 1s 2ms/step\n",
            "Test Loss: 0.03639581799507141, Test Accuracy: 0.991100013256073\n",
            "Epoch 15:\n",
            "938/938 [==============================] - 5s 5ms/step - loss: 0.0038 - accuracy: 0.9989\n",
            "313/313 [==============================] - 1s 2ms/step\n",
            "Test Loss: 0.05491377413272858, Test Accuracy: 0.9872999787330627\n",
            "Epoch 16:\n",
            "938/938 [==============================] - 4s 4ms/step - loss: 0.0030 - accuracy: 0.9989\n",
            "313/313 [==============================] - 1s 2ms/step\n",
            "Test Loss: 0.03868057578802109, Test Accuracy: 0.9909999966621399\n",
            "Epoch 17:\n",
            "938/938 [==============================] - 5s 5ms/step - loss: 0.0044 - accuracy: 0.9986\n",
            "313/313 [==============================] - 1s 2ms/step\n",
            "Test Loss: 0.034995079040527344, Test Accuracy: 0.9923999905586243\n",
            "Epoch 18:\n",
            "938/938 [==============================] - 4s 4ms/step - loss: 0.0041 - accuracy: 0.9986\n",
            "313/313 [==============================] - 1s 2ms/step\n",
            "Test Loss: 0.03599029779434204, Test Accuracy: 0.9915000200271606\n",
            "Epoch 19:\n",
            "938/938 [==============================] - 4s 4ms/step - loss: 0.0027 - accuracy: 0.9992\n",
            "313/313 [==============================] - 1s 2ms/step\n",
            "Test Loss: 0.038663532584905624, Test Accuracy: 0.9925000071525574\n",
            "Epoch 20:\n",
            "938/938 [==============================] - 4s 4ms/step - loss: 0.0046 - accuracy: 0.9985\n",
            "313/313 [==============================] - 1s 2ms/step\n",
            "Test Loss: 0.042903970927000046, Test Accuracy: 0.9907000064849854\n",
            "Epoch 21:\n",
            "938/938 [==============================] - 4s 4ms/step - loss: 0.0028 - accuracy: 0.9991\n",
            "313/313 [==============================] - 1s 2ms/step\n",
            "Test Loss: 0.035783473402261734, Test Accuracy: 0.9926999807357788\n",
            "Epoch 22:\n",
            "938/938 [==============================] - 4s 4ms/step - loss: 0.0024 - accuracy: 0.9993\n",
            "313/313 [==============================] - 1s 2ms/step\n",
            "Test Loss: 0.039992135018110275, Test Accuracy: 0.991599977016449\n",
            "Epoch 23:\n",
            "938/938 [==============================] - 4s 4ms/step - loss: 0.0034 - accuracy: 0.9989\n",
            "313/313 [==============================] - 1s 2ms/step\n",
            "Test Loss: 0.059318702667951584, Test Accuracy: 0.9886000156402588\n",
            "Epoch 24:\n",
            "938/938 [==============================] - 5s 5ms/step - loss: 0.0033 - accuracy: 0.9990\n",
            "313/313 [==============================] - 1s 2ms/step\n",
            "Test Loss: 0.04272519052028656, Test Accuracy: 0.9916999936103821\n",
            "Epoch 25:\n",
            "938/938 [==============================] - 4s 4ms/step - loss: 0.0028 - accuracy: 0.9991\n",
            "313/313 [==============================] - 1s 2ms/step\n",
            "Test Loss: 0.04537806659936905, Test Accuracy: 0.991599977016449\n"
          ]
        }
      ]
    },
    {
      "cell_type": "code",
      "source": [
        "del (base)\n",
        "gc.collect()\n",
        "keras.backend.clear_session()"
      ],
      "metadata": {
        "id": "FJTpZuPCRNuO"
      },
      "execution_count": null,
      "outputs": []
    },
    {
      "cell_type": "markdown",
      "source": [
        "# Independant model one"
      ],
      "metadata": {
        "id": "ug9epnRWclXx"
      }
    },
    {
      "cell_type": "code",
      "source": [
        "filepath = '/content/independant_1/'\n",
        "init_weights = filepath + model_name + dataset + '_init_weights.tf'\n",
        "init_model = filepath + model_name + dataset + '_init.tf'\n",
        "final_weights = filepath + model_name + dataset + '_final_weights.tf'\n",
        "final_model= filepath + model_name + dataset + '_final.tf'"
      ],
      "metadata": {
        "id": "CgYyTzPGckv5"
      },
      "execution_count": null,
      "outputs": []
    },
    {
      "cell_type": "code",
      "source": [
        "!mkdir  '/content/independant_1/'"
      ],
      "metadata": {
        "id": "a27D5LR5gpFp"
      },
      "execution_count": null,
      "outputs": []
    },
    {
      "cell_type": "code",
      "source": [
        "model_independant_1 = build_lenet_model(input_shape, num_classes)"
      ],
      "metadata": {
        "id": "0ZmvRweSc6P8"
      },
      "execution_count": null,
      "outputs": []
    },
    {
      "cell_type": "code",
      "source": [
        "train_lenet(model_independant_1,x_train,y_train,x_test,y_test)"
      ],
      "metadata": {
        "colab": {
          "base_uri": "https://localhost:8080/"
        },
        "id": "nbSGMFzRdA5Z",
        "outputId": "c8b02b48-b0c7-48fd-9bba-1de9a74883f4"
      },
      "execution_count": null,
      "outputs": [
        {
          "output_type": "stream",
          "name": "stdout",
          "text": [
            "313/313 [==============================] - 1s 2ms/step\n",
            "Epoch 1:\n",
            "938/938 [==============================] - 5s 4ms/step - loss: 0.1587 - accuracy: 0.9533\n",
            "313/313 [==============================] - 1s 2ms/step\n",
            "Test Loss: 0.05130818486213684, Test Accuracy: 0.9829999804496765\n",
            "Epoch 2:\n",
            "938/938 [==============================] - 4s 5ms/step - loss: 0.0479 - accuracy: 0.9849\n",
            "313/313 [==============================] - 1s 2ms/step\n",
            "Test Loss: 0.04899435490369797, Test Accuracy: 0.9836999773979187\n",
            "Epoch 3:\n",
            "938/938 [==============================] - 4s 4ms/step - loss: 0.0323 - accuracy: 0.9905\n",
            "313/313 [==============================] - 1s 2ms/step\n",
            "Test Loss: 0.04341496154665947, Test Accuracy: 0.9865000247955322\n",
            "Epoch 4:\n",
            "938/938 [==============================] - 4s 4ms/step - loss: 0.0228 - accuracy: 0.9932\n",
            "313/313 [==============================] - 1s 2ms/step\n",
            "Test Loss: 0.04148406162858009, Test Accuracy: 0.9872999787330627\n",
            "Epoch 5:\n",
            "938/938 [==============================] - 4s 4ms/step - loss: 0.0163 - accuracy: 0.9951\n",
            "313/313 [==============================] - 1s 2ms/step\n",
            "Test Loss: 0.03782878443598747, Test Accuracy: 0.9894000291824341\n",
            "Epoch 6:\n",
            "938/938 [==============================] - 4s 4ms/step - loss: 0.0131 - accuracy: 0.9961\n",
            "313/313 [==============================] - 1s 2ms/step\n",
            "Test Loss: 0.03661338612437248, Test Accuracy: 0.9904000163078308\n",
            "Epoch 7:\n",
            "938/938 [==============================] - 4s 5ms/step - loss: 0.0110 - accuracy: 0.9961\n",
            "313/313 [==============================] - 1s 2ms/step\n",
            "Test Loss: 0.03982030600309372, Test Accuracy: 0.9884999990463257\n",
            "Epoch 8:\n",
            "938/938 [==============================] - 4s 4ms/step - loss: 0.0098 - accuracy: 0.9969\n",
            "313/313 [==============================] - 1s 2ms/step\n",
            "Test Loss: 0.03617674112319946, Test Accuracy: 0.9901000261306763\n",
            "Epoch 9:\n",
            "938/938 [==============================] - 4s 5ms/step - loss: 0.0076 - accuracy: 0.9975\n",
            "313/313 [==============================] - 1s 2ms/step\n",
            "Test Loss: 0.04771232232451439, Test Accuracy: 0.9884999990463257\n",
            "Epoch 10:\n",
            "938/938 [==============================] - 4s 4ms/step - loss: 0.0072 - accuracy: 0.9974\n",
            "313/313 [==============================] - 1s 2ms/step\n",
            "Test Loss: 0.037056662142276764, Test Accuracy: 0.9904000163078308\n",
            "Epoch 11:\n",
            "938/938 [==============================] - 4s 4ms/step - loss: 0.0058 - accuracy: 0.9981\n",
            "313/313 [==============================] - 1s 2ms/step\n",
            "Test Loss: 0.037559881806373596, Test Accuracy: 0.991599977016449\n",
            "Epoch 12:\n",
            "938/938 [==============================] - 4s 4ms/step - loss: 0.0055 - accuracy: 0.9983\n",
            "313/313 [==============================] - 1s 2ms/step\n",
            "Test Loss: 0.03723940625786781, Test Accuracy: 0.991599977016449\n",
            "Epoch 13:\n",
            "938/938 [==============================] - 4s 4ms/step - loss: 0.0044 - accuracy: 0.9987\n",
            "313/313 [==============================] - 1s 2ms/step\n",
            "Test Loss: 0.037843007594347, Test Accuracy: 0.9909999966621399\n",
            "Epoch 14:\n",
            "938/938 [==============================] - 4s 4ms/step - loss: 0.0044 - accuracy: 0.9986\n",
            "313/313 [==============================] - 1s 2ms/step\n",
            "Test Loss: 0.04310670867562294, Test Accuracy: 0.9904999732971191\n",
            "Epoch 15:\n",
            "938/938 [==============================] - 4s 4ms/step - loss: 0.0050 - accuracy: 0.9983\n",
            "313/313 [==============================] - 1s 2ms/step\n",
            "Test Loss: 0.042173173278570175, Test Accuracy: 0.9908999800682068\n",
            "Epoch 16:\n",
            "938/938 [==============================] - 4s 4ms/step - loss: 0.0035 - accuracy: 0.9987\n",
            "313/313 [==============================] - 1s 2ms/step\n",
            "Test Loss: 0.04917760193347931, Test Accuracy: 0.9890000224113464\n",
            "Epoch 17:\n",
            "938/938 [==============================] - 4s 4ms/step - loss: 0.0038 - accuracy: 0.9987\n",
            "313/313 [==============================] - 1s 2ms/step\n",
            "Test Loss: 0.04188333824276924, Test Accuracy: 0.9907000064849854\n",
            "Epoch 18:\n",
            "938/938 [==============================] - 4s 4ms/step - loss: 0.0031 - accuracy: 0.9990\n",
            "313/313 [==============================] - 1s 2ms/step\n",
            "Test Loss: 0.03666946664452553, Test Accuracy: 0.9918000102043152\n",
            "Epoch 19:\n",
            "938/938 [==============================] - 4s 4ms/step - loss: 0.0021 - accuracy: 0.9995\n",
            "313/313 [==============================] - 1s 2ms/step\n",
            "Test Loss: 0.0544721856713295, Test Accuracy: 0.9887999892234802\n",
            "Epoch 20:\n",
            "938/938 [==============================] - 4s 4ms/step - loss: 0.0043 - accuracy: 0.9986\n",
            "313/313 [==============================] - 1s 2ms/step\n",
            "Test Loss: 0.04320426657795906, Test Accuracy: 0.9914000034332275\n",
            "Epoch 21:\n",
            "938/938 [==============================] - 5s 5ms/step - loss: 0.0029 - accuracy: 0.9992\n",
            "313/313 [==============================] - 1s 2ms/step\n",
            "Test Loss: 0.03908802196383476, Test Accuracy: 0.9911999702453613\n",
            "Epoch 22:\n",
            "938/938 [==============================] - 4s 4ms/step - loss: 0.0034 - accuracy: 0.9988\n",
            "313/313 [==============================] - 1s 2ms/step\n",
            "Test Loss: 0.05942641571164131, Test Accuracy: 0.9889000058174133\n",
            "Epoch 23:\n",
            "938/938 [==============================] - 4s 5ms/step - loss: 0.0020 - accuracy: 0.9994\n",
            "313/313 [==============================] - 1s 2ms/step\n",
            "Test Loss: 0.05420009791851044, Test Accuracy: 0.9911999702453613\n",
            "Epoch 24:\n",
            "938/938 [==============================] - 4s 4ms/step - loss: 0.0024 - accuracy: 0.9992\n",
            "313/313 [==============================] - 1s 2ms/step\n",
            "Test Loss: 0.05556140094995499, Test Accuracy: 0.9894000291824341\n",
            "Epoch 25:\n",
            "938/938 [==============================] - 4s 4ms/step - loss: 0.0034 - accuracy: 0.9991\n",
            "313/313 [==============================] - 1s 2ms/step\n",
            "Test Loss: 0.05444604530930519, Test Accuracy: 0.9907000064849854\n"
          ]
        }
      ]
    },
    {
      "cell_type": "code",
      "source": [
        "del (model_independant_1)\n",
        "gc.collect()\n",
        "keras.backend.clear_session()"
      ],
      "metadata": {
        "id": "XW6INm6kSxFS"
      },
      "execution_count": null,
      "outputs": []
    },
    {
      "cell_type": "markdown",
      "source": [
        "# Independant 2"
      ],
      "metadata": {
        "id": "X2OTEYTFdUAE"
      }
    },
    {
      "cell_type": "code",
      "source": [
        "filepath = '/content/independant_2/'\n",
        "init_weights = filepath + model_name + dataset + '_init_weights.tf'\n",
        "init_model = filepath + model_name + dataset + '_init.tf'\n",
        "final_weights =filepath + model_name + dataset + '_final_weights.tf'\n",
        "final_model= filepath + model_name + dataset + '_final.tf'"
      ],
      "metadata": {
        "id": "m_6iAeLLdWyf"
      },
      "execution_count": null,
      "outputs": []
    },
    {
      "cell_type": "code",
      "source": [
        "!mkdir '/content/independant_2/'"
      ],
      "metadata": {
        "id": "Qq4QQMaTgwcV"
      },
      "execution_count": null,
      "outputs": []
    },
    {
      "cell_type": "code",
      "source": [
        "model_independant_2 = build_lenet_model(input_shape, num_classes)"
      ],
      "metadata": {
        "id": "WB-QyYy1df0r"
      },
      "execution_count": null,
      "outputs": []
    },
    {
      "cell_type": "code",
      "source": [
        "train_lenet(model_independant_2,x_train,y_train,x_test,y_test)"
      ],
      "metadata": {
        "id": "axvsh5YIdjHr",
        "colab": {
          "base_uri": "https://localhost:8080/"
        },
        "outputId": "a8d118a8-d212-4cb7-cfb9-cf431650d006"
      },
      "execution_count": null,
      "outputs": [
        {
          "output_type": "stream",
          "name": "stdout",
          "text": [
            "313/313 [==============================] - 1s 2ms/step\n",
            "Epoch 1:\n",
            "938/938 [==============================] - 5s 4ms/step - loss: 0.1616 - accuracy: 0.9520\n",
            "313/313 [==============================] - 1s 2ms/step\n",
            "Test Loss: 0.061435822397470474, Test Accuracy: 0.9801999926567078\n",
            "Epoch 2:\n",
            "938/938 [==============================] - 4s 4ms/step - loss: 0.0493 - accuracy: 0.9845\n",
            "313/313 [==============================] - 1s 2ms/step\n",
            "Test Loss: 0.051581598818302155, Test Accuracy: 0.982699990272522\n",
            "Epoch 3:\n",
            "938/938 [==============================] - 4s 4ms/step - loss: 0.0330 - accuracy: 0.9899\n",
            "313/313 [==============================] - 1s 2ms/step\n",
            "Test Loss: 0.0456363782286644, Test Accuracy: 0.9851999878883362\n",
            "Epoch 4:\n",
            "938/938 [==============================] - 4s 5ms/step - loss: 0.0234 - accuracy: 0.9929\n",
            "313/313 [==============================] - 1s 2ms/step\n",
            "Test Loss: 0.039891958236694336, Test Accuracy: 0.9876999855041504\n",
            "Epoch 5:\n",
            "938/938 [==============================] - 4s 4ms/step - loss: 0.0170 - accuracy: 0.9948\n",
            "313/313 [==============================] - 1s 2ms/step\n",
            "Test Loss: 0.032890237867832184, Test Accuracy: 0.9908000230789185\n",
            "Epoch 6:\n",
            "938/938 [==============================] - 5s 5ms/step - loss: 0.0128 - accuracy: 0.9961\n",
            "313/313 [==============================] - 1s 2ms/step\n",
            "Test Loss: 0.04208258166909218, Test Accuracy: 0.9886999726295471\n",
            "Epoch 7:\n",
            "938/938 [==============================] - 4s 4ms/step - loss: 0.0108 - accuracy: 0.9967\n",
            "313/313 [==============================] - 1s 2ms/step\n",
            "Test Loss: 0.04225752502679825, Test Accuracy: 0.9884999990463257\n",
            "Epoch 8:\n",
            "938/938 [==============================] - 4s 4ms/step - loss: 0.0089 - accuracy: 0.9968\n",
            "313/313 [==============================] - 1s 2ms/step\n",
            "Test Loss: 0.03802580013871193, Test Accuracy: 0.9897000193595886\n",
            "Epoch 9:\n",
            "938/938 [==============================] - 4s 5ms/step - loss: 0.0080 - accuracy: 0.9973\n",
            "313/313 [==============================] - 1s 2ms/step\n",
            "Test Loss: 0.03185010701417923, Test Accuracy: 0.9911999702453613\n",
            "Epoch 10:\n",
            "938/938 [==============================] - 4s 4ms/step - loss: 0.0070 - accuracy: 0.9978\n",
            "313/313 [==============================] - 1s 2ms/step\n",
            "Test Loss: 0.04523121938109398, Test Accuracy: 0.9886999726295471\n",
            "Epoch 11:\n",
            "938/938 [==============================] - 5s 5ms/step - loss: 0.0055 - accuracy: 0.9980\n",
            "313/313 [==============================] - 1s 2ms/step\n",
            "Test Loss: 0.03211140260100365, Test Accuracy: 0.9932000041007996\n",
            "Epoch 12:\n",
            "938/938 [==============================] - 4s 4ms/step - loss: 0.0054 - accuracy: 0.9984\n",
            "313/313 [==============================] - 1s 2ms/step\n",
            "Test Loss: 0.04257090762257576, Test Accuracy: 0.9897000193595886\n",
            "Epoch 13:\n",
            "938/938 [==============================] - 4s 4ms/step - loss: 0.0050 - accuracy: 0.9983\n",
            "313/313 [==============================] - 1s 2ms/step\n",
            "Test Loss: 0.03672857955098152, Test Accuracy: 0.9914000034332275\n",
            "Epoch 14:\n",
            "938/938 [==============================] - 4s 4ms/step - loss: 0.0044 - accuracy: 0.9984\n",
            "313/313 [==============================] - 1s 2ms/step\n",
            "Test Loss: 0.035555433481931686, Test Accuracy: 0.9918000102043152\n",
            "Epoch 15:\n",
            "938/938 [==============================] - 4s 4ms/step - loss: 0.0038 - accuracy: 0.9987\n",
            "313/313 [==============================] - 1s 2ms/step\n",
            "Test Loss: 0.03473370522260666, Test Accuracy: 0.9919000267982483\n",
            "Epoch 16:\n",
            "938/938 [==============================] - 4s 5ms/step - loss: 0.0040 - accuracy: 0.9986\n",
            "313/313 [==============================] - 1s 2ms/step\n",
            "Test Loss: 0.0532141737639904, Test Accuracy: 0.9886999726295471\n",
            "Epoch 17:\n",
            "938/938 [==============================] - 4s 4ms/step - loss: 0.0043 - accuracy: 0.9985\n",
            "313/313 [==============================] - 1s 2ms/step\n",
            "Test Loss: 0.039036717265844345, Test Accuracy: 0.9927999973297119\n",
            "Epoch 18:\n",
            "938/938 [==============================] - 5s 5ms/step - loss: 0.0032 - accuracy: 0.9989\n",
            "313/313 [==============================] - 1s 2ms/step\n",
            "Test Loss: 0.038191843777894974, Test Accuracy: 0.9925000071525574\n",
            "Epoch 19:\n",
            "938/938 [==============================] - 4s 4ms/step - loss: 0.0027 - accuracy: 0.9991\n",
            "313/313 [==============================] - 1s 2ms/step\n",
            "Test Loss: 0.04709911346435547, Test Accuracy: 0.9912999868392944\n",
            "Epoch 20:\n",
            "938/938 [==============================] - 4s 4ms/step - loss: 0.0028 - accuracy: 0.9991\n",
            "313/313 [==============================] - 1s 2ms/step\n",
            "Test Loss: 0.0444764643907547, Test Accuracy: 0.9908000230789185\n",
            "Epoch 21:\n",
            "938/938 [==============================] - 4s 4ms/step - loss: 0.0025 - accuracy: 0.9992\n",
            "313/313 [==============================] - 1s 2ms/step\n",
            "Test Loss: 0.04982724413275719, Test Accuracy: 0.9912999868392944\n",
            "Epoch 22:\n",
            "938/938 [==============================] - 5s 5ms/step - loss: 0.0047 - accuracy: 0.9987\n",
            "313/313 [==============================] - 1s 2ms/step\n",
            "Test Loss: 0.05499948561191559, Test Accuracy: 0.9894000291824341\n",
            "Epoch 23:\n",
            "938/938 [==============================] - 4s 4ms/step - loss: 0.0022 - accuracy: 0.9992\n",
            "313/313 [==============================] - 1s 2ms/step\n",
            "Test Loss: 0.04718826711177826, Test Accuracy: 0.9908000230789185\n",
            "Epoch 24:\n",
            "938/938 [==============================] - 4s 4ms/step - loss: 0.0031 - accuracy: 0.9991\n",
            "313/313 [==============================] - 1s 2ms/step\n",
            "Test Loss: 0.05135064572095871, Test Accuracy: 0.9909999966621399\n",
            "Epoch 25:\n",
            "938/938 [==============================] - 4s 4ms/step - loss: 0.0025 - accuracy: 0.9992\n",
            "313/313 [==============================] - 1s 2ms/step\n",
            "Test Loss: 0.04292583465576172, Test Accuracy: 0.9922999739646912\n"
          ]
        }
      ]
    },
    {
      "cell_type": "code",
      "source": [
        "del (model_independant_2)\n",
        "gc.collect()\n",
        "keras.backend.clear_session()"
      ],
      "metadata": {
        "id": "-t_bBGPKS9oi"
      },
      "execution_count": null,
      "outputs": []
    },
    {
      "cell_type": "markdown",
      "source": [
        "#Download Independant Models"
      ],
      "metadata": {
        "id": "TxQrGkUBYePo"
      }
    },
    {
      "cell_type": "code",
      "source": [
        "shutil.make_archive(\"base\", 'zip', \"base\")\n",
        "files.download(\"base.zip\")"
      ],
      "metadata": {
        "colab": {
          "base_uri": "https://localhost:8080/",
          "height": 17
        },
        "id": "g1ii0HZCYZ1_",
        "outputId": "f844a6d9-7be5-4b38-951f-d6fb77ad5e1a"
      },
      "execution_count": null,
      "outputs": [
        {
          "output_type": "display_data",
          "data": {
            "text/plain": [
              "<IPython.core.display.Javascript object>"
            ],
            "application/javascript": [
              "\n",
              "    async function download(id, filename, size) {\n",
              "      if (!google.colab.kernel.accessAllowed) {\n",
              "        return;\n",
              "      }\n",
              "      const div = document.createElement('div');\n",
              "      const label = document.createElement('label');\n",
              "      label.textContent = `Downloading \"${filename}\": `;\n",
              "      div.appendChild(label);\n",
              "      const progress = document.createElement('progress');\n",
              "      progress.max = size;\n",
              "      div.appendChild(progress);\n",
              "      document.body.appendChild(div);\n",
              "\n",
              "      const buffers = [];\n",
              "      let downloaded = 0;\n",
              "\n",
              "      const channel = await google.colab.kernel.comms.open(id);\n",
              "      // Send a message to notify the kernel that we're ready.\n",
              "      channel.send({})\n",
              "\n",
              "      for await (const message of channel.messages) {\n",
              "        // Send a message to notify the kernel that we're ready.\n",
              "        channel.send({})\n",
              "        if (message.buffers) {\n",
              "          for (const buffer of message.buffers) {\n",
              "            buffers.push(buffer);\n",
              "            downloaded += buffer.byteLength;\n",
              "            progress.value = downloaded;\n",
              "          }\n",
              "        }\n",
              "      }\n",
              "      const blob = new Blob(buffers, {type: 'application/binary'});\n",
              "      const a = document.createElement('a');\n",
              "      a.href = window.URL.createObjectURL(blob);\n",
              "      a.download = filename;\n",
              "      div.appendChild(a);\n",
              "      a.click();\n",
              "      div.remove();\n",
              "    }\n",
              "  "
            ]
          },
          "metadata": {}
        },
        {
          "output_type": "display_data",
          "data": {
            "text/plain": [
              "<IPython.core.display.Javascript object>"
            ],
            "application/javascript": [
              "download(\"download_68acf6a8-e711-494a-9790-ae1548266c19\", \"base.zip\", 20409556)"
            ]
          },
          "metadata": {}
        }
      ]
    },
    {
      "cell_type": "code",
      "source": [
        "shutil.make_archive(\"independant_1\", 'zip', \"independant_1\")\n",
        "files.download(\"independant_1.zip\")"
      ],
      "metadata": {
        "colab": {
          "base_uri": "https://localhost:8080/",
          "height": 17
        },
        "id": "mvnU0VFaYccw",
        "outputId": "3fb82618-78b7-4f38-f62b-1d3088ff7ab2"
      },
      "execution_count": null,
      "outputs": [
        {
          "output_type": "display_data",
          "data": {
            "text/plain": [
              "<IPython.core.display.Javascript object>"
            ],
            "application/javascript": [
              "\n",
              "    async function download(id, filename, size) {\n",
              "      if (!google.colab.kernel.accessAllowed) {\n",
              "        return;\n",
              "      }\n",
              "      const div = document.createElement('div');\n",
              "      const label = document.createElement('label');\n",
              "      label.textContent = `Downloading \"${filename}\": `;\n",
              "      div.appendChild(label);\n",
              "      const progress = document.createElement('progress');\n",
              "      progress.max = size;\n",
              "      div.appendChild(progress);\n",
              "      document.body.appendChild(div);\n",
              "\n",
              "      const buffers = [];\n",
              "      let downloaded = 0;\n",
              "\n",
              "      const channel = await google.colab.kernel.comms.open(id);\n",
              "      // Send a message to notify the kernel that we're ready.\n",
              "      channel.send({})\n",
              "\n",
              "      for await (const message of channel.messages) {\n",
              "        // Send a message to notify the kernel that we're ready.\n",
              "        channel.send({})\n",
              "        if (message.buffers) {\n",
              "          for (const buffer of message.buffers) {\n",
              "            buffers.push(buffer);\n",
              "            downloaded += buffer.byteLength;\n",
              "            progress.value = downloaded;\n",
              "          }\n",
              "        }\n",
              "      }\n",
              "      const blob = new Blob(buffers, {type: 'application/binary'});\n",
              "      const a = document.createElement('a');\n",
              "      a.href = window.URL.createObjectURL(blob);\n",
              "      a.download = filename;\n",
              "      div.appendChild(a);\n",
              "      a.click();\n",
              "      div.remove();\n",
              "    }\n",
              "  "
            ]
          },
          "metadata": {}
        },
        {
          "output_type": "display_data",
          "data": {
            "text/plain": [
              "<IPython.core.display.Javascript object>"
            ],
            "application/javascript": [
              "download(\"download_3c52f4ea-b2d6-44ad-8d8f-156649b8846d\", \"independant_1.zip\", 20454856)"
            ]
          },
          "metadata": {}
        }
      ]
    },
    {
      "cell_type": "code",
      "source": [
        "\n",
        "shutil.make_archive(\"independant_2\", 'zip', \"independant_2\")\n",
        "files.download(\"independant_2.zip\")"
      ],
      "metadata": {
        "colab": {
          "base_uri": "https://localhost:8080/",
          "height": 17
        },
        "id": "dlW_iuJEYdt4",
        "outputId": "ccce925d-a066-4b54-b9d0-7b8474e47845"
      },
      "execution_count": null,
      "outputs": [
        {
          "output_type": "display_data",
          "data": {
            "text/plain": [
              "<IPython.core.display.Javascript object>"
            ],
            "application/javascript": [
              "\n",
              "    async function download(id, filename, size) {\n",
              "      if (!google.colab.kernel.accessAllowed) {\n",
              "        return;\n",
              "      }\n",
              "      const div = document.createElement('div');\n",
              "      const label = document.createElement('label');\n",
              "      label.textContent = `Downloading \"${filename}\": `;\n",
              "      div.appendChild(label);\n",
              "      const progress = document.createElement('progress');\n",
              "      progress.max = size;\n",
              "      div.appendChild(progress);\n",
              "      document.body.appendChild(div);\n",
              "\n",
              "      const buffers = [];\n",
              "      let downloaded = 0;\n",
              "\n",
              "      const channel = await google.colab.kernel.comms.open(id);\n",
              "      // Send a message to notify the kernel that we're ready.\n",
              "      channel.send({})\n",
              "\n",
              "      for await (const message of channel.messages) {\n",
              "        // Send a message to notify the kernel that we're ready.\n",
              "        channel.send({})\n",
              "        if (message.buffers) {\n",
              "          for (const buffer of message.buffers) {\n",
              "            buffers.push(buffer);\n",
              "            downloaded += buffer.byteLength;\n",
              "            progress.value = downloaded;\n",
              "          }\n",
              "        }\n",
              "      }\n",
              "      const blob = new Blob(buffers, {type: 'application/binary'});\n",
              "      const a = document.createElement('a');\n",
              "      a.href = window.URL.createObjectURL(blob);\n",
              "      a.download = filename;\n",
              "      div.appendChild(a);\n",
              "      a.click();\n",
              "      div.remove();\n",
              "    }\n",
              "  "
            ]
          },
          "metadata": {}
        },
        {
          "output_type": "display_data",
          "data": {
            "text/plain": [
              "<IPython.core.display.Javascript object>"
            ],
            "application/javascript": [
              "download(\"download_fc8fe692-d4f6-4de1-a09c-8c4871aa8aa2\", \"independant_2.zip\", 20357402)"
            ]
          },
          "metadata": {}
        }
      ]
    },
    {
      "cell_type": "markdown",
      "source": [
        "---"
      ],
      "metadata": {
        "id": "1M1eiG9hE3Up"
      }
    },
    {
      "cell_type": "markdown",
      "source": [
        "# Distillation"
      ],
      "metadata": {
        "id": "BXdp-pUi2U5_"
      }
    },
    {
      "cell_type": "code",
      "source": [
        "def train_custom(model, train_data, train_labels, test_data, test_labels):\n",
        "    initailsoftmax = model.student.predict(test_data)\n",
        "    model.student.save_weights(init_weights)\n",
        "    model.student.save(init_model)\n",
        "    initaildf = pd.DataFrame(initailsoftmax)\n",
        "    filename = filepath + '0_softmax.csv'\n",
        "    initaildf.to_csv(filename,index=False)\n",
        "    epoch = 1\n",
        "    while epoch < 26:\n",
        "        print(f\"Epoch {epoch}:\")\n",
        "\n",
        "        # Training on one epoch\n",
        "        model.fit(train_data, train_labels, epochs=1, batch_size=64, verbose=1)\n",
        "\n",
        "        # Evaluate on the test dataset\n",
        "        results = model.student.predict(test_data)\n",
        "        softmax_df = pd.DataFrame(results)\n",
        "        filename = filepath+str(epoch)+'_softmax.csv'\n",
        "        softmax_df.to_csv(filename,index=False)\n",
        "        loss,accuracy = model.student.evaluate(test_data,test_labels)\n",
        "        print(f\"Test Loss: {loss}, Test Accuracy: {accuracy}\")\n",
        "\n",
        "        if epoch ==25:\n",
        "          model.student.save_weights(final_weights)\n",
        "          model.student.save(final_model)\n",
        "        epoch += 1\n",
        "\n",
        "# TO DO EVALUATE FUNCTION\n"
      ],
      "metadata": {
        "id": "q1gaVGRegqu_"
      },
      "execution_count": null,
      "outputs": []
    },
    {
      "cell_type": "code",
      "source": [
        "class Distiller(tf.keras.Model):\n",
        "    def __init__(self, student, teacher):\n",
        "        super().__init__()\n",
        "        self.teacher = teacher\n",
        "        self.student = student\n",
        "\n",
        "    def compile(\n",
        "        self,\n",
        "        optimizer,\n",
        "        metrics,\n",
        "        student_loss_fn,\n",
        "        distillation_loss_fn,\n",
        "        alpha,\n",
        "        temperature,\n",
        "    ):\n",
        "        super().compile(optimizer=optimizer, metrics=metrics)\n",
        "        self.student_loss_fn = student_loss_fn\n",
        "        self.distillation_loss_fn = distillation_loss_fn\n",
        "        self.alpha = alpha\n",
        "        self.temperature = temperature\n",
        "\n",
        "    def train_step(self, data):\n",
        "        # Unpack data\n",
        "        x, y = data\n",
        "\n",
        "        # Forward pass of teacher\n",
        "        teacher_predictions = self.teacher(x, training=False)\n",
        "\n",
        "        with tf.GradientTape() as tape:\n",
        "            # Forward pass of student\n",
        "            student_predictions = self.student(x, training=True)\n",
        "\n",
        "            # Compute losses\n",
        "            student_loss = self.student_loss_fn(y, student_predictions)\n",
        "\n",
        "            distillation_loss = (\n",
        "                self.distillation_loss_fn(\n",
        "                    tf.nn.softmax(teacher_predictions / self.temperature, axis=1),\n",
        "                    tf.nn.softmax(student_predictions / self.temperature, axis=1),\n",
        "                )\n",
        "                * self.temperature**2\n",
        "            )\n",
        "\n",
        "            loss = self.alpha * student_loss + (1 - self.alpha) * distillation_loss\n",
        "\n",
        "        # Compute gradients\n",
        "        trainable_vars = self.student.trainable_variables\n",
        "        gradients = tape.gradient(loss, trainable_vars)\n",
        "\n",
        "        # Update weights\n",
        "        self.optimizer.apply_gradients(zip(gradients, trainable_vars))\n",
        "\n",
        "        # Update the metrics configured in `compile()`.\n",
        "        self.compiled_metrics.update_state(y, student_predictions)\n",
        "\n",
        "        # Return a dict of performance\n",
        "        results = {m.name: m.result() for m in self.metrics}\n",
        "        results.update(\n",
        "            {\"student_loss\": student_loss, \"distillation_loss\": distillation_loss}\n",
        "        )\n",
        "\n",
        "        return results\n",
        "\n",
        "    def test_step(self, data):\n",
        "        # Unpack the data\n",
        "        x, y = data\n",
        "\n",
        "        # Compute predictions\n",
        "        y_prediction = self.student(x, training=False)\n",
        "        print(y_prediction)\n",
        "        # Calculate the loss\n",
        "        student_loss = self.student_loss_fn(y, y_prediction)\n",
        "\n",
        "        # Update the metrics.\n",
        "        self.compiled_metrics.update_state(y, y_prediction)\n",
        "\n",
        "        # Return a dict of performance\n",
        "        results = {m.name: m.result() for m in self.metrics}\n",
        "        results.update({\"student_loss\": student_loss})\n",
        "        return results"
      ],
      "metadata": {
        "id": "HfM5ezDj2mCH"
      },
      "execution_count": null,
      "outputs": []
    },
    {
      "cell_type": "markdown",
      "source": [
        "# Student 0.1 Alpha"
      ],
      "metadata": {
        "id": "OgQPe37aj3Ek"
      }
    },
    {
      "cell_type": "code",
      "source": [
        "model_path = '/content/base/LeNetMNIST_init.tf'\n",
        "student = load_model(model_path)\n",
        "student_scratch = tf.keras.models.clone_model(student)\n"
      ],
      "metadata": {
        "id": "EGgaXEX8j7IG"
      },
      "execution_count": null,
      "outputs": []
    },
    {
      "cell_type": "code",
      "source": [
        "teacher_model_path = '/content/base/LeNetMNIST_final.tf'\n",
        "techer_model = load_model(teacher_model_path)"
      ],
      "metadata": {
        "id": "ab_sFwqB-Tsh"
      },
      "execution_count": null,
      "outputs": []
    },
    {
      "cell_type": "code",
      "source": [
        "distiller = Distiller(student=student, teacher=techer_model)\n",
        "distiller.compile(\n",
        "    optimizer=tf.keras.optimizers.Adamax(learning_rate=0.001),\n",
        "    metrics=[tf.keras.metrics.CategoricalCrossentropy()],\n",
        "    student_loss_fn=tf.keras.losses.CategoricalCrossentropy(from_logits=True),\n",
        "    distillation_loss_fn=tf.keras.losses.KLDivergence(),\n",
        "    alpha=0.1,\n",
        "    temperature=3,\n",
        ")"
      ],
      "metadata": {
        "id": "KL5sBYc19ITH"
      },
      "execution_count": null,
      "outputs": []
    },
    {
      "cell_type": "code",
      "source": [
        "filepath = '/content/student_same/'\n",
        "init_weights = filepath + model_name + dataset + '_init_weights.tf'\n",
        "init_model = filepath + model_name + dataset + '_init.tf'\n",
        "final_weights = filepath + model_name + dataset + '_final_weights.tf'\n",
        "final_model= filepath + model_name + dataset + 'final.tf'"
      ],
      "metadata": {
        "id": "mvIefPKXnZ17"
      },
      "execution_count": null,
      "outputs": []
    },
    {
      "cell_type": "code",
      "source": [
        "!mkdir '/content/student_same/'"
      ],
      "metadata": {
        "id": "UqIWgvFfnUH2"
      },
      "execution_count": null,
      "outputs": []
    },
    {
      "cell_type": "code",
      "source": [
        "train_custom(distiller, x_train,y_train,x_test,y_test)"
      ],
      "metadata": {
        "colab": {
          "base_uri": "https://localhost:8080/"
        },
        "id": "K9Or3ngvlCSk",
        "outputId": "fe6d9dc4-19f5-42ef-ce35-9d51a4732f75"
      },
      "execution_count": null,
      "outputs": [
        {
          "output_type": "stream",
          "name": "stdout",
          "text": [
            "313/313 [==============================] - 1s 2ms/step\n",
            "Epoch 1:\n"
          ]
        },
        {
          "output_type": "stream",
          "name": "stderr",
          "text": [
            "/usr/local/lib/python3.10/dist-packages/keras/src/backend.py:5575: UserWarning: \"`categorical_crossentropy` received `from_logits=True`, but the `output` argument was produced by a Softmax activation and thus does not represent logits. Was this intended?\n",
            "  output, from_logits = _get_logits(\n"
          ]
        },
        {
          "output_type": "stream",
          "name": "stdout",
          "text": [
            "938/938 [==============================] - 8s 4ms/step - categorical_crossentropy: 0.2094 - student_loss: 0.2092 - distillation_loss: 0.0054\n",
            "313/313 [==============================] - 1s 2ms/step\n",
            "313/313 [==============================] - 1s 3ms/step - loss: 0.0741 - accuracy: 0.9777\n",
            "Test Loss: 0.07406283915042877, Test Accuracy: 0.9776999950408936\n",
            "Epoch 2:\n",
            "938/938 [==============================] - 4s 5ms/step - categorical_crossentropy: 0.0701 - student_loss: 0.0700 - distillation_loss: 0.0019\n",
            "313/313 [==============================] - 1s 2ms/step\n",
            "313/313 [==============================] - 1s 2ms/step - loss: 0.0553 - accuracy: 0.9828\n",
            "Test Loss: 0.05526040121912956, Test Accuracy: 0.9828000068664551\n",
            "Epoch 3:\n",
            "938/938 [==============================] - 5s 5ms/step - categorical_crossentropy: 0.0512 - student_loss: 0.0512 - distillation_loss: 0.0013\n",
            "313/313 [==============================] - 1s 2ms/step\n",
            "313/313 [==============================] - 1s 3ms/step - loss: 0.0485 - accuracy: 0.9840\n",
            "Test Loss: 0.048512086272239685, Test Accuracy: 0.984000027179718\n",
            "Epoch 4:\n",
            "938/938 [==============================] - 4s 4ms/step - categorical_crossentropy: 0.0409 - student_loss: 0.0408 - distillation_loss: 0.0011\n",
            "313/313 [==============================] - 1s 2ms/step\n",
            "313/313 [==============================] - 1s 2ms/step - loss: 0.0442 - accuracy: 0.9859\n",
            "Test Loss: 0.04421151429414749, Test Accuracy: 0.9858999848365784\n",
            "Epoch 5:\n",
            "938/938 [==============================] - 5s 5ms/step - categorical_crossentropy: 0.0339 - student_loss: 0.0339 - distillation_loss: 8.7422e-04\n",
            "313/313 [==============================] - 1s 2ms/step\n",
            "313/313 [==============================] - 1s 4ms/step - loss: 0.0400 - accuracy: 0.9869\n",
            "Test Loss: 0.039986465126276016, Test Accuracy: 0.9868999719619751\n",
            "Epoch 6:\n",
            "938/938 [==============================] - 5s 5ms/step - categorical_crossentropy: 0.0288 - student_loss: 0.0288 - distillation_loss: 7.3563e-04\n",
            "313/313 [==============================] - 1s 3ms/step\n",
            "313/313 [==============================] - 1s 3ms/step - loss: 0.0381 - accuracy: 0.9873\n",
            "Test Loss: 0.038060590624809265, Test Accuracy: 0.9872999787330627\n",
            "Epoch 7:\n",
            "938/938 [==============================] - 4s 5ms/step - categorical_crossentropy: 0.0246 - student_loss: 0.0246 - distillation_loss: 6.2345e-04\n",
            "313/313 [==============================] - 1s 2ms/step\n",
            "313/313 [==============================] - 1s 3ms/step - loss: 0.0382 - accuracy: 0.9874\n",
            "Test Loss: 0.0381593219935894, Test Accuracy: 0.9873999953269958\n",
            "Epoch 8:\n",
            "938/938 [==============================] - 5s 6ms/step - categorical_crossentropy: 0.0210 - student_loss: 0.0210 - distillation_loss: 5.2616e-04\n",
            "313/313 [==============================] - 1s 2ms/step\n",
            "313/313 [==============================] - 1s 3ms/step - loss: 0.0358 - accuracy: 0.9884\n",
            "Test Loss: 0.035807251930236816, Test Accuracy: 0.9883999824523926\n",
            "Epoch 9:\n",
            "938/938 [==============================] - 5s 5ms/step - categorical_crossentropy: 0.0182 - student_loss: 0.0181 - distillation_loss: 4.5247e-04\n",
            "313/313 [==============================] - 1s 2ms/step\n",
            "313/313 [==============================] - 1s 3ms/step - loss: 0.0344 - accuracy: 0.9891\n",
            "Test Loss: 0.03441712632775307, Test Accuracy: 0.9890999794006348\n",
            "Epoch 10:\n",
            "938/938 [==============================] - 4s 4ms/step - categorical_crossentropy: 0.0157 - student_loss: 0.0156 - distillation_loss: 3.8743e-04\n",
            "313/313 [==============================] - 1s 2ms/step\n",
            "313/313 [==============================] - 1s 4ms/step - loss: 0.0334 - accuracy: 0.9892\n",
            "Test Loss: 0.03337283059954643, Test Accuracy: 0.9891999959945679\n",
            "Epoch 11:\n",
            "938/938 [==============================] - 4s 5ms/step - categorical_crossentropy: 0.0135 - student_loss: 0.0135 - distillation_loss: 3.2871e-04\n",
            "313/313 [==============================] - 1s 2ms/step\n",
            "313/313 [==============================] - 2s 5ms/step - loss: 0.0334 - accuracy: 0.9894\n",
            "Test Loss: 0.033356547355651855, Test Accuracy: 0.9894000291824341\n",
            "Epoch 12:\n",
            "938/938 [==============================] - 9s 9ms/step - categorical_crossentropy: 0.0117 - student_loss: 0.0117 - distillation_loss: 2.8474e-04\n",
            "313/313 [==============================] - 1s 2ms/step\n",
            "313/313 [==============================] - 1s 3ms/step - loss: 0.0330 - accuracy: 0.9895\n",
            "Test Loss: 0.032978154718875885, Test Accuracy: 0.9894999861717224\n",
            "Epoch 13:\n",
            "938/938 [==============================] - 5s 5ms/step - categorical_crossentropy: 0.0101 - student_loss: 0.0101 - distillation_loss: 2.4360e-04\n",
            "313/313 [==============================] - 1s 2ms/step\n",
            "313/313 [==============================] - 1s 3ms/step - loss: 0.0316 - accuracy: 0.9900\n",
            "Test Loss: 0.03156218305230141, Test Accuracy: 0.9900000095367432\n",
            "Epoch 14:\n",
            "938/938 [==============================] - 4s 5ms/step - categorical_crossentropy: 0.0086 - student_loss: 0.0086 - distillation_loss: 2.0689e-04\n",
            "313/313 [==============================] - 1s 2ms/step\n",
            "313/313 [==============================] - 1s 2ms/step - loss: 0.0303 - accuracy: 0.9912\n",
            "Test Loss: 0.03026481345295906, Test Accuracy: 0.9911999702453613\n",
            "Epoch 15:\n",
            "938/938 [==============================] - 5s 5ms/step - categorical_crossentropy: 0.0071 - student_loss: 0.0071 - distillation_loss: 1.7317e-04\n",
            "313/313 [==============================] - 1s 2ms/step\n",
            "313/313 [==============================] - 1s 3ms/step - loss: 0.0295 - accuracy: 0.9910\n",
            "Test Loss: 0.029543176293373108, Test Accuracy: 0.9909999966621399\n",
            "Epoch 16:\n",
            "938/938 [==============================] - 6s 6ms/step - categorical_crossentropy: 0.0061 - student_loss: 0.0061 - distillation_loss: 1.5140e-04\n",
            "313/313 [==============================] - 1s 2ms/step\n",
            "313/313 [==============================] - 1s 3ms/step - loss: 0.0289 - accuracy: 0.9913\n",
            "Test Loss: 0.02887350507080555, Test Accuracy: 0.9912999868392944\n",
            "Epoch 17:\n",
            "938/938 [==============================] - 4s 5ms/step - categorical_crossentropy: 0.0052 - student_loss: 0.0052 - distillation_loss: 1.3685e-04\n",
            "313/313 [==============================] - 1s 2ms/step\n",
            "313/313 [==============================] - 1s 4ms/step - loss: 0.0305 - accuracy: 0.9910\n",
            "Test Loss: 0.0305031668394804, Test Accuracy: 0.9909999966621399\n",
            "Epoch 18:\n",
            "938/938 [==============================] - 4s 5ms/step - categorical_crossentropy: 0.0046 - student_loss: 0.0046 - distillation_loss: 1.2257e-04\n",
            "313/313 [==============================] - 1s 2ms/step\n",
            "313/313 [==============================] - 1s 3ms/step - loss: 0.0323 - accuracy: 0.9908\n",
            "Test Loss: 0.03234799951314926, Test Accuracy: 0.9908000230789185\n",
            "Epoch 19:\n",
            "938/938 [==============================] - 6s 7ms/step - categorical_crossentropy: 0.0037 - student_loss: 0.0037 - distillation_loss: 1.0629e-04\n",
            "313/313 [==============================] - 1s 2ms/step\n",
            "313/313 [==============================] - 1s 3ms/step - loss: 0.0326 - accuracy: 0.9908\n",
            "Test Loss: 0.03255511075258255, Test Accuracy: 0.9908000230789185\n",
            "Epoch 20:\n",
            "938/938 [==============================] - 4s 4ms/step - categorical_crossentropy: 0.0033 - student_loss: 0.0033 - distillation_loss: 9.9209e-05\n",
            "313/313 [==============================] - 1s 2ms/step\n",
            "313/313 [==============================] - 1s 3ms/step - loss: 0.0364 - accuracy: 0.9900\n",
            "Test Loss: 0.036431752145290375, Test Accuracy: 0.9900000095367432\n",
            "Epoch 21:\n",
            "938/938 [==============================] - 5s 5ms/step - categorical_crossentropy: 0.0030 - student_loss: 0.0030 - distillation_loss: 9.2547e-05\n",
            "313/313 [==============================] - 1s 2ms/step\n",
            "313/313 [==============================] - 1s 3ms/step - loss: 0.0357 - accuracy: 0.9909\n",
            "Test Loss: 0.03571156784892082, Test Accuracy: 0.9908999800682068\n",
            "Epoch 22:\n",
            "938/938 [==============================] - 4s 4ms/step - categorical_crossentropy: 0.0026 - student_loss: 0.0026 - distillation_loss: 8.9161e-05\n",
            "313/313 [==============================] - 1s 2ms/step\n",
            "313/313 [==============================] - 1s 4ms/step - loss: 0.0364 - accuracy: 0.9903\n",
            "Test Loss: 0.036432866007089615, Test Accuracy: 0.9902999997138977\n",
            "Epoch 23:\n",
            "938/938 [==============================] - 4s 4ms/step - categorical_crossentropy: 0.0021 - student_loss: 0.0021 - distillation_loss: 7.2917e-05\n",
            "313/313 [==============================] - 1s 2ms/step\n",
            "313/313 [==============================] - 1s 3ms/step - loss: 0.0371 - accuracy: 0.9904\n",
            "Test Loss: 0.037107035517692566, Test Accuracy: 0.9904000163078308\n",
            "Epoch 24:\n",
            "938/938 [==============================] - 5s 5ms/step - categorical_crossentropy: 0.0019 - student_loss: 0.0019 - distillation_loss: 7.2203e-05\n",
            "313/313 [==============================] - 1s 2ms/step\n",
            "313/313 [==============================] - 1s 3ms/step - loss: 0.0390 - accuracy: 0.9897\n",
            "Test Loss: 0.03899545222520828, Test Accuracy: 0.9897000193595886\n",
            "Epoch 25:\n",
            "938/938 [==============================] - 4s 4ms/step - categorical_crossentropy: 0.0016 - student_loss: 0.0016 - distillation_loss: 6.8067e-05\n",
            "313/313 [==============================] - 1s 2ms/step\n",
            "313/313 [==============================] - 1s 3ms/step - loss: 0.0395 - accuracy: 0.9904\n",
            "Test Loss: 0.039545588195323944, Test Accuracy: 0.9904000163078308\n"
          ]
        }
      ]
    },
    {
      "cell_type": "code",
      "source": [
        "del (student)\n",
        "gc.collect()\n",
        "keras.backend.clear_session()"
      ],
      "metadata": {
        "id": "lTMYO7__Uzxz"
      },
      "execution_count": null,
      "outputs": []
    },
    {
      "cell_type": "markdown",
      "source": [
        "# Student same Alpha 0.5"
      ],
      "metadata": {
        "id": "OaN0-7_6U9e6"
      }
    },
    {
      "cell_type": "code",
      "source": [
        "model_path = '/content/base/LeNetMNIST_init.tf'\n",
        "student = load_model(model_path)\n",
        "student_scratch = tf.keras.models.clone_model(student)"
      ],
      "metadata": {
        "id": "HLTcfc2UVIfO"
      },
      "execution_count": null,
      "outputs": []
    },
    {
      "cell_type": "code",
      "source": [
        "distiller = Distiller(student=student, teacher=techer_model)\n",
        "distiller.compile(\n",
        "    optimizer=tf.keras.optimizers.Adamax(learning_rate=0.001),\n",
        "    metrics=[tf.keras.metrics.CategoricalCrossentropy()],\n",
        "    student_loss_fn=tf.keras.losses.CategoricalCrossentropy(from_logits=True),\n",
        "    distillation_loss_fn=tf.keras.losses.KLDivergence(),\n",
        "    alpha=0.5,\n",
        "    temperature=3,\n",
        ")"
      ],
      "metadata": {
        "id": "q0xmOf5IVI-G"
      },
      "execution_count": null,
      "outputs": []
    },
    {
      "cell_type": "code",
      "source": [
        "filepath = '/content/student_same_50/'\n",
        "init_weights = filepath + model_name + dataset + '_init_weights.tf'\n",
        "init_model = filepath + model_name + dataset + '_init.tf'\n",
        "final_weights = filepath + model_name + dataset + '_final_weights.tf'\n",
        "final_model= filepath + model_name + dataset + 'final.tf'"
      ],
      "metadata": {
        "id": "U4fyr8rwVPsI"
      },
      "execution_count": null,
      "outputs": []
    },
    {
      "cell_type": "code",
      "source": [
        "!mkdir '/content/student_same_50/'"
      ],
      "metadata": {
        "id": "IzbhPktzVokH"
      },
      "execution_count": null,
      "outputs": []
    },
    {
      "cell_type": "code",
      "source": [
        "train_custom(distiller, x_train,y_train,x_test,y_test)"
      ],
      "metadata": {
        "colab": {
          "base_uri": "https://localhost:8080/"
        },
        "id": "yKi3Se4kVoIT",
        "outputId": "3d1ea7a3-d497-4d2a-f08b-977f38df4c7a"
      },
      "execution_count": null,
      "outputs": [
        {
          "output_type": "stream",
          "name": "stdout",
          "text": [
            "313/313 [==============================] - 1s 2ms/step\n",
            "Epoch 1:\n"
          ]
        },
        {
          "output_type": "stream",
          "name": "stderr",
          "text": [
            "/usr/local/lib/python3.10/dist-packages/keras/src/backend.py:5575: UserWarning: \"`categorical_crossentropy` received `from_logits=True`, but the `output` argument was produced by a Softmax activation and thus does not represent logits. Was this intended?\n",
            "  output, from_logits = _get_logits(\n"
          ]
        },
        {
          "output_type": "stream",
          "name": "stdout",
          "text": [
            "938/938 [==============================] - 6s 5ms/step - categorical_crossentropy: 0.2090 - student_loss: 0.2087 - distillation_loss: 0.0054\n",
            "313/313 [==============================] - 1s 2ms/step\n",
            "313/313 [==============================] - 1s 3ms/step - loss: 0.0749 - accuracy: 0.9769\n",
            "Test Loss: 0.07488416135311127, Test Accuracy: 0.9768999814987183\n",
            "Epoch 2:\n",
            "938/938 [==============================] - 5s 5ms/step - categorical_crossentropy: 0.0696 - student_loss: 0.0695 - distillation_loss: 0.0018\n",
            "313/313 [==============================] - 1s 2ms/step\n",
            "313/313 [==============================] - 1s 3ms/step - loss: 0.0564 - accuracy: 0.9821\n",
            "Test Loss: 0.05644461140036583, Test Accuracy: 0.9821000099182129\n",
            "Epoch 3:\n",
            "938/938 [==============================] - 4s 4ms/step - categorical_crossentropy: 0.0509 - student_loss: 0.0508 - distillation_loss: 0.0014\n",
            "313/313 [==============================] - 1s 2ms/step\n",
            "313/313 [==============================] - 1s 4ms/step - loss: 0.0497 - accuracy: 0.9841\n",
            "Test Loss: 0.049728453159332275, Test Accuracy: 0.9840999841690063\n",
            "Epoch 4:\n",
            "938/938 [==============================] - 4s 4ms/step - categorical_crossentropy: 0.0406 - student_loss: 0.0406 - distillation_loss: 0.0011\n",
            "313/313 [==============================] - 1s 2ms/step\n",
            "313/313 [==============================] - 1s 3ms/step - loss: 0.0450 - accuracy: 0.9850\n",
            "Test Loss: 0.04503950849175453, Test Accuracy: 0.9850000143051147\n",
            "Epoch 5:\n",
            "938/938 [==============================] - 5s 5ms/step - categorical_crossentropy: 0.0337 - student_loss: 0.0336 - distillation_loss: 8.8998e-04\n",
            "313/313 [==============================] - 1s 2ms/step\n",
            "313/313 [==============================] - 1s 3ms/step - loss: 0.0404 - accuracy: 0.9870\n",
            "Test Loss: 0.04039209708571434, Test Accuracy: 0.9869999885559082\n",
            "Epoch 6:\n",
            "938/938 [==============================] - 4s 5ms/step - categorical_crossentropy: 0.0283 - student_loss: 0.0283 - distillation_loss: 7.4491e-04\n",
            "313/313 [==============================] - 1s 2ms/step\n",
            "313/313 [==============================] - 1s 3ms/step - loss: 0.0383 - accuracy: 0.9869\n",
            "Test Loss: 0.038291968405246735, Test Accuracy: 0.9868999719619751\n",
            "Epoch 7:\n",
            "938/938 [==============================] - 5s 5ms/step - categorical_crossentropy: 0.0241 - student_loss: 0.0240 - distillation_loss: 6.3077e-04\n",
            "313/313 [==============================] - 1s 2ms/step\n",
            "313/313 [==============================] - 1s 2ms/step - loss: 0.0365 - accuracy: 0.9880\n",
            "Test Loss: 0.03648250177502632, Test Accuracy: 0.9879999756813049\n",
            "Epoch 8:\n",
            "938/938 [==============================] - 4s 5ms/step - categorical_crossentropy: 0.0206 - student_loss: 0.0206 - distillation_loss: 5.4029e-04\n",
            "313/313 [==============================] - 1s 2ms/step\n",
            "313/313 [==============================] - 1s 3ms/step - loss: 0.0355 - accuracy: 0.9884\n",
            "Test Loss: 0.035454172641038895, Test Accuracy: 0.9883999824523926\n",
            "Epoch 9:\n",
            "938/938 [==============================] - 5s 5ms/step - categorical_crossentropy: 0.0177 - student_loss: 0.0177 - distillation_loss: 4.6165e-04\n",
            "313/313 [==============================] - 1s 2ms/step\n",
            "313/313 [==============================] - 1s 3ms/step - loss: 0.0344 - accuracy: 0.9890\n",
            "Test Loss: 0.03435523435473442, Test Accuracy: 0.9890000224113464\n",
            "Epoch 10:\n",
            "938/938 [==============================] - 4s 5ms/step - categorical_crossentropy: 0.0152 - student_loss: 0.0152 - distillation_loss: 3.9367e-04\n",
            "313/313 [==============================] - 1s 2ms/step\n",
            "313/313 [==============================] - 1s 3ms/step - loss: 0.0342 - accuracy: 0.9889\n",
            "Test Loss: 0.03420323133468628, Test Accuracy: 0.9889000058174133\n",
            "Epoch 11:\n",
            "938/938 [==============================] - 4s 5ms/step - categorical_crossentropy: 0.0131 - student_loss: 0.0131 - distillation_loss: 3.3948e-04\n",
            "313/313 [==============================] - 1s 2ms/step\n",
            "313/313 [==============================] - 1s 3ms/step - loss: 0.0336 - accuracy: 0.9897\n",
            "Test Loss: 0.033600807189941406, Test Accuracy: 0.9897000193595886\n",
            "Epoch 12:\n",
            "938/938 [==============================] - 5s 5ms/step - categorical_crossentropy: 0.0114 - student_loss: 0.0114 - distillation_loss: 2.9467e-04\n",
            "313/313 [==============================] - 1s 2ms/step\n",
            "313/313 [==============================] - 1s 3ms/step - loss: 0.0333 - accuracy: 0.9898\n",
            "Test Loss: 0.033306751400232315, Test Accuracy: 0.989799976348877\n",
            "Epoch 13:\n",
            "938/938 [==============================] - 4s 5ms/step - categorical_crossentropy: 0.0098 - student_loss: 0.0097 - distillation_loss: 2.5008e-04\n",
            "313/313 [==============================] - 1s 2ms/step\n",
            "313/313 [==============================] - 1s 3ms/step - loss: 0.0325 - accuracy: 0.9902\n",
            "Test Loss: 0.03252328187227249, Test Accuracy: 0.9901999831199646\n",
            "Epoch 14:\n",
            "938/938 [==============================] - 5s 5ms/step - categorical_crossentropy: 0.0084 - student_loss: 0.0083 - distillation_loss: 2.1487e-04\n",
            "313/313 [==============================] - 1s 2ms/step\n",
            "313/313 [==============================] - 1s 3ms/step - loss: 0.0318 - accuracy: 0.9903\n",
            "Test Loss: 0.03178943693637848, Test Accuracy: 0.9902999997138977\n",
            "Epoch 15:\n",
            "938/938 [==============================] - 4s 4ms/step - categorical_crossentropy: 0.0070 - student_loss: 0.0070 - distillation_loss: 1.8237e-04\n",
            "313/313 [==============================] - 1s 2ms/step\n",
            "313/313 [==============================] - 1s 3ms/step - loss: 0.0308 - accuracy: 0.9912\n",
            "Test Loss: 0.03077729232609272, Test Accuracy: 0.9911999702453613\n",
            "Epoch 16:\n",
            "938/938 [==============================] - 4s 5ms/step - categorical_crossentropy: 0.0058 - student_loss: 0.0058 - distillation_loss: 1.5307e-04\n",
            "313/313 [==============================] - 1s 2ms/step\n",
            "313/313 [==============================] - 1s 3ms/step - loss: 0.0311 - accuracy: 0.9913\n",
            "Test Loss: 0.03107779286801815, Test Accuracy: 0.9912999868392944\n",
            "Epoch 17:\n",
            "938/938 [==============================] - 5s 5ms/step - categorical_crossentropy: 0.0049 - student_loss: 0.0049 - distillation_loss: 1.3587e-04\n",
            "313/313 [==============================] - 1s 2ms/step\n",
            "313/313 [==============================] - 1s 3ms/step - loss: 0.0322 - accuracy: 0.9911\n",
            "Test Loss: 0.032229628413915634, Test Accuracy: 0.991100013256073\n",
            "Epoch 18:\n",
            "938/938 [==============================] - 4s 5ms/step - categorical_crossentropy: 0.0042 - student_loss: 0.0042 - distillation_loss: 1.2088e-04\n",
            "313/313 [==============================] - 1s 2ms/step\n",
            "313/313 [==============================] - 1s 3ms/step - loss: 0.0337 - accuracy: 0.9909\n",
            "Test Loss: 0.03374249488115311, Test Accuracy: 0.9908999800682068\n",
            "Epoch 19:\n",
            "938/938 [==============================] - 5s 5ms/step - categorical_crossentropy: 0.0035 - student_loss: 0.0035 - distillation_loss: 1.0946e-04\n",
            "313/313 [==============================] - 1s 2ms/step\n",
            "313/313 [==============================] - 1s 3ms/step - loss: 0.0353 - accuracy: 0.9911\n",
            "Test Loss: 0.03532761335372925, Test Accuracy: 0.991100013256073\n",
            "Epoch 20:\n",
            "938/938 [==============================] - 4s 5ms/step - categorical_crossentropy: 0.0031 - student_loss: 0.0031 - distillation_loss: 1.0378e-04\n",
            "313/313 [==============================] - 1s 2ms/step\n",
            "313/313 [==============================] - 1s 3ms/step - loss: 0.0367 - accuracy: 0.9904\n",
            "Test Loss: 0.036717019975185394, Test Accuracy: 0.9904000163078308\n",
            "Epoch 21:\n",
            "938/938 [==============================] - 4s 5ms/step - categorical_crossentropy: 0.0027 - student_loss: 0.0027 - distillation_loss: 9.5241e-05\n",
            "313/313 [==============================] - 1s 2ms/step\n",
            "313/313 [==============================] - 1s 3ms/step - loss: 0.0379 - accuracy: 0.9905\n",
            "Test Loss: 0.03789530321955681, Test Accuracy: 0.9904999732971191\n",
            "Epoch 22:\n",
            "938/938 [==============================] - 5s 6ms/step - categorical_crossentropy: 0.0021 - student_loss: 0.0021 - distillation_loss: 8.5328e-05\n",
            "313/313 [==============================] - 1s 2ms/step\n",
            "313/313 [==============================] - 1s 3ms/step - loss: 0.0419 - accuracy: 0.9896\n",
            "Test Loss: 0.04193054884672165, Test Accuracy: 0.9896000027656555\n",
            "Epoch 23:\n",
            "938/938 [==============================] - 5s 5ms/step - categorical_crossentropy: 0.0020 - student_loss: 0.0020 - distillation_loss: 8.5220e-05\n",
            "313/313 [==============================] - 1s 2ms/step\n",
            "313/313 [==============================] - 1s 3ms/step - loss: 0.0428 - accuracy: 0.9902\n",
            "Test Loss: 0.0427526980638504, Test Accuracy: 0.9901999831199646\n",
            "Epoch 24:\n",
            "938/938 [==============================] - 5s 5ms/step - categorical_crossentropy: 0.0015 - student_loss: 0.0015 - distillation_loss: 7.1592e-05\n",
            "313/313 [==============================] - 1s 2ms/step\n",
            "313/313 [==============================] - 1s 3ms/step - loss: 0.0430 - accuracy: 0.9903\n",
            "Test Loss: 0.04298032820224762, Test Accuracy: 0.9902999997138977\n",
            "Epoch 25:\n",
            "938/938 [==============================] - 4s 5ms/step - categorical_crossentropy: 0.0015 - student_loss: 0.0015 - distillation_loss: 7.2388e-05\n",
            "313/313 [==============================] - 1s 2ms/step\n",
            "313/313 [==============================] - 1s 4ms/step - loss: 0.0444 - accuracy: 0.9898\n",
            "Test Loss: 0.04440735653042793, Test Accuracy: 0.989799976348877\n"
          ]
        }
      ]
    },
    {
      "cell_type": "code",
      "source": [
        "del (student)\n",
        "gc.collect()\n",
        "keras.backend.clear_session()"
      ],
      "metadata": {
        "id": "VFEgkn-4V38i"
      },
      "execution_count": null,
      "outputs": []
    },
    {
      "cell_type": "markdown",
      "source": [
        "# Student same Alpha 0.9"
      ],
      "metadata": {
        "id": "gMgWdqc_Vyr4"
      }
    },
    {
      "cell_type": "code",
      "source": [
        "model_path = '/content/base/LeNetMNIST_init.tf'\n",
        "student = load_model(model_path)\n",
        "student_scratch = tf.keras.models.clone_model(student)\n",
        "\n",
        "distiller = Distiller(student=student, teacher=techer_model)\n",
        "distiller.compile(\n",
        "    optimizer=tf.keras.optimizers.Adamax(learning_rate=0.001),\n",
        "    metrics=[tf.keras.metrics.CategoricalCrossentropy()],\n",
        "    student_loss_fn=tf.keras.losses.CategoricalCrossentropy(from_logits=True),\n",
        "    distillation_loss_fn=tf.keras.losses.KLDivergence(),\n",
        "    alpha=0.5,\n",
        "    temperature=3,\n",
        ")\n",
        "\n",
        "filepath = '/content/student_same_90/'\n",
        "init_weights = filepath + model_name + dataset + '_init_weights.tf'\n",
        "init_model = filepath + model_name + dataset + '_init.tf'\n",
        "final_weights = filepath + model_name + dataset + '_final_weights.tf'\n",
        "final_model= filepath + model_name + dataset + 'final.tf'\n",
        "\n",
        "!mkdir '/content/student_same_90/'"
      ],
      "metadata": {
        "id": "ispYXVKaV46U"
      },
      "execution_count": null,
      "outputs": []
    },
    {
      "cell_type": "code",
      "source": [
        "train_custom(distiller, x_train,y_train,x_test,y_test)"
      ],
      "metadata": {
        "colab": {
          "base_uri": "https://localhost:8080/"
        },
        "id": "lCOpusp6WA5k",
        "outputId": "8630ebae-09f9-41d8-b289-8f71864f9447"
      },
      "execution_count": null,
      "outputs": [
        {
          "output_type": "stream",
          "name": "stdout",
          "text": [
            "313/313 [==============================] - 1s 2ms/step\n",
            "Epoch 1:\n"
          ]
        },
        {
          "output_type": "stream",
          "name": "stderr",
          "text": [
            "/usr/local/lib/python3.10/dist-packages/keras/src/backend.py:5575: UserWarning: \"`categorical_crossentropy` received `from_logits=True`, but the `output` argument was produced by a Softmax activation and thus does not represent logits. Was this intended?\n",
            "  output, from_logits = _get_logits(\n"
          ]
        },
        {
          "output_type": "stream",
          "name": "stdout",
          "text": [
            "938/938 [==============================] - 5s 4ms/step - categorical_crossentropy: 0.2087 - student_loss: 0.2084 - distillation_loss: 0.0054\n",
            "313/313 [==============================] - 1s 2ms/step\n",
            "313/313 [==============================] - 1s 4ms/step - loss: 0.0750 - accuracy: 0.9770\n",
            "Test Loss: 0.07502587139606476, Test Accuracy: 0.9769999980926514\n",
            "Epoch 2:\n",
            "938/938 [==============================] - 4s 5ms/step - categorical_crossentropy: 0.0696 - student_loss: 0.0695 - distillation_loss: 0.0018\n",
            "313/313 [==============================] - 1s 2ms/step\n",
            "313/313 [==============================] - 1s 2ms/step - loss: 0.0547 - accuracy: 0.9826\n",
            "Test Loss: 0.05474058911204338, Test Accuracy: 0.9825999736785889\n",
            "Epoch 3:\n",
            "938/938 [==============================] - 4s 4ms/step - categorical_crossentropy: 0.0508 - student_loss: 0.0508 - distillation_loss: 0.0014\n",
            "313/313 [==============================] - 1s 2ms/step\n",
            "313/313 [==============================] - 1s 3ms/step - loss: 0.0476 - accuracy: 0.9842\n",
            "Test Loss: 0.047644395381212234, Test Accuracy: 0.9842000007629395\n",
            "Epoch 4:\n",
            "938/938 [==============================] - 4s 4ms/step - categorical_crossentropy: 0.0408 - student_loss: 0.0407 - distillation_loss: 0.0011\n",
            "313/313 [==============================] - 1s 2ms/step\n",
            "313/313 [==============================] - 1s 3ms/step - loss: 0.0434 - accuracy: 0.9862\n",
            "Test Loss: 0.04341650381684303, Test Accuracy: 0.9861999750137329\n",
            "Epoch 5:\n",
            "938/938 [==============================] - 5s 5ms/step - categorical_crossentropy: 0.0338 - student_loss: 0.0338 - distillation_loss: 8.9363e-04\n",
            "313/313 [==============================] - 1s 2ms/step\n",
            "313/313 [==============================] - 1s 3ms/step - loss: 0.0408 - accuracy: 0.9863\n",
            "Test Loss: 0.04079493507742882, Test Accuracy: 0.986299991607666\n",
            "Epoch 6:\n",
            "938/938 [==============================] - 4s 5ms/step - categorical_crossentropy: 0.0286 - student_loss: 0.0286 - distillation_loss: 7.5360e-04\n",
            "313/313 [==============================] - 1s 2ms/step\n",
            "313/313 [==============================] - 2s 5ms/step - loss: 0.0375 - accuracy: 0.9878\n",
            "Test Loss: 0.037476472556591034, Test Accuracy: 0.9878000020980835\n",
            "Epoch 7:\n",
            "938/938 [==============================] - 6s 6ms/step - categorical_crossentropy: 0.0244 - student_loss: 0.0244 - distillation_loss: 6.4012e-04\n",
            "313/313 [==============================] - 1s 2ms/step\n",
            "313/313 [==============================] - 1s 3ms/step - loss: 0.0355 - accuracy: 0.9883\n",
            "Test Loss: 0.03554585576057434, Test Accuracy: 0.9883000254631042\n",
            "Epoch 8:\n",
            "938/938 [==============================] - 5s 5ms/step - categorical_crossentropy: 0.0208 - student_loss: 0.0208 - distillation_loss: 5.4435e-04\n",
            "313/313 [==============================] - 1s 2ms/step\n",
            "313/313 [==============================] - 1s 3ms/step - loss: 0.0342 - accuracy: 0.9888\n",
            "Test Loss: 0.034172993153333664, Test Accuracy: 0.9887999892234802\n",
            "Epoch 9:\n",
            "938/938 [==============================] - 4s 5ms/step - categorical_crossentropy: 0.0179 - student_loss: 0.0179 - distillation_loss: 4.6860e-04\n",
            "313/313 [==============================] - 1s 2ms/step\n",
            "313/313 [==============================] - 1s 4ms/step - loss: 0.0338 - accuracy: 0.9894\n",
            "Test Loss: 0.03378065675497055, Test Accuracy: 0.9894000291824341\n",
            "Epoch 10:\n",
            "938/938 [==============================] - 4s 5ms/step - categorical_crossentropy: 0.0154 - student_loss: 0.0154 - distillation_loss: 4.0100e-04\n",
            "313/313 [==============================] - 1s 2ms/step\n",
            "313/313 [==============================] - 1s 3ms/step - loss: 0.0333 - accuracy: 0.9897\n",
            "Test Loss: 0.03333618491888046, Test Accuracy: 0.9897000193595886\n",
            "Epoch 11:\n",
            "938/938 [==============================] - 5s 5ms/step - categorical_crossentropy: 0.0132 - student_loss: 0.0132 - distillation_loss: 3.4166e-04\n",
            "313/313 [==============================] - 1s 2ms/step\n",
            "313/313 [==============================] - 1s 3ms/step - loss: 0.0333 - accuracy: 0.9899\n",
            "Test Loss: 0.033250514417886734, Test Accuracy: 0.9898999929428101\n",
            "Epoch 12:\n",
            "938/938 [==============================] - 4s 4ms/step - categorical_crossentropy: 0.0114 - student_loss: 0.0114 - distillation_loss: 2.9422e-04\n",
            "313/313 [==============================] - 1s 2ms/step\n",
            "313/313 [==============================] - 1s 2ms/step - loss: 0.0329 - accuracy: 0.9902\n",
            "Test Loss: 0.03291836753487587, Test Accuracy: 0.9901999831199646\n",
            "Epoch 13:\n",
            "938/938 [==============================] - 5s 6ms/step - categorical_crossentropy: 0.0098 - student_loss: 0.0098 - distillation_loss: 2.5191e-04\n",
            "313/313 [==============================] - 1s 2ms/step\n",
            "313/313 [==============================] - 1s 3ms/step - loss: 0.0325 - accuracy: 0.9904\n",
            "Test Loss: 0.03249417245388031, Test Accuracy: 0.9904000163078308\n",
            "Epoch 14:\n",
            "938/938 [==============================] - 5s 5ms/step - categorical_crossentropy: 0.0083 - student_loss: 0.0083 - distillation_loss: 2.1547e-04\n",
            "313/313 [==============================] - 1s 2ms/step\n",
            "313/313 [==============================] - 1s 2ms/step - loss: 0.0313 - accuracy: 0.9911\n",
            "Test Loss: 0.03125135973095894, Test Accuracy: 0.991100013256073\n",
            "Epoch 15:\n",
            "938/938 [==============================] - 4s 5ms/step - categorical_crossentropy: 0.0069 - student_loss: 0.0069 - distillation_loss: 1.8071e-04\n",
            "313/313 [==============================] - 1s 2ms/step\n",
            "313/313 [==============================] - 1s 4ms/step - loss: 0.0308 - accuracy: 0.9914\n",
            "Test Loss: 0.030779682099819183, Test Accuracy: 0.9914000034332275\n",
            "Epoch 16:\n",
            "938/938 [==============================] - 4s 5ms/step - categorical_crossentropy: 0.0057 - student_loss: 0.0057 - distillation_loss: 1.5319e-04\n",
            "313/313 [==============================] - 1s 2ms/step\n",
            "313/313 [==============================] - 1s 3ms/step - loss: 0.0313 - accuracy: 0.9918\n",
            "Test Loss: 0.03133546933531761, Test Accuracy: 0.9918000102043152\n",
            "Epoch 17:\n",
            "938/938 [==============================] - 5s 5ms/step - categorical_crossentropy: 0.0047 - student_loss: 0.0047 - distillation_loss: 1.3103e-04\n",
            "313/313 [==============================] - 1s 3ms/step\n",
            "313/313 [==============================] - 1s 3ms/step - loss: 0.0325 - accuracy: 0.9909\n",
            "Test Loss: 0.03254815191030502, Test Accuracy: 0.9908999800682068\n",
            "Epoch 18:\n",
            "938/938 [==============================] - 4s 5ms/step - categorical_crossentropy: 0.0039 - student_loss: 0.0039 - distillation_loss: 1.1530e-04\n",
            "313/313 [==============================] - 1s 2ms/step\n",
            "313/313 [==============================] - 1s 3ms/step - loss: 0.0331 - accuracy: 0.9916\n",
            "Test Loss: 0.0331169068813324, Test Accuracy: 0.991599977016449\n",
            "Epoch 19:\n",
            "938/938 [==============================] - 5s 6ms/step - categorical_crossentropy: 0.0035 - student_loss: 0.0035 - distillation_loss: 1.1093e-04\n",
            "313/313 [==============================] - 1s 2ms/step\n",
            "313/313 [==============================] - 1s 3ms/step - loss: 0.0377 - accuracy: 0.9900\n",
            "Test Loss: 0.03766089305281639, Test Accuracy: 0.9900000095367432\n",
            "Epoch 20:\n",
            "938/938 [==============================] - 5s 5ms/step - categorical_crossentropy: 0.0030 - student_loss: 0.0030 - distillation_loss: 1.0505e-04\n",
            "313/313 [==============================] - 1s 2ms/step\n",
            "313/313 [==============================] - 1s 3ms/step - loss: 0.0389 - accuracy: 0.9898\n",
            "Test Loss: 0.038914356380701065, Test Accuracy: 0.989799976348877\n",
            "Epoch 21:\n",
            "938/938 [==============================] - 5s 5ms/step - categorical_crossentropy: 0.0027 - student_loss: 0.0027 - distillation_loss: 1.0173e-04\n",
            "313/313 [==============================] - 1s 2ms/step\n",
            "313/313 [==============================] - 1s 3ms/step - loss: 0.0413 - accuracy: 0.9896\n",
            "Test Loss: 0.04125690832734108, Test Accuracy: 0.9896000027656555\n",
            "Epoch 22:\n",
            "938/938 [==============================] - 6s 6ms/step - categorical_crossentropy: 0.0021 - student_loss: 0.0021 - distillation_loss: 8.5328e-05\n",
            "313/313 [==============================] - 1s 2ms/step\n",
            "313/313 [==============================] - 1s 3ms/step - loss: 0.0430 - accuracy: 0.9900\n",
            "Test Loss: 0.043011900037527084, Test Accuracy: 0.9900000095367432\n",
            "Epoch 23:\n",
            "938/938 [==============================] - 4s 5ms/step - categorical_crossentropy: 0.0018 - student_loss: 0.0018 - distillation_loss: 7.5069e-05\n",
            "313/313 [==============================] - 1s 2ms/step\n",
            "313/313 [==============================] - 1s 3ms/step - loss: 0.0425 - accuracy: 0.9895\n",
            "Test Loss: 0.042532481253147125, Test Accuracy: 0.9894999861717224\n",
            "Epoch 24:\n",
            "938/938 [==============================] - 5s 5ms/step - categorical_crossentropy: 0.0016 - student_loss: 0.0016 - distillation_loss: 7.5904e-05\n",
            "313/313 [==============================] - 1s 2ms/step\n",
            "313/313 [==============================] - 1s 3ms/step - loss: 0.0476 - accuracy: 0.9887\n",
            "Test Loss: 0.04761875048279762, Test Accuracy: 0.9886999726295471\n",
            "Epoch 25:\n",
            "938/938 [==============================] - 4s 5ms/step - categorical_crossentropy: 0.0016 - student_loss: 0.0016 - distillation_loss: 7.2822e-05\n",
            "313/313 [==============================] - 1s 2ms/step\n",
            "313/313 [==============================] - 1s 3ms/step - loss: 0.0423 - accuracy: 0.9899\n",
            "Test Loss: 0.04232220724225044, Test Accuracy: 0.9898999929428101\n"
          ]
        }
      ]
    },
    {
      "cell_type": "code",
      "source": [
        "del (student)\n",
        "gc.collect()\n",
        "keras.backend.clear_session()"
      ],
      "metadata": {
        "id": "XYgkhmXlWC0H"
      },
      "execution_count": null,
      "outputs": []
    },
    {
      "cell_type": "markdown",
      "source": [
        "---"
      ],
      "metadata": {
        "id": "6dvNBKhsWLqR"
      }
    },
    {
      "cell_type": "markdown",
      "source": [
        "# Download Distill Data"
      ],
      "metadata": {
        "id": "zICDaDog2MSQ"
      }
    },
    {
      "cell_type": "code",
      "source": [
        "shutil.make_archive(\"student_same\", 'zip', \"student_same\")\n",
        "files.download(\"student_same.zip\")"
      ],
      "metadata": {
        "colab": {
          "base_uri": "https://localhost:8080/",
          "height": 17
        },
        "id": "Nr0X0Tyi29wn",
        "outputId": "99d66330-c1f1-41a7-e363-b28de6ec2b0f"
      },
      "execution_count": null,
      "outputs": [
        {
          "output_type": "display_data",
          "data": {
            "text/plain": [
              "<IPython.core.display.Javascript object>"
            ],
            "application/javascript": [
              "\n",
              "    async function download(id, filename, size) {\n",
              "      if (!google.colab.kernel.accessAllowed) {\n",
              "        return;\n",
              "      }\n",
              "      const div = document.createElement('div');\n",
              "      const label = document.createElement('label');\n",
              "      label.textContent = `Downloading \"${filename}\": `;\n",
              "      div.appendChild(label);\n",
              "      const progress = document.createElement('progress');\n",
              "      progress.max = size;\n",
              "      div.appendChild(progress);\n",
              "      document.body.appendChild(div);\n",
              "\n",
              "      const buffers = [];\n",
              "      let downloaded = 0;\n",
              "\n",
              "      const channel = await google.colab.kernel.comms.open(id);\n",
              "      // Send a message to notify the kernel that we're ready.\n",
              "      channel.send({})\n",
              "\n",
              "      for await (const message of channel.messages) {\n",
              "        // Send a message to notify the kernel that we're ready.\n",
              "        channel.send({})\n",
              "        if (message.buffers) {\n",
              "          for (const buffer of message.buffers) {\n",
              "            buffers.push(buffer);\n",
              "            downloaded += buffer.byteLength;\n",
              "            progress.value = downloaded;\n",
              "          }\n",
              "        }\n",
              "      }\n",
              "      const blob = new Blob(buffers, {type: 'application/binary'});\n",
              "      const a = document.createElement('a');\n",
              "      a.href = window.URL.createObjectURL(blob);\n",
              "      a.download = filename;\n",
              "      div.appendChild(a);\n",
              "      a.click();\n",
              "      div.remove();\n",
              "    }\n",
              "  "
            ]
          },
          "metadata": {}
        },
        {
          "output_type": "display_data",
          "data": {
            "text/plain": [
              "<IPython.core.display.Javascript object>"
            ],
            "application/javascript": [
              "download(\"download_3696cb1b-2f71-4069-ad90-ee6509d03a87\", \"student_same.zip\", 17260086)"
            ]
          },
          "metadata": {}
        }
      ]
    },
    {
      "cell_type": "code",
      "source": [
        "shutil.make_archive(\"student_same_50\", 'zip', \"student_same_50\")\n",
        "files.download(\"student_same_50.zip\")"
      ],
      "metadata": {
        "colab": {
          "base_uri": "https://localhost:8080/",
          "height": 17
        },
        "id": "1xO74JYY3Etr",
        "outputId": "bb495662-b2ad-4c17-b1f1-760eb473f8ae"
      },
      "execution_count": null,
      "outputs": [
        {
          "output_type": "display_data",
          "data": {
            "text/plain": [
              "<IPython.core.display.Javascript object>"
            ],
            "application/javascript": [
              "\n",
              "    async function download(id, filename, size) {\n",
              "      if (!google.colab.kernel.accessAllowed) {\n",
              "        return;\n",
              "      }\n",
              "      const div = document.createElement('div');\n",
              "      const label = document.createElement('label');\n",
              "      label.textContent = `Downloading \"${filename}\": `;\n",
              "      div.appendChild(label);\n",
              "      const progress = document.createElement('progress');\n",
              "      progress.max = size;\n",
              "      div.appendChild(progress);\n",
              "      document.body.appendChild(div);\n",
              "\n",
              "      const buffers = [];\n",
              "      let downloaded = 0;\n",
              "\n",
              "      const channel = await google.colab.kernel.comms.open(id);\n",
              "      // Send a message to notify the kernel that we're ready.\n",
              "      channel.send({})\n",
              "\n",
              "      for await (const message of channel.messages) {\n",
              "        // Send a message to notify the kernel that we're ready.\n",
              "        channel.send({})\n",
              "        if (message.buffers) {\n",
              "          for (const buffer of message.buffers) {\n",
              "            buffers.push(buffer);\n",
              "            downloaded += buffer.byteLength;\n",
              "            progress.value = downloaded;\n",
              "          }\n",
              "        }\n",
              "      }\n",
              "      const blob = new Blob(buffers, {type: 'application/binary'});\n",
              "      const a = document.createElement('a');\n",
              "      a.href = window.URL.createObjectURL(blob);\n",
              "      a.download = filename;\n",
              "      div.appendChild(a);\n",
              "      a.click();\n",
              "      div.remove();\n",
              "    }\n",
              "  "
            ]
          },
          "metadata": {}
        },
        {
          "output_type": "display_data",
          "data": {
            "text/plain": [
              "<IPython.core.display.Javascript object>"
            ],
            "application/javascript": [
              "download(\"download_375c1eb4-b5ff-45f4-a1e2-3e0e77f777d0\", \"student_same_50.zip\", 17265459)"
            ]
          },
          "metadata": {}
        }
      ]
    },
    {
      "cell_type": "code",
      "source": [
        "shutil.make_archive(\"student_same_90\", 'zip', \"student_same_90\")\n",
        "files.download(\"student_same_90.zip\")"
      ],
      "metadata": {
        "colab": {
          "base_uri": "https://localhost:8080/",
          "height": 17
        },
        "id": "sSJkyuJP3LjW",
        "outputId": "2cbea5fa-12f4-47a8-c814-2575445ab181"
      },
      "execution_count": null,
      "outputs": [
        {
          "output_type": "display_data",
          "data": {
            "text/plain": [
              "<IPython.core.display.Javascript object>"
            ],
            "application/javascript": [
              "\n",
              "    async function download(id, filename, size) {\n",
              "      if (!google.colab.kernel.accessAllowed) {\n",
              "        return;\n",
              "      }\n",
              "      const div = document.createElement('div');\n",
              "      const label = document.createElement('label');\n",
              "      label.textContent = `Downloading \"${filename}\": `;\n",
              "      div.appendChild(label);\n",
              "      const progress = document.createElement('progress');\n",
              "      progress.max = size;\n",
              "      div.appendChild(progress);\n",
              "      document.body.appendChild(div);\n",
              "\n",
              "      const buffers = [];\n",
              "      let downloaded = 0;\n",
              "\n",
              "      const channel = await google.colab.kernel.comms.open(id);\n",
              "      // Send a message to notify the kernel that we're ready.\n",
              "      channel.send({})\n",
              "\n",
              "      for await (const message of channel.messages) {\n",
              "        // Send a message to notify the kernel that we're ready.\n",
              "        channel.send({})\n",
              "        if (message.buffers) {\n",
              "          for (const buffer of message.buffers) {\n",
              "            buffers.push(buffer);\n",
              "            downloaded += buffer.byteLength;\n",
              "            progress.value = downloaded;\n",
              "          }\n",
              "        }\n",
              "      }\n",
              "      const blob = new Blob(buffers, {type: 'application/binary'});\n",
              "      const a = document.createElement('a');\n",
              "      a.href = window.URL.createObjectURL(blob);\n",
              "      a.download = filename;\n",
              "      div.appendChild(a);\n",
              "      a.click();\n",
              "      div.remove();\n",
              "    }\n",
              "  "
            ]
          },
          "metadata": {}
        },
        {
          "output_type": "display_data",
          "data": {
            "text/plain": [
              "<IPython.core.display.Javascript object>"
            ],
            "application/javascript": [
              "download(\"download_ac640841-ecf1-4b2f-ac28-d713665833ce\", \"student_same_90.zip\", 17262714)"
            ]
          },
          "metadata": {}
        }
      ]
    },
    {
      "cell_type": "markdown",
      "source": [
        "---\n",
        "\n",
        "# Qunatisation\n",
        "\n",
        "https://github.com/sonalimedani/TF_Quantization/blob/master/quantization.ipynb\n",
        "\n",
        "https://medium.com/@sonalimedani/post-training-quantization-with-tensorflow-lite-on-a-keras-model-f373068966c4"
      ],
      "metadata": {
        "id": "ZCQ1ucn3X8lA"
      }
    },
    {
      "cell_type": "markdown",
      "source": [
        "**Default**: 8 Bit"
      ],
      "metadata": {
        "id": "X69D_tTXecfn"
      }
    },
    {
      "cell_type": "code",
      "source": [
        "path = '/content/base/LeNetMNIST_final.tf'\n",
        "model = tf.keras.models.load_model(path)\n",
        "model.evaluate(x_test,y_test)"
      ],
      "metadata": {
        "id": "h-3BCaalLyoM",
        "colab": {
          "base_uri": "https://localhost:8080/"
        },
        "outputId": "49c1d2e4-036d-4462-9d25-f715b9bd5ad0"
      },
      "execution_count": null,
      "outputs": [
        {
          "output_type": "stream",
          "name": "stdout",
          "text": [
            "313/313 [==============================] - 1s 3ms/step - loss: 0.0454 - accuracy: 0.9916\n"
          ]
        },
        {
          "output_type": "execute_result",
          "data": {
            "text/plain": [
              "[0.04537806659936905, 0.991599977016449]"
            ]
          },
          "metadata": {},
          "execution_count": 52
        }
      ]
    },
    {
      "cell_type": "code",
      "source": [
        "filepath = '/content/quantised_8_bit/'\n",
        "!mkdir '/content/quantised_8_bit/'"
      ],
      "metadata": {
        "id": "NeW5pwbUZaPE"
      },
      "execution_count": null,
      "outputs": []
    },
    {
      "cell_type": "code",
      "source": [
        "converter = tf.lite.TFLiteConverter.from_keras_model(model)\n",
        "converter.optimizations = [tf.lite.Optimize.DEFAULT]\n",
        "tflite_quant_model = converter.convert()\n",
        "#saving converted model in \"converted_quant_model.tflite\" file\n",
        "open(filepath+\"8_bit.tflite\", \"wb\").write(tflite_quant_model)"
      ],
      "metadata": {
        "colab": {
          "base_uri": "https://localhost:8080/"
        },
        "id": "HAJQfzGfKjCT",
        "outputId": "ed135af3-d728-4b25-d70d-5bd4a37b41b9"
      },
      "execution_count": null,
      "outputs": [
        {
          "output_type": "execute_result",
          "data": {
            "text/plain": [
              "230912"
            ]
          },
          "metadata": {},
          "execution_count": 54
        }
      ]
    },
    {
      "cell_type": "code",
      "source": [
        "import os\n",
        "print(\"Float model in Mb:\", os.path.getsize(filepath+\"8_bit.tflite\") / float(2**20))\n",
        "print(\"Quantized model in Mb:\", os.path.getsize(filepath+\"8_bit.tflite\") / float(2**20))\n",
        "print(\"Compression ratio:\", os.path.getsize(filepath+\"8_bit.tflite\")/os.path.getsize(path))"
      ],
      "metadata": {
        "colab": {
          "base_uri": "https://localhost:8080/"
        },
        "id": "4Il7AvI1ZvPy",
        "outputId": "5c864773-7615-4949-c6fb-256378c5407f"
      },
      "execution_count": null,
      "outputs": [
        {
          "output_type": "stream",
          "name": "stdout",
          "text": [
            "Float model in Mb: 0.22021484375\n",
            "Quantized model in Mb: 0.22021484375\n",
            "Compression ratio: 56.375\n"
          ]
        }
      ]
    },
    {
      "cell_type": "code",
      "source": [
        "interpreter = tf.lite.Interpreter(model_path=(filepath+\"8_bit.tflite\"))\n",
        "interpreter.allocate_tensors()\n",
        "# Get input and output tensors.\n",
        "input_details = interpreter.get_input_details()\n",
        "output_details = interpreter.get_output_details()\n",
        "# Test model on some input data.\n",
        "input_shape = input_details[0]['shape']\n",
        "acc=0\n",
        "results_default = pd.DataFrame()\n",
        "for i in range(len(x_test)):\n",
        "    input_data = x_test[i].reshape(input_shape)\n",
        "    interpreter.set_tensor(input_details[0]['index'], input_data)\n",
        "    interpreter.invoke()\n",
        "    output_data = interpreter.get_tensor(output_details[0]['index'])\n",
        "    row = pd.DataFrame(output_data)\n",
        "    results_default = pd.concat([results_default, row], ignore_index=True)\n",
        "    if(np.argmax(output_data) == np.argmax(y_test[i])):\n",
        "        acc+=1\n",
        "acc = acc/len(x_test)\n",
        "print(acc*100)"
      ],
      "metadata": {
        "colab": {
          "base_uri": "https://localhost:8080/"
        },
        "id": "4szzB8pWZ78D",
        "outputId": "9c7fbad1-1875-460e-e153-ef7e7cfab90a"
      },
      "execution_count": null,
      "outputs": [
        {
          "output_type": "stream",
          "name": "stdout",
          "text": [
            "99.18\n"
          ]
        }
      ]
    },
    {
      "cell_type": "code",
      "source": [
        "results_default"
      ],
      "metadata": {
        "colab": {
          "base_uri": "https://localhost:8080/",
          "height": 617
        },
        "id": "YpLAOjXtzwJd",
        "outputId": "73dada21-05b8-43fc-d3bc-3ddf62550eee"
      },
      "execution_count": null,
      "outputs": [
        {
          "output_type": "execute_result",
          "data": {
            "text/plain": [
              "                 0             1             2             3             4  \\\n",
              "0     1.177629e-19  1.461635e-20  5.603971e-17  9.389258e-16  1.315932e-19   \n",
              "1     1.749664e-18  1.458822e-21  1.000000e+00  4.565912e-25  4.101402e-27   \n",
              "2     5.831785e-18  1.000000e+00  2.675095e-17  3.456411e-22  1.270661e-10   \n",
              "3     1.000000e+00  2.613684e-25  2.115442e-22  2.566134e-18  2.020771e-24   \n",
              "4     8.178968e-18  7.137039e-17  3.638298e-16  1.673180e-23  9.999937e-01   \n",
              "...            ...           ...           ...           ...           ...   \n",
              "9995  4.070052e-23  5.753127e-13  1.000000e+00  4.482278e-19  2.699927e-23   \n",
              "9996  4.319460e-31  3.846011e-18  8.823528e-22  1.000000e+00  1.133233e-25   \n",
              "9997  1.606666e-33  1.111614e-20  5.366531e-26  1.035240e-31  1.000000e+00   \n",
              "9998  6.764088e-25  5.856127e-26  8.921367e-31  1.183587e-20  1.687457e-32   \n",
              "9999  3.900307e-19  1.619859e-20  2.403065e-19  4.180731e-20  2.165545e-20   \n",
              "\n",
              "                 5             6             7             8             9  \n",
              "0     4.092707e-22  2.931911e-27  1.000000e+00  1.169599e-18  1.184309e-14  \n",
              "1     0.000000e+00  2.972112e-20  2.367044e-28  2.212697e-23  4.530275e-33  \n",
              "2     2.398584e-14  1.321247e-15  1.255180e-13  7.771570e-15  3.255722e-19  \n",
              "3     5.159869e-15  1.544984e-09  2.171396e-14  2.548142e-21  4.397766e-18  \n",
              "4     8.187830e-19  4.630382e-16  6.117955e-21  5.829082e-17  6.365745e-06  \n",
              "...            ...           ...           ...           ...           ...  \n",
              "9995  3.907887e-34  2.291808e-24  3.073104e-15  6.166666e-19  1.575542e-26  \n",
              "9996  4.138565e-15  6.690279e-34  1.163051e-23  8.122469e-24  2.371891e-19  \n",
              "9997  3.095992e-22  1.388680e-23  3.930089e-26  6.708530e-18  3.236684e-22  \n",
              "9998  1.000000e+00  9.694434e-17  1.347924e-29  1.065943e-12  6.736749e-30  \n",
              "9999  1.417486e-14  1.000000e+00  6.950294e-33  1.696094e-15  4.035273e-28  \n",
              "\n",
              "[10000 rows x 10 columns]"
            ],
            "text/html": [
              "\n",
              "  <div id=\"df-7dbbab9e-9b2a-46b5-816c-696f7407c0c4\" class=\"colab-df-container\">\n",
              "    <div>\n",
              "<style scoped>\n",
              "    .dataframe tbody tr th:only-of-type {\n",
              "        vertical-align: middle;\n",
              "    }\n",
              "\n",
              "    .dataframe tbody tr th {\n",
              "        vertical-align: top;\n",
              "    }\n",
              "\n",
              "    .dataframe thead th {\n",
              "        text-align: right;\n",
              "    }\n",
              "</style>\n",
              "<table border=\"1\" class=\"dataframe\">\n",
              "  <thead>\n",
              "    <tr style=\"text-align: right;\">\n",
              "      <th></th>\n",
              "      <th>0</th>\n",
              "      <th>1</th>\n",
              "      <th>2</th>\n",
              "      <th>3</th>\n",
              "      <th>4</th>\n",
              "      <th>5</th>\n",
              "      <th>6</th>\n",
              "      <th>7</th>\n",
              "      <th>8</th>\n",
              "      <th>9</th>\n",
              "    </tr>\n",
              "  </thead>\n",
              "  <tbody>\n",
              "    <tr>\n",
              "      <th>0</th>\n",
              "      <td>1.177629e-19</td>\n",
              "      <td>1.461635e-20</td>\n",
              "      <td>5.603971e-17</td>\n",
              "      <td>9.389258e-16</td>\n",
              "      <td>1.315932e-19</td>\n",
              "      <td>4.092707e-22</td>\n",
              "      <td>2.931911e-27</td>\n",
              "      <td>1.000000e+00</td>\n",
              "      <td>1.169599e-18</td>\n",
              "      <td>1.184309e-14</td>\n",
              "    </tr>\n",
              "    <tr>\n",
              "      <th>1</th>\n",
              "      <td>1.749664e-18</td>\n",
              "      <td>1.458822e-21</td>\n",
              "      <td>1.000000e+00</td>\n",
              "      <td>4.565912e-25</td>\n",
              "      <td>4.101402e-27</td>\n",
              "      <td>0.000000e+00</td>\n",
              "      <td>2.972112e-20</td>\n",
              "      <td>2.367044e-28</td>\n",
              "      <td>2.212697e-23</td>\n",
              "      <td>4.530275e-33</td>\n",
              "    </tr>\n",
              "    <tr>\n",
              "      <th>2</th>\n",
              "      <td>5.831785e-18</td>\n",
              "      <td>1.000000e+00</td>\n",
              "      <td>2.675095e-17</td>\n",
              "      <td>3.456411e-22</td>\n",
              "      <td>1.270661e-10</td>\n",
              "      <td>2.398584e-14</td>\n",
              "      <td>1.321247e-15</td>\n",
              "      <td>1.255180e-13</td>\n",
              "      <td>7.771570e-15</td>\n",
              "      <td>3.255722e-19</td>\n",
              "    </tr>\n",
              "    <tr>\n",
              "      <th>3</th>\n",
              "      <td>1.000000e+00</td>\n",
              "      <td>2.613684e-25</td>\n",
              "      <td>2.115442e-22</td>\n",
              "      <td>2.566134e-18</td>\n",
              "      <td>2.020771e-24</td>\n",
              "      <td>5.159869e-15</td>\n",
              "      <td>1.544984e-09</td>\n",
              "      <td>2.171396e-14</td>\n",
              "      <td>2.548142e-21</td>\n",
              "      <td>4.397766e-18</td>\n",
              "    </tr>\n",
              "    <tr>\n",
              "      <th>4</th>\n",
              "      <td>8.178968e-18</td>\n",
              "      <td>7.137039e-17</td>\n",
              "      <td>3.638298e-16</td>\n",
              "      <td>1.673180e-23</td>\n",
              "      <td>9.999937e-01</td>\n",
              "      <td>8.187830e-19</td>\n",
              "      <td>4.630382e-16</td>\n",
              "      <td>6.117955e-21</td>\n",
              "      <td>5.829082e-17</td>\n",
              "      <td>6.365745e-06</td>\n",
              "    </tr>\n",
              "    <tr>\n",
              "      <th>...</th>\n",
              "      <td>...</td>\n",
              "      <td>...</td>\n",
              "      <td>...</td>\n",
              "      <td>...</td>\n",
              "      <td>...</td>\n",
              "      <td>...</td>\n",
              "      <td>...</td>\n",
              "      <td>...</td>\n",
              "      <td>...</td>\n",
              "      <td>...</td>\n",
              "    </tr>\n",
              "    <tr>\n",
              "      <th>9995</th>\n",
              "      <td>4.070052e-23</td>\n",
              "      <td>5.753127e-13</td>\n",
              "      <td>1.000000e+00</td>\n",
              "      <td>4.482278e-19</td>\n",
              "      <td>2.699927e-23</td>\n",
              "      <td>3.907887e-34</td>\n",
              "      <td>2.291808e-24</td>\n",
              "      <td>3.073104e-15</td>\n",
              "      <td>6.166666e-19</td>\n",
              "      <td>1.575542e-26</td>\n",
              "    </tr>\n",
              "    <tr>\n",
              "      <th>9996</th>\n",
              "      <td>4.319460e-31</td>\n",
              "      <td>3.846011e-18</td>\n",
              "      <td>8.823528e-22</td>\n",
              "      <td>1.000000e+00</td>\n",
              "      <td>1.133233e-25</td>\n",
              "      <td>4.138565e-15</td>\n",
              "      <td>6.690279e-34</td>\n",
              "      <td>1.163051e-23</td>\n",
              "      <td>8.122469e-24</td>\n",
              "      <td>2.371891e-19</td>\n",
              "    </tr>\n",
              "    <tr>\n",
              "      <th>9997</th>\n",
              "      <td>1.606666e-33</td>\n",
              "      <td>1.111614e-20</td>\n",
              "      <td>5.366531e-26</td>\n",
              "      <td>1.035240e-31</td>\n",
              "      <td>1.000000e+00</td>\n",
              "      <td>3.095992e-22</td>\n",
              "      <td>1.388680e-23</td>\n",
              "      <td>3.930089e-26</td>\n",
              "      <td>6.708530e-18</td>\n",
              "      <td>3.236684e-22</td>\n",
              "    </tr>\n",
              "    <tr>\n",
              "      <th>9998</th>\n",
              "      <td>6.764088e-25</td>\n",
              "      <td>5.856127e-26</td>\n",
              "      <td>8.921367e-31</td>\n",
              "      <td>1.183587e-20</td>\n",
              "      <td>1.687457e-32</td>\n",
              "      <td>1.000000e+00</td>\n",
              "      <td>9.694434e-17</td>\n",
              "      <td>1.347924e-29</td>\n",
              "      <td>1.065943e-12</td>\n",
              "      <td>6.736749e-30</td>\n",
              "    </tr>\n",
              "    <tr>\n",
              "      <th>9999</th>\n",
              "      <td>3.900307e-19</td>\n",
              "      <td>1.619859e-20</td>\n",
              "      <td>2.403065e-19</td>\n",
              "      <td>4.180731e-20</td>\n",
              "      <td>2.165545e-20</td>\n",
              "      <td>1.417486e-14</td>\n",
              "      <td>1.000000e+00</td>\n",
              "      <td>6.950294e-33</td>\n",
              "      <td>1.696094e-15</td>\n",
              "      <td>4.035273e-28</td>\n",
              "    </tr>\n",
              "  </tbody>\n",
              "</table>\n",
              "<p>10000 rows × 10 columns</p>\n",
              "</div>\n",
              "    <div class=\"colab-df-buttons\">\n",
              "\n",
              "  <div class=\"colab-df-container\">\n",
              "    <button class=\"colab-df-convert\" onclick=\"convertToInteractive('df-7dbbab9e-9b2a-46b5-816c-696f7407c0c4')\"\n",
              "            title=\"Convert this dataframe to an interactive table.\"\n",
              "            style=\"display:none;\">\n",
              "\n",
              "  <svg xmlns=\"http://www.w3.org/2000/svg\" height=\"24px\" viewBox=\"0 -960 960 960\">\n",
              "    <path d=\"M120-120v-720h720v720H120Zm60-500h600v-160H180v160Zm220 220h160v-160H400v160Zm0 220h160v-160H400v160ZM180-400h160v-160H180v160Zm440 0h160v-160H620v160ZM180-180h160v-160H180v160Zm440 0h160v-160H620v160Z\"/>\n",
              "  </svg>\n",
              "    </button>\n",
              "\n",
              "  <style>\n",
              "    .colab-df-container {\n",
              "      display:flex;\n",
              "      gap: 12px;\n",
              "    }\n",
              "\n",
              "    .colab-df-convert {\n",
              "      background-color: #E8F0FE;\n",
              "      border: none;\n",
              "      border-radius: 50%;\n",
              "      cursor: pointer;\n",
              "      display: none;\n",
              "      fill: #1967D2;\n",
              "      height: 32px;\n",
              "      padding: 0 0 0 0;\n",
              "      width: 32px;\n",
              "    }\n",
              "\n",
              "    .colab-df-convert:hover {\n",
              "      background-color: #E2EBFA;\n",
              "      box-shadow: 0px 1px 2px rgba(60, 64, 67, 0.3), 0px 1px 3px 1px rgba(60, 64, 67, 0.15);\n",
              "      fill: #174EA6;\n",
              "    }\n",
              "\n",
              "    .colab-df-buttons div {\n",
              "      margin-bottom: 4px;\n",
              "    }\n",
              "\n",
              "    [theme=dark] .colab-df-convert {\n",
              "      background-color: #3B4455;\n",
              "      fill: #D2E3FC;\n",
              "    }\n",
              "\n",
              "    [theme=dark] .colab-df-convert:hover {\n",
              "      background-color: #434B5C;\n",
              "      box-shadow: 0px 1px 3px 1px rgba(0, 0, 0, 0.15);\n",
              "      filter: drop-shadow(0px 1px 2px rgba(0, 0, 0, 0.3));\n",
              "      fill: #FFFFFF;\n",
              "    }\n",
              "  </style>\n",
              "\n",
              "    <script>\n",
              "      const buttonEl =\n",
              "        document.querySelector('#df-7dbbab9e-9b2a-46b5-816c-696f7407c0c4 button.colab-df-convert');\n",
              "      buttonEl.style.display =\n",
              "        google.colab.kernel.accessAllowed ? 'block' : 'none';\n",
              "\n",
              "      async function convertToInteractive(key) {\n",
              "        const element = document.querySelector('#df-7dbbab9e-9b2a-46b5-816c-696f7407c0c4');\n",
              "        const dataTable =\n",
              "          await google.colab.kernel.invokeFunction('convertToInteractive',\n",
              "                                                    [key], {});\n",
              "        if (!dataTable) return;\n",
              "\n",
              "        const docLinkHtml = 'Like what you see? Visit the ' +\n",
              "          '<a target=\"_blank\" href=https://colab.research.google.com/notebooks/data_table.ipynb>data table notebook</a>'\n",
              "          + ' to learn more about interactive tables.';\n",
              "        element.innerHTML = '';\n",
              "        dataTable['output_type'] = 'display_data';\n",
              "        await google.colab.output.renderOutput(dataTable, element);\n",
              "        const docLink = document.createElement('div');\n",
              "        docLink.innerHTML = docLinkHtml;\n",
              "        element.appendChild(docLink);\n",
              "      }\n",
              "    </script>\n",
              "  </div>\n",
              "\n",
              "\n",
              "<div id=\"df-735991de-ea97-4410-93f0-c4ed541d465b\">\n",
              "  <button class=\"colab-df-quickchart\" onclick=\"quickchart('df-735991de-ea97-4410-93f0-c4ed541d465b')\"\n",
              "            title=\"Suggest charts\"\n",
              "            style=\"display:none;\">\n",
              "\n",
              "<svg xmlns=\"http://www.w3.org/2000/svg\" height=\"24px\"viewBox=\"0 0 24 24\"\n",
              "     width=\"24px\">\n",
              "    <g>\n",
              "        <path d=\"M19 3H5c-1.1 0-2 .9-2 2v14c0 1.1.9 2 2 2h14c1.1 0 2-.9 2-2V5c0-1.1-.9-2-2-2zM9 17H7v-7h2v7zm4 0h-2V7h2v10zm4 0h-2v-4h2v4z\"/>\n",
              "    </g>\n",
              "</svg>\n",
              "  </button>\n",
              "\n",
              "<style>\n",
              "  .colab-df-quickchart {\n",
              "      --bg-color: #E8F0FE;\n",
              "      --fill-color: #1967D2;\n",
              "      --hover-bg-color: #E2EBFA;\n",
              "      --hover-fill-color: #174EA6;\n",
              "      --disabled-fill-color: #AAA;\n",
              "      --disabled-bg-color: #DDD;\n",
              "  }\n",
              "\n",
              "  [theme=dark] .colab-df-quickchart {\n",
              "      --bg-color: #3B4455;\n",
              "      --fill-color: #D2E3FC;\n",
              "      --hover-bg-color: #434B5C;\n",
              "      --hover-fill-color: #FFFFFF;\n",
              "      --disabled-bg-color: #3B4455;\n",
              "      --disabled-fill-color: #666;\n",
              "  }\n",
              "\n",
              "  .colab-df-quickchart {\n",
              "    background-color: var(--bg-color);\n",
              "    border: none;\n",
              "    border-radius: 50%;\n",
              "    cursor: pointer;\n",
              "    display: none;\n",
              "    fill: var(--fill-color);\n",
              "    height: 32px;\n",
              "    padding: 0;\n",
              "    width: 32px;\n",
              "  }\n",
              "\n",
              "  .colab-df-quickchart:hover {\n",
              "    background-color: var(--hover-bg-color);\n",
              "    box-shadow: 0 1px 2px rgba(60, 64, 67, 0.3), 0 1px 3px 1px rgba(60, 64, 67, 0.15);\n",
              "    fill: var(--button-hover-fill-color);\n",
              "  }\n",
              "\n",
              "  .colab-df-quickchart-complete:disabled,\n",
              "  .colab-df-quickchart-complete:disabled:hover {\n",
              "    background-color: var(--disabled-bg-color);\n",
              "    fill: var(--disabled-fill-color);\n",
              "    box-shadow: none;\n",
              "  }\n",
              "\n",
              "  .colab-df-spinner {\n",
              "    border: 2px solid var(--fill-color);\n",
              "    border-color: transparent;\n",
              "    border-bottom-color: var(--fill-color);\n",
              "    animation:\n",
              "      spin 1s steps(1) infinite;\n",
              "  }\n",
              "\n",
              "  @keyframes spin {\n",
              "    0% {\n",
              "      border-color: transparent;\n",
              "      border-bottom-color: var(--fill-color);\n",
              "      border-left-color: var(--fill-color);\n",
              "    }\n",
              "    20% {\n",
              "      border-color: transparent;\n",
              "      border-left-color: var(--fill-color);\n",
              "      border-top-color: var(--fill-color);\n",
              "    }\n",
              "    30% {\n",
              "      border-color: transparent;\n",
              "      border-left-color: var(--fill-color);\n",
              "      border-top-color: var(--fill-color);\n",
              "      border-right-color: var(--fill-color);\n",
              "    }\n",
              "    40% {\n",
              "      border-color: transparent;\n",
              "      border-right-color: var(--fill-color);\n",
              "      border-top-color: var(--fill-color);\n",
              "    }\n",
              "    60% {\n",
              "      border-color: transparent;\n",
              "      border-right-color: var(--fill-color);\n",
              "    }\n",
              "    80% {\n",
              "      border-color: transparent;\n",
              "      border-right-color: var(--fill-color);\n",
              "      border-bottom-color: var(--fill-color);\n",
              "    }\n",
              "    90% {\n",
              "      border-color: transparent;\n",
              "      border-bottom-color: var(--fill-color);\n",
              "    }\n",
              "  }\n",
              "</style>\n",
              "\n",
              "  <script>\n",
              "    async function quickchart(key) {\n",
              "      const quickchartButtonEl =\n",
              "        document.querySelector('#' + key + ' button');\n",
              "      quickchartButtonEl.disabled = true;  // To prevent multiple clicks.\n",
              "      quickchartButtonEl.classList.add('colab-df-spinner');\n",
              "      try {\n",
              "        const charts = await google.colab.kernel.invokeFunction(\n",
              "            'suggestCharts', [key], {});\n",
              "      } catch (error) {\n",
              "        console.error('Error during call to suggestCharts:', error);\n",
              "      }\n",
              "      quickchartButtonEl.classList.remove('colab-df-spinner');\n",
              "      quickchartButtonEl.classList.add('colab-df-quickchart-complete');\n",
              "    }\n",
              "    (() => {\n",
              "      let quickchartButtonEl =\n",
              "        document.querySelector('#df-735991de-ea97-4410-93f0-c4ed541d465b button');\n",
              "      quickchartButtonEl.style.display =\n",
              "        google.colab.kernel.accessAllowed ? 'block' : 'none';\n",
              "    })();\n",
              "  </script>\n",
              "</div>\n",
              "    </div>\n",
              "  </div>\n"
            ]
          },
          "metadata": {},
          "execution_count": 57
        }
      ]
    },
    {
      "cell_type": "code",
      "source": [
        "results_default.to_csv((filepath+\"25_softmax.csv\"),index=False)"
      ],
      "metadata": {
        "id": "6h3FAVP8c0A3"
      },
      "execution_count": null,
      "outputs": []
    },
    {
      "cell_type": "markdown",
      "source": [
        "**16 bit**"
      ],
      "metadata": {
        "id": "jpxVyxMGefBb"
      }
    },
    {
      "cell_type": "code",
      "source": [
        "model = tf.keras.models.load_model(path)\n"
      ],
      "metadata": {
        "id": "LlVMMwy1O-E4"
      },
      "execution_count": null,
      "outputs": []
    },
    {
      "cell_type": "code",
      "source": [
        "filepath = '/content/quantised_16_bit/'\n",
        "!mkdir '/content/quantised_16_bit/'"
      ],
      "metadata": {
        "id": "PIrx8SJkaK2g"
      },
      "execution_count": null,
      "outputs": []
    },
    {
      "cell_type": "code",
      "source": [
        "converter = tf.lite.TFLiteConverter.from_keras_model(model)\n",
        "converter.optimizations = [tf.lite.Optimize.DEFAULT]\n",
        "converter.optimizations = [tf.lite.Optimize.DEFAULT]\n",
        "converter.target_spec.supported_types = [tf.float16]\n",
        "tflite_quant_model = converter.convert()\n",
        "#saving converted model in \"converted_quant_model.tflite\" file\n",
        "open((filepath +\"16_bit.tflite\"), \"wb\").write(tflite_quant_model)"
      ],
      "metadata": {
        "colab": {
          "base_uri": "https://localhost:8080/"
        },
        "id": "XVkn8lg5cWIa",
        "outputId": "bf3e25be-0c7f-4994-836a-4b9ae549e658"
      },
      "execution_count": null,
      "outputs": [
        {
          "output_type": "execute_result",
          "data": {
            "text/plain": [
              "454608"
            ]
          },
          "metadata": {},
          "execution_count": 61
        }
      ]
    },
    {
      "cell_type": "code",
      "source": [
        "import os\n",
        "print(\"Float model in Mb:\", os.path.getsize(filepath +\"16_bit.tflite\") / float(2**20))\n",
        "print(\"Quantized model in Mb:\", os.path.getsize(filepath +\"16_bit.tflite\") / float(2**20))\n",
        "print(\"Compression ratio:\", os.path.getsize(filepath +\"16_bit.tflite\")/os.path.getsize(path))"
      ],
      "metadata": {
        "colab": {
          "base_uri": "https://localhost:8080/"
        },
        "id": "6S89XWCTbGHF",
        "outputId": "6db87d3b-e120-4edc-a5f0-678bf3fa24ff"
      },
      "execution_count": null,
      "outputs": [
        {
          "output_type": "stream",
          "name": "stdout",
          "text": [
            "Float model in Mb: 0.4335479736328125\n",
            "Quantized model in Mb: 0.4335479736328125\n",
            "Compression ratio: 110.98828125\n"
          ]
        }
      ]
    },
    {
      "cell_type": "code",
      "source": [
        "interpreter = tf.lite.Interpreter(model_path=filepath +\"16_bit.tflite\")\n",
        "interpreter.allocate_tensors()\n",
        "# Get input and output tensors.\n",
        "input_details = interpreter.get_input_details()\n",
        "output_details = interpreter.get_output_details()\n",
        "# Test model on some input data.\n",
        "input_shape = input_details[0]['shape']\n",
        "acc=0\n",
        "results_16_b = pd.DataFrame()\n",
        "for i in range(len(x_test)):\n",
        "    input_data = x_test[i].reshape(input_shape)\n",
        "    interpreter.set_tensor(input_details[0]['index'], input_data)\n",
        "    interpreter.invoke()\n",
        "    output_data = interpreter.get_tensor(output_details[0]['index'])\n",
        "    row = pd.DataFrame(output_data)\n",
        "    results_16_b = pd.concat([results_16_b, row], ignore_index=True)\n",
        "    if(np.argmax(output_data) == np.argmax(y_test[i])):\n",
        "        acc+=1\n",
        "acc = acc/len(x_test)\n",
        "print(acc*100)"
      ],
      "metadata": {
        "colab": {
          "base_uri": "https://localhost:8080/"
        },
        "id": "5dGGvQ6SZlyV",
        "outputId": "a9ffc292-b99b-4693-b768-ce749606e4dc"
      },
      "execution_count": null,
      "outputs": [
        {
          "output_type": "stream",
          "name": "stdout",
          "text": [
            "99.16\n"
          ]
        }
      ]
    },
    {
      "cell_type": "code",
      "source": [
        "results_16_b"
      ],
      "metadata": {
        "colab": {
          "base_uri": "https://localhost:8080/",
          "height": 617
        },
        "id": "fm8vJ_qrfyYt",
        "outputId": "e61c08e1-a4fa-4a96-a394-729d0a538e61"
      },
      "execution_count": null,
      "outputs": [
        {
          "output_type": "execute_result",
          "data": {
            "text/plain": [
              "                 0             1             2             3             4  \\\n",
              "0     9.170932e-20  1.300497e-20  5.098796e-17  8.854204e-16  1.171411e-19   \n",
              "1     1.626350e-18  1.572880e-21  1.000000e+00  4.067006e-25  3.697767e-27   \n",
              "2     5.153350e-18  1.000000e+00  2.883522e-17  3.531958e-22  1.305367e-10   \n",
              "3     1.000000e+00  2.145157e-25  1.868453e-22  2.603692e-18  1.965956e-24   \n",
              "4     8.345373e-18  8.471272e-17  3.770911e-16  1.993007e-23  9.999933e-01   \n",
              "...            ...           ...           ...           ...           ...   \n",
              "9995  3.026221e-23  5.194900e-13  1.000000e+00  3.779254e-19  2.090804e-23   \n",
              "9996  3.152575e-31  3.132133e-18  7.223371e-22  1.000000e+00  8.972072e-26   \n",
              "9997  1.206960e-33  9.945840e-21  4.750222e-26  9.760114e-32  1.000000e+00   \n",
              "9998  6.442432e-25  4.627774e-26  6.963039e-31  9.373846e-21  1.355331e-32   \n",
              "9999  3.486703e-19  1.450975e-20  1.968986e-19  3.291372e-20  1.911488e-20   \n",
              "\n",
              "                 5             6             7             8             9  \n",
              "0     3.634967e-22  2.565476e-27  1.000000e+00  1.062100e-18  9.754578e-15  \n",
              "1     0.000000e+00  2.759260e-20  2.436441e-28  1.982254e-23  4.451643e-33  \n",
              "2     2.503961e-14  1.339047e-15  1.266200e-13  8.012639e-15  3.188321e-19  \n",
              "3     5.672306e-15  1.496271e-09  2.150954e-14  2.721168e-21  4.523402e-18  \n",
              "4     8.904704e-19  4.555395e-16  7.522570e-21  6.255766e-17  6.660656e-06  \n",
              "...            ...           ...           ...           ...           ...  \n",
              "9995  3.367062e-34  1.928917e-24  2.812551e-15  5.057124e-19  1.129586e-26  \n",
              "9996  3.191466e-15  4.365188e-34  7.712321e-24  6.485983e-24  1.923961e-19  \n",
              "9997  2.914390e-22  1.006986e-23  3.449213e-26  6.106252e-18  3.057996e-22  \n",
              "9998  1.000000e+00  9.423952e-17  1.069579e-29  9.256585e-13  5.974306e-30  \n",
              "9999  1.459328e-14  1.000000e+00  5.890453e-33  1.655256e-15  3.759480e-28  \n",
              "\n",
              "[10000 rows x 10 columns]"
            ],
            "text/html": [
              "\n",
              "  <div id=\"df-b2381e21-1648-4d81-b901-77c08c2da746\" class=\"colab-df-container\">\n",
              "    <div>\n",
              "<style scoped>\n",
              "    .dataframe tbody tr th:only-of-type {\n",
              "        vertical-align: middle;\n",
              "    }\n",
              "\n",
              "    .dataframe tbody tr th {\n",
              "        vertical-align: top;\n",
              "    }\n",
              "\n",
              "    .dataframe thead th {\n",
              "        text-align: right;\n",
              "    }\n",
              "</style>\n",
              "<table border=\"1\" class=\"dataframe\">\n",
              "  <thead>\n",
              "    <tr style=\"text-align: right;\">\n",
              "      <th></th>\n",
              "      <th>0</th>\n",
              "      <th>1</th>\n",
              "      <th>2</th>\n",
              "      <th>3</th>\n",
              "      <th>4</th>\n",
              "      <th>5</th>\n",
              "      <th>6</th>\n",
              "      <th>7</th>\n",
              "      <th>8</th>\n",
              "      <th>9</th>\n",
              "    </tr>\n",
              "  </thead>\n",
              "  <tbody>\n",
              "    <tr>\n",
              "      <th>0</th>\n",
              "      <td>9.170932e-20</td>\n",
              "      <td>1.300497e-20</td>\n",
              "      <td>5.098796e-17</td>\n",
              "      <td>8.854204e-16</td>\n",
              "      <td>1.171411e-19</td>\n",
              "      <td>3.634967e-22</td>\n",
              "      <td>2.565476e-27</td>\n",
              "      <td>1.000000e+00</td>\n",
              "      <td>1.062100e-18</td>\n",
              "      <td>9.754578e-15</td>\n",
              "    </tr>\n",
              "    <tr>\n",
              "      <th>1</th>\n",
              "      <td>1.626350e-18</td>\n",
              "      <td>1.572880e-21</td>\n",
              "      <td>1.000000e+00</td>\n",
              "      <td>4.067006e-25</td>\n",
              "      <td>3.697767e-27</td>\n",
              "      <td>0.000000e+00</td>\n",
              "      <td>2.759260e-20</td>\n",
              "      <td>2.436441e-28</td>\n",
              "      <td>1.982254e-23</td>\n",
              "      <td>4.451643e-33</td>\n",
              "    </tr>\n",
              "    <tr>\n",
              "      <th>2</th>\n",
              "      <td>5.153350e-18</td>\n",
              "      <td>1.000000e+00</td>\n",
              "      <td>2.883522e-17</td>\n",
              "      <td>3.531958e-22</td>\n",
              "      <td>1.305367e-10</td>\n",
              "      <td>2.503961e-14</td>\n",
              "      <td>1.339047e-15</td>\n",
              "      <td>1.266200e-13</td>\n",
              "      <td>8.012639e-15</td>\n",
              "      <td>3.188321e-19</td>\n",
              "    </tr>\n",
              "    <tr>\n",
              "      <th>3</th>\n",
              "      <td>1.000000e+00</td>\n",
              "      <td>2.145157e-25</td>\n",
              "      <td>1.868453e-22</td>\n",
              "      <td>2.603692e-18</td>\n",
              "      <td>1.965956e-24</td>\n",
              "      <td>5.672306e-15</td>\n",
              "      <td>1.496271e-09</td>\n",
              "      <td>2.150954e-14</td>\n",
              "      <td>2.721168e-21</td>\n",
              "      <td>4.523402e-18</td>\n",
              "    </tr>\n",
              "    <tr>\n",
              "      <th>4</th>\n",
              "      <td>8.345373e-18</td>\n",
              "      <td>8.471272e-17</td>\n",
              "      <td>3.770911e-16</td>\n",
              "      <td>1.993007e-23</td>\n",
              "      <td>9.999933e-01</td>\n",
              "      <td>8.904704e-19</td>\n",
              "      <td>4.555395e-16</td>\n",
              "      <td>7.522570e-21</td>\n",
              "      <td>6.255766e-17</td>\n",
              "      <td>6.660656e-06</td>\n",
              "    </tr>\n",
              "    <tr>\n",
              "      <th>...</th>\n",
              "      <td>...</td>\n",
              "      <td>...</td>\n",
              "      <td>...</td>\n",
              "      <td>...</td>\n",
              "      <td>...</td>\n",
              "      <td>...</td>\n",
              "      <td>...</td>\n",
              "      <td>...</td>\n",
              "      <td>...</td>\n",
              "      <td>...</td>\n",
              "    </tr>\n",
              "    <tr>\n",
              "      <th>9995</th>\n",
              "      <td>3.026221e-23</td>\n",
              "      <td>5.194900e-13</td>\n",
              "      <td>1.000000e+00</td>\n",
              "      <td>3.779254e-19</td>\n",
              "      <td>2.090804e-23</td>\n",
              "      <td>3.367062e-34</td>\n",
              "      <td>1.928917e-24</td>\n",
              "      <td>2.812551e-15</td>\n",
              "      <td>5.057124e-19</td>\n",
              "      <td>1.129586e-26</td>\n",
              "    </tr>\n",
              "    <tr>\n",
              "      <th>9996</th>\n",
              "      <td>3.152575e-31</td>\n",
              "      <td>3.132133e-18</td>\n",
              "      <td>7.223371e-22</td>\n",
              "      <td>1.000000e+00</td>\n",
              "      <td>8.972072e-26</td>\n",
              "      <td>3.191466e-15</td>\n",
              "      <td>4.365188e-34</td>\n",
              "      <td>7.712321e-24</td>\n",
              "      <td>6.485983e-24</td>\n",
              "      <td>1.923961e-19</td>\n",
              "    </tr>\n",
              "    <tr>\n",
              "      <th>9997</th>\n",
              "      <td>1.206960e-33</td>\n",
              "      <td>9.945840e-21</td>\n",
              "      <td>4.750222e-26</td>\n",
              "      <td>9.760114e-32</td>\n",
              "      <td>1.000000e+00</td>\n",
              "      <td>2.914390e-22</td>\n",
              "      <td>1.006986e-23</td>\n",
              "      <td>3.449213e-26</td>\n",
              "      <td>6.106252e-18</td>\n",
              "      <td>3.057996e-22</td>\n",
              "    </tr>\n",
              "    <tr>\n",
              "      <th>9998</th>\n",
              "      <td>6.442432e-25</td>\n",
              "      <td>4.627774e-26</td>\n",
              "      <td>6.963039e-31</td>\n",
              "      <td>9.373846e-21</td>\n",
              "      <td>1.355331e-32</td>\n",
              "      <td>1.000000e+00</td>\n",
              "      <td>9.423952e-17</td>\n",
              "      <td>1.069579e-29</td>\n",
              "      <td>9.256585e-13</td>\n",
              "      <td>5.974306e-30</td>\n",
              "    </tr>\n",
              "    <tr>\n",
              "      <th>9999</th>\n",
              "      <td>3.486703e-19</td>\n",
              "      <td>1.450975e-20</td>\n",
              "      <td>1.968986e-19</td>\n",
              "      <td>3.291372e-20</td>\n",
              "      <td>1.911488e-20</td>\n",
              "      <td>1.459328e-14</td>\n",
              "      <td>1.000000e+00</td>\n",
              "      <td>5.890453e-33</td>\n",
              "      <td>1.655256e-15</td>\n",
              "      <td>3.759480e-28</td>\n",
              "    </tr>\n",
              "  </tbody>\n",
              "</table>\n",
              "<p>10000 rows × 10 columns</p>\n",
              "</div>\n",
              "    <div class=\"colab-df-buttons\">\n",
              "\n",
              "  <div class=\"colab-df-container\">\n",
              "    <button class=\"colab-df-convert\" onclick=\"convertToInteractive('df-b2381e21-1648-4d81-b901-77c08c2da746')\"\n",
              "            title=\"Convert this dataframe to an interactive table.\"\n",
              "            style=\"display:none;\">\n",
              "\n",
              "  <svg xmlns=\"http://www.w3.org/2000/svg\" height=\"24px\" viewBox=\"0 -960 960 960\">\n",
              "    <path d=\"M120-120v-720h720v720H120Zm60-500h600v-160H180v160Zm220 220h160v-160H400v160Zm0 220h160v-160H400v160ZM180-400h160v-160H180v160Zm440 0h160v-160H620v160ZM180-180h160v-160H180v160Zm440 0h160v-160H620v160Z\"/>\n",
              "  </svg>\n",
              "    </button>\n",
              "\n",
              "  <style>\n",
              "    .colab-df-container {\n",
              "      display:flex;\n",
              "      gap: 12px;\n",
              "    }\n",
              "\n",
              "    .colab-df-convert {\n",
              "      background-color: #E8F0FE;\n",
              "      border: none;\n",
              "      border-radius: 50%;\n",
              "      cursor: pointer;\n",
              "      display: none;\n",
              "      fill: #1967D2;\n",
              "      height: 32px;\n",
              "      padding: 0 0 0 0;\n",
              "      width: 32px;\n",
              "    }\n",
              "\n",
              "    .colab-df-convert:hover {\n",
              "      background-color: #E2EBFA;\n",
              "      box-shadow: 0px 1px 2px rgba(60, 64, 67, 0.3), 0px 1px 3px 1px rgba(60, 64, 67, 0.15);\n",
              "      fill: #174EA6;\n",
              "    }\n",
              "\n",
              "    .colab-df-buttons div {\n",
              "      margin-bottom: 4px;\n",
              "    }\n",
              "\n",
              "    [theme=dark] .colab-df-convert {\n",
              "      background-color: #3B4455;\n",
              "      fill: #D2E3FC;\n",
              "    }\n",
              "\n",
              "    [theme=dark] .colab-df-convert:hover {\n",
              "      background-color: #434B5C;\n",
              "      box-shadow: 0px 1px 3px 1px rgba(0, 0, 0, 0.15);\n",
              "      filter: drop-shadow(0px 1px 2px rgba(0, 0, 0, 0.3));\n",
              "      fill: #FFFFFF;\n",
              "    }\n",
              "  </style>\n",
              "\n",
              "    <script>\n",
              "      const buttonEl =\n",
              "        document.querySelector('#df-b2381e21-1648-4d81-b901-77c08c2da746 button.colab-df-convert');\n",
              "      buttonEl.style.display =\n",
              "        google.colab.kernel.accessAllowed ? 'block' : 'none';\n",
              "\n",
              "      async function convertToInteractive(key) {\n",
              "        const element = document.querySelector('#df-b2381e21-1648-4d81-b901-77c08c2da746');\n",
              "        const dataTable =\n",
              "          await google.colab.kernel.invokeFunction('convertToInteractive',\n",
              "                                                    [key], {});\n",
              "        if (!dataTable) return;\n",
              "\n",
              "        const docLinkHtml = 'Like what you see? Visit the ' +\n",
              "          '<a target=\"_blank\" href=https://colab.research.google.com/notebooks/data_table.ipynb>data table notebook</a>'\n",
              "          + ' to learn more about interactive tables.';\n",
              "        element.innerHTML = '';\n",
              "        dataTable['output_type'] = 'display_data';\n",
              "        await google.colab.output.renderOutput(dataTable, element);\n",
              "        const docLink = document.createElement('div');\n",
              "        docLink.innerHTML = docLinkHtml;\n",
              "        element.appendChild(docLink);\n",
              "      }\n",
              "    </script>\n",
              "  </div>\n",
              "\n",
              "\n",
              "<div id=\"df-5f7f7847-337b-4015-8ef3-c39306698d54\">\n",
              "  <button class=\"colab-df-quickchart\" onclick=\"quickchart('df-5f7f7847-337b-4015-8ef3-c39306698d54')\"\n",
              "            title=\"Suggest charts\"\n",
              "            style=\"display:none;\">\n",
              "\n",
              "<svg xmlns=\"http://www.w3.org/2000/svg\" height=\"24px\"viewBox=\"0 0 24 24\"\n",
              "     width=\"24px\">\n",
              "    <g>\n",
              "        <path d=\"M19 3H5c-1.1 0-2 .9-2 2v14c0 1.1.9 2 2 2h14c1.1 0 2-.9 2-2V5c0-1.1-.9-2-2-2zM9 17H7v-7h2v7zm4 0h-2V7h2v10zm4 0h-2v-4h2v4z\"/>\n",
              "    </g>\n",
              "</svg>\n",
              "  </button>\n",
              "\n",
              "<style>\n",
              "  .colab-df-quickchart {\n",
              "      --bg-color: #E8F0FE;\n",
              "      --fill-color: #1967D2;\n",
              "      --hover-bg-color: #E2EBFA;\n",
              "      --hover-fill-color: #174EA6;\n",
              "      --disabled-fill-color: #AAA;\n",
              "      --disabled-bg-color: #DDD;\n",
              "  }\n",
              "\n",
              "  [theme=dark] .colab-df-quickchart {\n",
              "      --bg-color: #3B4455;\n",
              "      --fill-color: #D2E3FC;\n",
              "      --hover-bg-color: #434B5C;\n",
              "      --hover-fill-color: #FFFFFF;\n",
              "      --disabled-bg-color: #3B4455;\n",
              "      --disabled-fill-color: #666;\n",
              "  }\n",
              "\n",
              "  .colab-df-quickchart {\n",
              "    background-color: var(--bg-color);\n",
              "    border: none;\n",
              "    border-radius: 50%;\n",
              "    cursor: pointer;\n",
              "    display: none;\n",
              "    fill: var(--fill-color);\n",
              "    height: 32px;\n",
              "    padding: 0;\n",
              "    width: 32px;\n",
              "  }\n",
              "\n",
              "  .colab-df-quickchart:hover {\n",
              "    background-color: var(--hover-bg-color);\n",
              "    box-shadow: 0 1px 2px rgba(60, 64, 67, 0.3), 0 1px 3px 1px rgba(60, 64, 67, 0.15);\n",
              "    fill: var(--button-hover-fill-color);\n",
              "  }\n",
              "\n",
              "  .colab-df-quickchart-complete:disabled,\n",
              "  .colab-df-quickchart-complete:disabled:hover {\n",
              "    background-color: var(--disabled-bg-color);\n",
              "    fill: var(--disabled-fill-color);\n",
              "    box-shadow: none;\n",
              "  }\n",
              "\n",
              "  .colab-df-spinner {\n",
              "    border: 2px solid var(--fill-color);\n",
              "    border-color: transparent;\n",
              "    border-bottom-color: var(--fill-color);\n",
              "    animation:\n",
              "      spin 1s steps(1) infinite;\n",
              "  }\n",
              "\n",
              "  @keyframes spin {\n",
              "    0% {\n",
              "      border-color: transparent;\n",
              "      border-bottom-color: var(--fill-color);\n",
              "      border-left-color: var(--fill-color);\n",
              "    }\n",
              "    20% {\n",
              "      border-color: transparent;\n",
              "      border-left-color: var(--fill-color);\n",
              "      border-top-color: var(--fill-color);\n",
              "    }\n",
              "    30% {\n",
              "      border-color: transparent;\n",
              "      border-left-color: var(--fill-color);\n",
              "      border-top-color: var(--fill-color);\n",
              "      border-right-color: var(--fill-color);\n",
              "    }\n",
              "    40% {\n",
              "      border-color: transparent;\n",
              "      border-right-color: var(--fill-color);\n",
              "      border-top-color: var(--fill-color);\n",
              "    }\n",
              "    60% {\n",
              "      border-color: transparent;\n",
              "      border-right-color: var(--fill-color);\n",
              "    }\n",
              "    80% {\n",
              "      border-color: transparent;\n",
              "      border-right-color: var(--fill-color);\n",
              "      border-bottom-color: var(--fill-color);\n",
              "    }\n",
              "    90% {\n",
              "      border-color: transparent;\n",
              "      border-bottom-color: var(--fill-color);\n",
              "    }\n",
              "  }\n",
              "</style>\n",
              "\n",
              "  <script>\n",
              "    async function quickchart(key) {\n",
              "      const quickchartButtonEl =\n",
              "        document.querySelector('#' + key + ' button');\n",
              "      quickchartButtonEl.disabled = true;  // To prevent multiple clicks.\n",
              "      quickchartButtonEl.classList.add('colab-df-spinner');\n",
              "      try {\n",
              "        const charts = await google.colab.kernel.invokeFunction(\n",
              "            'suggestCharts', [key], {});\n",
              "      } catch (error) {\n",
              "        console.error('Error during call to suggestCharts:', error);\n",
              "      }\n",
              "      quickchartButtonEl.classList.remove('colab-df-spinner');\n",
              "      quickchartButtonEl.classList.add('colab-df-quickchart-complete');\n",
              "    }\n",
              "    (() => {\n",
              "      let quickchartButtonEl =\n",
              "        document.querySelector('#df-5f7f7847-337b-4015-8ef3-c39306698d54 button');\n",
              "      quickchartButtonEl.style.display =\n",
              "        google.colab.kernel.accessAllowed ? 'block' : 'none';\n",
              "    })();\n",
              "  </script>\n",
              "</div>\n",
              "    </div>\n",
              "  </div>\n"
            ]
          },
          "metadata": {},
          "execution_count": 64
        }
      ]
    },
    {
      "cell_type": "code",
      "source": [
        "results_16_b.to_csv(filepath +'25_softmax.csv',index =False)"
      ],
      "metadata": {
        "id": "3sYfcMpA0Ciz"
      },
      "execution_count": null,
      "outputs": []
    },
    {
      "cell_type": "markdown",
      "source": [
        "# Download Data"
      ],
      "metadata": {
        "id": "_sIXOiBbSgxM"
      }
    },
    {
      "cell_type": "code",
      "source": [
        "shutil.make_archive(\"quantised_16_bit\", 'zip', \"quantised_16_bit\")\n",
        "files.download(\"quantised_16_bit.zip\")"
      ],
      "metadata": {
        "colab": {
          "base_uri": "https://localhost:8080/",
          "height": 17
        },
        "id": "duQtnTAHSp03",
        "outputId": "d861f98f-5958-4890-8e7e-70bd98f99b5b"
      },
      "execution_count": null,
      "outputs": [
        {
          "output_type": "display_data",
          "data": {
            "text/plain": [
              "<IPython.core.display.Javascript object>"
            ],
            "application/javascript": [
              "\n",
              "    async function download(id, filename, size) {\n",
              "      if (!google.colab.kernel.accessAllowed) {\n",
              "        return;\n",
              "      }\n",
              "      const div = document.createElement('div');\n",
              "      const label = document.createElement('label');\n",
              "      label.textContent = `Downloading \"${filename}\": `;\n",
              "      div.appendChild(label);\n",
              "      const progress = document.createElement('progress');\n",
              "      progress.max = size;\n",
              "      div.appendChild(progress);\n",
              "      document.body.appendChild(div);\n",
              "\n",
              "      const buffers = [];\n",
              "      let downloaded = 0;\n",
              "\n",
              "      const channel = await google.colab.kernel.comms.open(id);\n",
              "      // Send a message to notify the kernel that we're ready.\n",
              "      channel.send({})\n",
              "\n",
              "      for await (const message of channel.messages) {\n",
              "        // Send a message to notify the kernel that we're ready.\n",
              "        channel.send({})\n",
              "        if (message.buffers) {\n",
              "          for (const buffer of message.buffers) {\n",
              "            buffers.push(buffer);\n",
              "            downloaded += buffer.byteLength;\n",
              "            progress.value = downloaded;\n",
              "          }\n",
              "        }\n",
              "      }\n",
              "      const blob = new Blob(buffers, {type: 'application/binary'});\n",
              "      const a = document.createElement('a');\n",
              "      a.href = window.URL.createObjectURL(blob);\n",
              "      a.download = filename;\n",
              "      div.appendChild(a);\n",
              "      a.click();\n",
              "      div.remove();\n",
              "    }\n",
              "  "
            ]
          },
          "metadata": {}
        },
        {
          "output_type": "display_data",
          "data": {
            "text/plain": [
              "<IPython.core.display.Javascript object>"
            ],
            "application/javascript": [
              "download(\"download_c7c83c2b-4172-43d4-a22d-e2a3a4087257\", \"quantised_16_bit.zip\", 946687)"
            ]
          },
          "metadata": {}
        }
      ]
    },
    {
      "cell_type": "code",
      "source": [
        "shutil.make_archive(\"quantised_8_bit\", 'zip', \"quantised_8_bit\")\n",
        "files.download(\"quantised_8_bit.zip\")"
      ],
      "metadata": {
        "colab": {
          "base_uri": "https://localhost:8080/",
          "height": 17
        },
        "id": "eWkTJRnsS6I1",
        "outputId": "8db5931a-21f2-4349-ff0a-8521eb6fd9fc"
      },
      "execution_count": null,
      "outputs": [
        {
          "output_type": "display_data",
          "data": {
            "text/plain": [
              "<IPython.core.display.Javascript object>"
            ],
            "application/javascript": [
              "\n",
              "    async function download(id, filename, size) {\n",
              "      if (!google.colab.kernel.accessAllowed) {\n",
              "        return;\n",
              "      }\n",
              "      const div = document.createElement('div');\n",
              "      const label = document.createElement('label');\n",
              "      label.textContent = `Downloading \"${filename}\": `;\n",
              "      div.appendChild(label);\n",
              "      const progress = document.createElement('progress');\n",
              "      progress.max = size;\n",
              "      div.appendChild(progress);\n",
              "      document.body.appendChild(div);\n",
              "\n",
              "      const buffers = [];\n",
              "      let downloaded = 0;\n",
              "\n",
              "      const channel = await google.colab.kernel.comms.open(id);\n",
              "      // Send a message to notify the kernel that we're ready.\n",
              "      channel.send({})\n",
              "\n",
              "      for await (const message of channel.messages) {\n",
              "        // Send a message to notify the kernel that we're ready.\n",
              "        channel.send({})\n",
              "        if (message.buffers) {\n",
              "          for (const buffer of message.buffers) {\n",
              "            buffers.push(buffer);\n",
              "            downloaded += buffer.byteLength;\n",
              "            progress.value = downloaded;\n",
              "          }\n",
              "        }\n",
              "      }\n",
              "      const blob = new Blob(buffers, {type: 'application/binary'});\n",
              "      const a = document.createElement('a');\n",
              "      a.href = window.URL.createObjectURL(blob);\n",
              "      a.download = filename;\n",
              "      div.appendChild(a);\n",
              "      a.click();\n",
              "      div.remove();\n",
              "    }\n",
              "  "
            ]
          },
          "metadata": {}
        },
        {
          "output_type": "display_data",
          "data": {
            "text/plain": [
              "<IPython.core.display.Javascript object>"
            ],
            "application/javascript": [
              "download(\"download_03bd35c6-abf9-4e10-b6eb-339896049687\", \"quantised_8_bit.zip\", 714108)"
            ]
          },
          "metadata": {}
        }
      ]
    }
  ]
}