{
  "nbformat": 4,
  "nbformat_minor": 0,
  "metadata": {
    "colab": {
      "provenance": [],
      "gpuType": "T4"
    },
    "kernelspec": {
      "name": "python3",
      "display_name": "Python 3"
    },
    "language_info": {
      "name": "python"
    },
    "accelerator": "GPU"
  },
  "cells": [
    {
      "cell_type": "code",
      "source": [
        "import tensorflow as tf\n",
        "import keras\n",
        "from keras import layers\n",
        "import numpy as np\n",
        "import pandas as pd\n",
        "from sklearn.decomposition import PCA\n",
        "from sklearn.preprocessing import StandardScaler\n",
        "import matplotlib.pyplot as plt\n",
        "from sklearn.manifold import TSNE\n",
        "!pip install tensorflow-model-optimization\n",
        "from tensorflow_model_optimization.python.core.sparsity.keras import prune, pruning_callbacks\n",
        "import tensorflow_model_optimization as tfmot\n",
        "from tensorflow_model_optimization.sparsity import keras as sparsity\n",
        "from tensorflow.keras.models import load_model\n",
        "from google.colab import files\n",
        "import shutil\n",
        "import gc\n",
        "from keras.datasets import cifar10\n",
        "\n",
        "np.random.seed(42)\n",
        "tf.random.set_seed(42)"
      ],
      "metadata": {
        "id": "g5UR0O-BbO19",
        "colab": {
          "base_uri": "https://localhost:8080/"
        },
        "outputId": "3fdec996-f3aa-4e7e-d0d6-2391c5d48049"
      },
      "execution_count": null,
      "outputs": [
        {
          "output_type": "stream",
          "name": "stdout",
          "text": [
            "Collecting tensorflow-model-optimization\n",
            "  Downloading tensorflow_model_optimization-0.7.5-py2.py3-none-any.whl (241 kB)\n",
            "\u001b[2K     \u001b[90m━━━━━━━━━━━━━━━━━━━━━━━━━━━━━━━━━━━━━━━━\u001b[0m \u001b[32m241.2/241.2 kB\u001b[0m \u001b[31m2.3 MB/s\u001b[0m eta \u001b[36m0:00:00\u001b[0m\n",
            "\u001b[?25hRequirement already satisfied: absl-py~=1.2 in /usr/local/lib/python3.10/dist-packages (from tensorflow-model-optimization) (1.4.0)\n",
            "Requirement already satisfied: dm-tree~=0.1.1 in /usr/local/lib/python3.10/dist-packages (from tensorflow-model-optimization) (0.1.8)\n",
            "Requirement already satisfied: numpy~=1.23 in /usr/local/lib/python3.10/dist-packages (from tensorflow-model-optimization) (1.23.5)\n",
            "Requirement already satisfied: six~=1.14 in /usr/local/lib/python3.10/dist-packages (from tensorflow-model-optimization) (1.16.0)\n",
            "Installing collected packages: tensorflow-model-optimization\n",
            "Successfully installed tensorflow-model-optimization-0.7.5\n"
          ]
        }
      ]
    },
    {
      "cell_type": "code",
      "execution_count": null,
      "metadata": {
        "id": "kgdWDGbE0e-h",
        "colab": {
          "base_uri": "https://localhost:8080/"
        },
        "outputId": "d595dd40-612e-4a8b-a4e6-3c4920bacfcd"
      },
      "outputs": [
        {
          "output_type": "stream",
          "name": "stdout",
          "text": [
            "Downloading data from https://www.cs.toronto.edu/~kriz/cifar-10-python.tar.gz\n",
            "170498071/170498071 [==============================] - 4s 0us/step\n",
            "x_train shape: (50000, 32, 32, 3, 1)\n",
            "50000 train samples\n",
            "10000 test samples\n"
          ]
        }
      ],
      "source": [
        "def build_lenet_model(input_shape, num_classes):\n",
        "    model = keras.Sequential([\n",
        "        keras.layers.Conv2D(32, kernel_size=(3, 3), activation='relu', input_shape=input_shape),\n",
        "        keras.layers.MaxPooling2D(pool_size=(2, 2)),\n",
        "        keras.layers.Conv2D(64, kernel_size=(3, 3), activation='relu'),\n",
        "        keras.layers.MaxPooling2D(pool_size=(2, 2)),\n",
        "        keras.layers.Flatten(),\n",
        "        keras.layers.Dense(128, activation='relu'),\n",
        "        keras.layers.Dense(num_classes, activation='softmax')\n",
        "    ])\n",
        "    model.compile(optimizer='adam', loss='categorical_crossentropy', metrics=['accuracy'])\n",
        "    return model\n",
        "\n",
        "# Load and preprocess MNIST data\n",
        "num_classes = 10\n",
        "input_shape = (32, 32, 3)\n",
        "\n",
        "# Load the data and split it between train and test sets\n",
        "(x_train, y_train), (x_test, y_test) = cifar10.load_data()\n",
        "\n",
        "# Scale images to the [0, 1] range\n",
        "x_train = x_train.astype(\"float32\") / 255\n",
        "x_test = x_test.astype(\"float32\") / 255\n",
        "# Make sure images have shape (28, 28, 1)\n",
        "x_train = np.expand_dims(x_train, -1)\n",
        "x_test = np.expand_dims(x_test, -1)\n",
        "print(\"x_train shape:\", x_train.shape)\n",
        "print(x_train.shape[0], \"train samples\")\n",
        "print(x_test.shape[0], \"test samples\")\n",
        "\n",
        "\n",
        "# convert class vectors to binary class matrices\n",
        "y_train = keras.utils.to_categorical(y_train, num_classes)\n",
        "y_test = keras.utils.to_categorical(y_test, num_classes)\n",
        "\n"
      ]
    },
    {
      "cell_type": "code",
      "source": [
        "def train_lenet(model, train_data, train_labels, test_data, test_labels):\n",
        "    model.save_weights(init_weights)\n",
        "    model.save(init_model)\n",
        "    initailsoftmax = model.predict(test_data)\n",
        "    initaildf = pd.DataFrame(initailsoftmax)\n",
        "    filename = filepath + '0_softmax.csv'\n",
        "    initaildf.to_csv(filename,index=False)\n",
        "    epoch = 1\n",
        "    while epoch < 26:\n",
        "        print(f\"Epoch {epoch}:\")\n",
        "\n",
        "        # Training on one epoch\n",
        "        model.fit(train_data, train_labels, epochs=1, batch_size=64, verbose=1)\n",
        "\n",
        "        # Evaluate on the test dataset\n",
        "        loss, accuracy = model.evaluate(test_data, test_labels, verbose=0)\n",
        "        results = model.predict(test_data)\n",
        "        softmax_df = pd.DataFrame(results)\n",
        "        filename = filepath+str(epoch)+'_softmax.csv'\n",
        "        softmax_df.to_csv(filename,index=False)\n",
        "\n",
        "        print(f\"Test Loss: {loss}, Test Accuracy: {accuracy}\")\n",
        "        if epoch ==25:\n",
        "          model.save_weights(final_weights)\n",
        "          model.save(final_model)\n",
        "        epoch += 1\n",
        "\n",
        "\n"
      ],
      "metadata": {
        "id": "ISdhEM6VaVA4"
      },
      "execution_count": null,
      "outputs": []
    },
    {
      "cell_type": "code",
      "source": [
        "model_name = 'LeNet'\n",
        "dataset = 'CIFAR10'"
      ],
      "metadata": {
        "id": "ZW6sVYElRjz-"
      },
      "execution_count": null,
      "outputs": []
    },
    {
      "cell_type": "markdown",
      "source": [
        "# Creating Base Models"
      ],
      "metadata": {
        "id": "2EJSiXMAb4UR"
      }
    },
    {
      "cell_type": "code",
      "source": [
        "filepath = '/content/base/'\n",
        "init_weights = filepath + model_name + dataset + '_init_weights.tf'\n",
        "init_model = filepath + model_name + dataset +'_init.tf'\n",
        "final_weights = filepath + model_name + dataset +'_final_weights.tf'\n",
        "final_model= filepath + model_name + dataset +'_final.tf'"
      ],
      "metadata": {
        "id": "1WZTNNxJciha"
      },
      "execution_count": null,
      "outputs": []
    },
    {
      "cell_type": "code",
      "source": [
        "!mkdir '/content/base/'"
      ],
      "metadata": {
        "id": "slUSKBbwgTV4"
      },
      "execution_count": null,
      "outputs": []
    },
    {
      "cell_type": "code",
      "source": [
        "base = build_lenet_model(input_shape, num_classes)"
      ],
      "metadata": {
        "id": "ws_M91l3fZ24"
      },
      "execution_count": null,
      "outputs": []
    },
    {
      "cell_type": "code",
      "source": [
        "base.summary()"
      ],
      "metadata": {
        "colab": {
          "base_uri": "https://localhost:8080/"
        },
        "id": "UQaQ90kIhske",
        "outputId": "a191f20a-4eea-469d-b1c0-a7a907c09ee5"
      },
      "execution_count": null,
      "outputs": [
        {
          "output_type": "stream",
          "name": "stdout",
          "text": [
            "Model: \"sequential\"\n",
            "_________________________________________________________________\n",
            " Layer (type)                Output Shape              Param #   \n",
            "=================================================================\n",
            " conv2d (Conv2D)             (None, 30, 30, 32)        896       \n",
            "                                                                 \n",
            " max_pooling2d (MaxPooling2  (None, 15, 15, 32)        0         \n",
            " D)                                                              \n",
            "                                                                 \n",
            " conv2d_1 (Conv2D)           (None, 13, 13, 64)        18496     \n",
            "                                                                 \n",
            " max_pooling2d_1 (MaxPoolin  (None, 6, 6, 64)          0         \n",
            " g2D)                                                            \n",
            "                                                                 \n",
            " flatten (Flatten)           (None, 2304)              0         \n",
            "                                                                 \n",
            " dense (Dense)               (None, 128)               295040    \n",
            "                                                                 \n",
            " dense_1 (Dense)             (None, 10)                1290      \n",
            "                                                                 \n",
            "=================================================================\n",
            "Total params: 315722 (1.20 MB)\n",
            "Trainable params: 315722 (1.20 MB)\n",
            "Non-trainable params: 0 (0.00 Byte)\n",
            "_________________________________________________________________\n"
          ]
        }
      ]
    },
    {
      "cell_type": "code",
      "source": [
        "train_lenet(base,x_train,y_train,x_test,y_test)"
      ],
      "metadata": {
        "colab": {
          "base_uri": "https://localhost:8080/"
        },
        "id": "xEAxJbswxiTX",
        "outputId": "b8e426bc-3389-4d6c-b559-8b12fb4a95d9"
      },
      "execution_count": null,
      "outputs": [
        {
          "output_type": "stream",
          "name": "stdout",
          "text": [
            "313/313 [==============================] - 3s 4ms/step\n",
            "Epoch 1:\n",
            "782/782 [==============================] - 11s 9ms/step - loss: 1.4692 - accuracy: 0.4723\n",
            "313/313 [==============================] - 1s 4ms/step\n",
            "Test Loss: 1.2061899900436401, Test Accuracy: 0.5666999816894531\n",
            "Epoch 2:\n",
            "782/782 [==============================] - 3s 4ms/step - loss: 1.1136 - accuracy: 0.6079\n",
            "313/313 [==============================] - 1s 3ms/step\n",
            "Test Loss: 1.0377649068832397, Test Accuracy: 0.6371999979019165\n",
            "Epoch 3:\n",
            "782/782 [==============================] - 3s 4ms/step - loss: 0.9711 - accuracy: 0.6615\n",
            "313/313 [==============================] - 1s 2ms/step\n",
            "Test Loss: 0.9755279421806335, Test Accuracy: 0.6610000133514404\n",
            "Epoch 4:\n",
            "782/782 [==============================] - 4s 5ms/step - loss: 0.8694 - accuracy: 0.6988\n",
            "313/313 [==============================] - 1s 2ms/step\n",
            "Test Loss: 0.9423867464065552, Test Accuracy: 0.6783000230789185\n",
            "Epoch 5:\n",
            "782/782 [==============================] - 4s 5ms/step - loss: 0.7900 - accuracy: 0.7266\n",
            "313/313 [==============================] - 1s 2ms/step\n",
            "Test Loss: 0.9233331084251404, Test Accuracy: 0.6886000037193298\n",
            "Epoch 6:\n",
            "782/782 [==============================] - 3s 4ms/step - loss: 0.7207 - accuracy: 0.7495\n",
            "313/313 [==============================] - 1s 2ms/step\n",
            "Test Loss: 0.928912878036499, Test Accuracy: 0.6886000037193298\n",
            "Epoch 7:\n",
            "782/782 [==============================] - 3s 4ms/step - loss: 0.6601 - accuracy: 0.7726\n",
            "313/313 [==============================] - 1s 2ms/step\n",
            "Test Loss: 0.9393592476844788, Test Accuracy: 0.6905999779701233\n",
            "Epoch 8:\n",
            "782/782 [==============================] - 4s 5ms/step - loss: 0.6061 - accuracy: 0.7916\n",
            "313/313 [==============================] - 1s 2ms/step\n",
            "Test Loss: 0.9832789301872253, Test Accuracy: 0.682200014591217\n",
            "Epoch 9:\n",
            "782/782 [==============================] - 5s 6ms/step - loss: 0.5547 - accuracy: 0.8088\n",
            "313/313 [==============================] - 1s 2ms/step\n",
            "Test Loss: 1.0154321193695068, Test Accuracy: 0.6818000078201294\n",
            "Epoch 10:\n",
            "782/782 [==============================] - 3s 4ms/step - loss: 0.5074 - accuracy: 0.8269\n",
            "313/313 [==============================] - 1s 3ms/step\n",
            "Test Loss: 1.078272819519043, Test Accuracy: 0.6771000027656555\n",
            "Epoch 11:\n",
            "782/782 [==============================] - 3s 4ms/step - loss: 0.4712 - accuracy: 0.8387\n",
            "313/313 [==============================] - 1s 2ms/step\n",
            "Test Loss: 1.1097922325134277, Test Accuracy: 0.6836000084877014\n",
            "Epoch 12:\n",
            "782/782 [==============================] - 4s 5ms/step - loss: 0.4330 - accuracy: 0.8518\n",
            "313/313 [==============================] - 1s 2ms/step\n",
            "Test Loss: 1.1810307502746582, Test Accuracy: 0.677299976348877\n",
            "Epoch 13:\n",
            "782/782 [==============================] - 3s 4ms/step - loss: 0.3983 - accuracy: 0.8613\n",
            "313/313 [==============================] - 1s 2ms/step\n",
            "Test Loss: 1.2538737058639526, Test Accuracy: 0.6697999835014343\n",
            "Epoch 14:\n",
            "782/782 [==============================] - 3s 4ms/step - loss: 0.3630 - accuracy: 0.8727\n",
            "313/313 [==============================] - 1s 2ms/step\n",
            "Test Loss: 1.3545924425125122, Test Accuracy: 0.6672999858856201\n",
            "Epoch 15:\n",
            "782/782 [==============================] - 3s 4ms/step - loss: 0.3293 - accuracy: 0.8852\n",
            "313/313 [==============================] - 1s 2ms/step\n",
            "Test Loss: 1.404797077178955, Test Accuracy: 0.6660000085830688\n",
            "Epoch 16:\n",
            "782/782 [==============================] - 4s 5ms/step - loss: 0.2978 - accuracy: 0.8947\n",
            "313/313 [==============================] - 1s 2ms/step\n",
            "Test Loss: 1.4421448707580566, Test Accuracy: 0.6700999736785889\n",
            "Epoch 17:\n",
            "782/782 [==============================] - 3s 4ms/step - loss: 0.2726 - accuracy: 0.9036\n",
            "313/313 [==============================] - 1s 2ms/step\n",
            "Test Loss: 1.5283939838409424, Test Accuracy: 0.6717000007629395\n",
            "Epoch 18:\n",
            "782/782 [==============================] - 4s 5ms/step - loss: 0.2469 - accuracy: 0.9120\n",
            "313/313 [==============================] - 1s 2ms/step\n",
            "Test Loss: 1.6505659818649292, Test Accuracy: 0.6635000109672546\n",
            "Epoch 19:\n",
            "782/782 [==============================] - 3s 4ms/step - loss: 0.2152 - accuracy: 0.9251\n",
            "313/313 [==============================] - 1s 3ms/step\n",
            "Test Loss: 1.7479541301727295, Test Accuracy: 0.6582000255584717\n",
            "Epoch 20:\n",
            "782/782 [==============================] - 3s 4ms/step - loss: 0.1952 - accuracy: 0.9309\n",
            "313/313 [==============================] - 1s 2ms/step\n",
            "Test Loss: 1.8682072162628174, Test Accuracy: 0.6545000076293945\n",
            "Epoch 21:\n",
            "782/782 [==============================] - 4s 5ms/step - loss: 0.1828 - accuracy: 0.9350\n",
            "313/313 [==============================] - 1s 2ms/step\n",
            "Test Loss: 2.0367164611816406, Test Accuracy: 0.6498000025749207\n",
            "Epoch 22:\n",
            "782/782 [==============================] - 3s 4ms/step - loss: 0.1766 - accuracy: 0.9363\n",
            "313/313 [==============================] - 1s 2ms/step\n",
            "Test Loss: 2.0208117961883545, Test Accuracy: 0.6542999744415283\n",
            "Epoch 23:\n",
            "782/782 [==============================] - 3s 4ms/step - loss: 0.1690 - accuracy: 0.9393\n",
            "313/313 [==============================] - 1s 2ms/step\n",
            "Test Loss: 2.1844217777252197, Test Accuracy: 0.6416000127792358\n",
            "Epoch 24:\n",
            "782/782 [==============================] - 4s 5ms/step - loss: 0.1585 - accuracy: 0.9408\n",
            "313/313 [==============================] - 1s 2ms/step\n",
            "Test Loss: 2.364835739135742, Test Accuracy: 0.6284000277519226\n",
            "Epoch 25:\n",
            "782/782 [==============================] - 4s 5ms/step - loss: 0.1468 - accuracy: 0.9475\n",
            "313/313 [==============================] - 1s 2ms/step\n",
            "Test Loss: 2.427269220352173, Test Accuracy: 0.633899986743927\n"
          ]
        }
      ]
    },
    {
      "cell_type": "code",
      "source": [
        "del (base)\n",
        "gc.collect()\n",
        "keras.backend.clear_session()"
      ],
      "metadata": {
        "id": "FJTpZuPCRNuO"
      },
      "execution_count": null,
      "outputs": []
    },
    {
      "cell_type": "markdown",
      "source": [
        "# Independant model one"
      ],
      "metadata": {
        "id": "ug9epnRWclXx"
      }
    },
    {
      "cell_type": "code",
      "source": [
        "filepath = '/content/independant_1/'\n",
        "init_weights = filepath + model_name + dataset + '_init_weights.tf'\n",
        "init_model = filepath + model_name + dataset + '_init.tf'\n",
        "final_weights = filepath + model_name + dataset + '_final_weights.tf'\n",
        "final_model= filepath + model_name + dataset + '_final.tf'"
      ],
      "metadata": {
        "id": "CgYyTzPGckv5"
      },
      "execution_count": null,
      "outputs": []
    },
    {
      "cell_type": "code",
      "source": [
        "!mkdir  '/content/independant_1/'"
      ],
      "metadata": {
        "id": "a27D5LR5gpFp"
      },
      "execution_count": null,
      "outputs": []
    },
    {
      "cell_type": "code",
      "source": [
        "model_independant_1 = build_lenet_model(input_shape, num_classes)"
      ],
      "metadata": {
        "id": "0ZmvRweSc6P8"
      },
      "execution_count": null,
      "outputs": []
    },
    {
      "cell_type": "code",
      "source": [
        "train_lenet(model_independant_1,x_train,y_train,x_test,y_test)"
      ],
      "metadata": {
        "colab": {
          "base_uri": "https://localhost:8080/"
        },
        "id": "nbSGMFzRdA5Z",
        "outputId": "1e2762c5-090e-41a4-e278-e8fc67b71386"
      },
      "execution_count": null,
      "outputs": [
        {
          "output_type": "stream",
          "name": "stdout",
          "text": [
            "313/313 [==============================] - 1s 2ms/step\n",
            "Epoch 1:\n",
            "782/782 [==============================] - 5s 5ms/step - loss: 1.4556 - accuracy: 0.4810\n",
            "313/313 [==============================] - 1s 2ms/step\n",
            "Test Loss: 1.2111927270889282, Test Accuracy: 0.5756000280380249\n",
            "Epoch 2:\n",
            "782/782 [==============================] - 3s 4ms/step - loss: 1.1131 - accuracy: 0.6114\n",
            "313/313 [==============================] - 1s 3ms/step\n",
            "Test Loss: 1.052960753440857, Test Accuracy: 0.6309000253677368\n",
            "Epoch 3:\n",
            "782/782 [==============================] - 3s 4ms/step - loss: 0.9820 - accuracy: 0.6600\n",
            "313/313 [==============================] - 1s 2ms/step\n",
            "Test Loss: 0.9895525574684143, Test Accuracy: 0.6554999947547913\n",
            "Epoch 4:\n",
            "782/782 [==============================] - 4s 5ms/step - loss: 0.8916 - accuracy: 0.6921\n",
            "313/313 [==============================] - 1s 2ms/step\n",
            "Test Loss: 0.9495759010314941, Test Accuracy: 0.6722999811172485\n",
            "Epoch 5:\n",
            "782/782 [==============================] - 3s 4ms/step - loss: 0.8194 - accuracy: 0.7160\n",
            "313/313 [==============================] - 1s 2ms/step\n",
            "Test Loss: 0.9176976680755615, Test Accuracy: 0.6854000091552734\n",
            "Epoch 6:\n",
            "782/782 [==============================] - 3s 4ms/step - loss: 0.7538 - accuracy: 0.7388\n",
            "313/313 [==============================] - 1s 2ms/step\n",
            "Test Loss: 0.9124781489372253, Test Accuracy: 0.6906999945640564\n",
            "Epoch 7:\n",
            "782/782 [==============================] - 4s 5ms/step - loss: 0.6931 - accuracy: 0.7609\n",
            "313/313 [==============================] - 1s 2ms/step\n",
            "Test Loss: 0.9068896770477295, Test Accuracy: 0.697700023651123\n",
            "Epoch 8:\n",
            "782/782 [==============================] - 3s 4ms/step - loss: 0.6385 - accuracy: 0.7789\n",
            "313/313 [==============================] - 1s 2ms/step\n",
            "Test Loss: 0.9391393661499023, Test Accuracy: 0.6912999749183655\n",
            "Epoch 9:\n",
            "782/782 [==============================] - 3s 4ms/step - loss: 0.5911 - accuracy: 0.7975\n",
            "313/313 [==============================] - 1s 2ms/step\n",
            "Test Loss: 0.9707143306732178, Test Accuracy: 0.6919000148773193\n",
            "Epoch 10:\n",
            "782/782 [==============================] - 3s 4ms/step - loss: 0.5478 - accuracy: 0.8128\n",
            "313/313 [==============================] - 1s 2ms/step\n",
            "Test Loss: 1.0056734085083008, Test Accuracy: 0.689300000667572\n",
            "Epoch 11:\n",
            "782/782 [==============================] - 4s 5ms/step - loss: 0.5038 - accuracy: 0.8285\n",
            "313/313 [==============================] - 1s 2ms/step\n",
            "Test Loss: 1.050041675567627, Test Accuracy: 0.6883999705314636\n",
            "Epoch 12:\n",
            "782/782 [==============================] - 3s 4ms/step - loss: 0.4726 - accuracy: 0.8367\n",
            "313/313 [==============================] - 1s 2ms/step\n",
            "Test Loss: 1.072737216949463, Test Accuracy: 0.6881999969482422\n",
            "Epoch 13:\n",
            "782/782 [==============================] - 3s 4ms/step - loss: 0.4429 - accuracy: 0.8488\n",
            "313/313 [==============================] - 1s 2ms/step\n",
            "Test Loss: 1.15204656124115, Test Accuracy: 0.6812000274658203\n",
            "Epoch 14:\n",
            "782/782 [==============================] - 4s 5ms/step - loss: 0.4081 - accuracy: 0.8602\n",
            "313/313 [==============================] - 1s 2ms/step\n",
            "Test Loss: 1.2191197872161865, Test Accuracy: 0.6783999800682068\n",
            "Epoch 15:\n",
            "782/782 [==============================] - 4s 5ms/step - loss: 0.3714 - accuracy: 0.8699\n",
            "313/313 [==============================] - 1s 2ms/step\n",
            "Test Loss: 1.3151233196258545, Test Accuracy: 0.6733999848365784\n",
            "Epoch 16:\n",
            "782/782 [==============================] - 3s 4ms/step - loss: 0.3507 - accuracy: 0.8766\n",
            "313/313 [==============================] - 1s 2ms/step\n",
            "Test Loss: 1.4486021995544434, Test Accuracy: 0.6615999937057495\n",
            "Epoch 17:\n",
            "782/782 [==============================] - 4s 5ms/step - loss: 0.3238 - accuracy: 0.8857\n",
            "313/313 [==============================] - 1s 2ms/step\n",
            "Test Loss: 1.6533454656600952, Test Accuracy: 0.6406999826431274\n",
            "Epoch 18:\n",
            "782/782 [==============================] - 3s 4ms/step - loss: 0.3044 - accuracy: 0.8930\n",
            "313/313 [==============================] - 1s 2ms/step\n",
            "Test Loss: 1.7047216892242432, Test Accuracy: 0.6464999914169312\n",
            "Epoch 19:\n",
            "782/782 [==============================] - 3s 4ms/step - loss: 0.2786 - accuracy: 0.9008\n",
            "313/313 [==============================] - 1s 3ms/step\n",
            "Test Loss: 1.7357767820358276, Test Accuracy: 0.6514999866485596\n",
            "Epoch 20:\n",
            "782/782 [==============================] - 3s 4ms/step - loss: 0.2487 - accuracy: 0.9117\n",
            "313/313 [==============================] - 1s 2ms/step\n",
            "Test Loss: 1.786527156829834, Test Accuracy: 0.6588000059127808\n",
            "Epoch 21:\n",
            "782/782 [==============================] - 4s 5ms/step - loss: 0.2343 - accuracy: 0.9158\n",
            "313/313 [==============================] - 1s 2ms/step\n",
            "Test Loss: 1.855755090713501, Test Accuracy: 0.65829998254776\n",
            "Epoch 22:\n",
            "782/782 [==============================] - 3s 4ms/step - loss: 0.2163 - accuracy: 0.9219\n",
            "313/313 [==============================] - 1s 3ms/step\n",
            "Test Loss: 1.9370325803756714, Test Accuracy: 0.6542999744415283\n",
            "Epoch 23:\n",
            "782/782 [==============================] - 3s 4ms/step - loss: 0.2050 - accuracy: 0.9247\n",
            "313/313 [==============================] - 1s 2ms/step\n",
            "Test Loss: 2.005524158477783, Test Accuracy: 0.656000018119812\n",
            "Epoch 24:\n",
            "782/782 [==============================] - 4s 5ms/step - loss: 0.1871 - accuracy: 0.9322\n",
            "313/313 [==============================] - 1s 2ms/step\n",
            "Test Loss: 2.056903600692749, Test Accuracy: 0.6632999777793884\n",
            "Epoch 25:\n",
            "782/782 [==============================] - 4s 4ms/step - loss: 0.1662 - accuracy: 0.9407\n",
            "313/313 [==============================] - 1s 2ms/step\n",
            "Test Loss: 2.215052604675293, Test Accuracy: 0.6553999781608582\n"
          ]
        }
      ]
    },
    {
      "cell_type": "code",
      "source": [
        "del (model_independant_1)\n",
        "gc.collect()\n",
        "keras.backend.clear_session()"
      ],
      "metadata": {
        "id": "XW6INm6kSxFS"
      },
      "execution_count": null,
      "outputs": []
    },
    {
      "cell_type": "markdown",
      "source": [
        "# Independant 2"
      ],
      "metadata": {
        "id": "X2OTEYTFdUAE"
      }
    },
    {
      "cell_type": "code",
      "source": [
        "filepath = '/content/independant_2/'\n",
        "init_weights = filepath + model_name + dataset + '_init_weights.tf'\n",
        "init_model = filepath + model_name + dataset + '_init.tf'\n",
        "final_weights =filepath + model_name + dataset + '_final_weights.tf'\n",
        "final_model= filepath + model_name + dataset + '_final.tf'"
      ],
      "metadata": {
        "id": "m_6iAeLLdWyf"
      },
      "execution_count": null,
      "outputs": []
    },
    {
      "cell_type": "code",
      "source": [
        "!mkdir '/content/independant_2/'"
      ],
      "metadata": {
        "id": "Qq4QQMaTgwcV"
      },
      "execution_count": null,
      "outputs": []
    },
    {
      "cell_type": "code",
      "source": [
        "model_independant_2 = build_lenet_model(input_shape, num_classes)"
      ],
      "metadata": {
        "id": "WB-QyYy1df0r"
      },
      "execution_count": null,
      "outputs": []
    },
    {
      "cell_type": "code",
      "source": [
        "train_lenet(model_independant_2,x_train,y_train,x_test,y_test)"
      ],
      "metadata": {
        "id": "axvsh5YIdjHr",
        "colab": {
          "base_uri": "https://localhost:8080/"
        },
        "outputId": "8bf28391-701f-4229-e332-16bfb6b67ee8"
      },
      "execution_count": null,
      "outputs": [
        {
          "output_type": "stream",
          "name": "stdout",
          "text": [
            "313/313 [==============================] - 1s 2ms/step\n",
            "Epoch 1:\n",
            "782/782 [==============================] - 5s 5ms/step - loss: 1.4745 - accuracy: 0.4728\n",
            "313/313 [==============================] - 1s 2ms/step\n",
            "Test Loss: 1.2225019931793213, Test Accuracy: 0.5684000253677368\n",
            "Epoch 2:\n",
            "782/782 [==============================] - 3s 4ms/step - loss: 1.1299 - accuracy: 0.6035\n",
            "313/313 [==============================] - 1s 2ms/step\n",
            "Test Loss: 1.0676370859146118, Test Accuracy: 0.628600001335144\n",
            "Epoch 3:\n",
            "782/782 [==============================] - 3s 4ms/step - loss: 0.9890 - accuracy: 0.6550\n",
            "313/313 [==============================] - 1s 2ms/step\n",
            "Test Loss: 0.9769660234451294, Test Accuracy: 0.6592000126838684\n",
            "Epoch 4:\n",
            "782/782 [==============================] - 4s 5ms/step - loss: 0.8893 - accuracy: 0.6904\n",
            "313/313 [==============================] - 1s 2ms/step\n",
            "Test Loss: 0.9644829034805298, Test Accuracy: 0.6621999740600586\n",
            "Epoch 5:\n",
            "782/782 [==============================] - 3s 4ms/step - loss: 0.8097 - accuracy: 0.7198\n",
            "313/313 [==============================] - 1s 3ms/step\n",
            "Test Loss: 0.967083215713501, Test Accuracy: 0.6704000234603882\n",
            "Epoch 6:\n",
            "782/782 [==============================] - 3s 4ms/step - loss: 0.7395 - accuracy: 0.7458\n",
            "313/313 [==============================] - 1s 2ms/step\n",
            "Test Loss: 0.95204758644104, Test Accuracy: 0.6791999936103821\n",
            "Epoch 7:\n",
            "782/782 [==============================] - 4s 5ms/step - loss: 0.6798 - accuracy: 0.7655\n",
            "313/313 [==============================] - 1s 2ms/step\n",
            "Test Loss: 0.9622297883033752, Test Accuracy: 0.6855999827384949\n",
            "Epoch 8:\n",
            "782/782 [==============================] - 3s 4ms/step - loss: 0.6263 - accuracy: 0.7846\n",
            "313/313 [==============================] - 1s 2ms/step\n",
            "Test Loss: 0.9917171597480774, Test Accuracy: 0.6848999857902527\n",
            "Epoch 9:\n",
            "782/782 [==============================] - 3s 4ms/step - loss: 0.5779 - accuracy: 0.8007\n",
            "313/313 [==============================] - 1s 2ms/step\n",
            "Test Loss: 1.0222434997558594, Test Accuracy: 0.6880000233650208\n",
            "Epoch 10:\n",
            "782/782 [==============================] - 4s 5ms/step - loss: 0.5365 - accuracy: 0.8149\n",
            "313/313 [==============================] - 1s 2ms/step\n",
            "Test Loss: 1.055827021598816, Test Accuracy: 0.6847000122070312\n",
            "Epoch 11:\n",
            "782/782 [==============================] - 4s 5ms/step - loss: 0.4959 - accuracy: 0.8305\n",
            "313/313 [==============================] - 1s 2ms/step\n",
            "Test Loss: 1.103041648864746, Test Accuracy: 0.6819000244140625\n",
            "Epoch 12:\n",
            "782/782 [==============================] - 4s 5ms/step - loss: 0.4524 - accuracy: 0.8447\n",
            "313/313 [==============================] - 1s 2ms/step\n",
            "Test Loss: 1.1531689167022705, Test Accuracy: 0.6812999844551086\n",
            "Epoch 13:\n",
            "782/782 [==============================] - 3s 4ms/step - loss: 0.4132 - accuracy: 0.8575\n",
            "313/313 [==============================] - 1s 3ms/step\n",
            "Test Loss: 1.2480002641677856, Test Accuracy: 0.6708999872207642\n",
            "Epoch 14:\n",
            "782/782 [==============================] - 4s 4ms/step - loss: 0.3777 - accuracy: 0.8697\n",
            "313/313 [==============================] - 1s 2ms/step\n",
            "Test Loss: 1.4102060794830322, Test Accuracy: 0.6500999927520752\n",
            "Epoch 15:\n",
            "782/782 [==============================] - 4s 5ms/step - loss: 0.3442 - accuracy: 0.8797\n",
            "313/313 [==============================] - 1s 2ms/step\n",
            "Test Loss: 1.5883148908615112, Test Accuracy: 0.6358000040054321\n",
            "Epoch 16:\n",
            "782/782 [==============================] - 4s 4ms/step - loss: 0.3160 - accuracy: 0.8901\n",
            "313/313 [==============================] - 1s 2ms/step\n",
            "Test Loss: 1.6679574251174927, Test Accuracy: 0.6367999911308289\n",
            "Epoch 17:\n",
            "782/782 [==============================] - 3s 4ms/step - loss: 0.2838 - accuracy: 0.9010\n",
            "313/313 [==============================] - 1s 2ms/step\n",
            "Test Loss: 1.6992419958114624, Test Accuracy: 0.649399995803833\n",
            "Epoch 18:\n",
            "782/782 [==============================] - 4s 5ms/step - loss: 0.2565 - accuracy: 0.9097\n",
            "313/313 [==============================] - 1s 2ms/step\n",
            "Test Loss: 1.7380304336547852, Test Accuracy: 0.6520000100135803\n",
            "Epoch 19:\n",
            "782/782 [==============================] - 4s 5ms/step - loss: 0.2340 - accuracy: 0.9177\n",
            "313/313 [==============================] - 1s 2ms/step\n",
            "Test Loss: 1.7687841653823853, Test Accuracy: 0.660099983215332\n",
            "Epoch 20:\n",
            "782/782 [==============================] - 4s 5ms/step - loss: 0.2228 - accuracy: 0.9207\n",
            "313/313 [==============================] - 1s 2ms/step\n",
            "Test Loss: 1.8021605014801025, Test Accuracy: 0.6626999974250793\n",
            "Epoch 21:\n",
            "782/782 [==============================] - 4s 5ms/step - loss: 0.1985 - accuracy: 0.9291\n",
            "313/313 [==============================] - 1s 2ms/step\n",
            "Test Loss: 1.9687763452529907, Test Accuracy: 0.6563000082969666\n",
            "Epoch 22:\n",
            "782/782 [==============================] - 3s 4ms/step - loss: 0.1763 - accuracy: 0.9371\n",
            "313/313 [==============================] - 1s 3ms/step\n",
            "Test Loss: 2.0874600410461426, Test Accuracy: 0.6527000069618225\n",
            "Epoch 23:\n",
            "782/782 [==============================] - 3s 4ms/step - loss: 0.1518 - accuracy: 0.9477\n",
            "313/313 [==============================] - 1s 2ms/step\n",
            "Test Loss: 2.206188440322876, Test Accuracy: 0.6466000080108643\n",
            "Epoch 24:\n",
            "782/782 [==============================] - 4s 5ms/step - loss: 0.1460 - accuracy: 0.9477\n",
            "313/313 [==============================] - 1s 2ms/step\n",
            "Test Loss: 2.324737071990967, Test Accuracy: 0.6484000086784363\n",
            "Epoch 25:\n",
            "782/782 [==============================] - 3s 4ms/step - loss: 0.1444 - accuracy: 0.9477\n",
            "313/313 [==============================] - 1s 2ms/step\n",
            "Test Loss: 2.4100019931793213, Test Accuracy: 0.6480000019073486\n"
          ]
        }
      ]
    },
    {
      "cell_type": "code",
      "source": [
        "del (model_independant_2)\n",
        "gc.collect()\n",
        "keras.backend.clear_session()"
      ],
      "metadata": {
        "id": "-t_bBGPKS9oi"
      },
      "execution_count": null,
      "outputs": []
    },
    {
      "cell_type": "markdown",
      "source": [
        "#Download Independant Models"
      ],
      "metadata": {
        "id": "TxQrGkUBYePo"
      }
    },
    {
      "cell_type": "code",
      "source": [
        "shutil.make_archive(\"base\", 'zip', \"base\")\n",
        "files.download(\"base.zip\")"
      ],
      "metadata": {
        "colab": {
          "base_uri": "https://localhost:8080/",
          "height": 34
        },
        "id": "g1ii0HZCYZ1_",
        "outputId": "45c8a770-5953-467e-b54e-0c233d0053a0"
      },
      "execution_count": null,
      "outputs": [
        {
          "output_type": "display_data",
          "data": {
            "text/plain": [
              "<IPython.core.display.Javascript object>"
            ],
            "application/javascript": [
              "\n",
              "    async function download(id, filename, size) {\n",
              "      if (!google.colab.kernel.accessAllowed) {\n",
              "        return;\n",
              "      }\n",
              "      const div = document.createElement('div');\n",
              "      const label = document.createElement('label');\n",
              "      label.textContent = `Downloading \"${filename}\": `;\n",
              "      div.appendChild(label);\n",
              "      const progress = document.createElement('progress');\n",
              "      progress.max = size;\n",
              "      div.appendChild(progress);\n",
              "      document.body.appendChild(div);\n",
              "\n",
              "      const buffers = [];\n",
              "      let downloaded = 0;\n",
              "\n",
              "      const channel = await google.colab.kernel.comms.open(id);\n",
              "      // Send a message to notify the kernel that we're ready.\n",
              "      channel.send({})\n",
              "\n",
              "      for await (const message of channel.messages) {\n",
              "        // Send a message to notify the kernel that we're ready.\n",
              "        channel.send({})\n",
              "        if (message.buffers) {\n",
              "          for (const buffer of message.buffers) {\n",
              "            buffers.push(buffer);\n",
              "            downloaded += buffer.byteLength;\n",
              "            progress.value = downloaded;\n",
              "          }\n",
              "        }\n",
              "      }\n",
              "      const blob = new Blob(buffers, {type: 'application/binary'});\n",
              "      const a = document.createElement('a');\n",
              "      a.href = window.URL.createObjectURL(blob);\n",
              "      a.download = filename;\n",
              "      div.appendChild(a);\n",
              "      a.click();\n",
              "      div.remove();\n",
              "    }\n",
              "  "
            ]
          },
          "metadata": {}
        },
        {
          "output_type": "display_data",
          "data": {
            "text/plain": [
              "<IPython.core.display.Javascript object>"
            ],
            "application/javascript": [
              "download(\"download_4809aed2-c7e1-4c93-922c-d6c1ac092b9f\", \"base.zip\", 22636733)"
            ]
          },
          "metadata": {}
        }
      ]
    },
    {
      "cell_type": "code",
      "source": [
        "shutil.make_archive(\"independant_1\", 'zip', \"independant_1\")\n",
        "files.download(\"independant_1.zip\")"
      ],
      "metadata": {
        "colab": {
          "base_uri": "https://localhost:8080/",
          "height": 34
        },
        "id": "mvnU0VFaYccw",
        "outputId": "eb450e59-44a5-4b51-ba5b-419881c8a334"
      },
      "execution_count": null,
      "outputs": [
        {
          "output_type": "display_data",
          "data": {
            "text/plain": [
              "<IPython.core.display.Javascript object>"
            ],
            "application/javascript": [
              "\n",
              "    async function download(id, filename, size) {\n",
              "      if (!google.colab.kernel.accessAllowed) {\n",
              "        return;\n",
              "      }\n",
              "      const div = document.createElement('div');\n",
              "      const label = document.createElement('label');\n",
              "      label.textContent = `Downloading \"${filename}\": `;\n",
              "      div.appendChild(label);\n",
              "      const progress = document.createElement('progress');\n",
              "      progress.max = size;\n",
              "      div.appendChild(progress);\n",
              "      document.body.appendChild(div);\n",
              "\n",
              "      const buffers = [];\n",
              "      let downloaded = 0;\n",
              "\n",
              "      const channel = await google.colab.kernel.comms.open(id);\n",
              "      // Send a message to notify the kernel that we're ready.\n",
              "      channel.send({})\n",
              "\n",
              "      for await (const message of channel.messages) {\n",
              "        // Send a message to notify the kernel that we're ready.\n",
              "        channel.send({})\n",
              "        if (message.buffers) {\n",
              "          for (const buffer of message.buffers) {\n",
              "            buffers.push(buffer);\n",
              "            downloaded += buffer.byteLength;\n",
              "            progress.value = downloaded;\n",
              "          }\n",
              "        }\n",
              "      }\n",
              "      const blob = new Blob(buffers, {type: 'application/binary'});\n",
              "      const a = document.createElement('a');\n",
              "      a.href = window.URL.createObjectURL(blob);\n",
              "      a.download = filename;\n",
              "      div.appendChild(a);\n",
              "      a.click();\n",
              "      div.remove();\n",
              "    }\n",
              "  "
            ]
          },
          "metadata": {}
        },
        {
          "output_type": "display_data",
          "data": {
            "text/plain": [
              "<IPython.core.display.Javascript object>"
            ],
            "application/javascript": [
              "download(\"download_f0b24716-b3d7-447b-a657-50c915d928bb\", \"independant_1.zip\", 22461792)"
            ]
          },
          "metadata": {}
        }
      ]
    },
    {
      "cell_type": "code",
      "source": [
        "\n",
        "shutil.make_archive(\"independant_2\", 'zip', \"independant_2\")\n",
        "files.download(\"independant_2.zip\")"
      ],
      "metadata": {
        "colab": {
          "base_uri": "https://localhost:8080/",
          "height": 34
        },
        "id": "dlW_iuJEYdt4",
        "outputId": "da8de27f-84e1-45a4-fb2c-474fda97b34e"
      },
      "execution_count": null,
      "outputs": [
        {
          "output_type": "display_data",
          "data": {
            "text/plain": [
              "<IPython.core.display.Javascript object>"
            ],
            "application/javascript": [
              "\n",
              "    async function download(id, filename, size) {\n",
              "      if (!google.colab.kernel.accessAllowed) {\n",
              "        return;\n",
              "      }\n",
              "      const div = document.createElement('div');\n",
              "      const label = document.createElement('label');\n",
              "      label.textContent = `Downloading \"${filename}\": `;\n",
              "      div.appendChild(label);\n",
              "      const progress = document.createElement('progress');\n",
              "      progress.max = size;\n",
              "      div.appendChild(progress);\n",
              "      document.body.appendChild(div);\n",
              "\n",
              "      const buffers = [];\n",
              "      let downloaded = 0;\n",
              "\n",
              "      const channel = await google.colab.kernel.comms.open(id);\n",
              "      // Send a message to notify the kernel that we're ready.\n",
              "      channel.send({})\n",
              "\n",
              "      for await (const message of channel.messages) {\n",
              "        // Send a message to notify the kernel that we're ready.\n",
              "        channel.send({})\n",
              "        if (message.buffers) {\n",
              "          for (const buffer of message.buffers) {\n",
              "            buffers.push(buffer);\n",
              "            downloaded += buffer.byteLength;\n",
              "            progress.value = downloaded;\n",
              "          }\n",
              "        }\n",
              "      }\n",
              "      const blob = new Blob(buffers, {type: 'application/binary'});\n",
              "      const a = document.createElement('a');\n",
              "      a.href = window.URL.createObjectURL(blob);\n",
              "      a.download = filename;\n",
              "      div.appendChild(a);\n",
              "      a.click();\n",
              "      div.remove();\n",
              "    }\n",
              "  "
            ]
          },
          "metadata": {}
        },
        {
          "output_type": "display_data",
          "data": {
            "text/plain": [
              "<IPython.core.display.Javascript object>"
            ],
            "application/javascript": [
              "download(\"download_d8bb9794-e420-4c92-8c5c-430cd61aff77\", \"independant_2.zip\", 22483986)"
            ]
          },
          "metadata": {}
        }
      ]
    },
    {
      "cell_type": "markdown",
      "source": [
        "---"
      ],
      "metadata": {
        "id": "1M1eiG9hE3Up"
      }
    },
    {
      "cell_type": "markdown",
      "source": [
        "# Distillation"
      ],
      "metadata": {
        "id": "BXdp-pUi2U5_"
      }
    },
    {
      "cell_type": "code",
      "source": [
        "def train_custom(model, train_data, train_labels, test_data, test_labels):\n",
        "    initailsoftmax = model.student.predict(test_data)\n",
        "    model.student.save_weights(init_weights)\n",
        "    model.student.save(init_model)\n",
        "    initaildf = pd.DataFrame(initailsoftmax)\n",
        "    filename = filepath + '0_softmax.csv'\n",
        "    initaildf.to_csv(filename,index=False)\n",
        "    epoch = 1\n",
        "    while epoch < 26:\n",
        "        print(f\"Epoch {epoch}:\")\n",
        "\n",
        "        # Training on one epoch\n",
        "        model.fit(train_data, train_labels, epochs=1, batch_size=64, verbose=1)\n",
        "\n",
        "        # Evaluate on the test dataset\n",
        "        results = model.student.predict(test_data)\n",
        "        softmax_df = pd.DataFrame(results)\n",
        "        filename = filepath+str(epoch)+'_softmax.csv'\n",
        "        softmax_df.to_csv(filename,index=False)\n",
        "        loss,accuracy = model.student.evaluate(test_data,test_labels)\n",
        "        print(f\"Test Loss: {loss}, Test Accuracy: {accuracy}\")\n",
        "\n",
        "        if epoch ==25:\n",
        "          model.student.save_weights(final_weights)\n",
        "          model.student.save(final_model)\n",
        "        epoch += 1\n",
        "\n",
        "# TO DO EVALUATE FUNCTION\n"
      ],
      "metadata": {
        "id": "q1gaVGRegqu_"
      },
      "execution_count": null,
      "outputs": []
    },
    {
      "cell_type": "code",
      "source": [
        "class Distiller(tf.keras.Model):\n",
        "    def __init__(self, student, teacher):\n",
        "        super().__init__()\n",
        "        self.teacher = teacher\n",
        "        self.student = student\n",
        "\n",
        "    def compile(\n",
        "        self,\n",
        "        optimizer,\n",
        "        metrics,\n",
        "        student_loss_fn,\n",
        "        distillation_loss_fn,\n",
        "        alpha,\n",
        "        temperature,\n",
        "    ):\n",
        "        super().compile(optimizer=optimizer, metrics=metrics)\n",
        "        self.student_loss_fn = student_loss_fn\n",
        "        self.distillation_loss_fn = distillation_loss_fn\n",
        "        self.alpha = alpha\n",
        "        self.temperature = temperature\n",
        "\n",
        "    def train_step(self, data):\n",
        "        # Unpack data\n",
        "        x, y = data\n",
        "\n",
        "        # Forward pass of teacher\n",
        "        teacher_predictions = self.teacher(x, training=False)\n",
        "\n",
        "        with tf.GradientTape() as tape:\n",
        "            # Forward pass of student\n",
        "            student_predictions = self.student(x, training=True)\n",
        "\n",
        "            # Compute losses\n",
        "            student_loss = self.student_loss_fn(y, student_predictions)\n",
        "\n",
        "            distillation_loss = (\n",
        "                self.distillation_loss_fn(\n",
        "                    tf.nn.softmax(teacher_predictions / self.temperature, axis=1),\n",
        "                    tf.nn.softmax(student_predictions / self.temperature, axis=1),\n",
        "                )\n",
        "                * self.temperature**2\n",
        "            )\n",
        "\n",
        "            loss = self.alpha * student_loss + (1 - self.alpha) * distillation_loss\n",
        "\n",
        "        # Compute gradients\n",
        "        trainable_vars = self.student.trainable_variables\n",
        "        gradients = tape.gradient(loss, trainable_vars)\n",
        "\n",
        "        # Update weights\n",
        "        self.optimizer.apply_gradients(zip(gradients, trainable_vars))\n",
        "\n",
        "        # Update the metrics configured in `compile()`.\n",
        "        self.compiled_metrics.update_state(y, student_predictions)\n",
        "\n",
        "        # Return a dict of performance\n",
        "        results = {m.name: m.result() for m in self.metrics}\n",
        "        results.update(\n",
        "            {\"student_loss\": student_loss, \"distillation_loss\": distillation_loss}\n",
        "        )\n",
        "\n",
        "        return results\n",
        "\n",
        "    def test_step(self, data):\n",
        "        # Unpack the data\n",
        "        x, y = data\n",
        "\n",
        "        # Compute predictions\n",
        "        y_prediction = self.student(x, training=False)\n",
        "        print(y_prediction)\n",
        "        # Calculate the loss\n",
        "        student_loss = self.student_loss_fn(y, y_prediction)\n",
        "\n",
        "        # Update the metrics.\n",
        "        self.compiled_metrics.update_state(y, y_prediction)\n",
        "\n",
        "        # Return a dict of performance\n",
        "        results = {m.name: m.result() for m in self.metrics}\n",
        "        results.update({\"student_loss\": student_loss})\n",
        "        return results"
      ],
      "metadata": {
        "id": "HfM5ezDj2mCH"
      },
      "execution_count": null,
      "outputs": []
    },
    {
      "cell_type": "markdown",
      "source": [
        "# Student 0.1 Alpha"
      ],
      "metadata": {
        "id": "OgQPe37aj3Ek"
      }
    },
    {
      "cell_type": "code",
      "source": [
        "model_path = '/content/base/LeNetCIFAR10_init.tf'\n",
        "student = load_model(model_path)\n",
        "student_scratch = tf.keras.models.clone_model(student)\n"
      ],
      "metadata": {
        "id": "EGgaXEX8j7IG"
      },
      "execution_count": null,
      "outputs": []
    },
    {
      "cell_type": "code",
      "source": [
        "teacher_model_path = '/content/base/LeNetCIFAR10_final.tf'\n",
        "techer_model = load_model(teacher_model_path)"
      ],
      "metadata": {
        "id": "ab_sFwqB-Tsh"
      },
      "execution_count": null,
      "outputs": []
    },
    {
      "cell_type": "code",
      "source": [
        "distiller = Distiller(student=student, teacher=techer_model)\n",
        "distiller.compile(\n",
        "    optimizer=tf.keras.optimizers.Adamax(learning_rate=0.001),\n",
        "    metrics=[tf.keras.metrics.CategoricalCrossentropy()],\n",
        "    student_loss_fn=tf.keras.losses.CategoricalCrossentropy(from_logits=True),\n",
        "    distillation_loss_fn=tf.keras.losses.KLDivergence(),\n",
        "    alpha=0.1,\n",
        "    temperature=3,\n",
        ")"
      ],
      "metadata": {
        "id": "KL5sBYc19ITH"
      },
      "execution_count": null,
      "outputs": []
    },
    {
      "cell_type": "code",
      "source": [
        "filepath = '/content/student_same/'\n",
        "init_weights = filepath + model_name + dataset + '_init_weights.tf'\n",
        "init_model = filepath + model_name + dataset + '_init.tf'\n",
        "final_weights = filepath + model_name + dataset + '_final_weights.tf'\n",
        "final_model= filepath + model_name + dataset + 'final.tf'"
      ],
      "metadata": {
        "id": "mvIefPKXnZ17"
      },
      "execution_count": null,
      "outputs": []
    },
    {
      "cell_type": "code",
      "source": [
        "!mkdir '/content/student_same/'"
      ],
      "metadata": {
        "id": "UqIWgvFfnUH2"
      },
      "execution_count": null,
      "outputs": []
    },
    {
      "cell_type": "code",
      "source": [
        "train_custom(distiller, x_train,y_train,x_test,y_test)"
      ],
      "metadata": {
        "colab": {
          "base_uri": "https://localhost:8080/"
        },
        "id": "K9Or3ngvlCSk",
        "outputId": "c7567795-3e2b-4e03-c1c4-fcb31f18a152"
      },
      "execution_count": null,
      "outputs": [
        {
          "output_type": "stream",
          "name": "stdout",
          "text": [
            "313/313 [==============================] - 1s 3ms/step\n",
            "Epoch 1:\n"
          ]
        },
        {
          "output_type": "stream",
          "name": "stderr",
          "text": [
            "/usr/local/lib/python3.10/dist-packages/keras/src/backend.py:5575: UserWarning: \"`categorical_crossentropy` received `from_logits=True`, but the `output` argument was produced by a Softmax activation and thus does not represent logits. Was this intended?\n",
            "  output, from_logits = _get_logits(\n"
          ]
        },
        {
          "output_type": "stream",
          "name": "stdout",
          "text": [
            "782/782 [==============================] - 8s 5ms/step - categorical_crossentropy: 1.6159 - student_loss: 1.6163 - distillation_loss: 0.0361\n",
            "313/313 [==============================] - 1s 2ms/step\n",
            "313/313 [==============================] - 1s 3ms/step - loss: 1.3891 - accuracy: 0.5101\n",
            "Test Loss: 1.389121413230896, Test Accuracy: 0.5101000070571899\n",
            "Epoch 2:\n",
            "782/782 [==============================] - 4s 5ms/step - categorical_crossentropy: 1.3146 - student_loss: 1.3153 - distillation_loss: 0.0301\n",
            "313/313 [==============================] - 1s 3ms/step\n",
            "313/313 [==============================] - 1s 3ms/step - loss: 1.2479 - accuracy: 0.5629\n",
            "Test Loss: 1.2479034662246704, Test Accuracy: 0.5629000067710876\n",
            "Epoch 3:\n",
            "782/782 [==============================] - 4s 5ms/step - categorical_crossentropy: 1.1947 - student_loss: 1.1951 - distillation_loss: 0.0275\n",
            "313/313 [==============================] - 1s 2ms/step\n",
            "313/313 [==============================] - 1s 3ms/step - loss: 1.1472 - accuracy: 0.5979\n",
            "Test Loss: 1.1472395658493042, Test Accuracy: 0.5978999733924866\n",
            "Epoch 4:\n",
            "782/782 [==============================] - 4s 5ms/step - categorical_crossentropy: 1.1039 - student_loss: 1.1042 - distillation_loss: 0.0254\n",
            "313/313 [==============================] - 1s 2ms/step\n",
            "313/313 [==============================] - 1s 3ms/step - loss: 1.0791 - accuracy: 0.6224\n",
            "Test Loss: 1.0791150331497192, Test Accuracy: 0.6223999857902527\n",
            "Epoch 5:\n",
            "782/782 [==============================] - 5s 6ms/step - categorical_crossentropy: 1.0321 - student_loss: 1.0322 - distillation_loss: 0.0238\n",
            "313/313 [==============================] - 1s 2ms/step\n",
            "313/313 [==============================] - 1s 3ms/step - loss: 1.0322 - accuracy: 0.6417\n",
            "Test Loss: 1.032204508781433, Test Accuracy: 0.641700029373169\n",
            "Epoch 6:\n",
            "782/782 [==============================] - 4s 5ms/step - categorical_crossentropy: 0.9738 - student_loss: 0.9739 - distillation_loss: 0.0224\n",
            "313/313 [==============================] - 1s 2ms/step\n",
            "313/313 [==============================] - 1s 4ms/step - loss: 1.0025 - accuracy: 0.6547\n",
            "Test Loss: 1.0024852752685547, Test Accuracy: 0.654699981212616\n",
            "Epoch 7:\n",
            "782/782 [==============================] - 4s 5ms/step - categorical_crossentropy: 0.9256 - student_loss: 0.9256 - distillation_loss: 0.0214\n",
            "313/313 [==============================] - 1s 2ms/step\n",
            "313/313 [==============================] - 1s 3ms/step - loss: 0.9765 - accuracy: 0.6658\n",
            "Test Loss: 0.9764514565467834, Test Accuracy: 0.6657999753952026\n",
            "Epoch 8:\n",
            "782/782 [==============================] - 4s 6ms/step - categorical_crossentropy: 0.8820 - student_loss: 0.8818 - distillation_loss: 0.0204\n",
            "313/313 [==============================] - 1s 2ms/step\n",
            "313/313 [==============================] - 1s 3ms/step - loss: 0.9536 - accuracy: 0.6716\n",
            "Test Loss: 0.9536105394363403, Test Accuracy: 0.6715999841690063\n",
            "Epoch 9:\n",
            "782/782 [==============================] - 4s 6ms/step - categorical_crossentropy: 0.8426 - student_loss: 0.8422 - distillation_loss: 0.0196\n",
            "313/313 [==============================] - 1s 3ms/step\n",
            "313/313 [==============================] - 1s 3ms/step - loss: 0.9357 - accuracy: 0.6785\n",
            "Test Loss: 0.9357258081436157, Test Accuracy: 0.6784999966621399\n",
            "Epoch 10:\n",
            "782/782 [==============================] - 4s 5ms/step - categorical_crossentropy: 0.8049 - student_loss: 0.8044 - distillation_loss: 0.0188\n",
            "313/313 [==============================] - 1s 2ms/step\n",
            "313/313 [==============================] - 1s 4ms/step - loss: 0.9227 - accuracy: 0.6838\n",
            "Test Loss: 0.9226847887039185, Test Accuracy: 0.6837999820709229\n",
            "Epoch 11:\n",
            "782/782 [==============================] - 4s 5ms/step - categorical_crossentropy: 0.7685 - student_loss: 0.7679 - distillation_loss: 0.0180\n",
            "313/313 [==============================] - 1s 2ms/step\n",
            "313/313 [==============================] - 1s 3ms/step - loss: 0.9121 - accuracy: 0.6872\n",
            "Test Loss: 0.9121060371398926, Test Accuracy: 0.6872000098228455\n",
            "Epoch 12:\n",
            "782/782 [==============================] - 5s 6ms/step - categorical_crossentropy: 0.7334 - student_loss: 0.7327 - distillation_loss: 0.0173\n",
            "313/313 [==============================] - 1s 2ms/step\n",
            "313/313 [==============================] - 1s 3ms/step - loss: 0.9030 - accuracy: 0.6926\n",
            "Test Loss: 0.9030352830886841, Test Accuracy: 0.6926000118255615\n",
            "Epoch 13:\n",
            "782/782 [==============================] - 4s 5ms/step - categorical_crossentropy: 0.6999 - student_loss: 0.6991 - distillation_loss: 0.0167\n",
            "313/313 [==============================] - 1s 3ms/step\n",
            "313/313 [==============================] - 1s 3ms/step - loss: 0.9015 - accuracy: 0.6933\n",
            "Test Loss: 0.901491105556488, Test Accuracy: 0.6933000087738037\n",
            "Epoch 14:\n",
            "782/782 [==============================] - 4s 5ms/step - categorical_crossentropy: 0.6684 - student_loss: 0.6675 - distillation_loss: 0.0161\n",
            "313/313 [==============================] - 1s 2ms/step\n",
            "313/313 [==============================] - 1s 3ms/step - loss: 0.9007 - accuracy: 0.6963\n",
            "Test Loss: 0.9006731510162354, Test Accuracy: 0.6963000297546387\n",
            "Epoch 15:\n",
            "782/782 [==============================] - 4s 5ms/step - categorical_crossentropy: 0.6378 - student_loss: 0.6369 - distillation_loss: 0.0155\n",
            "313/313 [==============================] - 1s 2ms/step\n",
            "313/313 [==============================] - 1s 3ms/step - loss: 0.8977 - accuracy: 0.6970\n",
            "Test Loss: 0.8976665139198303, Test Accuracy: 0.6970000267028809\n",
            "Epoch 16:\n",
            "782/782 [==============================] - 5s 6ms/step - categorical_crossentropy: 0.6083 - student_loss: 0.6074 - distillation_loss: 0.0149\n",
            "313/313 [==============================] - 1s 2ms/step\n",
            "313/313 [==============================] - 1s 3ms/step - loss: 0.9020 - accuracy: 0.6982\n",
            "Test Loss: 0.9019795656204224, Test Accuracy: 0.698199987411499\n",
            "Epoch 17:\n",
            "782/782 [==============================] - 4s 5ms/step - categorical_crossentropy: 0.5804 - student_loss: 0.5795 - distillation_loss: 0.0144\n",
            "313/313 [==============================] - 1s 3ms/step\n",
            "313/313 [==============================] - 1s 3ms/step - loss: 0.9093 - accuracy: 0.7001\n",
            "Test Loss: 0.9092739224433899, Test Accuracy: 0.7001000046730042\n",
            "Epoch 18:\n",
            "782/782 [==============================] - 4s 5ms/step - categorical_crossentropy: 0.5532 - student_loss: 0.5523 - distillation_loss: 0.0139\n",
            "313/313 [==============================] - 1s 2ms/step\n",
            "313/313 [==============================] - 1s 3ms/step - loss: 0.9167 - accuracy: 0.6991\n",
            "Test Loss: 0.9166596531867981, Test Accuracy: 0.6991000175476074\n",
            "Epoch 19:\n",
            "782/782 [==============================] - 5s 6ms/step - categorical_crossentropy: 0.5274 - student_loss: 0.5266 - distillation_loss: 0.0135\n",
            "313/313 [==============================] - 1s 2ms/step\n",
            "313/313 [==============================] - 1s 3ms/step - loss: 0.9294 - accuracy: 0.6980\n",
            "Test Loss: 0.9294096827507019, Test Accuracy: 0.6980000138282776\n",
            "Epoch 20:\n",
            "782/782 [==============================] - 4s 5ms/step - categorical_crossentropy: 0.5031 - student_loss: 0.5023 - distillation_loss: 0.0131\n",
            "313/313 [==============================] - 1s 2ms/step\n",
            "313/313 [==============================] - 1s 3ms/step - loss: 0.9471 - accuracy: 0.6954\n",
            "Test Loss: 0.9470667243003845, Test Accuracy: 0.6953999996185303\n",
            "Epoch 21:\n",
            "782/782 [==============================] - 4s 5ms/step - categorical_crossentropy: 0.4789 - student_loss: 0.4781 - distillation_loss: 0.0126\n",
            "313/313 [==============================] - 1s 2ms/step\n",
            "313/313 [==============================] - 1s 3ms/step - loss: 0.9648 - accuracy: 0.6959\n",
            "Test Loss: 0.9647935628890991, Test Accuracy: 0.695900022983551\n",
            "Epoch 22:\n",
            "782/782 [==============================] - 4s 5ms/step - categorical_crossentropy: 0.4562 - student_loss: 0.4554 - distillation_loss: 0.0123\n",
            "313/313 [==============================] - 1s 2ms/step\n",
            "313/313 [==============================] - 1s 3ms/step - loss: 0.9952 - accuracy: 0.6931\n",
            "Test Loss: 0.995176374912262, Test Accuracy: 0.6930999755859375\n",
            "Epoch 23:\n",
            "782/782 [==============================] - 5s 6ms/step - categorical_crossentropy: 0.4351 - student_loss: 0.4344 - distillation_loss: 0.0120\n",
            "313/313 [==============================] - 1s 2ms/step\n",
            "313/313 [==============================] - 1s 3ms/step - loss: 1.0508 - accuracy: 0.6821\n",
            "Test Loss: 1.0507729053497314, Test Accuracy: 0.6820999979972839\n",
            "Epoch 24:\n",
            "782/782 [==============================] - 4s 5ms/step - categorical_crossentropy: 0.4143 - student_loss: 0.4136 - distillation_loss: 0.0116\n",
            "313/313 [==============================] - 1s 2ms/step\n",
            "313/313 [==============================] - 1s 3ms/step - loss: 1.1130 - accuracy: 0.6745\n",
            "Test Loss: 1.1129671335220337, Test Accuracy: 0.6744999885559082\n",
            "Epoch 25:\n",
            "782/782 [==============================] - 4s 5ms/step - categorical_crossentropy: 0.3945 - student_loss: 0.3938 - distillation_loss: 0.0113\n",
            "313/313 [==============================] - 1s 2ms/step\n",
            "313/313 [==============================] - 1s 3ms/step - loss: 1.1557 - accuracy: 0.6695\n",
            "Test Loss: 1.1557132005691528, Test Accuracy: 0.6694999933242798\n"
          ]
        }
      ]
    },
    {
      "cell_type": "code",
      "source": [
        "del (student)\n",
        "gc.collect()\n",
        "keras.backend.clear_session()"
      ],
      "metadata": {
        "id": "lTMYO7__Uzxz"
      },
      "execution_count": null,
      "outputs": []
    },
    {
      "cell_type": "markdown",
      "source": [
        "# Student same Alpha 0.5"
      ],
      "metadata": {
        "id": "OaN0-7_6U9e6"
      }
    },
    {
      "cell_type": "code",
      "source": [
        "model_path = '/content/base/LeNetCIFAR10_init.tf'\n",
        "student = load_model(model_path)\n",
        "student_scratch = tf.keras.models.clone_model(student)"
      ],
      "metadata": {
        "id": "HLTcfc2UVIfO"
      },
      "execution_count": null,
      "outputs": []
    },
    {
      "cell_type": "code",
      "source": [
        "distiller = Distiller(student=student, teacher=techer_model)\n",
        "distiller.compile(\n",
        "    optimizer=tf.keras.optimizers.Adamax(learning_rate=0.001),\n",
        "    metrics=[tf.keras.metrics.CategoricalCrossentropy()],\n",
        "    student_loss_fn=tf.keras.losses.CategoricalCrossentropy(from_logits=True),\n",
        "    distillation_loss_fn=tf.keras.losses.KLDivergence(),\n",
        "    alpha=0.5,\n",
        "    temperature=3,\n",
        ")"
      ],
      "metadata": {
        "id": "q0xmOf5IVI-G"
      },
      "execution_count": null,
      "outputs": []
    },
    {
      "cell_type": "code",
      "source": [
        "filepath = '/content/student_same_50/'\n",
        "init_weights = filepath + model_name + dataset + '_init_weights.tf'\n",
        "init_model = filepath + model_name + dataset + '_init.tf'\n",
        "final_weights = filepath + model_name + dataset + '_final_weights.tf'\n",
        "final_model= filepath + model_name + dataset + 'final.tf'"
      ],
      "metadata": {
        "id": "U4fyr8rwVPsI"
      },
      "execution_count": null,
      "outputs": []
    },
    {
      "cell_type": "code",
      "source": [
        "!mkdir '/content/student_same_50/'"
      ],
      "metadata": {
        "id": "IzbhPktzVokH"
      },
      "execution_count": null,
      "outputs": []
    },
    {
      "cell_type": "code",
      "source": [
        "train_custom(distiller, x_train,y_train,x_test,y_test)"
      ],
      "metadata": {
        "colab": {
          "base_uri": "https://localhost:8080/"
        },
        "id": "yKi3Se4kVoIT",
        "outputId": "17231b9e-aa29-458d-abc4-d0a15ae529e0"
      },
      "execution_count": null,
      "outputs": [
        {
          "output_type": "stream",
          "name": "stdout",
          "text": [
            "313/313 [==============================] - 1s 2ms/step\n",
            "Epoch 1:\n"
          ]
        },
        {
          "output_type": "stream",
          "name": "stderr",
          "text": [
            "/usr/local/lib/python3.10/dist-packages/keras/src/backend.py:5575: UserWarning: \"`categorical_crossentropy` received `from_logits=True`, but the `output` argument was produced by a Softmax activation and thus does not represent logits. Was this intended?\n",
            "  output, from_logits = _get_logits(\n"
          ]
        },
        {
          "output_type": "stream",
          "name": "stdout",
          "text": [
            "782/782 [==============================] - 5s 5ms/step - categorical_crossentropy: 1.6229 - student_loss: 1.6233 - distillation_loss: 0.0364\n",
            "313/313 [==============================] - 1s 3ms/step\n",
            "313/313 [==============================] - 1s 3ms/step - loss: 1.3944 - accuracy: 0.5098\n",
            "Test Loss: 1.3944451808929443, Test Accuracy: 0.5098000168800354\n",
            "Epoch 2:\n",
            "782/782 [==============================] - 4s 5ms/step - categorical_crossentropy: 1.3192 - student_loss: 1.3200 - distillation_loss: 0.0305\n",
            "313/313 [==============================] - 1s 2ms/step\n",
            "313/313 [==============================] - 1s 3ms/step - loss: 1.2518 - accuracy: 0.5601\n",
            "Test Loss: 1.2518205642700195, Test Accuracy: 0.5601000189781189\n",
            "Epoch 3:\n",
            "782/782 [==============================] - 4s 5ms/step - categorical_crossentropy: 1.1940 - student_loss: 1.1945 - distillation_loss: 0.0278\n",
            "313/313 [==============================] - 1s 2ms/step\n",
            "313/313 [==============================] - 1s 3ms/step - loss: 1.1485 - accuracy: 0.5997\n",
            "Test Loss: 1.1484973430633545, Test Accuracy: 0.5996999740600586\n",
            "Epoch 4:\n",
            "782/782 [==============================] - 5s 6ms/step - categorical_crossentropy: 1.1021 - student_loss: 1.1024 - distillation_loss: 0.0258\n",
            "313/313 [==============================] - 1s 2ms/step\n",
            "313/313 [==============================] - 1s 3ms/step - loss: 1.0834 - accuracy: 0.6222\n",
            "Test Loss: 1.0833909511566162, Test Accuracy: 0.6222000122070312\n",
            "Epoch 5:\n",
            "782/782 [==============================] - 4s 5ms/step - categorical_crossentropy: 1.0286 - student_loss: 1.0287 - distillation_loss: 0.0241\n",
            "313/313 [==============================] - 1s 2ms/step\n",
            "313/313 [==============================] - 1s 4ms/step - loss: 1.0334 - accuracy: 0.6398\n",
            "Test Loss: 1.033415675163269, Test Accuracy: 0.6398000121116638\n",
            "Epoch 6:\n",
            "782/782 [==============================] - 4s 5ms/step - categorical_crossentropy: 0.9680 - student_loss: 0.9681 - distillation_loss: 0.0229\n",
            "313/313 [==============================] - 1s 2ms/step\n",
            "313/313 [==============================] - 1s 3ms/step - loss: 1.0033 - accuracy: 0.6526\n",
            "Test Loss: 1.0033020973205566, Test Accuracy: 0.6525999903678894\n",
            "Epoch 7:\n",
            "782/782 [==============================] - 4s 6ms/step - categorical_crossentropy: 0.9167 - student_loss: 0.9166 - distillation_loss: 0.0218\n",
            "313/313 [==============================] - 1s 2ms/step\n",
            "313/313 [==============================] - 1s 3ms/step - loss: 0.9830 - accuracy: 0.6625\n",
            "Test Loss: 0.982961118221283, Test Accuracy: 0.6625000238418579\n",
            "Epoch 8:\n",
            "782/782 [==============================] - 5s 6ms/step - categorical_crossentropy: 0.8718 - student_loss: 0.8716 - distillation_loss: 0.0209\n",
            "313/313 [==============================] - 1s 2ms/step\n",
            "313/313 [==============================] - 1s 3ms/step - loss: 0.9661 - accuracy: 0.6670\n",
            "Test Loss: 0.9660813212394714, Test Accuracy: 0.6669999957084656\n",
            "Epoch 9:\n",
            "782/782 [==============================] - 4s 5ms/step - categorical_crossentropy: 0.8300 - student_loss: 0.8296 - distillation_loss: 0.0201\n",
            "313/313 [==============================] - 1s 2ms/step\n",
            "313/313 [==============================] - 1s 4ms/step - loss: 0.9551 - accuracy: 0.6702\n",
            "Test Loss: 0.9551153182983398, Test Accuracy: 0.670199990272522\n",
            "Epoch 10:\n",
            "782/782 [==============================] - 4s 5ms/step - categorical_crossentropy: 0.7911 - student_loss: 0.7906 - distillation_loss: 0.0193\n",
            "313/313 [==============================] - 1s 2ms/step\n",
            "313/313 [==============================] - 1s 3ms/step - loss: 0.9437 - accuracy: 0.6733\n",
            "Test Loss: 0.9437046051025391, Test Accuracy: 0.67330002784729\n",
            "Epoch 11:\n",
            "782/782 [==============================] - 6s 7ms/step - categorical_crossentropy: 0.7536 - student_loss: 0.7530 - distillation_loss: 0.0186\n",
            "313/313 [==============================] - 1s 2ms/step\n",
            "313/313 [==============================] - 1s 3ms/step - loss: 0.9307 - accuracy: 0.6795\n",
            "Test Loss: 0.9306566119194031, Test Accuracy: 0.6794999837875366\n",
            "Epoch 12:\n",
            "782/782 [==============================] - 4s 5ms/step - categorical_crossentropy: 0.7179 - student_loss: 0.7171 - distillation_loss: 0.0179\n",
            "313/313 [==============================] - 1s 2ms/step\n",
            "313/313 [==============================] - 1s 3ms/step - loss: 0.9182 - accuracy: 0.6876\n",
            "Test Loss: 0.9181801676750183, Test Accuracy: 0.6876000165939331\n",
            "Epoch 13:\n",
            "782/782 [==============================] - 5s 6ms/step - categorical_crossentropy: 0.6838 - student_loss: 0.6830 - distillation_loss: 0.0173\n",
            "313/313 [==============================] - 1s 2ms/step\n",
            "313/313 [==============================] - 1s 3ms/step - loss: 0.9140 - accuracy: 0.6930\n",
            "Test Loss: 0.9140222668647766, Test Accuracy: 0.6930000185966492\n",
            "Epoch 14:\n",
            "782/782 [==============================] - 4s 5ms/step - categorical_crossentropy: 0.6515 - student_loss: 0.6507 - distillation_loss: 0.0167\n",
            "313/313 [==============================] - 1s 2ms/step\n",
            "313/313 [==============================] - 1s 4ms/step - loss: 0.9104 - accuracy: 0.6962\n",
            "Test Loss: 0.9104418754577637, Test Accuracy: 0.6962000131607056\n",
            "Epoch 15:\n",
            "782/782 [==============================] - 4s 5ms/step - categorical_crossentropy: 0.6201 - student_loss: 0.6192 - distillation_loss: 0.0162\n",
            "313/313 [==============================] - 1s 2ms/step\n",
            "313/313 [==============================] - 1s 3ms/step - loss: 0.9105 - accuracy: 0.7007\n",
            "Test Loss: 0.9104644656181335, Test Accuracy: 0.7006999850273132\n",
            "Epoch 16:\n",
            "782/782 [==============================] - 5s 6ms/step - categorical_crossentropy: 0.5904 - student_loss: 0.5895 - distillation_loss: 0.0157\n",
            "313/313 [==============================] - 1s 2ms/step\n",
            "313/313 [==============================] - 1s 3ms/step - loss: 0.9154 - accuracy: 0.6987\n",
            "Test Loss: 0.915424108505249, Test Accuracy: 0.6987000107765198\n",
            "Epoch 17:\n",
            "782/782 [==============================] - 4s 5ms/step - categorical_crossentropy: 0.5613 - student_loss: 0.5605 - distillation_loss: 0.0153\n",
            "313/313 [==============================] - 1s 2ms/step\n",
            "313/313 [==============================] - 1s 3ms/step - loss: 0.9294 - accuracy: 0.6968\n",
            "Test Loss: 0.9294213652610779, Test Accuracy: 0.6967999935150146\n",
            "Epoch 18:\n",
            "782/782 [==============================] - 4s 5ms/step - categorical_crossentropy: 0.5340 - student_loss: 0.5332 - distillation_loss: 0.0148\n",
            "313/313 [==============================] - 1s 2ms/step\n",
            "313/313 [==============================] - 1s 4ms/step - loss: 0.9424 - accuracy: 0.6950\n",
            "Test Loss: 0.9423635601997375, Test Accuracy: 0.6949999928474426\n",
            "Epoch 19:\n",
            "782/782 [==============================] - 4s 5ms/step - categorical_crossentropy: 0.5074 - student_loss: 0.5066 - distillation_loss: 0.0145\n",
            "313/313 [==============================] - 1s 2ms/step\n",
            "313/313 [==============================] - 1s 3ms/step - loss: 0.9557 - accuracy: 0.6976\n",
            "Test Loss: 0.955697238445282, Test Accuracy: 0.6976000070571899\n",
            "Epoch 20:\n",
            "782/782 [==============================] - 5s 6ms/step - categorical_crossentropy: 0.4815 - student_loss: 0.4807 - distillation_loss: 0.0141\n",
            "313/313 [==============================] - 1s 2ms/step\n",
            "313/313 [==============================] - 1s 3ms/step - loss: 0.9684 - accuracy: 0.6985\n",
            "Test Loss: 0.9683948159217834, Test Accuracy: 0.6984999775886536\n",
            "Epoch 21:\n",
            "782/782 [==============================] - 4s 5ms/step - categorical_crossentropy: 0.4559 - student_loss: 0.4551 - distillation_loss: 0.0137\n",
            "313/313 [==============================] - 1s 2ms/step\n",
            "313/313 [==============================] - 1s 3ms/step - loss: 0.9959 - accuracy: 0.6966\n",
            "Test Loss: 0.9958653450012207, Test Accuracy: 0.6966000199317932\n",
            "Epoch 22:\n",
            "782/782 [==============================] - 4s 5ms/step - categorical_crossentropy: 0.4305 - student_loss: 0.4297 - distillation_loss: 0.0134\n",
            "313/313 [==============================] - 1s 2ms/step\n",
            "313/313 [==============================] - 1s 4ms/step - loss: 1.0269 - accuracy: 0.6932\n",
            "Test Loss: 1.026897668838501, Test Accuracy: 0.6931999921798706\n",
            "Epoch 23:\n",
            "782/782 [==============================] - 4s 5ms/step - categorical_crossentropy: 0.4067 - student_loss: 0.4059 - distillation_loss: 0.0130\n",
            "313/313 [==============================] - 1s 2ms/step\n",
            "313/313 [==============================] - 1s 3ms/step - loss: 1.0532 - accuracy: 0.6908\n",
            "Test Loss: 1.0531991720199585, Test Accuracy: 0.6908000111579895\n",
            "Epoch 24:\n",
            "782/782 [==============================] - 5s 6ms/step - categorical_crossentropy: 0.3843 - student_loss: 0.3836 - distillation_loss: 0.0127\n",
            "313/313 [==============================] - 1s 2ms/step\n",
            "313/313 [==============================] - 1s 3ms/step - loss: 1.0850 - accuracy: 0.6864\n",
            "Test Loss: 1.0849504470825195, Test Accuracy: 0.6863999962806702\n",
            "Epoch 25:\n",
            "782/782 [==============================] - 4s 5ms/step - categorical_crossentropy: 0.3639 - student_loss: 0.3632 - distillation_loss: 0.0125\n",
            "313/313 [==============================] - 1s 3ms/step\n",
            "313/313 [==============================] - 1s 3ms/step - loss: 1.1122 - accuracy: 0.6846\n",
            "Test Loss: 1.1122181415557861, Test Accuracy: 0.6845999956130981\n"
          ]
        }
      ]
    },
    {
      "cell_type": "code",
      "source": [
        "del (student)\n",
        "gc.collect()\n",
        "keras.backend.clear_session()"
      ],
      "metadata": {
        "id": "VFEgkn-4V38i"
      },
      "execution_count": null,
      "outputs": []
    },
    {
      "cell_type": "markdown",
      "source": [
        "# Student same Alpha 0.9"
      ],
      "metadata": {
        "id": "gMgWdqc_Vyr4"
      }
    },
    {
      "cell_type": "code",
      "source": [
        "model_path = '/content/base/LeNetCIFAR10_init.tf'\n",
        "student = load_model(model_path)\n",
        "student_scratch = tf.keras.models.clone_model(student)\n",
        "\n",
        "distiller = Distiller(student=student, teacher=techer_model)\n",
        "distiller.compile(\n",
        "    optimizer=tf.keras.optimizers.Adamax(learning_rate=0.001),\n",
        "    metrics=[tf.keras.metrics.CategoricalCrossentropy()],\n",
        "    student_loss_fn=tf.keras.losses.CategoricalCrossentropy(from_logits=True),\n",
        "    distillation_loss_fn=tf.keras.losses.KLDivergence(),\n",
        "    alpha=0.5,\n",
        "    temperature=3,\n",
        ")\n",
        "\n",
        "filepath = '/content/student_same_90/'\n",
        "init_weights = filepath + model_name + dataset + '_init_weights.tf'\n",
        "init_model = filepath + model_name + dataset + '_init.tf'\n",
        "final_weights = filepath + model_name + dataset + '_final_weights.tf'\n",
        "final_model= filepath + model_name + dataset + 'final.tf'\n",
        "\n",
        "!mkdir '/content/student_same_90/'"
      ],
      "metadata": {
        "id": "ispYXVKaV46U"
      },
      "execution_count": null,
      "outputs": []
    },
    {
      "cell_type": "code",
      "source": [
        "train_custom(distiller, x_train,y_train,x_test,y_test)"
      ],
      "metadata": {
        "colab": {
          "base_uri": "https://localhost:8080/"
        },
        "id": "lCOpusp6WA5k",
        "outputId": "fefe9ccd-0a98-4e97-87dc-53d054f785f1"
      },
      "execution_count": null,
      "outputs": [
        {
          "output_type": "stream",
          "name": "stdout",
          "text": [
            "313/313 [==============================] - 1s 2ms/step\n",
            "Epoch 1:\n"
          ]
        },
        {
          "output_type": "stream",
          "name": "stderr",
          "text": [
            "/usr/local/lib/python3.10/dist-packages/keras/src/backend.py:5575: UserWarning: \"`categorical_crossentropy` received `from_logits=True`, but the `output` argument was produced by a Softmax activation and thus does not represent logits. Was this intended?\n",
            "  output, from_logits = _get_logits(\n"
          ]
        },
        {
          "output_type": "stream",
          "name": "stdout",
          "text": [
            "782/782 [==============================] - 6s 6ms/step - categorical_crossentropy: 1.6166 - student_loss: 1.6171 - distillation_loss: 0.0363\n",
            "313/313 [==============================] - 1s 2ms/step\n",
            "313/313 [==============================] - 1s 3ms/step - loss: 1.3835 - accuracy: 0.5133\n",
            "Test Loss: 1.3835070133209229, Test Accuracy: 0.5133000016212463\n",
            "Epoch 2:\n",
            "782/782 [==============================] - 4s 5ms/step - categorical_crossentropy: 1.3125 - student_loss: 1.3133 - distillation_loss: 0.0303\n",
            "313/313 [==============================] - 1s 3ms/step\n",
            "313/313 [==============================] - 1s 4ms/step - loss: 1.2456 - accuracy: 0.5620\n",
            "Test Loss: 1.245585560798645, Test Accuracy: 0.5619999766349792\n",
            "Epoch 3:\n",
            "782/782 [==============================] - 4s 5ms/step - categorical_crossentropy: 1.1926 - student_loss: 1.1931 - distillation_loss: 0.0277\n",
            "313/313 [==============================] - 1s 2ms/step\n",
            "313/313 [==============================] - 1s 3ms/step - loss: 1.1500 - accuracy: 0.5960\n",
            "Test Loss: 1.1500041484832764, Test Accuracy: 0.5960000157356262\n",
            "Epoch 4:\n",
            "782/782 [==============================] - 4s 6ms/step - categorical_crossentropy: 1.1018 - student_loss: 1.1021 - distillation_loss: 0.0257\n",
            "313/313 [==============================] - 1s 2ms/step\n",
            "313/313 [==============================] - 1s 3ms/step - loss: 1.0859 - accuracy: 0.6221\n",
            "Test Loss: 1.0859287977218628, Test Accuracy: 0.6220999956130981\n",
            "Epoch 5:\n",
            "782/782 [==============================] - 4s 6ms/step - categorical_crossentropy: 1.0307 - student_loss: 1.0309 - distillation_loss: 0.0242\n",
            "313/313 [==============================] - 1s 2ms/step\n",
            "313/313 [==============================] - 1s 3ms/step - loss: 1.0422 - accuracy: 0.6394\n",
            "Test Loss: 1.0421785116195679, Test Accuracy: 0.6394000053405762\n",
            "Epoch 6:\n",
            "782/782 [==============================] - 4s 5ms/step - categorical_crossentropy: 0.9722 - student_loss: 0.9723 - distillation_loss: 0.0230\n",
            "313/313 [==============================] - 1s 2ms/step\n",
            "313/313 [==============================] - 1s 4ms/step - loss: 1.0145 - accuracy: 0.6479\n",
            "Test Loss: 1.0144973993301392, Test Accuracy: 0.6478999853134155\n",
            "Epoch 7:\n",
            "782/782 [==============================] - 4s 5ms/step - categorical_crossentropy: 0.9219 - student_loss: 0.9218 - distillation_loss: 0.0219\n",
            "313/313 [==============================] - 1s 2ms/step\n",
            "313/313 [==============================] - 1s 3ms/step - loss: 0.9917 - accuracy: 0.6585\n",
            "Test Loss: 0.9916634559631348, Test Accuracy: 0.6585000157356262\n",
            "Epoch 8:\n",
            "782/782 [==============================] - 5s 6ms/step - categorical_crossentropy: 0.8766 - student_loss: 0.8764 - distillation_loss: 0.0210\n",
            "313/313 [==============================] - 1s 2ms/step\n",
            "313/313 [==============================] - 1s 3ms/step - loss: 0.9709 - accuracy: 0.6648\n",
            "Test Loss: 0.9708556532859802, Test Accuracy: 0.6647999882698059\n",
            "Epoch 9:\n",
            "782/782 [==============================] - 4s 5ms/step - categorical_crossentropy: 0.8348 - student_loss: 0.8344 - distillation_loss: 0.0201\n",
            "313/313 [==============================] - 1s 2ms/step\n",
            "313/313 [==============================] - 1s 3ms/step - loss: 0.9510 - accuracy: 0.6711\n",
            "Test Loss: 0.9510072469711304, Test Accuracy: 0.6711000204086304\n",
            "Epoch 10:\n",
            "782/782 [==============================] - 4s 5ms/step - categorical_crossentropy: 0.7953 - student_loss: 0.7947 - distillation_loss: 0.0194\n",
            "313/313 [==============================] - 1s 2ms/step\n",
            "313/313 [==============================] - 1s 4ms/step - loss: 0.9363 - accuracy: 0.6761\n",
            "Test Loss: 0.9362670183181763, Test Accuracy: 0.6761000156402588\n",
            "Epoch 11:\n",
            "782/782 [==============================] - 4s 5ms/step - categorical_crossentropy: 0.7583 - student_loss: 0.7576 - distillation_loss: 0.0187\n",
            "313/313 [==============================] - 1s 2ms/step\n",
            "313/313 [==============================] - 1s 3ms/step - loss: 0.9233 - accuracy: 0.6813\n",
            "Test Loss: 0.923262894153595, Test Accuracy: 0.6812999844551086\n",
            "Epoch 12:\n",
            "782/782 [==============================] - 5s 6ms/step - categorical_crossentropy: 0.7228 - student_loss: 0.7220 - distillation_loss: 0.0180\n",
            "313/313 [==============================] - 1s 2ms/step\n",
            "313/313 [==============================] - 1s 3ms/step - loss: 0.9165 - accuracy: 0.6853\n",
            "Test Loss: 0.9165308475494385, Test Accuracy: 0.6852999925613403\n",
            "Epoch 13:\n",
            "782/782 [==============================] - 4s 5ms/step - categorical_crossentropy: 0.6887 - student_loss: 0.6879 - distillation_loss: 0.0174\n",
            "313/313 [==============================] - 1s 3ms/step\n",
            "313/313 [==============================] - 1s 4ms/step - loss: 0.9095 - accuracy: 0.6904\n",
            "Test Loss: 0.9094974398612976, Test Accuracy: 0.6904000043869019\n",
            "Epoch 14:\n",
            "782/782 [==============================] - 4s 5ms/step - categorical_crossentropy: 0.6565 - student_loss: 0.6556 - distillation_loss: 0.0168\n",
            "313/313 [==============================] - 1s 2ms/step\n",
            "313/313 [==============================] - 1s 3ms/step - loss: 0.9069 - accuracy: 0.6917\n",
            "Test Loss: 0.9069487452507019, Test Accuracy: 0.6916999816894531\n",
            "Epoch 15:\n",
            "782/782 [==============================] - 5s 6ms/step - categorical_crossentropy: 0.6258 - student_loss: 0.6249 - distillation_loss: 0.0163\n",
            "313/313 [==============================] - 1s 2ms/step\n",
            "313/313 [==============================] - 1s 3ms/step - loss: 0.9088 - accuracy: 0.6932\n",
            "Test Loss: 0.9087929725646973, Test Accuracy: 0.6931999921798706\n",
            "Epoch 16:\n",
            "782/782 [==============================] - 5s 6ms/step - categorical_crossentropy: 0.5964 - student_loss: 0.5955 - distillation_loss: 0.0158\n",
            "313/313 [==============================] - 1s 3ms/step\n",
            "313/313 [==============================] - 1s 3ms/step - loss: 0.9130 - accuracy: 0.6958\n",
            "Test Loss: 0.9130080342292786, Test Accuracy: 0.6958000063896179\n",
            "Epoch 17:\n",
            "782/782 [==============================] - 4s 5ms/step - categorical_crossentropy: 0.5679 - student_loss: 0.5670 - distillation_loss: 0.0154\n",
            "313/313 [==============================] - 1s 2ms/step\n",
            "313/313 [==============================] - 1s 4ms/step - loss: 0.9242 - accuracy: 0.6947\n",
            "Test Loss: 0.9242236614227295, Test Accuracy: 0.6947000026702881\n",
            "Epoch 18:\n",
            "782/782 [==============================] - 4s 5ms/step - categorical_crossentropy: 0.5403 - student_loss: 0.5394 - distillation_loss: 0.0149\n",
            "313/313 [==============================] - 1s 2ms/step\n",
            "313/313 [==============================] - 1s 3ms/step - loss: 0.9306 - accuracy: 0.6967\n",
            "Test Loss: 0.9305599331855774, Test Accuracy: 0.6966999769210815\n",
            "Epoch 19:\n",
            "782/782 [==============================] - 5s 6ms/step - categorical_crossentropy: 0.5132 - student_loss: 0.5124 - distillation_loss: 0.0145\n",
            "313/313 [==============================] - 1s 2ms/step\n",
            "313/313 [==============================] - 1s 3ms/step - loss: 0.9399 - accuracy: 0.6972\n",
            "Test Loss: 0.9399361610412598, Test Accuracy: 0.6972000002861023\n",
            "Epoch 20:\n",
            "782/782 [==============================] - 4s 5ms/step - categorical_crossentropy: 0.4877 - student_loss: 0.4868 - distillation_loss: 0.0141\n",
            "313/313 [==============================] - 1s 2ms/step\n",
            "313/313 [==============================] - 1s 4ms/step - loss: 0.9568 - accuracy: 0.6978\n",
            "Test Loss: 0.9568233489990234, Test Accuracy: 0.6977999806404114\n",
            "Epoch 21:\n",
            "782/782 [==============================] - 4s 5ms/step - categorical_crossentropy: 0.4627 - student_loss: 0.4619 - distillation_loss: 0.0138\n",
            "313/313 [==============================] - 1s 2ms/step\n",
            "313/313 [==============================] - 1s 3ms/step - loss: 0.9772 - accuracy: 0.6957\n",
            "Test Loss: 0.977178692817688, Test Accuracy: 0.6956999897956848\n",
            "Epoch 22:\n",
            "782/782 [==============================] - 5s 7ms/step - categorical_crossentropy: 0.4398 - student_loss: 0.4390 - distillation_loss: 0.0135\n",
            "313/313 [==============================] - 1s 2ms/step\n",
            "313/313 [==============================] - 1s 3ms/step - loss: 1.0050 - accuracy: 0.6924\n",
            "Test Loss: 1.0050488710403442, Test Accuracy: 0.6923999786376953\n",
            "Epoch 23:\n",
            "782/782 [==============================] - 4s 5ms/step - categorical_crossentropy: 0.4176 - student_loss: 0.4169 - distillation_loss: 0.0132\n",
            "313/313 [==============================] - 1s 2ms/step\n",
            "313/313 [==============================] - 1s 3ms/step - loss: 1.0352 - accuracy: 0.6911\n",
            "Test Loss: 1.0352424383163452, Test Accuracy: 0.691100001335144\n",
            "Epoch 24:\n",
            "782/782 [==============================] - 5s 6ms/step - categorical_crossentropy: 0.3959 - student_loss: 0.3951 - distillation_loss: 0.0129\n",
            "313/313 [==============================] - 1s 2ms/step\n",
            "313/313 [==============================] - 1s 3ms/step - loss: 1.0588 - accuracy: 0.6891\n",
            "Test Loss: 1.058760643005371, Test Accuracy: 0.6891000270843506\n",
            "Epoch 25:\n",
            "782/782 [==============================] - 4s 5ms/step - categorical_crossentropy: 0.3749 - student_loss: 0.3742 - distillation_loss: 0.0126\n",
            "313/313 [==============================] - 1s 3ms/step\n",
            "313/313 [==============================] - 1s 3ms/step - loss: 1.0725 - accuracy: 0.6913\n",
            "Test Loss: 1.0724643468856812, Test Accuracy: 0.6912999749183655\n"
          ]
        }
      ]
    },
    {
      "cell_type": "code",
      "source": [
        "del (student)\n",
        "gc.collect()\n",
        "keras.backend.clear_session()"
      ],
      "metadata": {
        "id": "XYgkhmXlWC0H"
      },
      "execution_count": null,
      "outputs": []
    },
    {
      "cell_type": "markdown",
      "source": [
        "---"
      ],
      "metadata": {
        "id": "6dvNBKhsWLqR"
      }
    },
    {
      "cell_type": "markdown",
      "source": [
        "# Download Distill Data"
      ],
      "metadata": {
        "id": "zICDaDog2MSQ"
      }
    },
    {
      "cell_type": "code",
      "source": [
        "shutil.make_archive(\"student_same\", 'zip', \"student_same\")\n",
        "files.download(\"student_same.zip\")"
      ],
      "metadata": {
        "colab": {
          "base_uri": "https://localhost:8080/",
          "height": 34
        },
        "id": "Nr0X0Tyi29wn",
        "outputId": "d1ecfdca-2bd1-43d7-f980-ff8a32a9028d"
      },
      "execution_count": null,
      "outputs": [
        {
          "output_type": "display_data",
          "data": {
            "text/plain": [
              "<IPython.core.display.Javascript object>"
            ],
            "application/javascript": [
              "\n",
              "    async function download(id, filename, size) {\n",
              "      if (!google.colab.kernel.accessAllowed) {\n",
              "        return;\n",
              "      }\n",
              "      const div = document.createElement('div');\n",
              "      const label = document.createElement('label');\n",
              "      label.textContent = `Downloading \"${filename}\": `;\n",
              "      div.appendChild(label);\n",
              "      const progress = document.createElement('progress');\n",
              "      progress.max = size;\n",
              "      div.appendChild(progress);\n",
              "      document.body.appendChild(div);\n",
              "\n",
              "      const buffers = [];\n",
              "      let downloaded = 0;\n",
              "\n",
              "      const channel = await google.colab.kernel.comms.open(id);\n",
              "      // Send a message to notify the kernel that we're ready.\n",
              "      channel.send({})\n",
              "\n",
              "      for await (const message of channel.messages) {\n",
              "        // Send a message to notify the kernel that we're ready.\n",
              "        channel.send({})\n",
              "        if (message.buffers) {\n",
              "          for (const buffer of message.buffers) {\n",
              "            buffers.push(buffer);\n",
              "            downloaded += buffer.byteLength;\n",
              "            progress.value = downloaded;\n",
              "          }\n",
              "        }\n",
              "      }\n",
              "      const blob = new Blob(buffers, {type: 'application/binary'});\n",
              "      const a = document.createElement('a');\n",
              "      a.href = window.URL.createObjectURL(blob);\n",
              "      a.download = filename;\n",
              "      div.appendChild(a);\n",
              "      a.click();\n",
              "      div.remove();\n",
              "    }\n",
              "  "
            ]
          },
          "metadata": {}
        },
        {
          "output_type": "display_data",
          "data": {
            "text/plain": [
              "<IPython.core.display.Javascript object>"
            ],
            "application/javascript": [
              "download(\"download_5a3fa386-219f-4cf1-a864-136c3c0d9d8b\", \"student_same.zip\", 18039541)"
            ]
          },
          "metadata": {}
        }
      ]
    },
    {
      "cell_type": "code",
      "source": [
        "shutil.make_archive(\"student_same_50\", 'zip', \"student_same_50\")\n",
        "files.download(\"student_same_50.zip\")"
      ],
      "metadata": {
        "colab": {
          "base_uri": "https://localhost:8080/",
          "height": 34
        },
        "id": "1xO74JYY3Etr",
        "outputId": "688f90b2-e918-48da-e4e2-5cbb1486b4be"
      },
      "execution_count": null,
      "outputs": [
        {
          "output_type": "display_data",
          "data": {
            "text/plain": [
              "<IPython.core.display.Javascript object>"
            ],
            "application/javascript": [
              "\n",
              "    async function download(id, filename, size) {\n",
              "      if (!google.colab.kernel.accessAllowed) {\n",
              "        return;\n",
              "      }\n",
              "      const div = document.createElement('div');\n",
              "      const label = document.createElement('label');\n",
              "      label.textContent = `Downloading \"${filename}\": `;\n",
              "      div.appendChild(label);\n",
              "      const progress = document.createElement('progress');\n",
              "      progress.max = size;\n",
              "      div.appendChild(progress);\n",
              "      document.body.appendChild(div);\n",
              "\n",
              "      const buffers = [];\n",
              "      let downloaded = 0;\n",
              "\n",
              "      const channel = await google.colab.kernel.comms.open(id);\n",
              "      // Send a message to notify the kernel that we're ready.\n",
              "      channel.send({})\n",
              "\n",
              "      for await (const message of channel.messages) {\n",
              "        // Send a message to notify the kernel that we're ready.\n",
              "        channel.send({})\n",
              "        if (message.buffers) {\n",
              "          for (const buffer of message.buffers) {\n",
              "            buffers.push(buffer);\n",
              "            downloaded += buffer.byteLength;\n",
              "            progress.value = downloaded;\n",
              "          }\n",
              "        }\n",
              "      }\n",
              "      const blob = new Blob(buffers, {type: 'application/binary'});\n",
              "      const a = document.createElement('a');\n",
              "      a.href = window.URL.createObjectURL(blob);\n",
              "      a.download = filename;\n",
              "      div.appendChild(a);\n",
              "      a.click();\n",
              "      div.remove();\n",
              "    }\n",
              "  "
            ]
          },
          "metadata": {}
        },
        {
          "output_type": "display_data",
          "data": {
            "text/plain": [
              "<IPython.core.display.Javascript object>"
            ],
            "application/javascript": [
              "download(\"download_721c7d89-d179-4086-ad2e-b656a3574cc0\", \"student_same_50.zip\", 18060764)"
            ]
          },
          "metadata": {}
        }
      ]
    },
    {
      "cell_type": "code",
      "source": [
        "shutil.make_archive(\"student_same_90\", 'zip', \"student_same_90\")\n",
        "files.download(\"student_same_90.zip\")"
      ],
      "metadata": {
        "colab": {
          "base_uri": "https://localhost:8080/",
          "height": 34
        },
        "id": "sSJkyuJP3LjW",
        "outputId": "8a2341be-3105-4573-9724-10f4124839f3"
      },
      "execution_count": null,
      "outputs": [
        {
          "output_type": "display_data",
          "data": {
            "text/plain": [
              "<IPython.core.display.Javascript object>"
            ],
            "application/javascript": [
              "\n",
              "    async function download(id, filename, size) {\n",
              "      if (!google.colab.kernel.accessAllowed) {\n",
              "        return;\n",
              "      }\n",
              "      const div = document.createElement('div');\n",
              "      const label = document.createElement('label');\n",
              "      label.textContent = `Downloading \"${filename}\": `;\n",
              "      div.appendChild(label);\n",
              "      const progress = document.createElement('progress');\n",
              "      progress.max = size;\n",
              "      div.appendChild(progress);\n",
              "      document.body.appendChild(div);\n",
              "\n",
              "      const buffers = [];\n",
              "      let downloaded = 0;\n",
              "\n",
              "      const channel = await google.colab.kernel.comms.open(id);\n",
              "      // Send a message to notify the kernel that we're ready.\n",
              "      channel.send({})\n",
              "\n",
              "      for await (const message of channel.messages) {\n",
              "        // Send a message to notify the kernel that we're ready.\n",
              "        channel.send({})\n",
              "        if (message.buffers) {\n",
              "          for (const buffer of message.buffers) {\n",
              "            buffers.push(buffer);\n",
              "            downloaded += buffer.byteLength;\n",
              "            progress.value = downloaded;\n",
              "          }\n",
              "        }\n",
              "      }\n",
              "      const blob = new Blob(buffers, {type: 'application/binary'});\n",
              "      const a = document.createElement('a');\n",
              "      a.href = window.URL.createObjectURL(blob);\n",
              "      a.download = filename;\n",
              "      div.appendChild(a);\n",
              "      a.click();\n",
              "      div.remove();\n",
              "    }\n",
              "  "
            ]
          },
          "metadata": {}
        },
        {
          "output_type": "display_data",
          "data": {
            "text/plain": [
              "<IPython.core.display.Javascript object>"
            ],
            "application/javascript": [
              "download(\"download_2263fcaf-cb1d-4119-a952-510cf4e35b11\", \"student_same_90.zip\", 18045613)"
            ]
          },
          "metadata": {}
        }
      ]
    },
    {
      "cell_type": "markdown",
      "source": [
        "---\n",
        "\n",
        "# Qunatisation\n",
        "\n",
        "https://github.com/sonalimedani/TF_Quantization/blob/master/quantization.ipynb\n",
        "\n",
        "https://medium.com/@sonalimedani/post-training-quantization-with-tensorflow-lite-on-a-keras-model-f373068966c4"
      ],
      "metadata": {
        "id": "ZCQ1ucn3X8lA"
      }
    },
    {
      "cell_type": "markdown",
      "source": [
        "**Default**: 8 Bit"
      ],
      "metadata": {
        "id": "X69D_tTXecfn"
      }
    },
    {
      "cell_type": "code",
      "source": [
        "path = '/content/base/LeNetCIFAR10_final.tf'\n",
        "model = tf.keras.models.load_model(path)\n",
        "model.evaluate(x_test,y_test)"
      ],
      "metadata": {
        "id": "h-3BCaalLyoM",
        "colab": {
          "base_uri": "https://localhost:8080/"
        },
        "outputId": "94d8870e-74b5-4725-c137-3a6b9ce60bb8"
      },
      "execution_count": null,
      "outputs": [
        {
          "output_type": "stream",
          "name": "stdout",
          "text": [
            "313/313 [==============================] - 1s 4ms/step - loss: 2.4273 - accuracy: 0.6339\n"
          ]
        },
        {
          "output_type": "execute_result",
          "data": {
            "text/plain": [
              "[2.427269220352173, 0.633899986743927]"
            ]
          },
          "metadata": {},
          "execution_count": 45
        }
      ]
    },
    {
      "cell_type": "code",
      "source": [
        "filepath = '/content/quantised_8_bit/'\n",
        "!mkdir '/content/quantised_8_bit/'"
      ],
      "metadata": {
        "id": "NeW5pwbUZaPE"
      },
      "execution_count": null,
      "outputs": []
    },
    {
      "cell_type": "code",
      "source": [
        "converter = tf.lite.TFLiteConverter.from_keras_model(model)\n",
        "converter.optimizations = [tf.lite.Optimize.DEFAULT]\n",
        "tflite_quant_model = converter.convert()\n",
        "#saving converted model in \"converted_quant_model.tflite\" file\n",
        "open(filepath+\"8_bit.tflite\", \"wb\").write(tflite_quant_model)"
      ],
      "metadata": {
        "colab": {
          "base_uri": "https://localhost:8080/"
        },
        "id": "HAJQfzGfKjCT",
        "outputId": "df7e7ce0-682d-4c69-af2b-7346334f6f08"
      },
      "execution_count": null,
      "outputs": [
        {
          "output_type": "execute_result",
          "data": {
            "text/plain": [
              "323328"
            ]
          },
          "metadata": {},
          "execution_count": 47
        }
      ]
    },
    {
      "cell_type": "code",
      "source": [
        "import os\n",
        "print(\"Float model in Mb:\", os.path.getsize(filepath+\"8_bit.tflite\") / float(2**20))\n",
        "print(\"Quantized model in Mb:\", os.path.getsize(filepath+\"8_bit.tflite\") / float(2**20))\n",
        "print(\"Compression ratio:\", os.path.getsize(filepath+\"8_bit.tflite\")/os.path.getsize(path))"
      ],
      "metadata": {
        "colab": {
          "base_uri": "https://localhost:8080/"
        },
        "id": "4Il7AvI1ZvPy",
        "outputId": "b0857704-2dc6-43ee-8e55-62ec11a61617"
      },
      "execution_count": null,
      "outputs": [
        {
          "output_type": "stream",
          "name": "stdout",
          "text": [
            "Float model in Mb: 0.308349609375\n",
            "Quantized model in Mb: 0.308349609375\n",
            "Compression ratio: 78.9375\n"
          ]
        }
      ]
    },
    {
      "cell_type": "code",
      "source": [
        "interpreter = tf.lite.Interpreter(model_path=(filepath+\"8_bit.tflite\"))\n",
        "interpreter.allocate_tensors()\n",
        "# Get input and output tensors.\n",
        "input_details = interpreter.get_input_details()\n",
        "output_details = interpreter.get_output_details()\n",
        "# Test model on some input data.\n",
        "input_shape = input_details[0]['shape']\n",
        "acc=0\n",
        "results_default = pd.DataFrame()\n",
        "for i in range(len(x_test)):\n",
        "    input_data = x_test[i].reshape(input_shape)\n",
        "    interpreter.set_tensor(input_details[0]['index'], input_data)\n",
        "    interpreter.invoke()\n",
        "    output_data = interpreter.get_tensor(output_details[0]['index'])\n",
        "    row = pd.DataFrame(output_data)\n",
        "    results_default = pd.concat([results_default, row], ignore_index=True)\n",
        "    if(np.argmax(output_data) == np.argmax(y_test[i])):\n",
        "        acc+=1\n",
        "acc = acc/len(x_test)\n",
        "print(acc*100)"
      ],
      "metadata": {
        "colab": {
          "base_uri": "https://localhost:8080/"
        },
        "id": "4szzB8pWZ78D",
        "outputId": "e48c9bc2-d4e9-40c1-afc1-b41230df9e64"
      },
      "execution_count": null,
      "outputs": [
        {
          "output_type": "stream",
          "name": "stdout",
          "text": [
            "63.36000000000001\n"
          ]
        }
      ]
    },
    {
      "cell_type": "code",
      "source": [
        "results_default"
      ],
      "metadata": {
        "colab": {
          "base_uri": "https://localhost:8080/",
          "height": 617
        },
        "id": "YpLAOjXtzwJd",
        "outputId": "684666e5-6c5e-4a0e-aaa7-43f07fb8d1df"
      },
      "execution_count": null,
      "outputs": [
        {
          "output_type": "execute_result",
          "data": {
            "text/plain": [
              "                 0             1             2             3             4  \\\n",
              "0     3.085574e-04  2.101067e-09  9.365412e-08  9.576411e-01  1.881767e-11   \n",
              "1     7.030472e-10  1.945706e-04  2.226929e-19  5.752910e-17  2.890692e-18   \n",
              "2     5.464497e-05  1.780022e-01  3.207399e-06  1.134617e-06  5.127932e-06   \n",
              "3     9.969416e-01  1.064995e-10  7.461209e-05  6.793064e-06  1.214356e-03   \n",
              "4     7.739738e-20  5.147049e-13  3.204761e-07  3.521553e-06  9.999759e-01   \n",
              "...            ...           ...           ...           ...           ...   \n",
              "9995  9.643251e-08  2.140988e-18  1.842671e-07  9.839637e-01  3.612719e-07   \n",
              "9996  1.014946e-17  2.180808e-21  1.854535e-06  5.024426e-02  2.977131e-05   \n",
              "9997  1.018589e-19  9.514478e-23  4.950550e-07  5.488214e-04  1.334043e-13   \n",
              "9998  7.043039e-10  5.315771e-02  1.531296e-11  2.637366e-03  1.532932e-02   \n",
              "9999  4.282707e-24  5.600738e-19  1.056745e-18  2.329386e-21  7.458276e-09   \n",
              "\n",
              "                 5             6             7             8             9  \n",
              "0     3.284454e-02  7.853651e-03  1.033397e-08  1.311976e-03  4.018681e-05  \n",
              "1     2.004448e-26  1.113514e-25  4.307149e-26  9.998023e-01  3.185183e-06  \n",
              "2     6.653705e-08  3.511103e-11  8.913897e-04  7.319981e-01  8.904407e-02  \n",
              "3     7.811304e-09  1.378640e-06  3.796962e-09  1.761185e-03  1.035231e-07  \n",
              "4     1.111178e-09  2.015488e-05  6.049402e-12  6.303562e-11  1.335817e-13  \n",
              "...            ...           ...           ...           ...           ...  \n",
              "9995  1.232421e-02  1.284019e-11  1.022754e-15  3.711489e-03  2.212922e-11  \n",
              "9996  9.495816e-01  1.425257e-04  4.522447e-08  4.386495e-18  1.431518e-15  \n",
              "9997  9.994505e-01  6.025249e-16  2.368125e-07  4.132414e-21  5.449133e-16  \n",
              "9998  9.288756e-01  2.355547e-11  2.331842e-11  3.313002e-11  8.304712e-11  \n",
              "9999  1.242252e-16  4.573569e-23  1.000000e+00  1.330270e-21  4.431397e-25  \n",
              "\n",
              "[10000 rows x 10 columns]"
            ],
            "text/html": [
              "\n",
              "  <div id=\"df-3595f8e3-d4dd-466b-9c02-beae5a65ee24\" class=\"colab-df-container\">\n",
              "    <div>\n",
              "<style scoped>\n",
              "    .dataframe tbody tr th:only-of-type {\n",
              "        vertical-align: middle;\n",
              "    }\n",
              "\n",
              "    .dataframe tbody tr th {\n",
              "        vertical-align: top;\n",
              "    }\n",
              "\n",
              "    .dataframe thead th {\n",
              "        text-align: right;\n",
              "    }\n",
              "</style>\n",
              "<table border=\"1\" class=\"dataframe\">\n",
              "  <thead>\n",
              "    <tr style=\"text-align: right;\">\n",
              "      <th></th>\n",
              "      <th>0</th>\n",
              "      <th>1</th>\n",
              "      <th>2</th>\n",
              "      <th>3</th>\n",
              "      <th>4</th>\n",
              "      <th>5</th>\n",
              "      <th>6</th>\n",
              "      <th>7</th>\n",
              "      <th>8</th>\n",
              "      <th>9</th>\n",
              "    </tr>\n",
              "  </thead>\n",
              "  <tbody>\n",
              "    <tr>\n",
              "      <th>0</th>\n",
              "      <td>3.085574e-04</td>\n",
              "      <td>2.101067e-09</td>\n",
              "      <td>9.365412e-08</td>\n",
              "      <td>9.576411e-01</td>\n",
              "      <td>1.881767e-11</td>\n",
              "      <td>3.284454e-02</td>\n",
              "      <td>7.853651e-03</td>\n",
              "      <td>1.033397e-08</td>\n",
              "      <td>1.311976e-03</td>\n",
              "      <td>4.018681e-05</td>\n",
              "    </tr>\n",
              "    <tr>\n",
              "      <th>1</th>\n",
              "      <td>7.030472e-10</td>\n",
              "      <td>1.945706e-04</td>\n",
              "      <td>2.226929e-19</td>\n",
              "      <td>5.752910e-17</td>\n",
              "      <td>2.890692e-18</td>\n",
              "      <td>2.004448e-26</td>\n",
              "      <td>1.113514e-25</td>\n",
              "      <td>4.307149e-26</td>\n",
              "      <td>9.998023e-01</td>\n",
              "      <td>3.185183e-06</td>\n",
              "    </tr>\n",
              "    <tr>\n",
              "      <th>2</th>\n",
              "      <td>5.464497e-05</td>\n",
              "      <td>1.780022e-01</td>\n",
              "      <td>3.207399e-06</td>\n",
              "      <td>1.134617e-06</td>\n",
              "      <td>5.127932e-06</td>\n",
              "      <td>6.653705e-08</td>\n",
              "      <td>3.511103e-11</td>\n",
              "      <td>8.913897e-04</td>\n",
              "      <td>7.319981e-01</td>\n",
              "      <td>8.904407e-02</td>\n",
              "    </tr>\n",
              "    <tr>\n",
              "      <th>3</th>\n",
              "      <td>9.969416e-01</td>\n",
              "      <td>1.064995e-10</td>\n",
              "      <td>7.461209e-05</td>\n",
              "      <td>6.793064e-06</td>\n",
              "      <td>1.214356e-03</td>\n",
              "      <td>7.811304e-09</td>\n",
              "      <td>1.378640e-06</td>\n",
              "      <td>3.796962e-09</td>\n",
              "      <td>1.761185e-03</td>\n",
              "      <td>1.035231e-07</td>\n",
              "    </tr>\n",
              "    <tr>\n",
              "      <th>4</th>\n",
              "      <td>7.739738e-20</td>\n",
              "      <td>5.147049e-13</td>\n",
              "      <td>3.204761e-07</td>\n",
              "      <td>3.521553e-06</td>\n",
              "      <td>9.999759e-01</td>\n",
              "      <td>1.111178e-09</td>\n",
              "      <td>2.015488e-05</td>\n",
              "      <td>6.049402e-12</td>\n",
              "      <td>6.303562e-11</td>\n",
              "      <td>1.335817e-13</td>\n",
              "    </tr>\n",
              "    <tr>\n",
              "      <th>...</th>\n",
              "      <td>...</td>\n",
              "      <td>...</td>\n",
              "      <td>...</td>\n",
              "      <td>...</td>\n",
              "      <td>...</td>\n",
              "      <td>...</td>\n",
              "      <td>...</td>\n",
              "      <td>...</td>\n",
              "      <td>...</td>\n",
              "      <td>...</td>\n",
              "    </tr>\n",
              "    <tr>\n",
              "      <th>9995</th>\n",
              "      <td>9.643251e-08</td>\n",
              "      <td>2.140988e-18</td>\n",
              "      <td>1.842671e-07</td>\n",
              "      <td>9.839637e-01</td>\n",
              "      <td>3.612719e-07</td>\n",
              "      <td>1.232421e-02</td>\n",
              "      <td>1.284019e-11</td>\n",
              "      <td>1.022754e-15</td>\n",
              "      <td>3.711489e-03</td>\n",
              "      <td>2.212922e-11</td>\n",
              "    </tr>\n",
              "    <tr>\n",
              "      <th>9996</th>\n",
              "      <td>1.014946e-17</td>\n",
              "      <td>2.180808e-21</td>\n",
              "      <td>1.854535e-06</td>\n",
              "      <td>5.024426e-02</td>\n",
              "      <td>2.977131e-05</td>\n",
              "      <td>9.495816e-01</td>\n",
              "      <td>1.425257e-04</td>\n",
              "      <td>4.522447e-08</td>\n",
              "      <td>4.386495e-18</td>\n",
              "      <td>1.431518e-15</td>\n",
              "    </tr>\n",
              "    <tr>\n",
              "      <th>9997</th>\n",
              "      <td>1.018589e-19</td>\n",
              "      <td>9.514478e-23</td>\n",
              "      <td>4.950550e-07</td>\n",
              "      <td>5.488214e-04</td>\n",
              "      <td>1.334043e-13</td>\n",
              "      <td>9.994505e-01</td>\n",
              "      <td>6.025249e-16</td>\n",
              "      <td>2.368125e-07</td>\n",
              "      <td>4.132414e-21</td>\n",
              "      <td>5.449133e-16</td>\n",
              "    </tr>\n",
              "    <tr>\n",
              "      <th>9998</th>\n",
              "      <td>7.043039e-10</td>\n",
              "      <td>5.315771e-02</td>\n",
              "      <td>1.531296e-11</td>\n",
              "      <td>2.637366e-03</td>\n",
              "      <td>1.532932e-02</td>\n",
              "      <td>9.288756e-01</td>\n",
              "      <td>2.355547e-11</td>\n",
              "      <td>2.331842e-11</td>\n",
              "      <td>3.313002e-11</td>\n",
              "      <td>8.304712e-11</td>\n",
              "    </tr>\n",
              "    <tr>\n",
              "      <th>9999</th>\n",
              "      <td>4.282707e-24</td>\n",
              "      <td>5.600738e-19</td>\n",
              "      <td>1.056745e-18</td>\n",
              "      <td>2.329386e-21</td>\n",
              "      <td>7.458276e-09</td>\n",
              "      <td>1.242252e-16</td>\n",
              "      <td>4.573569e-23</td>\n",
              "      <td>1.000000e+00</td>\n",
              "      <td>1.330270e-21</td>\n",
              "      <td>4.431397e-25</td>\n",
              "    </tr>\n",
              "  </tbody>\n",
              "</table>\n",
              "<p>10000 rows × 10 columns</p>\n",
              "</div>\n",
              "    <div class=\"colab-df-buttons\">\n",
              "\n",
              "  <div class=\"colab-df-container\">\n",
              "    <button class=\"colab-df-convert\" onclick=\"convertToInteractive('df-3595f8e3-d4dd-466b-9c02-beae5a65ee24')\"\n",
              "            title=\"Convert this dataframe to an interactive table.\"\n",
              "            style=\"display:none;\">\n",
              "\n",
              "  <svg xmlns=\"http://www.w3.org/2000/svg\" height=\"24px\" viewBox=\"0 -960 960 960\">\n",
              "    <path d=\"M120-120v-720h720v720H120Zm60-500h600v-160H180v160Zm220 220h160v-160H400v160Zm0 220h160v-160H400v160ZM180-400h160v-160H180v160Zm440 0h160v-160H620v160ZM180-180h160v-160H180v160Zm440 0h160v-160H620v160Z\"/>\n",
              "  </svg>\n",
              "    </button>\n",
              "\n",
              "  <style>\n",
              "    .colab-df-container {\n",
              "      display:flex;\n",
              "      gap: 12px;\n",
              "    }\n",
              "\n",
              "    .colab-df-convert {\n",
              "      background-color: #E8F0FE;\n",
              "      border: none;\n",
              "      border-radius: 50%;\n",
              "      cursor: pointer;\n",
              "      display: none;\n",
              "      fill: #1967D2;\n",
              "      height: 32px;\n",
              "      padding: 0 0 0 0;\n",
              "      width: 32px;\n",
              "    }\n",
              "\n",
              "    .colab-df-convert:hover {\n",
              "      background-color: #E2EBFA;\n",
              "      box-shadow: 0px 1px 2px rgba(60, 64, 67, 0.3), 0px 1px 3px 1px rgba(60, 64, 67, 0.15);\n",
              "      fill: #174EA6;\n",
              "    }\n",
              "\n",
              "    .colab-df-buttons div {\n",
              "      margin-bottom: 4px;\n",
              "    }\n",
              "\n",
              "    [theme=dark] .colab-df-convert {\n",
              "      background-color: #3B4455;\n",
              "      fill: #D2E3FC;\n",
              "    }\n",
              "\n",
              "    [theme=dark] .colab-df-convert:hover {\n",
              "      background-color: #434B5C;\n",
              "      box-shadow: 0px 1px 3px 1px rgba(0, 0, 0, 0.15);\n",
              "      filter: drop-shadow(0px 1px 2px rgba(0, 0, 0, 0.3));\n",
              "      fill: #FFFFFF;\n",
              "    }\n",
              "  </style>\n",
              "\n",
              "    <script>\n",
              "      const buttonEl =\n",
              "        document.querySelector('#df-3595f8e3-d4dd-466b-9c02-beae5a65ee24 button.colab-df-convert');\n",
              "      buttonEl.style.display =\n",
              "        google.colab.kernel.accessAllowed ? 'block' : 'none';\n",
              "\n",
              "      async function convertToInteractive(key) {\n",
              "        const element = document.querySelector('#df-3595f8e3-d4dd-466b-9c02-beae5a65ee24');\n",
              "        const dataTable =\n",
              "          await google.colab.kernel.invokeFunction('convertToInteractive',\n",
              "                                                    [key], {});\n",
              "        if (!dataTable) return;\n",
              "\n",
              "        const docLinkHtml = 'Like what you see? Visit the ' +\n",
              "          '<a target=\"_blank\" href=https://colab.research.google.com/notebooks/data_table.ipynb>data table notebook</a>'\n",
              "          + ' to learn more about interactive tables.';\n",
              "        element.innerHTML = '';\n",
              "        dataTable['output_type'] = 'display_data';\n",
              "        await google.colab.output.renderOutput(dataTable, element);\n",
              "        const docLink = document.createElement('div');\n",
              "        docLink.innerHTML = docLinkHtml;\n",
              "        element.appendChild(docLink);\n",
              "      }\n",
              "    </script>\n",
              "  </div>\n",
              "\n",
              "\n",
              "<div id=\"df-0ea4d616-a55d-4089-ad6c-447d72ebd400\">\n",
              "  <button class=\"colab-df-quickchart\" onclick=\"quickchart('df-0ea4d616-a55d-4089-ad6c-447d72ebd400')\"\n",
              "            title=\"Suggest charts\"\n",
              "            style=\"display:none;\">\n",
              "\n",
              "<svg xmlns=\"http://www.w3.org/2000/svg\" height=\"24px\"viewBox=\"0 0 24 24\"\n",
              "     width=\"24px\">\n",
              "    <g>\n",
              "        <path d=\"M19 3H5c-1.1 0-2 .9-2 2v14c0 1.1.9 2 2 2h14c1.1 0 2-.9 2-2V5c0-1.1-.9-2-2-2zM9 17H7v-7h2v7zm4 0h-2V7h2v10zm4 0h-2v-4h2v4z\"/>\n",
              "    </g>\n",
              "</svg>\n",
              "  </button>\n",
              "\n",
              "<style>\n",
              "  .colab-df-quickchart {\n",
              "      --bg-color: #E8F0FE;\n",
              "      --fill-color: #1967D2;\n",
              "      --hover-bg-color: #E2EBFA;\n",
              "      --hover-fill-color: #174EA6;\n",
              "      --disabled-fill-color: #AAA;\n",
              "      --disabled-bg-color: #DDD;\n",
              "  }\n",
              "\n",
              "  [theme=dark] .colab-df-quickchart {\n",
              "      --bg-color: #3B4455;\n",
              "      --fill-color: #D2E3FC;\n",
              "      --hover-bg-color: #434B5C;\n",
              "      --hover-fill-color: #FFFFFF;\n",
              "      --disabled-bg-color: #3B4455;\n",
              "      --disabled-fill-color: #666;\n",
              "  }\n",
              "\n",
              "  .colab-df-quickchart {\n",
              "    background-color: var(--bg-color);\n",
              "    border: none;\n",
              "    border-radius: 50%;\n",
              "    cursor: pointer;\n",
              "    display: none;\n",
              "    fill: var(--fill-color);\n",
              "    height: 32px;\n",
              "    padding: 0;\n",
              "    width: 32px;\n",
              "  }\n",
              "\n",
              "  .colab-df-quickchart:hover {\n",
              "    background-color: var(--hover-bg-color);\n",
              "    box-shadow: 0 1px 2px rgba(60, 64, 67, 0.3), 0 1px 3px 1px rgba(60, 64, 67, 0.15);\n",
              "    fill: var(--button-hover-fill-color);\n",
              "  }\n",
              "\n",
              "  .colab-df-quickchart-complete:disabled,\n",
              "  .colab-df-quickchart-complete:disabled:hover {\n",
              "    background-color: var(--disabled-bg-color);\n",
              "    fill: var(--disabled-fill-color);\n",
              "    box-shadow: none;\n",
              "  }\n",
              "\n",
              "  .colab-df-spinner {\n",
              "    border: 2px solid var(--fill-color);\n",
              "    border-color: transparent;\n",
              "    border-bottom-color: var(--fill-color);\n",
              "    animation:\n",
              "      spin 1s steps(1) infinite;\n",
              "  }\n",
              "\n",
              "  @keyframes spin {\n",
              "    0% {\n",
              "      border-color: transparent;\n",
              "      border-bottom-color: var(--fill-color);\n",
              "      border-left-color: var(--fill-color);\n",
              "    }\n",
              "    20% {\n",
              "      border-color: transparent;\n",
              "      border-left-color: var(--fill-color);\n",
              "      border-top-color: var(--fill-color);\n",
              "    }\n",
              "    30% {\n",
              "      border-color: transparent;\n",
              "      border-left-color: var(--fill-color);\n",
              "      border-top-color: var(--fill-color);\n",
              "      border-right-color: var(--fill-color);\n",
              "    }\n",
              "    40% {\n",
              "      border-color: transparent;\n",
              "      border-right-color: var(--fill-color);\n",
              "      border-top-color: var(--fill-color);\n",
              "    }\n",
              "    60% {\n",
              "      border-color: transparent;\n",
              "      border-right-color: var(--fill-color);\n",
              "    }\n",
              "    80% {\n",
              "      border-color: transparent;\n",
              "      border-right-color: var(--fill-color);\n",
              "      border-bottom-color: var(--fill-color);\n",
              "    }\n",
              "    90% {\n",
              "      border-color: transparent;\n",
              "      border-bottom-color: var(--fill-color);\n",
              "    }\n",
              "  }\n",
              "</style>\n",
              "\n",
              "  <script>\n",
              "    async function quickchart(key) {\n",
              "      const quickchartButtonEl =\n",
              "        document.querySelector('#' + key + ' button');\n",
              "      quickchartButtonEl.disabled = true;  // To prevent multiple clicks.\n",
              "      quickchartButtonEl.classList.add('colab-df-spinner');\n",
              "      try {\n",
              "        const charts = await google.colab.kernel.invokeFunction(\n",
              "            'suggestCharts', [key], {});\n",
              "      } catch (error) {\n",
              "        console.error('Error during call to suggestCharts:', error);\n",
              "      }\n",
              "      quickchartButtonEl.classList.remove('colab-df-spinner');\n",
              "      quickchartButtonEl.classList.add('colab-df-quickchart-complete');\n",
              "    }\n",
              "    (() => {\n",
              "      let quickchartButtonEl =\n",
              "        document.querySelector('#df-0ea4d616-a55d-4089-ad6c-447d72ebd400 button');\n",
              "      quickchartButtonEl.style.display =\n",
              "        google.colab.kernel.accessAllowed ? 'block' : 'none';\n",
              "    })();\n",
              "  </script>\n",
              "</div>\n",
              "    </div>\n",
              "  </div>\n"
            ]
          },
          "metadata": {},
          "execution_count": 50
        }
      ]
    },
    {
      "cell_type": "code",
      "source": [
        "results_default.to_csv((filepath+\"25_softmax.csv\"),index=False)"
      ],
      "metadata": {
        "id": "6h3FAVP8c0A3"
      },
      "execution_count": null,
      "outputs": []
    },
    {
      "cell_type": "markdown",
      "source": [
        "**16 bit**"
      ],
      "metadata": {
        "id": "jpxVyxMGefBb"
      }
    },
    {
      "cell_type": "code",
      "source": [
        "model = tf.keras.models.load_model(path)\n"
      ],
      "metadata": {
        "id": "LlVMMwy1O-E4"
      },
      "execution_count": null,
      "outputs": []
    },
    {
      "cell_type": "code",
      "source": [
        "filepath = '/content/quantised_16_bit/'\n",
        "!mkdir '/content/quantised_16_bit/'"
      ],
      "metadata": {
        "id": "PIrx8SJkaK2g"
      },
      "execution_count": null,
      "outputs": []
    },
    {
      "cell_type": "code",
      "source": [
        "converter = tf.lite.TFLiteConverter.from_keras_model(model)\n",
        "converter.optimizations = [tf.lite.Optimize.DEFAULT]\n",
        "converter.optimizations = [tf.lite.Optimize.DEFAULT]\n",
        "converter.target_spec.supported_types = [tf.float16]\n",
        "tflite_quant_model = converter.convert()\n",
        "#saving converted model in \"converted_quant_model.tflite\" file\n",
        "open((filepath +\"16_bit.tflite\"), \"wb\").write(tflite_quant_model)"
      ],
      "metadata": {
        "colab": {
          "base_uri": "https://localhost:8080/"
        },
        "id": "XVkn8lg5cWIa",
        "outputId": "cf0f1ddf-734a-404a-87d3-acce77eb1d4f"
      },
      "execution_count": null,
      "outputs": [
        {
          "output_type": "execute_result",
          "data": {
            "text/plain": [
              "635984"
            ]
          },
          "metadata": {},
          "execution_count": 54
        }
      ]
    },
    {
      "cell_type": "code",
      "source": [
        "import os\n",
        "print(\"Float model in Mb:\", os.path.getsize(filepath +\"16_bit.tflite\") / float(2**20))\n",
        "print(\"Quantized model in Mb:\", os.path.getsize(filepath +\"16_bit.tflite\") / float(2**20))\n",
        "print(\"Compression ratio:\", os.path.getsize(filepath +\"16_bit.tflite\")/os.path.getsize(path))"
      ],
      "metadata": {
        "colab": {
          "base_uri": "https://localhost:8080/"
        },
        "id": "6S89XWCTbGHF",
        "outputId": "cfbd3622-9297-4366-bdc2-1296d39c7e74"
      },
      "execution_count": null,
      "outputs": [
        {
          "output_type": "stream",
          "name": "stdout",
          "text": [
            "Float model in Mb: 0.6065216064453125\n",
            "Quantized model in Mb: 0.6065216064453125\n",
            "Compression ratio: 155.26953125\n"
          ]
        }
      ]
    },
    {
      "cell_type": "code",
      "source": [
        "interpreter = tf.lite.Interpreter(model_path=filepath +\"16_bit.tflite\")\n",
        "interpreter.allocate_tensors()\n",
        "# Get input and output tensors.\n",
        "input_details = interpreter.get_input_details()\n",
        "output_details = interpreter.get_output_details()\n",
        "# Test model on some input data.\n",
        "input_shape = input_details[0]['shape']\n",
        "acc=0\n",
        "results_16_b = pd.DataFrame()\n",
        "for i in range(len(x_test)):\n",
        "    input_data = x_test[i].reshape(input_shape)\n",
        "    interpreter.set_tensor(input_details[0]['index'], input_data)\n",
        "    interpreter.invoke()\n",
        "    output_data = interpreter.get_tensor(output_details[0]['index'])\n",
        "    row = pd.DataFrame(output_data)\n",
        "    results_16_b = pd.concat([results_16_b, row], ignore_index=True)\n",
        "    if(np.argmax(output_data) == np.argmax(y_test[i])):\n",
        "        acc+=1\n",
        "acc = acc/len(x_test)\n",
        "print(acc*100)"
      ],
      "metadata": {
        "colab": {
          "base_uri": "https://localhost:8080/"
        },
        "id": "5dGGvQ6SZlyV",
        "outputId": "84b92353-1344-4ba0-c4ec-10a00ad430c5"
      },
      "execution_count": null,
      "outputs": [
        {
          "output_type": "stream",
          "name": "stdout",
          "text": [
            "63.4\n"
          ]
        }
      ]
    },
    {
      "cell_type": "code",
      "source": [
        "results_16_b"
      ],
      "metadata": {
        "colab": {
          "base_uri": "https://localhost:8080/",
          "height": 617
        },
        "id": "fm8vJ_qrfyYt",
        "outputId": "c72257eb-1978-4fda-f7f9-1e549de4f764"
      },
      "execution_count": null,
      "outputs": [
        {
          "output_type": "execute_result",
          "data": {
            "text/plain": [
              "                 0             1             2             3             4  \\\n",
              "0     2.641963e-04  1.676827e-09  9.493932e-08  9.453492e-01  2.866321e-11   \n",
              "1     6.872629e-10  2.023901e-04  2.601279e-19  5.378424e-17  2.829087e-18   \n",
              "2     6.326695e-05  1.818717e-01  3.306275e-06  1.077952e-06  5.167411e-06   \n",
              "3     9.964735e-01  1.184853e-10  9.933043e-05  7.442326e-06  1.330521e-03   \n",
              "4     9.673276e-20  4.961078e-13  4.347058e-07  4.137374e-06  9.999719e-01   \n",
              "...            ...           ...           ...           ...           ...   \n",
              "9995  1.224353e-07  2.435328e-18  3.141976e-07  9.819083e-01  4.565735e-07   \n",
              "9996  8.840260e-18  1.663779e-21  1.555168e-06  3.943571e-02  2.574912e-05   \n",
              "9997  6.839145e-20  7.424943e-23  4.395152e-07  4.716293e-04  1.352721e-13   \n",
              "9998  6.577368e-10  6.030961e-02  1.838099e-11  2.614410e-03  2.184755e-02   \n",
              "9999  4.220655e-24  5.101417e-19  1.117896e-18  2.373354e-21  7.000577e-09   \n",
              "\n",
              "                 5             6             7             8             9  \n",
              "0     4.389160e-02  9.123744e-03  1.138396e-08  1.335063e-03  3.616158e-05  \n",
              "1     2.557768e-26  1.072491e-25  4.690962e-26  9.997944e-01  3.188844e-06  \n",
              "2     6.869912e-08  4.382904e-11  9.502213e-04  7.279609e-01  8.914422e-02  \n",
              "3     8.329307e-09  1.316051e-06  3.305948e-09  2.087746e-03  1.176326e-07  \n",
              "4     1.360211e-09  2.353691e-05  6.456095e-12  7.533849e-11  1.357388e-13  \n",
              "...            ...           ...           ...           ...           ...  \n",
              "9995  1.528018e-02  1.496418e-11  1.695925e-15  2.810597e-03  2.310159e-11  \n",
              "9996  9.604260e-01  1.110284e-04  3.448152e-08  4.122377e-18  1.065039e-15  \n",
              "9997  9.995277e-01  4.520719e-16  1.973148e-07  3.120693e-21  2.981125e-16  \n",
              "9998  9.152284e-01  2.560421e-11  2.560450e-11  3.841354e-11  7.748891e-11  \n",
              "9999  1.288971e-16  2.869642e-23  1.000000e+00  1.135066e-21  3.221884e-25  \n",
              "\n",
              "[10000 rows x 10 columns]"
            ],
            "text/html": [
              "\n",
              "  <div id=\"df-c1ae9644-aa2d-4e35-90ad-3d1d4fe27a8e\" class=\"colab-df-container\">\n",
              "    <div>\n",
              "<style scoped>\n",
              "    .dataframe tbody tr th:only-of-type {\n",
              "        vertical-align: middle;\n",
              "    }\n",
              "\n",
              "    .dataframe tbody tr th {\n",
              "        vertical-align: top;\n",
              "    }\n",
              "\n",
              "    .dataframe thead th {\n",
              "        text-align: right;\n",
              "    }\n",
              "</style>\n",
              "<table border=\"1\" class=\"dataframe\">\n",
              "  <thead>\n",
              "    <tr style=\"text-align: right;\">\n",
              "      <th></th>\n",
              "      <th>0</th>\n",
              "      <th>1</th>\n",
              "      <th>2</th>\n",
              "      <th>3</th>\n",
              "      <th>4</th>\n",
              "      <th>5</th>\n",
              "      <th>6</th>\n",
              "      <th>7</th>\n",
              "      <th>8</th>\n",
              "      <th>9</th>\n",
              "    </tr>\n",
              "  </thead>\n",
              "  <tbody>\n",
              "    <tr>\n",
              "      <th>0</th>\n",
              "      <td>2.641963e-04</td>\n",
              "      <td>1.676827e-09</td>\n",
              "      <td>9.493932e-08</td>\n",
              "      <td>9.453492e-01</td>\n",
              "      <td>2.866321e-11</td>\n",
              "      <td>4.389160e-02</td>\n",
              "      <td>9.123744e-03</td>\n",
              "      <td>1.138396e-08</td>\n",
              "      <td>1.335063e-03</td>\n",
              "      <td>3.616158e-05</td>\n",
              "    </tr>\n",
              "    <tr>\n",
              "      <th>1</th>\n",
              "      <td>6.872629e-10</td>\n",
              "      <td>2.023901e-04</td>\n",
              "      <td>2.601279e-19</td>\n",
              "      <td>5.378424e-17</td>\n",
              "      <td>2.829087e-18</td>\n",
              "      <td>2.557768e-26</td>\n",
              "      <td>1.072491e-25</td>\n",
              "      <td>4.690962e-26</td>\n",
              "      <td>9.997944e-01</td>\n",
              "      <td>3.188844e-06</td>\n",
              "    </tr>\n",
              "    <tr>\n",
              "      <th>2</th>\n",
              "      <td>6.326695e-05</td>\n",
              "      <td>1.818717e-01</td>\n",
              "      <td>3.306275e-06</td>\n",
              "      <td>1.077952e-06</td>\n",
              "      <td>5.167411e-06</td>\n",
              "      <td>6.869912e-08</td>\n",
              "      <td>4.382904e-11</td>\n",
              "      <td>9.502213e-04</td>\n",
              "      <td>7.279609e-01</td>\n",
              "      <td>8.914422e-02</td>\n",
              "    </tr>\n",
              "    <tr>\n",
              "      <th>3</th>\n",
              "      <td>9.964735e-01</td>\n",
              "      <td>1.184853e-10</td>\n",
              "      <td>9.933043e-05</td>\n",
              "      <td>7.442326e-06</td>\n",
              "      <td>1.330521e-03</td>\n",
              "      <td>8.329307e-09</td>\n",
              "      <td>1.316051e-06</td>\n",
              "      <td>3.305948e-09</td>\n",
              "      <td>2.087746e-03</td>\n",
              "      <td>1.176326e-07</td>\n",
              "    </tr>\n",
              "    <tr>\n",
              "      <th>4</th>\n",
              "      <td>9.673276e-20</td>\n",
              "      <td>4.961078e-13</td>\n",
              "      <td>4.347058e-07</td>\n",
              "      <td>4.137374e-06</td>\n",
              "      <td>9.999719e-01</td>\n",
              "      <td>1.360211e-09</td>\n",
              "      <td>2.353691e-05</td>\n",
              "      <td>6.456095e-12</td>\n",
              "      <td>7.533849e-11</td>\n",
              "      <td>1.357388e-13</td>\n",
              "    </tr>\n",
              "    <tr>\n",
              "      <th>...</th>\n",
              "      <td>...</td>\n",
              "      <td>...</td>\n",
              "      <td>...</td>\n",
              "      <td>...</td>\n",
              "      <td>...</td>\n",
              "      <td>...</td>\n",
              "      <td>...</td>\n",
              "      <td>...</td>\n",
              "      <td>...</td>\n",
              "      <td>...</td>\n",
              "    </tr>\n",
              "    <tr>\n",
              "      <th>9995</th>\n",
              "      <td>1.224353e-07</td>\n",
              "      <td>2.435328e-18</td>\n",
              "      <td>3.141976e-07</td>\n",
              "      <td>9.819083e-01</td>\n",
              "      <td>4.565735e-07</td>\n",
              "      <td>1.528018e-02</td>\n",
              "      <td>1.496418e-11</td>\n",
              "      <td>1.695925e-15</td>\n",
              "      <td>2.810597e-03</td>\n",
              "      <td>2.310159e-11</td>\n",
              "    </tr>\n",
              "    <tr>\n",
              "      <th>9996</th>\n",
              "      <td>8.840260e-18</td>\n",
              "      <td>1.663779e-21</td>\n",
              "      <td>1.555168e-06</td>\n",
              "      <td>3.943571e-02</td>\n",
              "      <td>2.574912e-05</td>\n",
              "      <td>9.604260e-01</td>\n",
              "      <td>1.110284e-04</td>\n",
              "      <td>3.448152e-08</td>\n",
              "      <td>4.122377e-18</td>\n",
              "      <td>1.065039e-15</td>\n",
              "    </tr>\n",
              "    <tr>\n",
              "      <th>9997</th>\n",
              "      <td>6.839145e-20</td>\n",
              "      <td>7.424943e-23</td>\n",
              "      <td>4.395152e-07</td>\n",
              "      <td>4.716293e-04</td>\n",
              "      <td>1.352721e-13</td>\n",
              "      <td>9.995277e-01</td>\n",
              "      <td>4.520719e-16</td>\n",
              "      <td>1.973148e-07</td>\n",
              "      <td>3.120693e-21</td>\n",
              "      <td>2.981125e-16</td>\n",
              "    </tr>\n",
              "    <tr>\n",
              "      <th>9998</th>\n",
              "      <td>6.577368e-10</td>\n",
              "      <td>6.030961e-02</td>\n",
              "      <td>1.838099e-11</td>\n",
              "      <td>2.614410e-03</td>\n",
              "      <td>2.184755e-02</td>\n",
              "      <td>9.152284e-01</td>\n",
              "      <td>2.560421e-11</td>\n",
              "      <td>2.560450e-11</td>\n",
              "      <td>3.841354e-11</td>\n",
              "      <td>7.748891e-11</td>\n",
              "    </tr>\n",
              "    <tr>\n",
              "      <th>9999</th>\n",
              "      <td>4.220655e-24</td>\n",
              "      <td>5.101417e-19</td>\n",
              "      <td>1.117896e-18</td>\n",
              "      <td>2.373354e-21</td>\n",
              "      <td>7.000577e-09</td>\n",
              "      <td>1.288971e-16</td>\n",
              "      <td>2.869642e-23</td>\n",
              "      <td>1.000000e+00</td>\n",
              "      <td>1.135066e-21</td>\n",
              "      <td>3.221884e-25</td>\n",
              "    </tr>\n",
              "  </tbody>\n",
              "</table>\n",
              "<p>10000 rows × 10 columns</p>\n",
              "</div>\n",
              "    <div class=\"colab-df-buttons\">\n",
              "\n",
              "  <div class=\"colab-df-container\">\n",
              "    <button class=\"colab-df-convert\" onclick=\"convertToInteractive('df-c1ae9644-aa2d-4e35-90ad-3d1d4fe27a8e')\"\n",
              "            title=\"Convert this dataframe to an interactive table.\"\n",
              "            style=\"display:none;\">\n",
              "\n",
              "  <svg xmlns=\"http://www.w3.org/2000/svg\" height=\"24px\" viewBox=\"0 -960 960 960\">\n",
              "    <path d=\"M120-120v-720h720v720H120Zm60-500h600v-160H180v160Zm220 220h160v-160H400v160Zm0 220h160v-160H400v160ZM180-400h160v-160H180v160Zm440 0h160v-160H620v160ZM180-180h160v-160H180v160Zm440 0h160v-160H620v160Z\"/>\n",
              "  </svg>\n",
              "    </button>\n",
              "\n",
              "  <style>\n",
              "    .colab-df-container {\n",
              "      display:flex;\n",
              "      gap: 12px;\n",
              "    }\n",
              "\n",
              "    .colab-df-convert {\n",
              "      background-color: #E8F0FE;\n",
              "      border: none;\n",
              "      border-radius: 50%;\n",
              "      cursor: pointer;\n",
              "      display: none;\n",
              "      fill: #1967D2;\n",
              "      height: 32px;\n",
              "      padding: 0 0 0 0;\n",
              "      width: 32px;\n",
              "    }\n",
              "\n",
              "    .colab-df-convert:hover {\n",
              "      background-color: #E2EBFA;\n",
              "      box-shadow: 0px 1px 2px rgba(60, 64, 67, 0.3), 0px 1px 3px 1px rgba(60, 64, 67, 0.15);\n",
              "      fill: #174EA6;\n",
              "    }\n",
              "\n",
              "    .colab-df-buttons div {\n",
              "      margin-bottom: 4px;\n",
              "    }\n",
              "\n",
              "    [theme=dark] .colab-df-convert {\n",
              "      background-color: #3B4455;\n",
              "      fill: #D2E3FC;\n",
              "    }\n",
              "\n",
              "    [theme=dark] .colab-df-convert:hover {\n",
              "      background-color: #434B5C;\n",
              "      box-shadow: 0px 1px 3px 1px rgba(0, 0, 0, 0.15);\n",
              "      filter: drop-shadow(0px 1px 2px rgba(0, 0, 0, 0.3));\n",
              "      fill: #FFFFFF;\n",
              "    }\n",
              "  </style>\n",
              "\n",
              "    <script>\n",
              "      const buttonEl =\n",
              "        document.querySelector('#df-c1ae9644-aa2d-4e35-90ad-3d1d4fe27a8e button.colab-df-convert');\n",
              "      buttonEl.style.display =\n",
              "        google.colab.kernel.accessAllowed ? 'block' : 'none';\n",
              "\n",
              "      async function convertToInteractive(key) {\n",
              "        const element = document.querySelector('#df-c1ae9644-aa2d-4e35-90ad-3d1d4fe27a8e');\n",
              "        const dataTable =\n",
              "          await google.colab.kernel.invokeFunction('convertToInteractive',\n",
              "                                                    [key], {});\n",
              "        if (!dataTable) return;\n",
              "\n",
              "        const docLinkHtml = 'Like what you see? Visit the ' +\n",
              "          '<a target=\"_blank\" href=https://colab.research.google.com/notebooks/data_table.ipynb>data table notebook</a>'\n",
              "          + ' to learn more about interactive tables.';\n",
              "        element.innerHTML = '';\n",
              "        dataTable['output_type'] = 'display_data';\n",
              "        await google.colab.output.renderOutput(dataTable, element);\n",
              "        const docLink = document.createElement('div');\n",
              "        docLink.innerHTML = docLinkHtml;\n",
              "        element.appendChild(docLink);\n",
              "      }\n",
              "    </script>\n",
              "  </div>\n",
              "\n",
              "\n",
              "<div id=\"df-42e3118e-632e-452d-9d2f-64b95dcfd978\">\n",
              "  <button class=\"colab-df-quickchart\" onclick=\"quickchart('df-42e3118e-632e-452d-9d2f-64b95dcfd978')\"\n",
              "            title=\"Suggest charts\"\n",
              "            style=\"display:none;\">\n",
              "\n",
              "<svg xmlns=\"http://www.w3.org/2000/svg\" height=\"24px\"viewBox=\"0 0 24 24\"\n",
              "     width=\"24px\">\n",
              "    <g>\n",
              "        <path d=\"M19 3H5c-1.1 0-2 .9-2 2v14c0 1.1.9 2 2 2h14c1.1 0 2-.9 2-2V5c0-1.1-.9-2-2-2zM9 17H7v-7h2v7zm4 0h-2V7h2v10zm4 0h-2v-4h2v4z\"/>\n",
              "    </g>\n",
              "</svg>\n",
              "  </button>\n",
              "\n",
              "<style>\n",
              "  .colab-df-quickchart {\n",
              "      --bg-color: #E8F0FE;\n",
              "      --fill-color: #1967D2;\n",
              "      --hover-bg-color: #E2EBFA;\n",
              "      --hover-fill-color: #174EA6;\n",
              "      --disabled-fill-color: #AAA;\n",
              "      --disabled-bg-color: #DDD;\n",
              "  }\n",
              "\n",
              "  [theme=dark] .colab-df-quickchart {\n",
              "      --bg-color: #3B4455;\n",
              "      --fill-color: #D2E3FC;\n",
              "      --hover-bg-color: #434B5C;\n",
              "      --hover-fill-color: #FFFFFF;\n",
              "      --disabled-bg-color: #3B4455;\n",
              "      --disabled-fill-color: #666;\n",
              "  }\n",
              "\n",
              "  .colab-df-quickchart {\n",
              "    background-color: var(--bg-color);\n",
              "    border: none;\n",
              "    border-radius: 50%;\n",
              "    cursor: pointer;\n",
              "    display: none;\n",
              "    fill: var(--fill-color);\n",
              "    height: 32px;\n",
              "    padding: 0;\n",
              "    width: 32px;\n",
              "  }\n",
              "\n",
              "  .colab-df-quickchart:hover {\n",
              "    background-color: var(--hover-bg-color);\n",
              "    box-shadow: 0 1px 2px rgba(60, 64, 67, 0.3), 0 1px 3px 1px rgba(60, 64, 67, 0.15);\n",
              "    fill: var(--button-hover-fill-color);\n",
              "  }\n",
              "\n",
              "  .colab-df-quickchart-complete:disabled,\n",
              "  .colab-df-quickchart-complete:disabled:hover {\n",
              "    background-color: var(--disabled-bg-color);\n",
              "    fill: var(--disabled-fill-color);\n",
              "    box-shadow: none;\n",
              "  }\n",
              "\n",
              "  .colab-df-spinner {\n",
              "    border: 2px solid var(--fill-color);\n",
              "    border-color: transparent;\n",
              "    border-bottom-color: var(--fill-color);\n",
              "    animation:\n",
              "      spin 1s steps(1) infinite;\n",
              "  }\n",
              "\n",
              "  @keyframes spin {\n",
              "    0% {\n",
              "      border-color: transparent;\n",
              "      border-bottom-color: var(--fill-color);\n",
              "      border-left-color: var(--fill-color);\n",
              "    }\n",
              "    20% {\n",
              "      border-color: transparent;\n",
              "      border-left-color: var(--fill-color);\n",
              "      border-top-color: var(--fill-color);\n",
              "    }\n",
              "    30% {\n",
              "      border-color: transparent;\n",
              "      border-left-color: var(--fill-color);\n",
              "      border-top-color: var(--fill-color);\n",
              "      border-right-color: var(--fill-color);\n",
              "    }\n",
              "    40% {\n",
              "      border-color: transparent;\n",
              "      border-right-color: var(--fill-color);\n",
              "      border-top-color: var(--fill-color);\n",
              "    }\n",
              "    60% {\n",
              "      border-color: transparent;\n",
              "      border-right-color: var(--fill-color);\n",
              "    }\n",
              "    80% {\n",
              "      border-color: transparent;\n",
              "      border-right-color: var(--fill-color);\n",
              "      border-bottom-color: var(--fill-color);\n",
              "    }\n",
              "    90% {\n",
              "      border-color: transparent;\n",
              "      border-bottom-color: var(--fill-color);\n",
              "    }\n",
              "  }\n",
              "</style>\n",
              "\n",
              "  <script>\n",
              "    async function quickchart(key) {\n",
              "      const quickchartButtonEl =\n",
              "        document.querySelector('#' + key + ' button');\n",
              "      quickchartButtonEl.disabled = true;  // To prevent multiple clicks.\n",
              "      quickchartButtonEl.classList.add('colab-df-spinner');\n",
              "      try {\n",
              "        const charts = await google.colab.kernel.invokeFunction(\n",
              "            'suggestCharts', [key], {});\n",
              "      } catch (error) {\n",
              "        console.error('Error during call to suggestCharts:', error);\n",
              "      }\n",
              "      quickchartButtonEl.classList.remove('colab-df-spinner');\n",
              "      quickchartButtonEl.classList.add('colab-df-quickchart-complete');\n",
              "    }\n",
              "    (() => {\n",
              "      let quickchartButtonEl =\n",
              "        document.querySelector('#df-42e3118e-632e-452d-9d2f-64b95dcfd978 button');\n",
              "      quickchartButtonEl.style.display =\n",
              "        google.colab.kernel.accessAllowed ? 'block' : 'none';\n",
              "    })();\n",
              "  </script>\n",
              "</div>\n",
              "    </div>\n",
              "  </div>\n"
            ]
          },
          "metadata": {},
          "execution_count": 57
        }
      ]
    },
    {
      "cell_type": "code",
      "source": [
        "results_16_b.to_csv(filepath +'25_softmax.csv',index =False)"
      ],
      "metadata": {
        "id": "3sYfcMpA0Ciz"
      },
      "execution_count": null,
      "outputs": []
    },
    {
      "cell_type": "markdown",
      "source": [
        "# Download Data"
      ],
      "metadata": {
        "id": "_sIXOiBbSgxM"
      }
    },
    {
      "cell_type": "code",
      "source": [
        "shutil.make_archive(\"quantised_16_bit\", 'zip', \"quantised_16_bit\")\n",
        "files.download(\"quantised_16_bit.zip\")"
      ],
      "metadata": {
        "colab": {
          "base_uri": "https://localhost:8080/",
          "height": 34
        },
        "id": "duQtnTAHSp03",
        "outputId": "bc136e67-5f7a-49c6-f4c7-58a8942f8d9a"
      },
      "execution_count": null,
      "outputs": [
        {
          "output_type": "display_data",
          "data": {
            "text/plain": [
              "<IPython.core.display.Javascript object>"
            ],
            "application/javascript": [
              "\n",
              "    async function download(id, filename, size) {\n",
              "      if (!google.colab.kernel.accessAllowed) {\n",
              "        return;\n",
              "      }\n",
              "      const div = document.createElement('div');\n",
              "      const label = document.createElement('label');\n",
              "      label.textContent = `Downloading \"${filename}\": `;\n",
              "      div.appendChild(label);\n",
              "      const progress = document.createElement('progress');\n",
              "      progress.max = size;\n",
              "      div.appendChild(progress);\n",
              "      document.body.appendChild(div);\n",
              "\n",
              "      const buffers = [];\n",
              "      let downloaded = 0;\n",
              "\n",
              "      const channel = await google.colab.kernel.comms.open(id);\n",
              "      // Send a message to notify the kernel that we're ready.\n",
              "      channel.send({})\n",
              "\n",
              "      for await (const message of channel.messages) {\n",
              "        // Send a message to notify the kernel that we're ready.\n",
              "        channel.send({})\n",
              "        if (message.buffers) {\n",
              "          for (const buffer of message.buffers) {\n",
              "            buffers.push(buffer);\n",
              "            downloaded += buffer.byteLength;\n",
              "            progress.value = downloaded;\n",
              "          }\n",
              "        }\n",
              "      }\n",
              "      const blob = new Blob(buffers, {type: 'application/binary'});\n",
              "      const a = document.createElement('a');\n",
              "      a.href = window.URL.createObjectURL(blob);\n",
              "      a.download = filename;\n",
              "      div.appendChild(a);\n",
              "      a.click();\n",
              "      div.remove();\n",
              "    }\n",
              "  "
            ]
          },
          "metadata": {}
        },
        {
          "output_type": "display_data",
          "data": {
            "text/plain": [
              "<IPython.core.display.Javascript object>"
            ],
            "application/javascript": [
              "download(\"download_9266bf17-5729-4623-8bfc-1b501489278e\", \"quantised_16_bit.zip\", 1148784)"
            ]
          },
          "metadata": {}
        }
      ]
    },
    {
      "cell_type": "code",
      "source": [
        "shutil.make_archive(\"quantised_8_bit\", 'zip', \"quantised_8_bit\")\n",
        "files.download(\"quantised_8_bit.zip\")"
      ],
      "metadata": {
        "colab": {
          "base_uri": "https://localhost:8080/",
          "height": 34
        },
        "id": "eWkTJRnsS6I1",
        "outputId": "1ce0c89d-9fb0-4d15-a7ca-dcb64ab1ed96"
      },
      "execution_count": null,
      "outputs": [
        {
          "output_type": "display_data",
          "data": {
            "text/plain": [
              "<IPython.core.display.Javascript object>"
            ],
            "application/javascript": [
              "\n",
              "    async function download(id, filename, size) {\n",
              "      if (!google.colab.kernel.accessAllowed) {\n",
              "        return;\n",
              "      }\n",
              "      const div = document.createElement('div');\n",
              "      const label = document.createElement('label');\n",
              "      label.textContent = `Downloading \"${filename}\": `;\n",
              "      div.appendChild(label);\n",
              "      const progress = document.createElement('progress');\n",
              "      progress.max = size;\n",
              "      div.appendChild(progress);\n",
              "      document.body.appendChild(div);\n",
              "\n",
              "      const buffers = [];\n",
              "      let downloaded = 0;\n",
              "\n",
              "      const channel = await google.colab.kernel.comms.open(id);\n",
              "      // Send a message to notify the kernel that we're ready.\n",
              "      channel.send({})\n",
              "\n",
              "      for await (const message of channel.messages) {\n",
              "        // Send a message to notify the kernel that we're ready.\n",
              "        channel.send({})\n",
              "        if (message.buffers) {\n",
              "          for (const buffer of message.buffers) {\n",
              "            buffers.push(buffer);\n",
              "            downloaded += buffer.byteLength;\n",
              "            progress.value = downloaded;\n",
              "          }\n",
              "        }\n",
              "      }\n",
              "      const blob = new Blob(buffers, {type: 'application/binary'});\n",
              "      const a = document.createElement('a');\n",
              "      a.href = window.URL.createObjectURL(blob);\n",
              "      a.download = filename;\n",
              "      div.appendChild(a);\n",
              "      a.click();\n",
              "      div.remove();\n",
              "    }\n",
              "  "
            ]
          },
          "metadata": {}
        },
        {
          "output_type": "display_data",
          "data": {
            "text/plain": [
              "<IPython.core.display.Javascript object>"
            ],
            "application/javascript": [
              "download(\"download_d57c0dfa-14e2-4296-9fb9-6f4b3aa64ddb\", \"quantised_8_bit.zip\", 805745)"
            ]
          },
          "metadata": {}
        }
      ]
    }
  ]
}