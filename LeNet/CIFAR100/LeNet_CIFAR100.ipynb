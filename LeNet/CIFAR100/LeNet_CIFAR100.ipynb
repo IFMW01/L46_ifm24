{
  "nbformat": 4,
  "nbformat_minor": 0,
  "metadata": {
    "colab": {
      "provenance": [],
      "gpuType": "T4"
    },
    "kernelspec": {
      "name": "python3",
      "display_name": "Python 3"
    },
    "language_info": {
      "name": "python"
    },
    "accelerator": "GPU"
  },
  "cells": [
    {
      "cell_type": "code",
      "source": [
        "import tensorflow as tf\n",
        "import keras\n",
        "from keras import layers\n",
        "import numpy as np\n",
        "import pandas as pd\n",
        "from sklearn.decomposition import PCA\n",
        "from sklearn.preprocessing import StandardScaler\n",
        "import matplotlib.pyplot as plt\n",
        "from sklearn.manifold import TSNE\n",
        "!pip install tensorflow-model-optimization\n",
        "from tensorflow_model_optimization.python.core.sparsity.keras import prune, pruning_callbacks\n",
        "import tensorflow_model_optimization as tfmot\n",
        "from tensorflow_model_optimization.sparsity import keras as sparsity\n",
        "from tensorflow.keras.models import load_model\n",
        "from google.colab import files\n",
        "import shutil\n",
        "import gc\n",
        "from keras.datasets import cifar100\n",
        "\n",
        "np.random.seed(42)\n",
        "tf.random.set_seed(42)"
      ],
      "metadata": {
        "id": "g5UR0O-BbO19",
        "colab": {
          "base_uri": "https://localhost:8080/"
        },
        "outputId": "0e56e71e-65a6-4318-ba8b-80f610aa5a4a"
      },
      "execution_count": null,
      "outputs": [
        {
          "output_type": "stream",
          "name": "stdout",
          "text": [
            "Collecting tensorflow-model-optimization\n",
            "  Downloading tensorflow_model_optimization-0.7.5-py2.py3-none-any.whl (241 kB)\n",
            "\u001b[2K     \u001b[90m━━━━━━━━━━━━━━━━━━━━━━━━━━━━━━━━━━━━━━━━\u001b[0m \u001b[32m241.2/241.2 kB\u001b[0m \u001b[31m3.9 MB/s\u001b[0m eta \u001b[36m0:00:00\u001b[0m\n",
            "\u001b[?25hRequirement already satisfied: absl-py~=1.2 in /usr/local/lib/python3.10/dist-packages (from tensorflow-model-optimization) (1.4.0)\n",
            "Requirement already satisfied: dm-tree~=0.1.1 in /usr/local/lib/python3.10/dist-packages (from tensorflow-model-optimization) (0.1.8)\n",
            "Requirement already satisfied: numpy~=1.23 in /usr/local/lib/python3.10/dist-packages (from tensorflow-model-optimization) (1.23.5)\n",
            "Requirement already satisfied: six~=1.14 in /usr/local/lib/python3.10/dist-packages (from tensorflow-model-optimization) (1.16.0)\n",
            "Installing collected packages: tensorflow-model-optimization\n",
            "Successfully installed tensorflow-model-optimization-0.7.5\n"
          ]
        }
      ]
    },
    {
      "cell_type": "code",
      "execution_count": null,
      "metadata": {
        "id": "kgdWDGbE0e-h",
        "colab": {
          "base_uri": "https://localhost:8080/"
        },
        "outputId": "2472e1bd-c479-4c08-b9d7-f4bf467f79a7"
      },
      "outputs": [
        {
          "output_type": "stream",
          "name": "stdout",
          "text": [
            "Downloading data from https://www.cs.toronto.edu/~kriz/cifar-100-python.tar.gz\n",
            "169001437/169001437 [==============================] - 4s 0us/step\n",
            "x_train shape: (50000, 32, 32, 3, 1)\n",
            "50000 train samples\n",
            "10000 test samples\n"
          ]
        }
      ],
      "source": [
        "def build_lenet_model(input_shape, num_classes):\n",
        "    model = keras.Sequential([\n",
        "        keras.layers.Conv2D(32, kernel_size=(3, 3), activation='relu', input_shape=input_shape),\n",
        "        keras.layers.MaxPooling2D(pool_size=(2, 2)),\n",
        "        keras.layers.Conv2D(64, kernel_size=(3, 3), activation='relu'),\n",
        "        keras.layers.MaxPooling2D(pool_size=(2, 2)),\n",
        "        keras.layers.Flatten(),\n",
        "        keras.layers.Dense(128, activation='relu'),\n",
        "        keras.layers.Dense(num_classes, activation='softmax')\n",
        "    ])\n",
        "    model.compile(optimizer='adam', loss='categorical_crossentropy', metrics=['accuracy'])\n",
        "    return model\n",
        "\n",
        "# Load and preprocess MNIST data\n",
        "num_classes = 100\n",
        "input_shape = (32, 32, 3)\n",
        "\n",
        "# Load the data and split it between train and test sets\n",
        "(x_train, y_train), (x_test, y_test) = cifar100.load_data()\n",
        "\n",
        "# Load the data and split it between train and test sets\n",
        "\n",
        "# Scale images to the [0, 1] range\n",
        "x_train = x_train.astype(\"float32\") / 255\n",
        "x_test = x_test.astype(\"float32\") / 255\n",
        "# Make sure images have shape (28, 28, 1)\n",
        "x_train = np.expand_dims(x_train, -1)\n",
        "x_test = np.expand_dims(x_test, -1)\n",
        "print(\"x_train shape:\", x_train.shape)\n",
        "print(x_train.shape[0], \"train samples\")\n",
        "print(x_test.shape[0], \"test samples\")\n",
        "\n",
        "\n",
        "# convert class vectors to binary class matrices\n",
        "y_train = keras.utils.to_categorical(y_train, num_classes)\n",
        "y_test = keras.utils.to_categorical(y_test, num_classes)\n",
        "\n"
      ]
    },
    {
      "cell_type": "code",
      "source": [
        "def train_lenet(model, train_data, train_labels, test_data, test_labels):\n",
        "    model.save_weights(init_weights)\n",
        "    model.save(init_model)\n",
        "    initailsoftmax = model.predict(test_data)\n",
        "    initaildf = pd.DataFrame(initailsoftmax)\n",
        "    filename = filepath + '0_softmax.csv'\n",
        "    initaildf.to_csv(filename,index=False)\n",
        "    epoch = 1\n",
        "    while epoch < 26:\n",
        "        print(f\"Epoch {epoch}:\")\n",
        "\n",
        "        # Training on one epoch\n",
        "        model.fit(train_data, train_labels, epochs=1, batch_size=64, verbose=1)\n",
        "\n",
        "        # Evaluate on the test dataset\n",
        "        loss, accuracy = model.evaluate(test_data, test_labels, verbose=0)\n",
        "        results = model.predict(test_data)\n",
        "        softmax_df = pd.DataFrame(results)\n",
        "        filename = filepath+str(epoch)+'_softmax.csv'\n",
        "        softmax_df.to_csv(filename,index=False)\n",
        "\n",
        "        print(f\"Test Loss: {loss}, Test Accuracy: {accuracy}\")\n",
        "        if epoch ==25:\n",
        "          model.save_weights(final_weights)\n",
        "          model.save(final_model)\n",
        "        epoch += 1\n",
        "\n",
        "\n"
      ],
      "metadata": {
        "id": "ISdhEM6VaVA4"
      },
      "execution_count": null,
      "outputs": []
    },
    {
      "cell_type": "code",
      "source": [
        "model_name = 'LeNet'\n",
        "dataset = 'CIFAR100'"
      ],
      "metadata": {
        "id": "ZW6sVYElRjz-"
      },
      "execution_count": null,
      "outputs": []
    },
    {
      "cell_type": "markdown",
      "source": [
        "# Creating Base Models"
      ],
      "metadata": {
        "id": "2EJSiXMAb4UR"
      }
    },
    {
      "cell_type": "code",
      "source": [
        "filepath = '/content/base/'\n",
        "init_weights = filepath + model_name + dataset + '_init_weights.tf'\n",
        "init_model = filepath + model_name + dataset +'_init.tf'\n",
        "final_weights = filepath + model_name + dataset +'_final_weights.tf'\n",
        "final_model= filepath + model_name + dataset +'_final.tf'"
      ],
      "metadata": {
        "id": "1WZTNNxJciha"
      },
      "execution_count": null,
      "outputs": []
    },
    {
      "cell_type": "code",
      "source": [
        "!mkdir '/content/base/'"
      ],
      "metadata": {
        "id": "slUSKBbwgTV4"
      },
      "execution_count": null,
      "outputs": []
    },
    {
      "cell_type": "code",
      "source": [
        "base = build_lenet_model(input_shape, num_classes)"
      ],
      "metadata": {
        "id": "ws_M91l3fZ24"
      },
      "execution_count": null,
      "outputs": []
    },
    {
      "cell_type": "code",
      "source": [
        "base.summary()"
      ],
      "metadata": {
        "colab": {
          "base_uri": "https://localhost:8080/"
        },
        "id": "UQaQ90kIhske",
        "outputId": "ae2299ce-cc6c-487e-b54d-e8c39aa0c591"
      },
      "execution_count": null,
      "outputs": [
        {
          "output_type": "stream",
          "name": "stdout",
          "text": [
            "Model: \"sequential\"\n",
            "_________________________________________________________________\n",
            " Layer (type)                Output Shape              Param #   \n",
            "=================================================================\n",
            " conv2d (Conv2D)             (None, 30, 30, 32)        896       \n",
            "                                                                 \n",
            " max_pooling2d (MaxPooling2  (None, 15, 15, 32)        0         \n",
            " D)                                                              \n",
            "                                                                 \n",
            " conv2d_1 (Conv2D)           (None, 13, 13, 64)        18496     \n",
            "                                                                 \n",
            " max_pooling2d_1 (MaxPoolin  (None, 6, 6, 64)          0         \n",
            " g2D)                                                            \n",
            "                                                                 \n",
            " flatten (Flatten)           (None, 2304)              0         \n",
            "                                                                 \n",
            " dense (Dense)               (None, 128)               295040    \n",
            "                                                                 \n",
            " dense_1 (Dense)             (None, 100)               12900     \n",
            "                                                                 \n",
            "=================================================================\n",
            "Total params: 327332 (1.25 MB)\n",
            "Trainable params: 327332 (1.25 MB)\n",
            "Non-trainable params: 0 (0.00 Byte)\n",
            "_________________________________________________________________\n"
          ]
        }
      ]
    },
    {
      "cell_type": "code",
      "source": [
        "train_lenet(base,x_train,y_train,x_test,y_test)"
      ],
      "metadata": {
        "colab": {
          "base_uri": "https://localhost:8080/"
        },
        "id": "xEAxJbswxiTX",
        "outputId": "a1c56b3a-7c17-40f1-d5d7-41ae5f385550"
      },
      "execution_count": null,
      "outputs": [
        {
          "output_type": "stream",
          "name": "stdout",
          "text": [
            "313/313 [==============================] - 3s 4ms/step\n",
            "Epoch 1:\n",
            "782/782 [==============================] - 11s 8ms/step - loss: 3.7296 - accuracy: 0.1386\n",
            "313/313 [==============================] - 1s 4ms/step\n",
            "Test Loss: 3.3207335472106934, Test Accuracy: 0.20980000495910645\n",
            "Epoch 2:\n",
            "782/782 [==============================] - 3s 4ms/step - loss: 3.0363 - accuracy: 0.2590\n",
            "313/313 [==============================] - 1s 2ms/step\n",
            "Test Loss: 2.995577096939087, Test Accuracy: 0.27059999108314514\n",
            "Epoch 3:\n",
            "782/782 [==============================] - 3s 4ms/step - loss: 2.7285 - accuracy: 0.3205\n",
            "313/313 [==============================] - 1s 2ms/step\n",
            "Test Loss: 2.8279876708984375, Test Accuracy: 0.305400013923645\n",
            "Epoch 4:\n",
            "782/782 [==============================] - 4s 5ms/step - loss: 2.5142 - accuracy: 0.3647\n",
            "313/313 [==============================] - 1s 3ms/step\n",
            "Test Loss: 2.6902949810028076, Test Accuracy: 0.3352000117301941\n",
            "Epoch 5:\n",
            "782/782 [==============================] - 4s 5ms/step - loss: 2.3549 - accuracy: 0.3975\n",
            "313/313 [==============================] - 1s 2ms/step\n",
            "Test Loss: 2.649301767349243, Test Accuracy: 0.34790000319480896\n",
            "Epoch 6:\n",
            "782/782 [==============================] - 4s 4ms/step - loss: 2.2286 - accuracy: 0.4247\n",
            "313/313 [==============================] - 1s 2ms/step\n",
            "Test Loss: 2.6052699089050293, Test Accuracy: 0.358599990606308\n",
            "Epoch 7:\n",
            "782/782 [==============================] - 4s 5ms/step - loss: 2.1206 - accuracy: 0.4496\n",
            "313/313 [==============================] - 1s 2ms/step\n",
            "Test Loss: 2.6201229095458984, Test Accuracy: 0.3612000048160553\n",
            "Epoch 8:\n",
            "782/782 [==============================] - 4s 5ms/step - loss: 2.0240 - accuracy: 0.4718\n",
            "313/313 [==============================] - 1s 2ms/step\n",
            "Test Loss: 2.652726888656616, Test Accuracy: 0.3628000020980835\n",
            "Epoch 9:\n",
            "782/782 [==============================] - 4s 5ms/step - loss: 1.9387 - accuracy: 0.4924\n",
            "313/313 [==============================] - 1s 2ms/step\n",
            "Test Loss: 2.669250011444092, Test Accuracy: 0.367000013589859\n",
            "Epoch 10:\n",
            "782/782 [==============================] - 3s 4ms/step - loss: 1.8605 - accuracy: 0.5097\n",
            "313/313 [==============================] - 1s 3ms/step\n",
            "Test Loss: 2.686814546585083, Test Accuracy: 0.36910000443458557\n",
            "Epoch 11:\n",
            "782/782 [==============================] - 3s 4ms/step - loss: 1.7885 - accuracy: 0.5272\n",
            "313/313 [==============================] - 1s 2ms/step\n",
            "Test Loss: 2.718538522720337, Test Accuracy: 0.3686999976634979\n",
            "Epoch 12:\n",
            "782/782 [==============================] - 4s 5ms/step - loss: 1.7205 - accuracy: 0.5436\n",
            "313/313 [==============================] - 1s 2ms/step\n",
            "Test Loss: 2.758261203765869, Test Accuracy: 0.3646000027656555\n",
            "Epoch 13:\n",
            "782/782 [==============================] - 4s 6ms/step - loss: 1.6595 - accuracy: 0.5579\n",
            "313/313 [==============================] - 1s 2ms/step\n",
            "Test Loss: 2.7961955070495605, Test Accuracy: 0.3637999892234802\n",
            "Epoch 14:\n",
            "782/782 [==============================] - 4s 5ms/step - loss: 1.6022 - accuracy: 0.5705\n",
            "313/313 [==============================] - 1s 2ms/step\n",
            "Test Loss: 2.847214698791504, Test Accuracy: 0.36230000853538513\n",
            "Epoch 15:\n",
            "782/782 [==============================] - 4s 4ms/step - loss: 1.5439 - accuracy: 0.5848\n",
            "313/313 [==============================] - 1s 2ms/step\n",
            "Test Loss: 2.9135727882385254, Test Accuracy: 0.35740000009536743\n",
            "Epoch 16:\n",
            "782/782 [==============================] - 3s 4ms/step - loss: 1.4900 - accuracy: 0.5980\n",
            "313/313 [==============================] - 1s 2ms/step\n",
            "Test Loss: 3.000945806503296, Test Accuracy: 0.35249999165534973\n",
            "Epoch 17:\n",
            "782/782 [==============================] - 4s 5ms/step - loss: 1.4379 - accuracy: 0.6114\n",
            "313/313 [==============================] - 1s 2ms/step\n",
            "Test Loss: 3.085195779800415, Test Accuracy: 0.3544999957084656\n",
            "Epoch 18:\n",
            "782/782 [==============================] - 3s 4ms/step - loss: 1.3873 - accuracy: 0.6245\n",
            "313/313 [==============================] - 1s 2ms/step\n",
            "Test Loss: 3.1787681579589844, Test Accuracy: 0.35040000081062317\n",
            "Epoch 19:\n",
            "782/782 [==============================] - 4s 4ms/step - loss: 1.3387 - accuracy: 0.6377\n",
            "313/313 [==============================] - 1s 2ms/step\n",
            "Test Loss: 3.2672579288482666, Test Accuracy: 0.35100001096725464\n",
            "Epoch 20:\n",
            "782/782 [==============================] - 3s 4ms/step - loss: 1.2920 - accuracy: 0.6503\n",
            "313/313 [==============================] - 1s 3ms/step\n",
            "Test Loss: 3.3683390617370605, Test Accuracy: 0.3463999927043915\n",
            "Epoch 21:\n",
            "782/782 [==============================] - 3s 4ms/step - loss: 1.2525 - accuracy: 0.6592\n",
            "313/313 [==============================] - 1s 2ms/step\n",
            "Test Loss: 3.454683542251587, Test Accuracy: 0.34599998593330383\n",
            "Epoch 22:\n",
            "782/782 [==============================] - 4s 5ms/step - loss: 1.2115 - accuracy: 0.6696\n",
            "313/313 [==============================] - 1s 2ms/step\n",
            "Test Loss: 3.5736608505249023, Test Accuracy: 0.34040001034736633\n",
            "Epoch 23:\n",
            "782/782 [==============================] - 4s 5ms/step - loss: 1.1778 - accuracy: 0.6784\n",
            "313/313 [==============================] - 1s 2ms/step\n",
            "Test Loss: 3.7140047550201416, Test Accuracy: 0.33239999413490295\n",
            "Epoch 24:\n",
            "782/782 [==============================] - 3s 4ms/step - loss: 1.1426 - accuracy: 0.6860\n",
            "313/313 [==============================] - 1s 2ms/step\n",
            "Test Loss: 3.8163108825683594, Test Accuracy: 0.3292999863624573\n",
            "Epoch 25:\n",
            "782/782 [==============================] - 4s 5ms/step - loss: 1.1173 - accuracy: 0.6882\n",
            "313/313 [==============================] - 1s 2ms/step\n",
            "Test Loss: 3.9201202392578125, Test Accuracy: 0.32679998874664307\n"
          ]
        }
      ]
    },
    {
      "cell_type": "code",
      "source": [
        "del (base)\n",
        "gc.collect()\n",
        "keras.backend.clear_session()"
      ],
      "metadata": {
        "id": "FJTpZuPCRNuO"
      },
      "execution_count": null,
      "outputs": []
    },
    {
      "cell_type": "markdown",
      "source": [
        "# Independant model one"
      ],
      "metadata": {
        "id": "ug9epnRWclXx"
      }
    },
    {
      "cell_type": "code",
      "source": [
        "filepath = '/content/independant_1/'\n",
        "init_weights = filepath + model_name + dataset + '_init_weights.tf'\n",
        "init_model = filepath + model_name + dataset + '_init.tf'\n",
        "final_weights = filepath + model_name + dataset + '_final_weights.tf'\n",
        "final_model= filepath + model_name + dataset + '_final.tf'"
      ],
      "metadata": {
        "id": "CgYyTzPGckv5"
      },
      "execution_count": null,
      "outputs": []
    },
    {
      "cell_type": "code",
      "source": [
        "!mkdir  '/content/independant_1/'"
      ],
      "metadata": {
        "id": "a27D5LR5gpFp"
      },
      "execution_count": null,
      "outputs": []
    },
    {
      "cell_type": "code",
      "source": [
        "model_independant_1 = build_lenet_model(input_shape, num_classes)"
      ],
      "metadata": {
        "id": "0ZmvRweSc6P8"
      },
      "execution_count": null,
      "outputs": []
    },
    {
      "cell_type": "code",
      "source": [
        "train_lenet(model_independant_1,x_train,y_train,x_test,y_test)"
      ],
      "metadata": {
        "colab": {
          "base_uri": "https://localhost:8080/"
        },
        "id": "nbSGMFzRdA5Z",
        "outputId": "57bf3380-9520-4aed-8662-384074da864f"
      },
      "execution_count": null,
      "outputs": [
        {
          "output_type": "stream",
          "name": "stdout",
          "text": [
            "313/313 [==============================] - 1s 2ms/step\n",
            "Epoch 1:\n",
            "782/782 [==============================] - 5s 4ms/step - loss: 3.7411 - accuracy: 0.1361\n",
            "313/313 [==============================] - 2s 5ms/step\n",
            "Test Loss: 3.2930667400360107, Test Accuracy: 0.21060000360012054\n",
            "Epoch 2:\n",
            "782/782 [==============================] - 4s 6ms/step - loss: 3.0377 - accuracy: 0.2606\n",
            "313/313 [==============================] - 1s 3ms/step\n",
            "Test Loss: 2.96954345703125, Test Accuracy: 0.2768999934196472\n",
            "Epoch 3:\n",
            "782/782 [==============================] - 4s 4ms/step - loss: 2.7286 - accuracy: 0.3235\n",
            "313/313 [==============================] - 1s 2ms/step\n",
            "Test Loss: 2.7825088500976562, Test Accuracy: 0.3133000135421753\n",
            "Epoch 4:\n",
            "782/782 [==============================] - 3s 4ms/step - loss: 2.5204 - accuracy: 0.3658\n",
            "313/313 [==============================] - 1s 2ms/step\n",
            "Test Loss: 2.642711639404297, Test Accuracy: 0.3416999876499176\n",
            "Epoch 5:\n",
            "782/782 [==============================] - 4s 6ms/step - loss: 2.3619 - accuracy: 0.3991\n",
            "313/313 [==============================] - 1s 2ms/step\n",
            "Test Loss: 2.5783371925354004, Test Accuracy: 0.3578000068664551\n",
            "Epoch 6:\n",
            "782/782 [==============================] - 4s 5ms/step - loss: 2.2320 - accuracy: 0.4264\n",
            "313/313 [==============================] - 1s 2ms/step\n",
            "Test Loss: 2.568521022796631, Test Accuracy: 0.3643999993801117\n",
            "Epoch 7:\n",
            "782/782 [==============================] - 3s 4ms/step - loss: 2.1223 - accuracy: 0.4501\n",
            "313/313 [==============================] - 1s 3ms/step\n",
            "Test Loss: 2.5796239376068115, Test Accuracy: 0.36419999599456787\n",
            "Epoch 8:\n",
            "782/782 [==============================] - 3s 4ms/step - loss: 2.0234 - accuracy: 0.4744\n",
            "313/313 [==============================] - 1s 3ms/step\n",
            "Test Loss: 2.592313766479492, Test Accuracy: 0.3677999973297119\n",
            "Epoch 9:\n",
            "782/782 [==============================] - 4s 5ms/step - loss: 1.9351 - accuracy: 0.4939\n",
            "313/313 [==============================] - 1s 2ms/step\n",
            "Test Loss: 2.6111514568328857, Test Accuracy: 0.3682999908924103\n",
            "Epoch 10:\n",
            "782/782 [==============================] - 4s 5ms/step - loss: 1.8520 - accuracy: 0.5139\n",
            "313/313 [==============================] - 1s 2ms/step\n",
            "Test Loss: 2.640489339828491, Test Accuracy: 0.3675000071525574\n",
            "Epoch 11:\n",
            "782/782 [==============================] - 3s 4ms/step - loss: 1.7745 - accuracy: 0.5312\n",
            "313/313 [==============================] - 1s 3ms/step\n",
            "Test Loss: 2.689682722091675, Test Accuracy: 0.36640000343322754\n",
            "Epoch 12:\n",
            "782/782 [==============================] - 4s 5ms/step - loss: 1.6996 - accuracy: 0.5503\n",
            "313/313 [==============================] - 1s 2ms/step\n",
            "Test Loss: 2.7608389854431152, Test Accuracy: 0.36410000920295715\n",
            "Epoch 13:\n",
            "782/782 [==============================] - 4s 5ms/step - loss: 1.6286 - accuracy: 0.5671\n",
            "313/313 [==============================] - 1s 2ms/step\n",
            "Test Loss: 2.8464291095733643, Test Accuracy: 0.36070001125335693\n",
            "Epoch 14:\n",
            "782/782 [==============================] - 4s 5ms/step - loss: 1.5613 - accuracy: 0.5831\n",
            "313/313 [==============================] - 1s 2ms/step\n",
            "Test Loss: 2.9199509620666504, Test Accuracy: 0.35589998960494995\n",
            "Epoch 15:\n",
            "782/782 [==============================] - 3s 4ms/step - loss: 1.5020 - accuracy: 0.5959\n",
            "313/313 [==============================] - 1s 3ms/step\n",
            "Test Loss: 2.989529848098755, Test Accuracy: 0.3538999855518341\n",
            "Epoch 16:\n",
            "782/782 [==============================] - 3s 4ms/step - loss: 1.4493 - accuracy: 0.6084\n",
            "313/313 [==============================] - 1s 2ms/step\n",
            "Test Loss: 3.0874056816101074, Test Accuracy: 0.35260000824928284\n",
            "Epoch 17:\n",
            "782/782 [==============================] - 3s 4ms/step - loss: 1.3950 - accuracy: 0.6223\n",
            "313/313 [==============================] - 1s 2ms/step\n",
            "Test Loss: 3.2267704010009766, Test Accuracy: 0.3508000075817108\n",
            "Epoch 18:\n",
            "782/782 [==============================] - 4s 5ms/step - loss: 1.3405 - accuracy: 0.6361\n",
            "313/313 [==============================] - 1s 2ms/step\n",
            "Test Loss: 3.3903698921203613, Test Accuracy: 0.3440000116825104\n",
            "Epoch 19:\n",
            "782/782 [==============================] - 4s 5ms/step - loss: 1.2863 - accuracy: 0.6487\n",
            "313/313 [==============================] - 1s 2ms/step\n",
            "Test Loss: 3.5619218349456787, Test Accuracy: 0.3343000113964081\n",
            "Epoch 20:\n",
            "782/782 [==============================] - 3s 4ms/step - loss: 1.2335 - accuracy: 0.6636\n",
            "313/313 [==============================] - 1s 3ms/step\n",
            "Test Loss: 3.716573476791382, Test Accuracy: 0.32820001244544983\n",
            "Epoch 21:\n",
            "782/782 [==============================] - 4s 4ms/step - loss: 1.1935 - accuracy: 0.6736\n",
            "313/313 [==============================] - 1s 2ms/step\n",
            "Test Loss: 3.9057703018188477, Test Accuracy: 0.31940001249313354\n",
            "Epoch 22:\n",
            "782/782 [==============================] - 3s 4ms/step - loss: 1.1672 - accuracy: 0.6785\n",
            "313/313 [==============================] - 1s 2ms/step\n",
            "Test Loss: 3.987413167953491, Test Accuracy: 0.32109999656677246\n",
            "Epoch 23:\n",
            "782/782 [==============================] - 4s 5ms/step - loss: 1.1326 - accuracy: 0.6836\n",
            "313/313 [==============================] - 1s 2ms/step\n",
            "Test Loss: 3.9990899562835693, Test Accuracy: 0.3257000148296356\n",
            "Epoch 24:\n",
            "782/782 [==============================] - 4s 5ms/step - loss: 1.0957 - accuracy: 0.6946\n",
            "313/313 [==============================] - 1s 2ms/step\n",
            "Test Loss: 4.07923698425293, Test Accuracy: 0.3255000114440918\n",
            "Epoch 25:\n",
            "782/782 [==============================] - 4s 5ms/step - loss: 1.0423 - accuracy: 0.7103\n",
            "313/313 [==============================] - 1s 3ms/step\n",
            "Test Loss: 4.239610195159912, Test Accuracy: 0.3249000012874603\n"
          ]
        }
      ]
    },
    {
      "cell_type": "code",
      "source": [
        "del (model_independant_1)\n",
        "gc.collect()\n",
        "keras.backend.clear_session()"
      ],
      "metadata": {
        "id": "XW6INm6kSxFS"
      },
      "execution_count": null,
      "outputs": []
    },
    {
      "cell_type": "markdown",
      "source": [
        "# Independant 2"
      ],
      "metadata": {
        "id": "X2OTEYTFdUAE"
      }
    },
    {
      "cell_type": "code",
      "source": [
        "filepath = '/content/independant_2/'\n",
        "init_weights = filepath + model_name + dataset + '_init_weights.tf'\n",
        "init_model = filepath + model_name + dataset + '_init.tf'\n",
        "final_weights =filepath + model_name + dataset + '_final_weights.tf'\n",
        "final_model= filepath + model_name + dataset + '_final.tf'"
      ],
      "metadata": {
        "id": "m_6iAeLLdWyf"
      },
      "execution_count": null,
      "outputs": []
    },
    {
      "cell_type": "code",
      "source": [
        "!mkdir '/content/independant_2/'"
      ],
      "metadata": {
        "id": "Qq4QQMaTgwcV"
      },
      "execution_count": null,
      "outputs": []
    },
    {
      "cell_type": "code",
      "source": [
        "model_independant_2 = build_lenet_model(input_shape, num_classes)"
      ],
      "metadata": {
        "id": "WB-QyYy1df0r"
      },
      "execution_count": null,
      "outputs": []
    },
    {
      "cell_type": "code",
      "source": [
        "train_lenet(model_independant_2,x_train,y_train,x_test,y_test)"
      ],
      "metadata": {
        "id": "axvsh5YIdjHr",
        "colab": {
          "base_uri": "https://localhost:8080/"
        },
        "outputId": "db03a326-d5ba-47e8-e9c3-4b5e3420c414"
      },
      "execution_count": null,
      "outputs": [
        {
          "output_type": "stream",
          "name": "stdout",
          "text": [
            "313/313 [==============================] - 1s 2ms/step\n",
            "Epoch 1:\n",
            "782/782 [==============================] - 5s 5ms/step - loss: 3.7667 - accuracy: 0.1334\n",
            "313/313 [==============================] - 1s 2ms/step\n",
            "Test Loss: 3.3558125495910645, Test Accuracy: 0.2003999948501587\n",
            "Epoch 2:\n",
            "782/782 [==============================] - 4s 5ms/step - loss: 3.0896 - accuracy: 0.2504\n",
            "313/313 [==============================] - 1s 2ms/step\n",
            "Test Loss: 3.032379627227783, Test Accuracy: 0.260699987411499\n",
            "Epoch 3:\n",
            "782/782 [==============================] - 3s 4ms/step - loss: 2.7809 - accuracy: 0.3140\n",
            "313/313 [==============================] - 1s 3ms/step\n",
            "Test Loss: 2.8380651473999023, Test Accuracy: 0.30230000615119934\n",
            "Epoch 4:\n",
            "782/782 [==============================] - 3s 4ms/step - loss: 2.5761 - accuracy: 0.3555\n",
            "313/313 [==============================] - 1s 2ms/step\n",
            "Test Loss: 2.724428415298462, Test Accuracy: 0.32910001277923584\n",
            "Epoch 5:\n",
            "782/782 [==============================] - 4s 5ms/step - loss: 2.4187 - accuracy: 0.3876\n",
            "313/313 [==============================] - 1s 2ms/step\n",
            "Test Loss: 2.6430797576904297, Test Accuracy: 0.349700003862381\n",
            "Epoch 6:\n",
            "782/782 [==============================] - 4s 5ms/step - loss: 2.2942 - accuracy: 0.4135\n",
            "313/313 [==============================] - 1s 2ms/step\n",
            "Test Loss: 2.6156346797943115, Test Accuracy: 0.3571999967098236\n",
            "Epoch 7:\n",
            "782/782 [==============================] - 3s 4ms/step - loss: 2.1902 - accuracy: 0.4358\n",
            "313/313 [==============================] - 1s 3ms/step\n",
            "Test Loss: 2.610078811645508, Test Accuracy: 0.3643999993801117\n",
            "Epoch 8:\n",
            "782/782 [==============================] - 3s 4ms/step - loss: 2.0995 - accuracy: 0.4551\n",
            "313/313 [==============================] - 1s 2ms/step\n",
            "Test Loss: 2.626339912414551, Test Accuracy: 0.36550000309944153\n",
            "Epoch 9:\n",
            "782/782 [==============================] - 4s 4ms/step - loss: 2.0166 - accuracy: 0.4749\n",
            "313/313 [==============================] - 1s 2ms/step\n",
            "Test Loss: 2.652472496032715, Test Accuracy: 0.36340001225471497\n",
            "Epoch 10:\n",
            "782/782 [==============================] - 4s 5ms/step - loss: 1.9417 - accuracy: 0.4918\n",
            "313/313 [==============================] - 1s 2ms/step\n",
            "Test Loss: 2.679311990737915, Test Accuracy: 0.3628999888896942\n",
            "Epoch 11:\n",
            "782/782 [==============================] - 3s 4ms/step - loss: 1.8758 - accuracy: 0.5055\n",
            "313/313 [==============================] - 1s 2ms/step\n",
            "Test Loss: 2.6998302936553955, Test Accuracy: 0.3628000020980835\n",
            "Epoch 12:\n",
            "782/782 [==============================] - 3s 4ms/step - loss: 1.8099 - accuracy: 0.5233\n",
            "313/313 [==============================] - 1s 3ms/step\n",
            "Test Loss: 2.7209548950195312, Test Accuracy: 0.3653999865055084\n",
            "Epoch 13:\n",
            "782/782 [==============================] - 4s 4ms/step - loss: 1.7493 - accuracy: 0.5392\n",
            "313/313 [==============================] - 1s 2ms/step\n",
            "Test Loss: 2.7629475593566895, Test Accuracy: 0.3643999993801117\n",
            "Epoch 14:\n",
            "782/782 [==============================] - 4s 5ms/step - loss: 1.6911 - accuracy: 0.5528\n",
            "313/313 [==============================] - 1s 2ms/step\n",
            "Test Loss: 2.829667091369629, Test Accuracy: 0.36070001125335693\n",
            "Epoch 15:\n",
            "782/782 [==============================] - 4s 5ms/step - loss: 1.6317 - accuracy: 0.5671\n",
            "313/313 [==============================] - 1s 2ms/step\n",
            "Test Loss: 2.901250123977661, Test Accuracy: 0.3596000075340271\n",
            "Epoch 16:\n",
            "782/782 [==============================] - 4s 5ms/step - loss: 1.5767 - accuracy: 0.5800\n",
            "313/313 [==============================] - 1s 3ms/step\n",
            "Test Loss: 2.994234085083008, Test Accuracy: 0.3564000129699707\n",
            "Epoch 17:\n",
            "782/782 [==============================] - 3s 4ms/step - loss: 1.5251 - accuracy: 0.5943\n",
            "313/313 [==============================] - 1s 3ms/step\n",
            "Test Loss: 3.072960615158081, Test Accuracy: 0.3528999984264374\n",
            "Epoch 18:\n",
            "782/782 [==============================] - 3s 4ms/step - loss: 1.4846 - accuracy: 0.6039\n",
            "313/313 [==============================] - 1s 2ms/step\n",
            "Test Loss: 3.153837203979492, Test Accuracy: 0.34869998693466187\n",
            "Epoch 19:\n",
            "782/782 [==============================] - 4s 5ms/step - loss: 1.4442 - accuracy: 0.6133\n",
            "313/313 [==============================] - 1s 2ms/step\n",
            "Test Loss: 3.2177538871765137, Test Accuracy: 0.3492000102996826\n",
            "Epoch 20:\n",
            "782/782 [==============================] - 4s 5ms/step - loss: 1.4018 - accuracy: 0.6221\n",
            "313/313 [==============================] - 1s 2ms/step\n",
            "Test Loss: 3.2953073978424072, Test Accuracy: 0.3456000089645386\n",
            "Epoch 21:\n",
            "782/782 [==============================] - 4s 5ms/step - loss: 1.3566 - accuracy: 0.6317\n",
            "313/313 [==============================] - 1s 3ms/step\n",
            "Test Loss: 3.390907049179077, Test Accuracy: 0.3409000039100647\n",
            "Epoch 22:\n",
            "782/782 [==============================] - 3s 4ms/step - loss: 1.3115 - accuracy: 0.6446\n",
            "313/313 [==============================] - 1s 2ms/step\n",
            "Test Loss: 3.4994542598724365, Test Accuracy: 0.33869999647140503\n",
            "Epoch 23:\n",
            "782/782 [==============================] - 4s 5ms/step - loss: 1.2654 - accuracy: 0.6579\n",
            "313/313 [==============================] - 1s 2ms/step\n",
            "Test Loss: 3.633232831954956, Test Accuracy: 0.3328999876976013\n",
            "Epoch 24:\n",
            "782/782 [==============================] - 5s 7ms/step - loss: 1.2277 - accuracy: 0.6659\n",
            "313/313 [==============================] - 1s 2ms/step\n",
            "Test Loss: 3.77876877784729, Test Accuracy: 0.3319000005722046\n",
            "Epoch 25:\n",
            "782/782 [==============================] - 4s 5ms/step - loss: 1.1935 - accuracy: 0.6746\n",
            "313/313 [==============================] - 1s 2ms/step\n",
            "Test Loss: 3.9179704189300537, Test Accuracy: 0.3262999951839447\n"
          ]
        }
      ]
    },
    {
      "cell_type": "code",
      "source": [
        "del (model_independant_2)\n",
        "gc.collect()\n",
        "keras.backend.clear_session()"
      ],
      "metadata": {
        "id": "-t_bBGPKS9oi"
      },
      "execution_count": null,
      "outputs": []
    },
    {
      "cell_type": "markdown",
      "source": [
        "#Download Independant Models"
      ],
      "metadata": {
        "id": "TxQrGkUBYePo"
      }
    },
    {
      "cell_type": "code",
      "source": [
        "shutil.make_archive(\"base\", 'zip', \"base\")\n",
        "files.download(\"base.zip\")"
      ],
      "metadata": {
        "colab": {
          "base_uri": "https://localhost:8080/",
          "height": 34
        },
        "id": "g1ii0HZCYZ1_",
        "outputId": "7e061b72-a76e-4286-8a5f-ed8a8694d538"
      },
      "execution_count": null,
      "outputs": [
        {
          "output_type": "display_data",
          "data": {
            "text/plain": [
              "<IPython.core.display.Javascript object>"
            ],
            "application/javascript": [
              "\n",
              "    async function download(id, filename, size) {\n",
              "      if (!google.colab.kernel.accessAllowed) {\n",
              "        return;\n",
              "      }\n",
              "      const div = document.createElement('div');\n",
              "      const label = document.createElement('label');\n",
              "      label.textContent = `Downloading \"${filename}\": `;\n",
              "      div.appendChild(label);\n",
              "      const progress = document.createElement('progress');\n",
              "      progress.max = size;\n",
              "      div.appendChild(progress);\n",
              "      document.body.appendChild(div);\n",
              "\n",
              "      const buffers = [];\n",
              "      let downloaded = 0;\n",
              "\n",
              "      const channel = await google.colab.kernel.comms.open(id);\n",
              "      // Send a message to notify the kernel that we're ready.\n",
              "      channel.send({})\n",
              "\n",
              "      for await (const message of channel.messages) {\n",
              "        // Send a message to notify the kernel that we're ready.\n",
              "        channel.send({})\n",
              "        if (message.buffers) {\n",
              "          for (const buffer of message.buffers) {\n",
              "            buffers.push(buffer);\n",
              "            downloaded += buffer.byteLength;\n",
              "            progress.value = downloaded;\n",
              "          }\n",
              "        }\n",
              "      }\n",
              "      const blob = new Blob(buffers, {type: 'application/binary'});\n",
              "      const a = document.createElement('a');\n",
              "      a.href = window.URL.createObjectURL(blob);\n",
              "      a.download = filename;\n",
              "      div.appendChild(a);\n",
              "      a.click();\n",
              "      div.remove();\n",
              "    }\n",
              "  "
            ]
          },
          "metadata": {}
        },
        {
          "output_type": "display_data",
          "data": {
            "text/plain": [
              "<IPython.core.display.Javascript object>"
            ],
            "application/javascript": [
              "download(\"download_bd333d16-8597-4778-89f1-156c88124135\", \"base.zip\", 146657374)"
            ]
          },
          "metadata": {}
        }
      ]
    },
    {
      "cell_type": "code",
      "source": [
        "shutil.make_archive(\"independant_1\", 'zip', \"independant_1\")\n",
        "files.download(\"independant_1.zip\")"
      ],
      "metadata": {
        "colab": {
          "base_uri": "https://localhost:8080/",
          "height": 34
        },
        "id": "mvnU0VFaYccw",
        "outputId": "5779f07d-585a-4d5f-876d-e596bb007e7a"
      },
      "execution_count": null,
      "outputs": [
        {
          "output_type": "display_data",
          "data": {
            "text/plain": [
              "<IPython.core.display.Javascript object>"
            ],
            "application/javascript": [
              "\n",
              "    async function download(id, filename, size) {\n",
              "      if (!google.colab.kernel.accessAllowed) {\n",
              "        return;\n",
              "      }\n",
              "      const div = document.createElement('div');\n",
              "      const label = document.createElement('label');\n",
              "      label.textContent = `Downloading \"${filename}\": `;\n",
              "      div.appendChild(label);\n",
              "      const progress = document.createElement('progress');\n",
              "      progress.max = size;\n",
              "      div.appendChild(progress);\n",
              "      document.body.appendChild(div);\n",
              "\n",
              "      const buffers = [];\n",
              "      let downloaded = 0;\n",
              "\n",
              "      const channel = await google.colab.kernel.comms.open(id);\n",
              "      // Send a message to notify the kernel that we're ready.\n",
              "      channel.send({})\n",
              "\n",
              "      for await (const message of channel.messages) {\n",
              "        // Send a message to notify the kernel that we're ready.\n",
              "        channel.send({})\n",
              "        if (message.buffers) {\n",
              "          for (const buffer of message.buffers) {\n",
              "            buffers.push(buffer);\n",
              "            downloaded += buffer.byteLength;\n",
              "            progress.value = downloaded;\n",
              "          }\n",
              "        }\n",
              "      }\n",
              "      const blob = new Blob(buffers, {type: 'application/binary'});\n",
              "      const a = document.createElement('a');\n",
              "      a.href = window.URL.createObjectURL(blob);\n",
              "      a.download = filename;\n",
              "      div.appendChild(a);\n",
              "      a.click();\n",
              "      div.remove();\n",
              "    }\n",
              "  "
            ]
          },
          "metadata": {}
        },
        {
          "output_type": "display_data",
          "data": {
            "text/plain": [
              "<IPython.core.display.Javascript object>"
            ],
            "application/javascript": [
              "download(\"download_1ea9d58b-2b7d-4b83-93be-16b234a64ea6\", \"independant_1.zip\", 146778743)"
            ]
          },
          "metadata": {}
        }
      ]
    },
    {
      "cell_type": "code",
      "source": [
        "\n",
        "shutil.make_archive(\"independant_2\", 'zip', \"independant_2\")\n",
        "files.download(\"independant_2.zip\")"
      ],
      "metadata": {
        "colab": {
          "base_uri": "https://localhost:8080/",
          "height": 34
        },
        "id": "dlW_iuJEYdt4",
        "outputId": "44995793-e9fc-4f5c-8485-02f9fd25178e"
      },
      "execution_count": null,
      "outputs": [
        {
          "output_type": "display_data",
          "data": {
            "text/plain": [
              "<IPython.core.display.Javascript object>"
            ],
            "application/javascript": [
              "\n",
              "    async function download(id, filename, size) {\n",
              "      if (!google.colab.kernel.accessAllowed) {\n",
              "        return;\n",
              "      }\n",
              "      const div = document.createElement('div');\n",
              "      const label = document.createElement('label');\n",
              "      label.textContent = `Downloading \"${filename}\": `;\n",
              "      div.appendChild(label);\n",
              "      const progress = document.createElement('progress');\n",
              "      progress.max = size;\n",
              "      div.appendChild(progress);\n",
              "      document.body.appendChild(div);\n",
              "\n",
              "      const buffers = [];\n",
              "      let downloaded = 0;\n",
              "\n",
              "      const channel = await google.colab.kernel.comms.open(id);\n",
              "      // Send a message to notify the kernel that we're ready.\n",
              "      channel.send({})\n",
              "\n",
              "      for await (const message of channel.messages) {\n",
              "        // Send a message to notify the kernel that we're ready.\n",
              "        channel.send({})\n",
              "        if (message.buffers) {\n",
              "          for (const buffer of message.buffers) {\n",
              "            buffers.push(buffer);\n",
              "            downloaded += buffer.byteLength;\n",
              "            progress.value = downloaded;\n",
              "          }\n",
              "        }\n",
              "      }\n",
              "      const blob = new Blob(buffers, {type: 'application/binary'});\n",
              "      const a = document.createElement('a');\n",
              "      a.href = window.URL.createObjectURL(blob);\n",
              "      a.download = filename;\n",
              "      div.appendChild(a);\n",
              "      a.click();\n",
              "      div.remove();\n",
              "    }\n",
              "  "
            ]
          },
          "metadata": {}
        },
        {
          "output_type": "display_data",
          "data": {
            "text/plain": [
              "<IPython.core.display.Javascript object>"
            ],
            "application/javascript": [
              "download(\"download_eaff26ff-d5c5-4b2b-9cfb-65d7739f8ab2\", \"independant_2.zip\", 146192093)"
            ]
          },
          "metadata": {}
        }
      ]
    },
    {
      "cell_type": "markdown",
      "source": [
        "---"
      ],
      "metadata": {
        "id": "1M1eiG9hE3Up"
      }
    },
    {
      "cell_type": "markdown",
      "source": [
        "# Distillation"
      ],
      "metadata": {
        "id": "BXdp-pUi2U5_"
      }
    },
    {
      "cell_type": "code",
      "source": [
        "def train_custom(model, train_data, train_labels, test_data, test_labels):\n",
        "    initailsoftmax = model.student.predict(test_data)\n",
        "    model.student.save_weights(init_weights)\n",
        "    model.student.save(init_model)\n",
        "    initaildf = pd.DataFrame(initailsoftmax)\n",
        "    filename = filepath + '0_softmax.csv'\n",
        "    initaildf.to_csv(filename,index=False)\n",
        "    epoch = 1\n",
        "    while epoch < 26:\n",
        "        print(f\"Epoch {epoch}:\")\n",
        "\n",
        "        # Training on one epoch\n",
        "        model.fit(train_data, train_labels, epochs=1, batch_size=64, verbose=1)\n",
        "\n",
        "        # Evaluate on the test dataset\n",
        "        results = model.student.predict(test_data)\n",
        "        softmax_df = pd.DataFrame(results)\n",
        "        filename = filepath+str(epoch)+'_softmax.csv'\n",
        "        softmax_df.to_csv(filename,index=False)\n",
        "        loss,accuracy = model.student.evaluate(test_data,test_labels)\n",
        "        print(f\"Test Loss: {loss}, Test Accuracy: {accuracy}\")\n",
        "\n",
        "        if epoch ==25:\n",
        "          model.student.save_weights(final_weights)\n",
        "          model.student.save(final_model)\n",
        "        epoch += 1\n",
        "\n",
        "# TO DO EVALUATE FUNCTION\n"
      ],
      "metadata": {
        "id": "q1gaVGRegqu_"
      },
      "execution_count": null,
      "outputs": []
    },
    {
      "cell_type": "code",
      "source": [
        "class Distiller(tf.keras.Model):\n",
        "    def __init__(self, student, teacher):\n",
        "        super().__init__()\n",
        "        self.teacher = teacher\n",
        "        self.student = student\n",
        "\n",
        "    def compile(\n",
        "        self,\n",
        "        optimizer,\n",
        "        metrics,\n",
        "        student_loss_fn,\n",
        "        distillation_loss_fn,\n",
        "        alpha,\n",
        "        temperature,\n",
        "    ):\n",
        "        super().compile(optimizer=optimizer, metrics=metrics)\n",
        "        self.student_loss_fn = student_loss_fn\n",
        "        self.distillation_loss_fn = distillation_loss_fn\n",
        "        self.alpha = alpha\n",
        "        self.temperature = temperature\n",
        "\n",
        "    def train_step(self, data):\n",
        "        # Unpack data\n",
        "        x, y = data\n",
        "\n",
        "        # Forward pass of teacher\n",
        "        teacher_predictions = self.teacher(x, training=False)\n",
        "\n",
        "        with tf.GradientTape() as tape:\n",
        "            # Forward pass of student\n",
        "            student_predictions = self.student(x, training=True)\n",
        "\n",
        "            # Compute losses\n",
        "            student_loss = self.student_loss_fn(y, student_predictions)\n",
        "\n",
        "            distillation_loss = (\n",
        "                self.distillation_loss_fn(\n",
        "                    tf.nn.softmax(teacher_predictions / self.temperature, axis=1),\n",
        "                    tf.nn.softmax(student_predictions / self.temperature, axis=1),\n",
        "                )\n",
        "                * self.temperature**2\n",
        "            )\n",
        "\n",
        "            loss = self.alpha * student_loss + (1 - self.alpha) * distillation_loss\n",
        "\n",
        "        # Compute gradients\n",
        "        trainable_vars = self.student.trainable_variables\n",
        "        gradients = tape.gradient(loss, trainable_vars)\n",
        "\n",
        "        # Update weights\n",
        "        self.optimizer.apply_gradients(zip(gradients, trainable_vars))\n",
        "\n",
        "        # Update the metrics configured in `compile()`.\n",
        "        self.compiled_metrics.update_state(y, student_predictions)\n",
        "\n",
        "        # Return a dict of performance\n",
        "        results = {m.name: m.result() for m in self.metrics}\n",
        "        results.update(\n",
        "            {\"student_loss\": student_loss, \"distillation_loss\": distillation_loss}\n",
        "        )\n",
        "\n",
        "        return results\n",
        "\n",
        "    def test_step(self, data):\n",
        "        # Unpack the data\n",
        "        x, y = data\n",
        "\n",
        "        # Compute predictions\n",
        "        y_prediction = self.student(x, training=False)\n",
        "        print(y_prediction)\n",
        "        # Calculate the loss\n",
        "        student_loss = self.student_loss_fn(y, y_prediction)\n",
        "\n",
        "        # Update the metrics.\n",
        "        self.compiled_metrics.update_state(y, y_prediction)\n",
        "\n",
        "        # Return a dict of performance\n",
        "        results = {m.name: m.result() for m in self.metrics}\n",
        "        results.update({\"student_loss\": student_loss})\n",
        "        return results"
      ],
      "metadata": {
        "id": "HfM5ezDj2mCH"
      },
      "execution_count": null,
      "outputs": []
    },
    {
      "cell_type": "markdown",
      "source": [
        "# Student 0.1 Alpha"
      ],
      "metadata": {
        "id": "OgQPe37aj3Ek"
      }
    },
    {
      "cell_type": "code",
      "source": [
        "model_path = '/content/base/LeNetCIFAR100_init.tf'\n",
        "student = load_model(model_path)\n",
        "student_scratch = tf.keras.models.clone_model(student)\n"
      ],
      "metadata": {
        "id": "EGgaXEX8j7IG"
      },
      "execution_count": null,
      "outputs": []
    },
    {
      "cell_type": "code",
      "source": [
        "teacher_model_path = '/content/base/LeNetCIFAR100_final.tf'\n",
        "techer_model = load_model(teacher_model_path)"
      ],
      "metadata": {
        "id": "ab_sFwqB-Tsh"
      },
      "execution_count": null,
      "outputs": []
    },
    {
      "cell_type": "code",
      "source": [
        "distiller = Distiller(student=student, teacher=techer_model)\n",
        "distiller.compile(\n",
        "    optimizer=tf.keras.optimizers.Adamax(learning_rate=0.001),\n",
        "    metrics=[tf.keras.metrics.CategoricalCrossentropy()],\n",
        "    student_loss_fn=tf.keras.losses.CategoricalCrossentropy(from_logits=True),\n",
        "    distillation_loss_fn=tf.keras.losses.KLDivergence(),\n",
        "    alpha=0.1,\n",
        "    temperature=3,\n",
        ")"
      ],
      "metadata": {
        "id": "KL5sBYc19ITH"
      },
      "execution_count": null,
      "outputs": []
    },
    {
      "cell_type": "code",
      "source": [
        "filepath = '/content/student_same/'\n",
        "init_weights = filepath + model_name + dataset + '_init_weights.tf'\n",
        "init_model = filepath + model_name + dataset + '_init.tf'\n",
        "final_weights = filepath + model_name + dataset + '_final_weights.tf'\n",
        "final_model= filepath + model_name + dataset + 'final.tf'"
      ],
      "metadata": {
        "id": "mvIefPKXnZ17"
      },
      "execution_count": null,
      "outputs": []
    },
    {
      "cell_type": "code",
      "source": [
        "!mkdir '/content/student_same/'"
      ],
      "metadata": {
        "id": "UqIWgvFfnUH2"
      },
      "execution_count": null,
      "outputs": []
    },
    {
      "cell_type": "code",
      "source": [
        "train_custom(distiller, x_train,y_train,x_test,y_test)"
      ],
      "metadata": {
        "colab": {
          "base_uri": "https://localhost:8080/"
        },
        "id": "K9Or3ngvlCSk",
        "outputId": "c019465d-3614-4e22-d928-6743b32db76c"
      },
      "execution_count": null,
      "outputs": [
        {
          "output_type": "stream",
          "name": "stdout",
          "text": [
            "313/313 [==============================] - 1s 2ms/step\n",
            "Epoch 1:\n"
          ]
        },
        {
          "output_type": "stream",
          "name": "stderr",
          "text": [
            "/usr/local/lib/python3.10/dist-packages/keras/src/backend.py:5575: UserWarning: \"`categorical_crossentropy` received `from_logits=True`, but the `output` argument was produced by a Softmax activation and thus does not represent logits. Was this intended?\n",
            "  output, from_logits = _get_logits(\n"
          ]
        },
        {
          "output_type": "stream",
          "name": "stdout",
          "text": [
            "782/782 [==============================] - 9s 6ms/step - categorical_crossentropy: 4.0635 - student_loss: 4.0634 - distillation_loss: 0.0032\n",
            "313/313 [==============================] - 1s 2ms/step\n",
            "313/313 [==============================] - 1s 3ms/step - loss: 3.7263 - accuracy: 0.1483\n",
            "Test Loss: 3.726341485977173, Test Accuracy: 0.14830000698566437\n",
            "Epoch 2:\n",
            "782/782 [==============================] - 5s 6ms/step - categorical_crossentropy: 3.5177 - student_loss: 3.5175 - distillation_loss: 0.0029\n",
            "313/313 [==============================] - 1s 2ms/step\n",
            "313/313 [==============================] - 1s 3ms/step - loss: 3.4244 - accuracy: 0.1988\n",
            "Test Loss: 3.4244258403778076, Test Accuracy: 0.1987999975681305\n",
            "Epoch 3:\n",
            "782/782 [==============================] - 4s 5ms/step - categorical_crossentropy: 3.2463 - student_loss: 3.2461 - distillation_loss: 0.0028\n",
            "313/313 [==============================] - 1s 3ms/step\n",
            "313/313 [==============================] - 1s 3ms/step - loss: 3.2311 - accuracy: 0.2294\n",
            "Test Loss: 3.231084108352661, Test Accuracy: 0.22939999401569366\n",
            "Epoch 4:\n",
            "782/782 [==============================] - 4s 5ms/step - categorical_crossentropy: 3.0516 - student_loss: 3.0513 - distillation_loss: 0.0026\n",
            "313/313 [==============================] - 1s 2ms/step\n",
            "313/313 [==============================] - 1s 4ms/step - loss: 3.0941 - accuracy: 0.2565\n",
            "Test Loss: 3.094144821166992, Test Accuracy: 0.2565000057220459\n",
            "Epoch 5:\n",
            "782/782 [==============================] - 4s 5ms/step - categorical_crossentropy: 2.9028 - student_loss: 2.9024 - distillation_loss: 0.0025\n",
            "313/313 [==============================] - 1s 2ms/step\n",
            "313/313 [==============================] - 1s 3ms/step - loss: 3.0113 - accuracy: 0.2742\n",
            "Test Loss: 3.011259078979492, Test Accuracy: 0.2741999924182892\n",
            "Epoch 6:\n",
            "782/782 [==============================] - 5s 6ms/step - categorical_crossentropy: 2.7816 - student_loss: 2.7811 - distillation_loss: 0.0024\n",
            "313/313 [==============================] - 1s 2ms/step\n",
            "313/313 [==============================] - 1s 3ms/step - loss: 2.9332 - accuracy: 0.2910\n",
            "Test Loss: 2.9331750869750977, Test Accuracy: 0.29100000858306885\n",
            "Epoch 7:\n",
            "782/782 [==============================] - 4s 5ms/step - categorical_crossentropy: 2.6773 - student_loss: 2.6766 - distillation_loss: 0.0023\n",
            "313/313 [==============================] - 1s 2ms/step\n",
            "313/313 [==============================] - 1s 3ms/step - loss: 2.8644 - accuracy: 0.3046\n",
            "Test Loss: 2.864428997039795, Test Accuracy: 0.3046000003814697\n",
            "Epoch 8:\n",
            "782/782 [==============================] - 4s 5ms/step - categorical_crossentropy: 2.5832 - student_loss: 2.5824 - distillation_loss: 0.0023\n",
            "313/313 [==============================] - 1s 3ms/step\n",
            "313/313 [==============================] - 1s 3ms/step - loss: 2.8086 - accuracy: 0.3159\n",
            "Test Loss: 2.808572292327881, Test Accuracy: 0.3158999979496002\n",
            "Epoch 9:\n",
            "782/782 [==============================] - 4s 5ms/step - categorical_crossentropy: 2.4980 - student_loss: 2.4971 - distillation_loss: 0.0022\n",
            "313/313 [==============================] - 1s 2ms/step\n",
            "313/313 [==============================] - 1s 5ms/step - loss: 2.7608 - accuracy: 0.3250\n",
            "Test Loss: 2.7607932090759277, Test Accuracy: 0.32499998807907104\n",
            "Epoch 10:\n",
            "782/782 [==============================] - 4s 5ms/step - categorical_crossentropy: 2.4192 - student_loss: 2.4182 - distillation_loss: 0.0021\n",
            "313/313 [==============================] - 1s 2ms/step\n",
            "313/313 [==============================] - 1s 3ms/step - loss: 2.7216 - accuracy: 0.3353\n",
            "Test Loss: 2.7216029167175293, Test Accuracy: 0.3352999985218048\n",
            "Epoch 11:\n",
            "782/782 [==============================] - 5s 6ms/step - categorical_crossentropy: 2.3466 - student_loss: 2.3455 - distillation_loss: 0.0021\n",
            "313/313 [==============================] - 1s 2ms/step\n",
            "313/313 [==============================] - 1s 3ms/step - loss: 2.6843 - accuracy: 0.3427\n",
            "Test Loss: 2.6843249797821045, Test Accuracy: 0.3427000045776367\n",
            "Epoch 12:\n",
            "782/782 [==============================] - 5s 6ms/step - categorical_crossentropy: 2.2779 - student_loss: 2.2767 - distillation_loss: 0.0020\n",
            "313/313 [==============================] - 1s 2ms/step\n",
            "313/313 [==============================] - 1s 3ms/step - loss: 2.6590 - accuracy: 0.3485\n",
            "Test Loss: 2.6590332984924316, Test Accuracy: 0.34850001335144043\n",
            "Epoch 13:\n",
            "782/782 [==============================] - 4s 5ms/step - categorical_crossentropy: 2.2132 - student_loss: 2.2118 - distillation_loss: 0.0020\n",
            "313/313 [==============================] - 1s 3ms/step\n",
            "313/313 [==============================] - 1s 3ms/step - loss: 2.6398 - accuracy: 0.3536\n",
            "Test Loss: 2.6397945880889893, Test Accuracy: 0.35359999537467957\n",
            "Epoch 14:\n",
            "782/782 [==============================] - 4s 5ms/step - categorical_crossentropy: 2.1519 - student_loss: 2.1504 - distillation_loss: 0.0019\n",
            "313/313 [==============================] - 1s 3ms/step\n",
            "313/313 [==============================] - 1s 3ms/step - loss: 2.6285 - accuracy: 0.3581\n",
            "Test Loss: 2.6284608840942383, Test Accuracy: 0.3580999970436096\n",
            "Epoch 15:\n",
            "782/782 [==============================] - 4s 5ms/step - categorical_crossentropy: 2.0924 - student_loss: 2.0908 - distillation_loss: 0.0019\n",
            "313/313 [==============================] - 1s 2ms/step\n",
            "313/313 [==============================] - 1s 3ms/step - loss: 2.6177 - accuracy: 0.3640\n",
            "Test Loss: 2.6177055835723877, Test Accuracy: 0.36399999260902405\n",
            "Epoch 16:\n",
            "782/782 [==============================] - 4s 5ms/step - categorical_crossentropy: 2.0346 - student_loss: 2.0329 - distillation_loss: 0.0019\n",
            "313/313 [==============================] - 1s 2ms/step\n",
            "313/313 [==============================] - 1s 3ms/step - loss: 2.6115 - accuracy: 0.3667\n",
            "Test Loss: 2.6114866733551025, Test Accuracy: 0.3666999936103821\n",
            "Epoch 17:\n",
            "782/782 [==============================] - 4s 5ms/step - categorical_crossentropy: 1.9798 - student_loss: 1.9779 - distillation_loss: 0.0018\n",
            "313/313 [==============================] - 1s 2ms/step\n",
            "313/313 [==============================] - 1s 3ms/step - loss: 2.6081 - accuracy: 0.3694\n",
            "Test Loss: 2.6080515384674072, Test Accuracy: 0.3693999946117401\n",
            "Epoch 18:\n",
            "782/782 [==============================] - 5s 6ms/step - categorical_crossentropy: 1.9257 - student_loss: 1.9238 - distillation_loss: 0.0018\n",
            "313/313 [==============================] - 1s 2ms/step\n",
            "313/313 [==============================] - 1s 3ms/step - loss: 2.6059 - accuracy: 0.3718\n",
            "Test Loss: 2.60589861869812, Test Accuracy: 0.3718000054359436\n",
            "Epoch 19:\n",
            "782/782 [==============================] - 4s 5ms/step - categorical_crossentropy: 1.8733 - student_loss: 1.8713 - distillation_loss: 0.0018\n",
            "313/313 [==============================] - 1s 3ms/step\n",
            "313/313 [==============================] - 1s 3ms/step - loss: 2.6101 - accuracy: 0.3723\n",
            "Test Loss: 2.610109806060791, Test Accuracy: 0.37229999899864197\n",
            "Epoch 20:\n",
            "782/782 [==============================] - 4s 5ms/step - categorical_crossentropy: 1.8225 - student_loss: 1.8204 - distillation_loss: 0.0017\n",
            "313/313 [==============================] - 1s 2ms/step\n",
            "313/313 [==============================] - 1s 4ms/step - loss: 2.6150 - accuracy: 0.3745\n",
            "Test Loss: 2.614980697631836, Test Accuracy: 0.37450000643730164\n",
            "Epoch 21:\n",
            "782/782 [==============================] - 4s 5ms/step - categorical_crossentropy: 1.7716 - student_loss: 1.7695 - distillation_loss: 0.0017\n",
            "313/313 [==============================] - 1s 2ms/step\n",
            "313/313 [==============================] - 1s 3ms/step - loss: 2.6235 - accuracy: 0.3777\n",
            "Test Loss: 2.623471260070801, Test Accuracy: 0.37770000100135803\n",
            "Epoch 22:\n",
            "782/782 [==============================] - 4s 5ms/step - categorical_crossentropy: 1.7223 - student_loss: 1.7200 - distillation_loss: 0.0017\n",
            "313/313 [==============================] - 1s 2ms/step\n",
            "313/313 [==============================] - 1s 3ms/step - loss: 2.6385 - accuracy: 0.3799\n",
            "Test Loss: 2.6385157108306885, Test Accuracy: 0.3799000084400177\n",
            "Epoch 23:\n",
            "782/782 [==============================] - 5s 6ms/step - categorical_crossentropy: 1.6741 - student_loss: 1.6718 - distillation_loss: 0.0016\n",
            "313/313 [==============================] - 1s 2ms/step\n",
            "313/313 [==============================] - 1s 3ms/step - loss: 2.6538 - accuracy: 0.3817\n",
            "Test Loss: 2.653820037841797, Test Accuracy: 0.3817000091075897\n",
            "Epoch 24:\n",
            "782/782 [==============================] - 4s 6ms/step - categorical_crossentropy: 1.6264 - student_loss: 1.6241 - distillation_loss: 0.0016\n",
            "313/313 [==============================] - 1s 2ms/step\n",
            "313/313 [==============================] - 1s 3ms/step - loss: 2.6773 - accuracy: 0.3807\n",
            "Test Loss: 2.67733097076416, Test Accuracy: 0.3806999921798706\n",
            "Epoch 25:\n",
            "782/782 [==============================] - 4s 5ms/step - categorical_crossentropy: 1.5801 - student_loss: 1.5778 - distillation_loss: 0.0016\n",
            "313/313 [==============================] - 1s 3ms/step\n",
            "313/313 [==============================] - 1s 3ms/step - loss: 2.6984 - accuracy: 0.3841\n",
            "Test Loss: 2.6984055042266846, Test Accuracy: 0.3840999901294708\n"
          ]
        }
      ]
    },
    {
      "cell_type": "code",
      "source": [
        "del (student)\n",
        "gc.collect()\n",
        "keras.backend.clear_session()"
      ],
      "metadata": {
        "id": "lTMYO7__Uzxz"
      },
      "execution_count": null,
      "outputs": []
    },
    {
      "cell_type": "markdown",
      "source": [
        "# Student same Alpha 0.5"
      ],
      "metadata": {
        "id": "OaN0-7_6U9e6"
      }
    },
    {
      "cell_type": "code",
      "source": [
        "model_path = '/content/base/LeNetCIFAR100_init.tf'\n",
        "student = load_model(model_path)\n",
        "student_scratch = tf.keras.models.clone_model(student)"
      ],
      "metadata": {
        "id": "HLTcfc2UVIfO"
      },
      "execution_count": null,
      "outputs": []
    },
    {
      "cell_type": "code",
      "source": [
        "distiller = Distiller(student=student, teacher=techer_model)\n",
        "distiller.compile(\n",
        "    optimizer=tf.keras.optimizers.Adamax(learning_rate=0.001),\n",
        "    metrics=[tf.keras.metrics.CategoricalCrossentropy()],\n",
        "    student_loss_fn=tf.keras.losses.CategoricalCrossentropy(from_logits=True),\n",
        "    distillation_loss_fn=tf.keras.losses.KLDivergence(),\n",
        "    alpha=0.5,\n",
        "    temperature=3,\n",
        ")"
      ],
      "metadata": {
        "id": "q0xmOf5IVI-G"
      },
      "execution_count": null,
      "outputs": []
    },
    {
      "cell_type": "code",
      "source": [
        "filepath = '/content/student_same_50/'\n",
        "init_weights = filepath + model_name + dataset + '_init_weights.tf'\n",
        "init_model = filepath + model_name + dataset + '_init.tf'\n",
        "final_weights = filepath + model_name + dataset + '_final_weights.tf'\n",
        "final_model= filepath + model_name + dataset + 'final.tf'"
      ],
      "metadata": {
        "id": "U4fyr8rwVPsI"
      },
      "execution_count": null,
      "outputs": []
    },
    {
      "cell_type": "code",
      "source": [
        "!mkdir '/content/student_same_50/'"
      ],
      "metadata": {
        "id": "IzbhPktzVokH"
      },
      "execution_count": null,
      "outputs": []
    },
    {
      "cell_type": "code",
      "source": [
        "train_custom(distiller, x_train,y_train,x_test,y_test)"
      ],
      "metadata": {
        "colab": {
          "base_uri": "https://localhost:8080/"
        },
        "id": "yKi3Se4kVoIT",
        "outputId": "50110735-9c3b-423c-ddb0-21cd486562ee"
      },
      "execution_count": null,
      "outputs": [
        {
          "output_type": "stream",
          "name": "stdout",
          "text": [
            "313/313 [==============================] - 1s 2ms/step\n",
            "Epoch 1:\n"
          ]
        },
        {
          "output_type": "stream",
          "name": "stderr",
          "text": [
            "/usr/local/lib/python3.10/dist-packages/keras/src/backend.py:5575: UserWarning: \"`categorical_crossentropy` received `from_logits=True`, but the `output` argument was produced by a Softmax activation and thus does not represent logits. Was this intended?\n",
            "  output, from_logits = _get_logits(\n"
          ]
        },
        {
          "output_type": "stream",
          "name": "stdout",
          "text": [
            "782/782 [==============================] - 6s 6ms/step - categorical_crossentropy: 4.0561 - student_loss: 4.0557 - distillation_loss: 0.0032\n",
            "313/313 [==============================] - 1s 2ms/step\n",
            "313/313 [==============================] - 1s 3ms/step - loss: 3.7143 - accuracy: 0.1504\n",
            "Test Loss: 3.7143352031707764, Test Accuracy: 0.15039999783039093\n",
            "Epoch 2:\n",
            "782/782 [==============================] - 4s 5ms/step - categorical_crossentropy: 3.5045 - student_loss: 3.5043 - distillation_loss: 0.0029\n",
            "313/313 [==============================] - 1s 2ms/step\n",
            "313/313 [==============================] - 1s 3ms/step - loss: 3.4074 - accuracy: 0.1973\n",
            "Test Loss: 3.407443046569824, Test Accuracy: 0.1973000019788742\n",
            "Epoch 3:\n",
            "782/782 [==============================] - 5s 6ms/step - categorical_crossentropy: 3.2295 - student_loss: 3.2293 - distillation_loss: 0.0028\n",
            "313/313 [==============================] - 1s 2ms/step\n",
            "313/313 [==============================] - 1s 3ms/step - loss: 3.2210 - accuracy: 0.2326\n",
            "Test Loss: 3.2210440635681152, Test Accuracy: 0.23260000348091125\n",
            "Epoch 4:\n",
            "782/782 [==============================] - 4s 5ms/step - categorical_crossentropy: 3.0373 - student_loss: 3.0370 - distillation_loss: 0.0026\n",
            "313/313 [==============================] - 1s 3ms/step\n",
            "313/313 [==============================] - 1s 3ms/step - loss: 3.0973 - accuracy: 0.2544\n",
            "Test Loss: 3.0973057746887207, Test Accuracy: 0.25440001487731934\n",
            "Epoch 5:\n",
            "782/782 [==============================] - 4s 5ms/step - categorical_crossentropy: 2.8905 - student_loss: 2.8900 - distillation_loss: 0.0025\n",
            "313/313 [==============================] - 1s 3ms/step\n",
            "313/313 [==============================] - 1s 4ms/step - loss: 3.0025 - accuracy: 0.2741\n",
            "Test Loss: 3.0024802684783936, Test Accuracy: 0.27410000562667847\n",
            "Epoch 6:\n",
            "782/782 [==============================] - 4s 5ms/step - categorical_crossentropy: 2.7722 - student_loss: 2.7717 - distillation_loss: 0.0024\n",
            "313/313 [==============================] - 1s 2ms/step\n",
            "313/313 [==============================] - 1s 3ms/step - loss: 2.9275 - accuracy: 0.2893\n",
            "Test Loss: 2.9275362491607666, Test Accuracy: 0.28929999470710754\n",
            "Epoch 7:\n",
            "782/782 [==============================] - 5s 6ms/step - categorical_crossentropy: 2.6688 - student_loss: 2.6682 - distillation_loss: 0.0023\n",
            "313/313 [==============================] - 1s 2ms/step\n",
            "313/313 [==============================] - 1s 3ms/step - loss: 2.8545 - accuracy: 0.3060\n",
            "Test Loss: 2.8544750213623047, Test Accuracy: 0.3059999942779541\n",
            "Epoch 8:\n",
            "782/782 [==============================] - 5s 6ms/step - categorical_crossentropy: 2.5746 - student_loss: 2.5740 - distillation_loss: 0.0023\n",
            "313/313 [==============================] - 1s 2ms/step\n",
            "313/313 [==============================] - 1s 3ms/step - loss: 2.7910 - accuracy: 0.3208\n",
            "Test Loss: 2.7910099029541016, Test Accuracy: 0.3208000063896179\n",
            "Epoch 9:\n",
            "782/782 [==============================] - 4s 5ms/step - categorical_crossentropy: 2.4878 - student_loss: 2.4871 - distillation_loss: 0.0022\n",
            "313/313 [==============================] - 1s 3ms/step\n",
            "313/313 [==============================] - 1s 3ms/step - loss: 2.7333 - accuracy: 0.3315\n",
            "Test Loss: 2.7333340644836426, Test Accuracy: 0.33149999380111694\n",
            "Epoch 10:\n",
            "782/782 [==============================] - 4s 5ms/step - categorical_crossentropy: 2.4062 - student_loss: 2.4053 - distillation_loss: 0.0021\n",
            "313/313 [==============================] - 1s 2ms/step\n",
            "313/313 [==============================] - 1s 4ms/step - loss: 2.6862 - accuracy: 0.3421\n",
            "Test Loss: 2.686164379119873, Test Accuracy: 0.34209999442100525\n",
            "Epoch 11:\n",
            "782/782 [==============================] - 4s 5ms/step - categorical_crossentropy: 2.3297 - student_loss: 2.3287 - distillation_loss: 0.0021\n",
            "313/313 [==============================] - 1s 2ms/step\n",
            "313/313 [==============================] - 1s 3ms/step - loss: 2.6526 - accuracy: 0.3503\n",
            "Test Loss: 2.6525955200195312, Test Accuracy: 0.35030001401901245\n",
            "Epoch 12:\n",
            "782/782 [==============================] - 5s 6ms/step - categorical_crossentropy: 2.2577 - student_loss: 2.2565 - distillation_loss: 0.0020\n",
            "313/313 [==============================] - 1s 2ms/step\n",
            "313/313 [==============================] - 1s 3ms/step - loss: 2.6245 - accuracy: 0.3580\n",
            "Test Loss: 2.6244592666625977, Test Accuracy: 0.3580000102519989\n",
            "Epoch 13:\n",
            "782/782 [==============================] - 4s 5ms/step - categorical_crossentropy: 2.1896 - student_loss: 2.1883 - distillation_loss: 0.0020\n",
            "313/313 [==============================] - 1s 3ms/step\n",
            "313/313 [==============================] - 1s 3ms/step - loss: 2.6033 - accuracy: 0.3647\n",
            "Test Loss: 2.6032700538635254, Test Accuracy: 0.36469998955726624\n",
            "Epoch 14:\n",
            "782/782 [==============================] - 4s 5ms/step - categorical_crossentropy: 2.1252 - student_loss: 2.1237 - distillation_loss: 0.0019\n",
            "313/313 [==============================] - 1s 2ms/step\n",
            "313/313 [==============================] - 1s 3ms/step - loss: 2.5908 - accuracy: 0.3703\n",
            "Test Loss: 2.590818405151367, Test Accuracy: 0.3702999949455261\n",
            "Epoch 15:\n",
            "782/782 [==============================] - 4s 5ms/step - categorical_crossentropy: 2.0633 - student_loss: 2.0617 - distillation_loss: 0.0019\n",
            "313/313 [==============================] - 1s 2ms/step\n",
            "313/313 [==============================] - 1s 3ms/step - loss: 2.5823 - accuracy: 0.3744\n",
            "Test Loss: 2.5822834968566895, Test Accuracy: 0.37439998984336853\n",
            "Epoch 16:\n",
            "782/782 [==============================] - 4s 5ms/step - categorical_crossentropy: 2.0039 - student_loss: 2.0021 - distillation_loss: 0.0018\n",
            "313/313 [==============================] - 1s 2ms/step\n",
            "313/313 [==============================] - 1s 3ms/step - loss: 2.5791 - accuracy: 0.3768\n",
            "Test Loss: 2.5791304111480713, Test Accuracy: 0.376800000667572\n",
            "Epoch 17:\n",
            "782/782 [==============================] - 5s 6ms/step - categorical_crossentropy: 1.9475 - student_loss: 1.9456 - distillation_loss: 0.0018\n",
            "313/313 [==============================] - 1s 2ms/step\n",
            "313/313 [==============================] - 1s 3ms/step - loss: 2.5791 - accuracy: 0.3779\n",
            "Test Loss: 2.579096794128418, Test Accuracy: 0.37790000438690186\n",
            "Epoch 18:\n",
            "782/782 [==============================] - 4s 6ms/step - categorical_crossentropy: 1.8933 - student_loss: 1.8913 - distillation_loss: 0.0018\n",
            "313/313 [==============================] - 1s 3ms/step\n",
            "313/313 [==============================] - 1s 3ms/step - loss: 2.5810 - accuracy: 0.3777\n",
            "Test Loss: 2.580960273742676, Test Accuracy: 0.37770000100135803\n",
            "Epoch 19:\n",
            "782/782 [==============================] - 4s 5ms/step - categorical_crossentropy: 1.8401 - student_loss: 1.8380 - distillation_loss: 0.0017\n",
            "313/313 [==============================] - 1s 2ms/step\n",
            "313/313 [==============================] - 1s 4ms/step - loss: 2.5885 - accuracy: 0.3792\n",
            "Test Loss: 2.5885472297668457, Test Accuracy: 0.3792000114917755\n",
            "Epoch 20:\n",
            "782/782 [==============================] - 4s 5ms/step - categorical_crossentropy: 1.7890 - student_loss: 1.7869 - distillation_loss: 0.0017\n",
            "313/313 [==============================] - 1s 2ms/step\n",
            "313/313 [==============================] - 1s 3ms/step - loss: 2.5990 - accuracy: 0.3810\n",
            "Test Loss: 2.5990028381347656, Test Accuracy: 0.38100001215934753\n",
            "Epoch 21:\n",
            "782/782 [==============================] - 5s 6ms/step - categorical_crossentropy: 1.7389 - student_loss: 1.7367 - distillation_loss: 0.0017\n",
            "313/313 [==============================] - 1s 2ms/step\n",
            "313/313 [==============================] - 1s 3ms/step - loss: 2.6096 - accuracy: 0.3828\n",
            "Test Loss: 2.6095967292785645, Test Accuracy: 0.38280001282691956\n",
            "Epoch 22:\n",
            "782/782 [==============================] - 4s 6ms/step - categorical_crossentropy: 1.6907 - student_loss: 1.6884 - distillation_loss: 0.0017\n",
            "313/313 [==============================] - 1s 3ms/step\n",
            "313/313 [==============================] - 1s 3ms/step - loss: 2.6295 - accuracy: 0.3819\n",
            "Test Loss: 2.629535675048828, Test Accuracy: 0.38190001249313354\n",
            "Epoch 23:\n",
            "782/782 [==============================] - 4s 5ms/step - categorical_crossentropy: 1.6436 - student_loss: 1.6413 - distillation_loss: 0.0017\n",
            "313/313 [==============================] - 1s 2ms/step\n",
            "313/313 [==============================] - 1s 3ms/step - loss: 2.6515 - accuracy: 0.3815\n",
            "Test Loss: 2.6514716148376465, Test Accuracy: 0.3815000057220459\n",
            "Epoch 24:\n",
            "782/782 [==============================] - 4s 5ms/step - categorical_crossentropy: 1.5977 - student_loss: 1.5953 - distillation_loss: 0.0016\n",
            "313/313 [==============================] - 1s 2ms/step\n",
            "313/313 [==============================] - 1s 4ms/step - loss: 2.6781 - accuracy: 0.3804\n",
            "Test Loss: 2.6781165599823, Test Accuracy: 0.38040000200271606\n",
            "Epoch 25:\n",
            "782/782 [==============================] - 4s 5ms/step - categorical_crossentropy: 1.5522 - student_loss: 1.5498 - distillation_loss: 0.0016\n",
            "313/313 [==============================] - 1s 2ms/step\n",
            "313/313 [==============================] - 1s 3ms/step - loss: 2.7032 - accuracy: 0.3805\n",
            "Test Loss: 2.7032151222229004, Test Accuracy: 0.3804999887943268\n"
          ]
        }
      ]
    },
    {
      "cell_type": "code",
      "source": [
        "del (student)\n",
        "gc.collect()\n",
        "keras.backend.clear_session()"
      ],
      "metadata": {
        "id": "VFEgkn-4V38i"
      },
      "execution_count": null,
      "outputs": []
    },
    {
      "cell_type": "markdown",
      "source": [
        "# Student same Alpha 0.9"
      ],
      "metadata": {
        "id": "gMgWdqc_Vyr4"
      }
    },
    {
      "cell_type": "code",
      "source": [
        "model_path = '/content/base/LeNetCIFAR100_init.tf'\n",
        "student = load_model(model_path)\n",
        "student_scratch = tf.keras.models.clone_model(student)\n",
        "\n",
        "distiller = Distiller(student=student, teacher=techer_model)\n",
        "distiller.compile(\n",
        "    optimizer=tf.keras.optimizers.Adamax(learning_rate=0.001),\n",
        "    metrics=[tf.keras.metrics.CategoricalCrossentropy()],\n",
        "    student_loss_fn=tf.keras.losses.CategoricalCrossentropy(from_logits=True),\n",
        "    distillation_loss_fn=tf.keras.losses.KLDivergence(),\n",
        "    alpha=0.5,\n",
        "    temperature=3,\n",
        ")\n",
        "\n",
        "filepath = '/content/student_same_90/'\n",
        "init_weights = filepath + model_name + dataset + '_init_weights.tf'\n",
        "init_model = filepath + model_name + dataset + '_init.tf'\n",
        "final_weights = filepath + model_name + dataset + '_final_weights.tf'\n",
        "final_model= filepath + model_name + dataset + 'final.tf'\n",
        "\n",
        "!mkdir '/content/student_same_90/'"
      ],
      "metadata": {
        "id": "ispYXVKaV46U"
      },
      "execution_count": null,
      "outputs": []
    },
    {
      "cell_type": "code",
      "source": [
        "train_custom(distiller, x_train,y_train,x_test,y_test)"
      ],
      "metadata": {
        "colab": {
          "base_uri": "https://localhost:8080/"
        },
        "id": "lCOpusp6WA5k",
        "outputId": "aadbfbb6-71d5-4cb4-e5be-77fd8c353181"
      },
      "execution_count": null,
      "outputs": [
        {
          "output_type": "stream",
          "name": "stdout",
          "text": [
            "313/313 [==============================] - 1s 3ms/step\n",
            "Epoch 1:\n"
          ]
        },
        {
          "output_type": "stream",
          "name": "stderr",
          "text": [
            "/usr/local/lib/python3.10/dist-packages/keras/src/backend.py:5575: UserWarning: \"`categorical_crossentropy` received `from_logits=True`, but the `output` argument was produced by a Softmax activation and thus does not represent logits. Was this intended?\n",
            "  output, from_logits = _get_logits(\n"
          ]
        },
        {
          "output_type": "stream",
          "name": "stdout",
          "text": [
            "782/782 [==============================] - 5s 5ms/step - categorical_crossentropy: 4.0641 - student_loss: 4.0639 - distillation_loss: 0.0032\n",
            "313/313 [==============================] - 1s 2ms/step\n",
            "313/313 [==============================] - 1s 4ms/step - loss: 3.7263 - accuracy: 0.1501\n",
            "Test Loss: 3.7262701988220215, Test Accuracy: 0.1500999927520752\n",
            "Epoch 2:\n",
            "782/782 [==============================] - 4s 5ms/step - categorical_crossentropy: 3.5137 - student_loss: 3.5135 - distillation_loss: 0.0029\n",
            "313/313 [==============================] - 1s 2ms/step\n",
            "313/313 [==============================] - 1s 3ms/step - loss: 3.4218 - accuracy: 0.1967\n",
            "Test Loss: 3.4217512607574463, Test Accuracy: 0.19670000672340393\n",
            "Epoch 3:\n",
            "782/782 [==============================] - 4s 6ms/step - categorical_crossentropy: 3.2429 - student_loss: 3.2428 - distillation_loss: 0.0028\n",
            "313/313 [==============================] - 1s 2ms/step\n",
            "313/313 [==============================] - 1s 3ms/step - loss: 3.2298 - accuracy: 0.2307\n",
            "Test Loss: 3.2297685146331787, Test Accuracy: 0.23070000112056732\n",
            "Epoch 4:\n",
            "782/782 [==============================] - 5s 6ms/step - categorical_crossentropy: 3.0549 - student_loss: 3.0548 - distillation_loss: 0.0026\n",
            "313/313 [==============================] - 1s 2ms/step\n",
            "313/313 [==============================] - 1s 3ms/step - loss: 3.1062 - accuracy: 0.2558\n",
            "Test Loss: 3.106198310852051, Test Accuracy: 0.2558000087738037\n",
            "Epoch 5:\n",
            "782/782 [==============================] - 4s 5ms/step - categorical_crossentropy: 2.9103 - student_loss: 2.9100 - distillation_loss: 0.0025\n",
            "313/313 [==============================] - 1s 3ms/step\n",
            "313/313 [==============================] - 1s 3ms/step - loss: 3.0164 - accuracy: 0.2717\n",
            "Test Loss: 3.016366958618164, Test Accuracy: 0.271699994802475\n",
            "Epoch 6:\n",
            "782/782 [==============================] - 4s 5ms/step - categorical_crossentropy: 2.7904 - student_loss: 2.7900 - distillation_loss: 0.0024\n",
            "313/313 [==============================] - 1s 2ms/step\n",
            "313/313 [==============================] - 1s 4ms/step - loss: 2.9405 - accuracy: 0.2870\n",
            "Test Loss: 2.9405133724212646, Test Accuracy: 0.28700000047683716\n",
            "Epoch 7:\n",
            "782/782 [==============================] - 4s 5ms/step - categorical_crossentropy: 2.6855 - student_loss: 2.6851 - distillation_loss: 0.0023\n",
            "313/313 [==============================] - 1s 2ms/step\n",
            "313/313 [==============================] - 1s 3ms/step - loss: 2.8672 - accuracy: 0.3027\n",
            "Test Loss: 2.867166757583618, Test Accuracy: 0.302700012922287\n",
            "Epoch 8:\n",
            "782/782 [==============================] - 4s 6ms/step - categorical_crossentropy: 2.5912 - student_loss: 2.5907 - distillation_loss: 0.0023\n",
            "313/313 [==============================] - 1s 2ms/step\n",
            "313/313 [==============================] - 1s 3ms/step - loss: 2.8052 - accuracy: 0.3154\n",
            "Test Loss: 2.805178165435791, Test Accuracy: 0.31540000438690186\n",
            "Epoch 9:\n",
            "782/782 [==============================] - 5s 6ms/step - categorical_crossentropy: 2.5036 - student_loss: 2.5028 - distillation_loss: 0.0022\n",
            "313/313 [==============================] - 1s 2ms/step\n",
            "313/313 [==============================] - 1s 3ms/step - loss: 2.7526 - accuracy: 0.3289\n",
            "Test Loss: 2.752586603164673, Test Accuracy: 0.328900009393692\n",
            "Epoch 10:\n",
            "782/782 [==============================] - 4s 5ms/step - categorical_crossentropy: 2.4211 - student_loss: 2.4201 - distillation_loss: 0.0021\n",
            "313/313 [==============================] - 1s 3ms/step\n",
            "313/313 [==============================] - 1s 3ms/step - loss: 2.7084 - accuracy: 0.3378\n",
            "Test Loss: 2.708435535430908, Test Accuracy: 0.337799996137619\n",
            "Epoch 11:\n",
            "782/782 [==============================] - 4s 5ms/step - categorical_crossentropy: 2.3434 - student_loss: 2.3422 - distillation_loss: 0.0021\n",
            "313/313 [==============================] - 1s 2ms/step\n",
            "313/313 [==============================] - 1s 3ms/step - loss: 2.6742 - accuracy: 0.3464\n",
            "Test Loss: 2.674206256866455, Test Accuracy: 0.3463999927043915\n",
            "Epoch 12:\n",
            "782/782 [==============================] - 4s 5ms/step - categorical_crossentropy: 2.2712 - student_loss: 2.2698 - distillation_loss: 0.0020\n",
            "313/313 [==============================] - 1s 2ms/step\n",
            "313/313 [==============================] - 1s 3ms/step - loss: 2.6446 - accuracy: 0.3528\n",
            "Test Loss: 2.644605875015259, Test Accuracy: 0.35280001163482666\n",
            "Epoch 13:\n",
            "782/782 [==============================] - 5s 6ms/step - categorical_crossentropy: 2.2025 - student_loss: 2.2009 - distillation_loss: 0.0020\n",
            "313/313 [==============================] - 1s 2ms/step\n",
            "313/313 [==============================] - 1s 3ms/step - loss: 2.6249 - accuracy: 0.3572\n",
            "Test Loss: 2.624945640563965, Test Accuracy: 0.3571999967098236\n",
            "Epoch 14:\n",
            "782/782 [==============================] - 4s 5ms/step - categorical_crossentropy: 2.1369 - student_loss: 2.1351 - distillation_loss: 0.0019\n",
            "313/313 [==============================] - 1s 2ms/step\n",
            "313/313 [==============================] - 1s 3ms/step - loss: 2.6141 - accuracy: 0.3615\n",
            "Test Loss: 2.6140964031219482, Test Accuracy: 0.36149999499320984\n",
            "Epoch 15:\n",
            "782/782 [==============================] - 4s 5ms/step - categorical_crossentropy: 2.0741 - student_loss: 2.0722 - distillation_loss: 0.0019\n",
            "313/313 [==============================] - 1s 3ms/step\n",
            "313/313 [==============================] - 1s 3ms/step - loss: 2.6015 - accuracy: 0.3649\n",
            "Test Loss: 2.601532459259033, Test Accuracy: 0.36489999294281006\n",
            "Epoch 16:\n",
            "782/782 [==============================] - 4s 5ms/step - categorical_crossentropy: 2.0130 - student_loss: 2.0109 - distillation_loss: 0.0019\n",
            "313/313 [==============================] - 1s 2ms/step\n",
            "313/313 [==============================] - 1s 4ms/step - loss: 2.5918 - accuracy: 0.3688\n",
            "Test Loss: 2.5917809009552, Test Accuracy: 0.36880001425743103\n",
            "Epoch 17:\n",
            "782/782 [==============================] - 4s 5ms/step - categorical_crossentropy: 1.9548 - student_loss: 1.9527 - distillation_loss: 0.0018\n",
            "313/313 [==============================] - 1s 2ms/step\n",
            "313/313 [==============================] - 1s 3ms/step - loss: 2.5919 - accuracy: 0.3681\n",
            "Test Loss: 2.591907262802124, Test Accuracy: 0.36809998750686646\n",
            "Epoch 18:\n",
            "782/782 [==============================] - 4s 6ms/step - categorical_crossentropy: 1.8978 - student_loss: 1.8956 - distillation_loss: 0.0018\n",
            "313/313 [==============================] - 1s 2ms/step\n",
            "313/313 [==============================] - 1s 3ms/step - loss: 2.5965 - accuracy: 0.3726\n",
            "Test Loss: 2.5965001583099365, Test Accuracy: 0.3725999891757965\n",
            "Epoch 19:\n",
            "782/782 [==============================] - 5s 6ms/step - categorical_crossentropy: 1.8423 - student_loss: 1.8400 - distillation_loss: 0.0018\n",
            "313/313 [==============================] - 1s 2ms/step\n",
            "313/313 [==============================] - 1s 3ms/step - loss: 2.6032 - accuracy: 0.3737\n",
            "Test Loss: 2.6031744480133057, Test Accuracy: 0.37369999289512634\n",
            "Epoch 20:\n",
            "782/782 [==============================] - 4s 5ms/step - categorical_crossentropy: 1.7889 - student_loss: 1.7865 - distillation_loss: 0.0017\n",
            "313/313 [==============================] - 1s 3ms/step\n",
            "313/313 [==============================] - 1s 3ms/step - loss: 2.6109 - accuracy: 0.3753\n",
            "Test Loss: 2.6109213829040527, Test Accuracy: 0.37529999017715454\n",
            "Epoch 21:\n",
            "782/782 [==============================] - 4s 5ms/step - categorical_crossentropy: 1.7361 - student_loss: 1.7336 - distillation_loss: 0.0017\n",
            "313/313 [==============================] - 1s 2ms/step\n",
            "313/313 [==============================] - 1s 5ms/step - loss: 2.6296 - accuracy: 0.3748\n",
            "Test Loss: 2.629591941833496, Test Accuracy: 0.3747999966144562\n",
            "Epoch 22:\n",
            "782/782 [==============================] - 4s 6ms/step - categorical_crossentropy: 1.6854 - student_loss: 1.6829 - distillation_loss: 0.0017\n",
            "313/313 [==============================] - 1s 2ms/step\n",
            "313/313 [==============================] - 1s 3ms/step - loss: 2.6481 - accuracy: 0.3749\n",
            "Test Loss: 2.648071527481079, Test Accuracy: 0.3749000132083893\n",
            "Epoch 23:\n",
            "782/782 [==============================] - 4s 5ms/step - categorical_crossentropy: 1.6359 - student_loss: 1.6334 - distillation_loss: 0.0017\n",
            "313/313 [==============================] - 1s 2ms/step\n",
            "313/313 [==============================] - 1s 3ms/step - loss: 2.6749 - accuracy: 0.3776\n",
            "Test Loss: 2.6748650074005127, Test Accuracy: 0.3776000142097473\n",
            "Epoch 24:\n",
            "782/782 [==============================] - 5s 6ms/step - categorical_crossentropy: 1.5879 - student_loss: 1.5853 - distillation_loss: 0.0016\n",
            "313/313 [==============================] - 1s 2ms/step\n",
            "313/313 [==============================] - 1s 3ms/step - loss: 2.7054 - accuracy: 0.3774\n",
            "Test Loss: 2.7054076194763184, Test Accuracy: 0.3774000108242035\n",
            "Epoch 25:\n",
            "782/782 [==============================] - 5s 6ms/step - categorical_crossentropy: 1.5407 - student_loss: 1.5382 - distillation_loss: 0.0016\n",
            "313/313 [==============================] - 1s 2ms/step\n",
            "313/313 [==============================] - 1s 3ms/step - loss: 2.7395 - accuracy: 0.3761\n",
            "Test Loss: 2.739520788192749, Test Accuracy: 0.37610000371932983\n"
          ]
        }
      ]
    },
    {
      "cell_type": "code",
      "source": [
        "del (student)\n",
        "gc.collect()\n",
        "keras.backend.clear_session()"
      ],
      "metadata": {
        "id": "XYgkhmXlWC0H"
      },
      "execution_count": null,
      "outputs": []
    },
    {
      "cell_type": "markdown",
      "source": [
        "---"
      ],
      "metadata": {
        "id": "6dvNBKhsWLqR"
      }
    },
    {
      "cell_type": "markdown",
      "source": [
        "# Download Distill Data"
      ],
      "metadata": {
        "id": "zICDaDog2MSQ"
      }
    },
    {
      "cell_type": "code",
      "source": [
        "shutil.make_archive(\"student_same\", 'zip', \"student_same\")\n",
        "files.download(\"student_same.zip\")"
      ],
      "metadata": {
        "colab": {
          "base_uri": "https://localhost:8080/",
          "height": 34
        },
        "id": "Nr0X0Tyi29wn",
        "outputId": "d7bfe5b2-5dee-4bf0-beb2-4920c74eff8e"
      },
      "execution_count": null,
      "outputs": [
        {
          "output_type": "display_data",
          "data": {
            "text/plain": [
              "<IPython.core.display.Javascript object>"
            ],
            "application/javascript": [
              "\n",
              "    async function download(id, filename, size) {\n",
              "      if (!google.colab.kernel.accessAllowed) {\n",
              "        return;\n",
              "      }\n",
              "      const div = document.createElement('div');\n",
              "      const label = document.createElement('label');\n",
              "      label.textContent = `Downloading \"${filename}\": `;\n",
              "      div.appendChild(label);\n",
              "      const progress = document.createElement('progress');\n",
              "      progress.max = size;\n",
              "      div.appendChild(progress);\n",
              "      document.body.appendChild(div);\n",
              "\n",
              "      const buffers = [];\n",
              "      let downloaded = 0;\n",
              "\n",
              "      const channel = await google.colab.kernel.comms.open(id);\n",
              "      // Send a message to notify the kernel that we're ready.\n",
              "      channel.send({})\n",
              "\n",
              "      for await (const message of channel.messages) {\n",
              "        // Send a message to notify the kernel that we're ready.\n",
              "        channel.send({})\n",
              "        if (message.buffers) {\n",
              "          for (const buffer of message.buffers) {\n",
              "            buffers.push(buffer);\n",
              "            downloaded += buffer.byteLength;\n",
              "            progress.value = downloaded;\n",
              "          }\n",
              "        }\n",
              "      }\n",
              "      const blob = new Blob(buffers, {type: 'application/binary'});\n",
              "      const a = document.createElement('a');\n",
              "      a.href = window.URL.createObjectURL(blob);\n",
              "      a.download = filename;\n",
              "      div.appendChild(a);\n",
              "      a.click();\n",
              "      div.remove();\n",
              "    }\n",
              "  "
            ]
          },
          "metadata": {}
        },
        {
          "output_type": "display_data",
          "data": {
            "text/plain": [
              "<IPython.core.display.Javascript object>"
            ],
            "application/javascript": [
              "download(\"download_e5cbf97e-a196-4db6-83f8-21fa4a8bcf91\", \"student_same.zip\", 138904516)"
            ]
          },
          "metadata": {}
        }
      ]
    },
    {
      "cell_type": "code",
      "source": [
        "shutil.make_archive(\"student_same_50\", 'zip', \"student_same_50\")\n",
        "files.download(\"student_same_50.zip\")"
      ],
      "metadata": {
        "colab": {
          "base_uri": "https://localhost:8080/",
          "height": 34
        },
        "id": "1xO74JYY3Etr",
        "outputId": "21868402-8f3c-4ae7-e6c3-529e10456bce"
      },
      "execution_count": null,
      "outputs": [
        {
          "output_type": "display_data",
          "data": {
            "text/plain": [
              "<IPython.core.display.Javascript object>"
            ],
            "application/javascript": [
              "\n",
              "    async function download(id, filename, size) {\n",
              "      if (!google.colab.kernel.accessAllowed) {\n",
              "        return;\n",
              "      }\n",
              "      const div = document.createElement('div');\n",
              "      const label = document.createElement('label');\n",
              "      label.textContent = `Downloading \"${filename}\": `;\n",
              "      div.appendChild(label);\n",
              "      const progress = document.createElement('progress');\n",
              "      progress.max = size;\n",
              "      div.appendChild(progress);\n",
              "      document.body.appendChild(div);\n",
              "\n",
              "      const buffers = [];\n",
              "      let downloaded = 0;\n",
              "\n",
              "      const channel = await google.colab.kernel.comms.open(id);\n",
              "      // Send a message to notify the kernel that we're ready.\n",
              "      channel.send({})\n",
              "\n",
              "      for await (const message of channel.messages) {\n",
              "        // Send a message to notify the kernel that we're ready.\n",
              "        channel.send({})\n",
              "        if (message.buffers) {\n",
              "          for (const buffer of message.buffers) {\n",
              "            buffers.push(buffer);\n",
              "            downloaded += buffer.byteLength;\n",
              "            progress.value = downloaded;\n",
              "          }\n",
              "        }\n",
              "      }\n",
              "      const blob = new Blob(buffers, {type: 'application/binary'});\n",
              "      const a = document.createElement('a');\n",
              "      a.href = window.URL.createObjectURL(blob);\n",
              "      a.download = filename;\n",
              "      div.appendChild(a);\n",
              "      a.click();\n",
              "      div.remove();\n",
              "    }\n",
              "  "
            ]
          },
          "metadata": {}
        },
        {
          "output_type": "display_data",
          "data": {
            "text/plain": [
              "<IPython.core.display.Javascript object>"
            ],
            "application/javascript": [
              "download(\"download_f48c77b5-9378-4669-9824-2490004c9a8f\", \"student_same_50.zip\", 139030210)"
            ]
          },
          "metadata": {}
        }
      ]
    },
    {
      "cell_type": "code",
      "source": [
        "shutil.make_archive(\"student_same_90\", 'zip', \"student_same_90\")\n",
        "files.download(\"student_same_90.zip\")"
      ],
      "metadata": {
        "colab": {
          "base_uri": "https://localhost:8080/",
          "height": 34
        },
        "id": "sSJkyuJP3LjW",
        "outputId": "136a6360-ed15-4f52-abad-597257f4168d"
      },
      "execution_count": null,
      "outputs": [
        {
          "output_type": "display_data",
          "data": {
            "text/plain": [
              "<IPython.core.display.Javascript object>"
            ],
            "application/javascript": [
              "\n",
              "    async function download(id, filename, size) {\n",
              "      if (!google.colab.kernel.accessAllowed) {\n",
              "        return;\n",
              "      }\n",
              "      const div = document.createElement('div');\n",
              "      const label = document.createElement('label');\n",
              "      label.textContent = `Downloading \"${filename}\": `;\n",
              "      div.appendChild(label);\n",
              "      const progress = document.createElement('progress');\n",
              "      progress.max = size;\n",
              "      div.appendChild(progress);\n",
              "      document.body.appendChild(div);\n",
              "\n",
              "      const buffers = [];\n",
              "      let downloaded = 0;\n",
              "\n",
              "      const channel = await google.colab.kernel.comms.open(id);\n",
              "      // Send a message to notify the kernel that we're ready.\n",
              "      channel.send({})\n",
              "\n",
              "      for await (const message of channel.messages) {\n",
              "        // Send a message to notify the kernel that we're ready.\n",
              "        channel.send({})\n",
              "        if (message.buffers) {\n",
              "          for (const buffer of message.buffers) {\n",
              "            buffers.push(buffer);\n",
              "            downloaded += buffer.byteLength;\n",
              "            progress.value = downloaded;\n",
              "          }\n",
              "        }\n",
              "      }\n",
              "      const blob = new Blob(buffers, {type: 'application/binary'});\n",
              "      const a = document.createElement('a');\n",
              "      a.href = window.URL.createObjectURL(blob);\n",
              "      a.download = filename;\n",
              "      div.appendChild(a);\n",
              "      a.click();\n",
              "      div.remove();\n",
              "    }\n",
              "  "
            ]
          },
          "metadata": {}
        },
        {
          "output_type": "display_data",
          "data": {
            "text/plain": [
              "<IPython.core.display.Javascript object>"
            ],
            "application/javascript": [
              "download(\"download_93a1b713-f386-4bc8-8c7c-5d9f9e9aff87\", \"student_same_90.zip\", 139009508)"
            ]
          },
          "metadata": {}
        }
      ]
    },
    {
      "cell_type": "markdown",
      "source": [
        "---\n",
        "\n",
        "# Qunatisation\n",
        "\n",
        "https://github.com/sonalimedani/TF_Quantization/blob/master/quantization.ipynb\n",
        "\n",
        "https://medium.com/@sonalimedani/post-training-quantization-with-tensorflow-lite-on-a-keras-model-f373068966c4"
      ],
      "metadata": {
        "id": "ZCQ1ucn3X8lA"
      }
    },
    {
      "cell_type": "markdown",
      "source": [
        "**Default**: 8 Bit"
      ],
      "metadata": {
        "id": "X69D_tTXecfn"
      }
    },
    {
      "cell_type": "code",
      "source": [
        "path = '/content/base/LeNetCIFAR100_final.tf'\n",
        "model = tf.keras.models.load_model(path)\n",
        "model.evaluate(x_test,y_test)"
      ],
      "metadata": {
        "id": "h-3BCaalLyoM",
        "colab": {
          "base_uri": "https://localhost:8080/"
        },
        "outputId": "83348dc3-563d-4ff4-a4cf-100af5b8e933"
      },
      "execution_count": null,
      "outputs": [
        {
          "output_type": "stream",
          "name": "stdout",
          "text": [
            "313/313 [==============================] - 1s 3ms/step - loss: 3.9201 - accuracy: 0.3268\n"
          ]
        },
        {
          "output_type": "execute_result",
          "data": {
            "text/plain": [
              "[3.9201202392578125, 0.32679998874664307]"
            ]
          },
          "metadata": {},
          "execution_count": 45
        }
      ]
    },
    {
      "cell_type": "code",
      "source": [
        "filepath = '/content/quantised_8_bit/'\n",
        "!mkdir '/content/quantised_8_bit/'"
      ],
      "metadata": {
        "id": "NeW5pwbUZaPE"
      },
      "execution_count": null,
      "outputs": []
    },
    {
      "cell_type": "code",
      "source": [
        "converter = tf.lite.TFLiteConverter.from_keras_model(model)\n",
        "converter.optimizations = [tf.lite.Optimize.DEFAULT]\n",
        "tflite_quant_model = converter.convert()\n",
        "#saving converted model in \"converted_quant_model.tflite\" file\n",
        "open(filepath+\"8_bit.tflite\", \"wb\").write(tflite_quant_model)"
      ],
      "metadata": {
        "colab": {
          "base_uri": "https://localhost:8080/"
        },
        "id": "HAJQfzGfKjCT",
        "outputId": "b0c66fb2-e87c-402f-c7c2-3b8755d7da8d"
      },
      "execution_count": null,
      "outputs": [
        {
          "output_type": "execute_result",
          "data": {
            "text/plain": [
              "335208"
            ]
          },
          "metadata": {},
          "execution_count": 47
        }
      ]
    },
    {
      "cell_type": "code",
      "source": [
        "import os\n",
        "print(\"Float model in Mb:\", os.path.getsize(filepath+\"8_bit.tflite\") / float(2**20))\n",
        "print(\"Quantized model in Mb:\", os.path.getsize(filepath+\"8_bit.tflite\") / float(2**20))\n",
        "print(\"Compression ratio:\", os.path.getsize(filepath+\"8_bit.tflite\")/os.path.getsize(path))"
      ],
      "metadata": {
        "colab": {
          "base_uri": "https://localhost:8080/"
        },
        "id": "4Il7AvI1ZvPy",
        "outputId": "20dc74c5-b500-4757-e4df-4e2928a8bd56"
      },
      "execution_count": null,
      "outputs": [
        {
          "output_type": "stream",
          "name": "stdout",
          "text": [
            "Float model in Mb: 0.31967926025390625\n",
            "Quantized model in Mb: 0.31967926025390625\n",
            "Compression ratio: 81.837890625\n"
          ]
        }
      ]
    },
    {
      "cell_type": "code",
      "source": [
        "interpreter = tf.lite.Interpreter(model_path=(filepath+\"8_bit.tflite\"))\n",
        "interpreter.allocate_tensors()\n",
        "# Get input and output tensors.\n",
        "input_details = interpreter.get_input_details()\n",
        "output_details = interpreter.get_output_details()\n",
        "# Test model on some input data.\n",
        "input_shape = input_details[0]['shape']\n",
        "acc=0\n",
        "results_default = pd.DataFrame()\n",
        "for i in range(len(x_test)):\n",
        "    input_data = x_test[i].reshape(input_shape)\n",
        "    interpreter.set_tensor(input_details[0]['index'], input_data)\n",
        "    interpreter.invoke()\n",
        "    output_data = interpreter.get_tensor(output_details[0]['index'])\n",
        "    row = pd.DataFrame(output_data)\n",
        "    results_default = pd.concat([results_default, row], ignore_index=True)\n",
        "    if(np.argmax(output_data) == np.argmax(y_test[i])):\n",
        "        acc+=1\n",
        "acc = acc/len(x_test)\n",
        "print(acc*100)"
      ],
      "metadata": {
        "colab": {
          "base_uri": "https://localhost:8080/"
        },
        "id": "4szzB8pWZ78D",
        "outputId": "b630ef4f-0d39-445d-ff8e-2129ee8b669a"
      },
      "execution_count": null,
      "outputs": [
        {
          "output_type": "stream",
          "name": "stdout",
          "text": [
            "32.73\n"
          ]
        }
      ]
    },
    {
      "cell_type": "code",
      "source": [
        "results_default"
      ],
      "metadata": {
        "colab": {
          "base_uri": "https://localhost:8080/",
          "height": 617
        },
        "id": "YpLAOjXtzwJd",
        "outputId": "fe98a419-c073-4721-cbaf-64dbcbaf08c9"
      },
      "execution_count": null,
      "outputs": [
        {
          "output_type": "execute_result",
          "data": {
            "text/plain": [
              "                0             1             2             3             4   \\\n",
              "0     1.212556e-10  2.747216e-05  9.251284e-03  9.435776e-04  2.133205e-03   \n",
              "1     1.716817e-07  6.883182e-06  2.292620e-03  9.283205e-04  9.515498e-03   \n",
              "2     8.424056e-13  2.783376e-08  7.458773e-04  1.155507e-04  1.156424e-01   \n",
              "3     1.699606e-06  4.486708e-07  1.301498e-04  9.030816e-06  1.117866e-03   \n",
              "4     3.769742e-05  2.460132e-05  3.051876e-08  5.871406e-07  1.029137e-08   \n",
              "...            ...           ...           ...           ...           ...   \n",
              "9995  6.204795e-04  2.067754e-05  5.056641e-09  4.051287e-04  1.255567e-06   \n",
              "9996  2.635315e-12  4.394662e-10  2.079966e-06  1.855544e-04  1.749722e-03   \n",
              "9997  3.405335e-06  9.895490e-07  6.473668e-08  9.673167e-05  2.263670e-06   \n",
              "9998  1.327816e-07  1.422173e-10  5.111753e-05  3.335210e-03  1.915008e-03   \n",
              "9999  2.895884e-05  1.268618e-04  2.091062e-08  2.745709e-12  2.202842e-12   \n",
              "\n",
              "                5             6             7             8             9   \\\n",
              "0     8.117640e-05  1.147782e-06  5.882317e-06  1.657996e-04  2.266008e-05   \n",
              "1     2.481675e-06  3.927213e-05  2.230912e-06  8.257181e-08  1.920442e-05   \n",
              "2     1.368471e-11  1.247528e-07  1.407396e-09  5.335754e-07  2.748714e-08   \n",
              "3     1.666725e-04  2.481404e-07  8.140784e-10  1.336594e-08  4.326151e-07   \n",
              "4     1.172283e-06  2.363468e-11  2.206027e-07  2.352951e-08  1.010139e-06   \n",
              "...            ...           ...           ...           ...           ...   \n",
              "9995  2.680471e-12  1.369351e-03  6.510288e-06  6.881312e-08  2.755892e-05   \n",
              "9996  1.512318e-09  4.714965e-06  4.747422e-07  7.724339e-14  7.613202e-11   \n",
              "9997  2.454849e-06  2.049116e-02  5.902275e-04  2.728263e-07  5.691364e-07   \n",
              "9998  2.298381e-05  1.786811e-06  1.229453e-06  2.025586e-04  4.744878e-06   \n",
              "9999  1.061482e-13  2.238570e-08  3.481674e-10  5.218938e-11  5.899447e-10   \n",
              "\n",
              "      ...            90            91            92            93  \\\n",
              "0     ...  3.414786e-03  8.739687e-03  5.719241e-07  2.003900e-04   \n",
              "1     ...  7.253380e-04  1.211946e-03  3.939063e-07  1.821038e-05   \n",
              "2     ...  1.457637e-04  1.529217e-07  2.495297e-08  1.578749e-03   \n",
              "3     ...  5.652131e-08  6.539594e-02  1.517022e-06  3.614128e-04   \n",
              "4     ...  5.308378e-06  1.912257e-08  9.068019e-07  1.031491e-08   \n",
              "...   ...           ...           ...           ...           ...   \n",
              "9995  ...  4.310153e-09  1.931987e-07  1.939136e-03  1.833205e-04   \n",
              "9996  ...  1.326261e-06  9.611949e-07  2.956578e-09  1.409621e-06   \n",
              "9997  ...  1.051002e-03  4.222670e-04  3.097592e-02  1.216022e-05   \n",
              "9998  ...  1.443788e-04  7.492131e-05  3.447751e-06  1.138174e-04   \n",
              "9999  ...  1.852679e-07  1.801746e-08  4.481505e-04  2.467915e-07   \n",
              "\n",
              "                94            95            96            97            98  \\\n",
              "0     6.620030e-09  1.732560e-03  1.535469e-06  7.048406e-05  1.369617e-03   \n",
              "1     4.318182e-08  1.716814e-06  2.179349e-04  2.897902e-02  2.980532e-05   \n",
              "2     6.123182e-09  3.536985e-04  5.163979e-08  5.985804e-06  7.501006e-04   \n",
              "3     3.179569e-12  3.562476e-07  4.430606e-09  1.748947e-03  3.257847e-03   \n",
              "4     7.996896e-08  1.936050e-12  7.905866e-05  2.237205e-11  1.476615e-07   \n",
              "...            ...           ...           ...           ...           ...   \n",
              "9995  1.118230e-13  1.641131e-09  4.628329e-05  3.162003e-07  6.687471e-07   \n",
              "9996  3.945510e-13  3.604594e-07  6.022253e-11  3.113291e-06  1.905921e-06   \n",
              "9997  2.192609e-11  1.764374e-07  7.052624e-05  1.430276e-03  5.663482e-06   \n",
              "9998  2.560385e-08  3.943873e-10  3.920659e-07  7.369397e-01  4.198915e-05   \n",
              "9999  2.207003e-18  2.674593e-18  9.451411e-11  4.634033e-16  6.681468e-07   \n",
              "\n",
              "                99  \n",
              "0     1.430925e-03  \n",
              "1     2.930799e-07  \n",
              "2     1.069801e-04  \n",
              "3     1.090626e-05  \n",
              "4     6.104665e-07  \n",
              "...            ...  \n",
              "9995  8.122335e-05  \n",
              "9996  1.287697e-06  \n",
              "9997  3.716036e-02  \n",
              "9998  7.354130e-03  \n",
              "9999  1.884031e-06  \n",
              "\n",
              "[10000 rows x 100 columns]"
            ],
            "text/html": [
              "\n",
              "  <div id=\"df-10bf549d-472e-44db-931c-1d7b696ef72f\" class=\"colab-df-container\">\n",
              "    <div>\n",
              "<style scoped>\n",
              "    .dataframe tbody tr th:only-of-type {\n",
              "        vertical-align: middle;\n",
              "    }\n",
              "\n",
              "    .dataframe tbody tr th {\n",
              "        vertical-align: top;\n",
              "    }\n",
              "\n",
              "    .dataframe thead th {\n",
              "        text-align: right;\n",
              "    }\n",
              "</style>\n",
              "<table border=\"1\" class=\"dataframe\">\n",
              "  <thead>\n",
              "    <tr style=\"text-align: right;\">\n",
              "      <th></th>\n",
              "      <th>0</th>\n",
              "      <th>1</th>\n",
              "      <th>2</th>\n",
              "      <th>3</th>\n",
              "      <th>4</th>\n",
              "      <th>5</th>\n",
              "      <th>6</th>\n",
              "      <th>7</th>\n",
              "      <th>8</th>\n",
              "      <th>9</th>\n",
              "      <th>...</th>\n",
              "      <th>90</th>\n",
              "      <th>91</th>\n",
              "      <th>92</th>\n",
              "      <th>93</th>\n",
              "      <th>94</th>\n",
              "      <th>95</th>\n",
              "      <th>96</th>\n",
              "      <th>97</th>\n",
              "      <th>98</th>\n",
              "      <th>99</th>\n",
              "    </tr>\n",
              "  </thead>\n",
              "  <tbody>\n",
              "    <tr>\n",
              "      <th>0</th>\n",
              "      <td>1.212556e-10</td>\n",
              "      <td>2.747216e-05</td>\n",
              "      <td>9.251284e-03</td>\n",
              "      <td>9.435776e-04</td>\n",
              "      <td>2.133205e-03</td>\n",
              "      <td>8.117640e-05</td>\n",
              "      <td>1.147782e-06</td>\n",
              "      <td>5.882317e-06</td>\n",
              "      <td>1.657996e-04</td>\n",
              "      <td>2.266008e-05</td>\n",
              "      <td>...</td>\n",
              "      <td>3.414786e-03</td>\n",
              "      <td>8.739687e-03</td>\n",
              "      <td>5.719241e-07</td>\n",
              "      <td>2.003900e-04</td>\n",
              "      <td>6.620030e-09</td>\n",
              "      <td>1.732560e-03</td>\n",
              "      <td>1.535469e-06</td>\n",
              "      <td>7.048406e-05</td>\n",
              "      <td>1.369617e-03</td>\n",
              "      <td>1.430925e-03</td>\n",
              "    </tr>\n",
              "    <tr>\n",
              "      <th>1</th>\n",
              "      <td>1.716817e-07</td>\n",
              "      <td>6.883182e-06</td>\n",
              "      <td>2.292620e-03</td>\n",
              "      <td>9.283205e-04</td>\n",
              "      <td>9.515498e-03</td>\n",
              "      <td>2.481675e-06</td>\n",
              "      <td>3.927213e-05</td>\n",
              "      <td>2.230912e-06</td>\n",
              "      <td>8.257181e-08</td>\n",
              "      <td>1.920442e-05</td>\n",
              "      <td>...</td>\n",
              "      <td>7.253380e-04</td>\n",
              "      <td>1.211946e-03</td>\n",
              "      <td>3.939063e-07</td>\n",
              "      <td>1.821038e-05</td>\n",
              "      <td>4.318182e-08</td>\n",
              "      <td>1.716814e-06</td>\n",
              "      <td>2.179349e-04</td>\n",
              "      <td>2.897902e-02</td>\n",
              "      <td>2.980532e-05</td>\n",
              "      <td>2.930799e-07</td>\n",
              "    </tr>\n",
              "    <tr>\n",
              "      <th>2</th>\n",
              "      <td>8.424056e-13</td>\n",
              "      <td>2.783376e-08</td>\n",
              "      <td>7.458773e-04</td>\n",
              "      <td>1.155507e-04</td>\n",
              "      <td>1.156424e-01</td>\n",
              "      <td>1.368471e-11</td>\n",
              "      <td>1.247528e-07</td>\n",
              "      <td>1.407396e-09</td>\n",
              "      <td>5.335754e-07</td>\n",
              "      <td>2.748714e-08</td>\n",
              "      <td>...</td>\n",
              "      <td>1.457637e-04</td>\n",
              "      <td>1.529217e-07</td>\n",
              "      <td>2.495297e-08</td>\n",
              "      <td>1.578749e-03</td>\n",
              "      <td>6.123182e-09</td>\n",
              "      <td>3.536985e-04</td>\n",
              "      <td>5.163979e-08</td>\n",
              "      <td>5.985804e-06</td>\n",
              "      <td>7.501006e-04</td>\n",
              "      <td>1.069801e-04</td>\n",
              "    </tr>\n",
              "    <tr>\n",
              "      <th>3</th>\n",
              "      <td>1.699606e-06</td>\n",
              "      <td>4.486708e-07</td>\n",
              "      <td>1.301498e-04</td>\n",
              "      <td>9.030816e-06</td>\n",
              "      <td>1.117866e-03</td>\n",
              "      <td>1.666725e-04</td>\n",
              "      <td>2.481404e-07</td>\n",
              "      <td>8.140784e-10</td>\n",
              "      <td>1.336594e-08</td>\n",
              "      <td>4.326151e-07</td>\n",
              "      <td>...</td>\n",
              "      <td>5.652131e-08</td>\n",
              "      <td>6.539594e-02</td>\n",
              "      <td>1.517022e-06</td>\n",
              "      <td>3.614128e-04</td>\n",
              "      <td>3.179569e-12</td>\n",
              "      <td>3.562476e-07</td>\n",
              "      <td>4.430606e-09</td>\n",
              "      <td>1.748947e-03</td>\n",
              "      <td>3.257847e-03</td>\n",
              "      <td>1.090626e-05</td>\n",
              "    </tr>\n",
              "    <tr>\n",
              "      <th>4</th>\n",
              "      <td>3.769742e-05</td>\n",
              "      <td>2.460132e-05</td>\n",
              "      <td>3.051876e-08</td>\n",
              "      <td>5.871406e-07</td>\n",
              "      <td>1.029137e-08</td>\n",
              "      <td>1.172283e-06</td>\n",
              "      <td>2.363468e-11</td>\n",
              "      <td>2.206027e-07</td>\n",
              "      <td>2.352951e-08</td>\n",
              "      <td>1.010139e-06</td>\n",
              "      <td>...</td>\n",
              "      <td>5.308378e-06</td>\n",
              "      <td>1.912257e-08</td>\n",
              "      <td>9.068019e-07</td>\n",
              "      <td>1.031491e-08</td>\n",
              "      <td>7.996896e-08</td>\n",
              "      <td>1.936050e-12</td>\n",
              "      <td>7.905866e-05</td>\n",
              "      <td>2.237205e-11</td>\n",
              "      <td>1.476615e-07</td>\n",
              "      <td>6.104665e-07</td>\n",
              "    </tr>\n",
              "    <tr>\n",
              "      <th>...</th>\n",
              "      <td>...</td>\n",
              "      <td>...</td>\n",
              "      <td>...</td>\n",
              "      <td>...</td>\n",
              "      <td>...</td>\n",
              "      <td>...</td>\n",
              "      <td>...</td>\n",
              "      <td>...</td>\n",
              "      <td>...</td>\n",
              "      <td>...</td>\n",
              "      <td>...</td>\n",
              "      <td>...</td>\n",
              "      <td>...</td>\n",
              "      <td>...</td>\n",
              "      <td>...</td>\n",
              "      <td>...</td>\n",
              "      <td>...</td>\n",
              "      <td>...</td>\n",
              "      <td>...</td>\n",
              "      <td>...</td>\n",
              "      <td>...</td>\n",
              "    </tr>\n",
              "    <tr>\n",
              "      <th>9995</th>\n",
              "      <td>6.204795e-04</td>\n",
              "      <td>2.067754e-05</td>\n",
              "      <td>5.056641e-09</td>\n",
              "      <td>4.051287e-04</td>\n",
              "      <td>1.255567e-06</td>\n",
              "      <td>2.680471e-12</td>\n",
              "      <td>1.369351e-03</td>\n",
              "      <td>6.510288e-06</td>\n",
              "      <td>6.881312e-08</td>\n",
              "      <td>2.755892e-05</td>\n",
              "      <td>...</td>\n",
              "      <td>4.310153e-09</td>\n",
              "      <td>1.931987e-07</td>\n",
              "      <td>1.939136e-03</td>\n",
              "      <td>1.833205e-04</td>\n",
              "      <td>1.118230e-13</td>\n",
              "      <td>1.641131e-09</td>\n",
              "      <td>4.628329e-05</td>\n",
              "      <td>3.162003e-07</td>\n",
              "      <td>6.687471e-07</td>\n",
              "      <td>8.122335e-05</td>\n",
              "    </tr>\n",
              "    <tr>\n",
              "      <th>9996</th>\n",
              "      <td>2.635315e-12</td>\n",
              "      <td>4.394662e-10</td>\n",
              "      <td>2.079966e-06</td>\n",
              "      <td>1.855544e-04</td>\n",
              "      <td>1.749722e-03</td>\n",
              "      <td>1.512318e-09</td>\n",
              "      <td>4.714965e-06</td>\n",
              "      <td>4.747422e-07</td>\n",
              "      <td>7.724339e-14</td>\n",
              "      <td>7.613202e-11</td>\n",
              "      <td>...</td>\n",
              "      <td>1.326261e-06</td>\n",
              "      <td>9.611949e-07</td>\n",
              "      <td>2.956578e-09</td>\n",
              "      <td>1.409621e-06</td>\n",
              "      <td>3.945510e-13</td>\n",
              "      <td>3.604594e-07</td>\n",
              "      <td>6.022253e-11</td>\n",
              "      <td>3.113291e-06</td>\n",
              "      <td>1.905921e-06</td>\n",
              "      <td>1.287697e-06</td>\n",
              "    </tr>\n",
              "    <tr>\n",
              "      <th>9997</th>\n",
              "      <td>3.405335e-06</td>\n",
              "      <td>9.895490e-07</td>\n",
              "      <td>6.473668e-08</td>\n",
              "      <td>9.673167e-05</td>\n",
              "      <td>2.263670e-06</td>\n",
              "      <td>2.454849e-06</td>\n",
              "      <td>2.049116e-02</td>\n",
              "      <td>5.902275e-04</td>\n",
              "      <td>2.728263e-07</td>\n",
              "      <td>5.691364e-07</td>\n",
              "      <td>...</td>\n",
              "      <td>1.051002e-03</td>\n",
              "      <td>4.222670e-04</td>\n",
              "      <td>3.097592e-02</td>\n",
              "      <td>1.216022e-05</td>\n",
              "      <td>2.192609e-11</td>\n",
              "      <td>1.764374e-07</td>\n",
              "      <td>7.052624e-05</td>\n",
              "      <td>1.430276e-03</td>\n",
              "      <td>5.663482e-06</td>\n",
              "      <td>3.716036e-02</td>\n",
              "    </tr>\n",
              "    <tr>\n",
              "      <th>9998</th>\n",
              "      <td>1.327816e-07</td>\n",
              "      <td>1.422173e-10</td>\n",
              "      <td>5.111753e-05</td>\n",
              "      <td>3.335210e-03</td>\n",
              "      <td>1.915008e-03</td>\n",
              "      <td>2.298381e-05</td>\n",
              "      <td>1.786811e-06</td>\n",
              "      <td>1.229453e-06</td>\n",
              "      <td>2.025586e-04</td>\n",
              "      <td>4.744878e-06</td>\n",
              "      <td>...</td>\n",
              "      <td>1.443788e-04</td>\n",
              "      <td>7.492131e-05</td>\n",
              "      <td>3.447751e-06</td>\n",
              "      <td>1.138174e-04</td>\n",
              "      <td>2.560385e-08</td>\n",
              "      <td>3.943873e-10</td>\n",
              "      <td>3.920659e-07</td>\n",
              "      <td>7.369397e-01</td>\n",
              "      <td>4.198915e-05</td>\n",
              "      <td>7.354130e-03</td>\n",
              "    </tr>\n",
              "    <tr>\n",
              "      <th>9999</th>\n",
              "      <td>2.895884e-05</td>\n",
              "      <td>1.268618e-04</td>\n",
              "      <td>2.091062e-08</td>\n",
              "      <td>2.745709e-12</td>\n",
              "      <td>2.202842e-12</td>\n",
              "      <td>1.061482e-13</td>\n",
              "      <td>2.238570e-08</td>\n",
              "      <td>3.481674e-10</td>\n",
              "      <td>5.218938e-11</td>\n",
              "      <td>5.899447e-10</td>\n",
              "      <td>...</td>\n",
              "      <td>1.852679e-07</td>\n",
              "      <td>1.801746e-08</td>\n",
              "      <td>4.481505e-04</td>\n",
              "      <td>2.467915e-07</td>\n",
              "      <td>2.207003e-18</td>\n",
              "      <td>2.674593e-18</td>\n",
              "      <td>9.451411e-11</td>\n",
              "      <td>4.634033e-16</td>\n",
              "      <td>6.681468e-07</td>\n",
              "      <td>1.884031e-06</td>\n",
              "    </tr>\n",
              "  </tbody>\n",
              "</table>\n",
              "<p>10000 rows × 100 columns</p>\n",
              "</div>\n",
              "    <div class=\"colab-df-buttons\">\n",
              "\n",
              "  <div class=\"colab-df-container\">\n",
              "    <button class=\"colab-df-convert\" onclick=\"convertToInteractive('df-10bf549d-472e-44db-931c-1d7b696ef72f')\"\n",
              "            title=\"Convert this dataframe to an interactive table.\"\n",
              "            style=\"display:none;\">\n",
              "\n",
              "  <svg xmlns=\"http://www.w3.org/2000/svg\" height=\"24px\" viewBox=\"0 -960 960 960\">\n",
              "    <path d=\"M120-120v-720h720v720H120Zm60-500h600v-160H180v160Zm220 220h160v-160H400v160Zm0 220h160v-160H400v160ZM180-400h160v-160H180v160Zm440 0h160v-160H620v160ZM180-180h160v-160H180v160Zm440 0h160v-160H620v160Z\"/>\n",
              "  </svg>\n",
              "    </button>\n",
              "\n",
              "  <style>\n",
              "    .colab-df-container {\n",
              "      display:flex;\n",
              "      gap: 12px;\n",
              "    }\n",
              "\n",
              "    .colab-df-convert {\n",
              "      background-color: #E8F0FE;\n",
              "      border: none;\n",
              "      border-radius: 50%;\n",
              "      cursor: pointer;\n",
              "      display: none;\n",
              "      fill: #1967D2;\n",
              "      height: 32px;\n",
              "      padding: 0 0 0 0;\n",
              "      width: 32px;\n",
              "    }\n",
              "\n",
              "    .colab-df-convert:hover {\n",
              "      background-color: #E2EBFA;\n",
              "      box-shadow: 0px 1px 2px rgba(60, 64, 67, 0.3), 0px 1px 3px 1px rgba(60, 64, 67, 0.15);\n",
              "      fill: #174EA6;\n",
              "    }\n",
              "\n",
              "    .colab-df-buttons div {\n",
              "      margin-bottom: 4px;\n",
              "    }\n",
              "\n",
              "    [theme=dark] .colab-df-convert {\n",
              "      background-color: #3B4455;\n",
              "      fill: #D2E3FC;\n",
              "    }\n",
              "\n",
              "    [theme=dark] .colab-df-convert:hover {\n",
              "      background-color: #434B5C;\n",
              "      box-shadow: 0px 1px 3px 1px rgba(0, 0, 0, 0.15);\n",
              "      filter: drop-shadow(0px 1px 2px rgba(0, 0, 0, 0.3));\n",
              "      fill: #FFFFFF;\n",
              "    }\n",
              "  </style>\n",
              "\n",
              "    <script>\n",
              "      const buttonEl =\n",
              "        document.querySelector('#df-10bf549d-472e-44db-931c-1d7b696ef72f button.colab-df-convert');\n",
              "      buttonEl.style.display =\n",
              "        google.colab.kernel.accessAllowed ? 'block' : 'none';\n",
              "\n",
              "      async function convertToInteractive(key) {\n",
              "        const element = document.querySelector('#df-10bf549d-472e-44db-931c-1d7b696ef72f');\n",
              "        const dataTable =\n",
              "          await google.colab.kernel.invokeFunction('convertToInteractive',\n",
              "                                                    [key], {});\n",
              "        if (!dataTable) return;\n",
              "\n",
              "        const docLinkHtml = 'Like what you see? Visit the ' +\n",
              "          '<a target=\"_blank\" href=https://colab.research.google.com/notebooks/data_table.ipynb>data table notebook</a>'\n",
              "          + ' to learn more about interactive tables.';\n",
              "        element.innerHTML = '';\n",
              "        dataTable['output_type'] = 'display_data';\n",
              "        await google.colab.output.renderOutput(dataTable, element);\n",
              "        const docLink = document.createElement('div');\n",
              "        docLink.innerHTML = docLinkHtml;\n",
              "        element.appendChild(docLink);\n",
              "      }\n",
              "    </script>\n",
              "  </div>\n",
              "\n",
              "\n",
              "<div id=\"df-2d95b32c-811a-4617-8b75-3220e5aaf229\">\n",
              "  <button class=\"colab-df-quickchart\" onclick=\"quickchart('df-2d95b32c-811a-4617-8b75-3220e5aaf229')\"\n",
              "            title=\"Suggest charts\"\n",
              "            style=\"display:none;\">\n",
              "\n",
              "<svg xmlns=\"http://www.w3.org/2000/svg\" height=\"24px\"viewBox=\"0 0 24 24\"\n",
              "     width=\"24px\">\n",
              "    <g>\n",
              "        <path d=\"M19 3H5c-1.1 0-2 .9-2 2v14c0 1.1.9 2 2 2h14c1.1 0 2-.9 2-2V5c0-1.1-.9-2-2-2zM9 17H7v-7h2v7zm4 0h-2V7h2v10zm4 0h-2v-4h2v4z\"/>\n",
              "    </g>\n",
              "</svg>\n",
              "  </button>\n",
              "\n",
              "<style>\n",
              "  .colab-df-quickchart {\n",
              "      --bg-color: #E8F0FE;\n",
              "      --fill-color: #1967D2;\n",
              "      --hover-bg-color: #E2EBFA;\n",
              "      --hover-fill-color: #174EA6;\n",
              "      --disabled-fill-color: #AAA;\n",
              "      --disabled-bg-color: #DDD;\n",
              "  }\n",
              "\n",
              "  [theme=dark] .colab-df-quickchart {\n",
              "      --bg-color: #3B4455;\n",
              "      --fill-color: #D2E3FC;\n",
              "      --hover-bg-color: #434B5C;\n",
              "      --hover-fill-color: #FFFFFF;\n",
              "      --disabled-bg-color: #3B4455;\n",
              "      --disabled-fill-color: #666;\n",
              "  }\n",
              "\n",
              "  .colab-df-quickchart {\n",
              "    background-color: var(--bg-color);\n",
              "    border: none;\n",
              "    border-radius: 50%;\n",
              "    cursor: pointer;\n",
              "    display: none;\n",
              "    fill: var(--fill-color);\n",
              "    height: 32px;\n",
              "    padding: 0;\n",
              "    width: 32px;\n",
              "  }\n",
              "\n",
              "  .colab-df-quickchart:hover {\n",
              "    background-color: var(--hover-bg-color);\n",
              "    box-shadow: 0 1px 2px rgba(60, 64, 67, 0.3), 0 1px 3px 1px rgba(60, 64, 67, 0.15);\n",
              "    fill: var(--button-hover-fill-color);\n",
              "  }\n",
              "\n",
              "  .colab-df-quickchart-complete:disabled,\n",
              "  .colab-df-quickchart-complete:disabled:hover {\n",
              "    background-color: var(--disabled-bg-color);\n",
              "    fill: var(--disabled-fill-color);\n",
              "    box-shadow: none;\n",
              "  }\n",
              "\n",
              "  .colab-df-spinner {\n",
              "    border: 2px solid var(--fill-color);\n",
              "    border-color: transparent;\n",
              "    border-bottom-color: var(--fill-color);\n",
              "    animation:\n",
              "      spin 1s steps(1) infinite;\n",
              "  }\n",
              "\n",
              "  @keyframes spin {\n",
              "    0% {\n",
              "      border-color: transparent;\n",
              "      border-bottom-color: var(--fill-color);\n",
              "      border-left-color: var(--fill-color);\n",
              "    }\n",
              "    20% {\n",
              "      border-color: transparent;\n",
              "      border-left-color: var(--fill-color);\n",
              "      border-top-color: var(--fill-color);\n",
              "    }\n",
              "    30% {\n",
              "      border-color: transparent;\n",
              "      border-left-color: var(--fill-color);\n",
              "      border-top-color: var(--fill-color);\n",
              "      border-right-color: var(--fill-color);\n",
              "    }\n",
              "    40% {\n",
              "      border-color: transparent;\n",
              "      border-right-color: var(--fill-color);\n",
              "      border-top-color: var(--fill-color);\n",
              "    }\n",
              "    60% {\n",
              "      border-color: transparent;\n",
              "      border-right-color: var(--fill-color);\n",
              "    }\n",
              "    80% {\n",
              "      border-color: transparent;\n",
              "      border-right-color: var(--fill-color);\n",
              "      border-bottom-color: var(--fill-color);\n",
              "    }\n",
              "    90% {\n",
              "      border-color: transparent;\n",
              "      border-bottom-color: var(--fill-color);\n",
              "    }\n",
              "  }\n",
              "</style>\n",
              "\n",
              "  <script>\n",
              "    async function quickchart(key) {\n",
              "      const quickchartButtonEl =\n",
              "        document.querySelector('#' + key + ' button');\n",
              "      quickchartButtonEl.disabled = true;  // To prevent multiple clicks.\n",
              "      quickchartButtonEl.classList.add('colab-df-spinner');\n",
              "      try {\n",
              "        const charts = await google.colab.kernel.invokeFunction(\n",
              "            'suggestCharts', [key], {});\n",
              "      } catch (error) {\n",
              "        console.error('Error during call to suggestCharts:', error);\n",
              "      }\n",
              "      quickchartButtonEl.classList.remove('colab-df-spinner');\n",
              "      quickchartButtonEl.classList.add('colab-df-quickchart-complete');\n",
              "    }\n",
              "    (() => {\n",
              "      let quickchartButtonEl =\n",
              "        document.querySelector('#df-2d95b32c-811a-4617-8b75-3220e5aaf229 button');\n",
              "      quickchartButtonEl.style.display =\n",
              "        google.colab.kernel.accessAllowed ? 'block' : 'none';\n",
              "    })();\n",
              "  </script>\n",
              "</div>\n",
              "    </div>\n",
              "  </div>\n"
            ]
          },
          "metadata": {},
          "execution_count": 50
        }
      ]
    },
    {
      "cell_type": "code",
      "source": [
        "results_default.to_csv((filepath+\"25_softmax.csv\"),index=False)"
      ],
      "metadata": {
        "id": "6h3FAVP8c0A3"
      },
      "execution_count": null,
      "outputs": []
    },
    {
      "cell_type": "markdown",
      "source": [
        "**16 bit**"
      ],
      "metadata": {
        "id": "jpxVyxMGefBb"
      }
    },
    {
      "cell_type": "code",
      "source": [
        "model = tf.keras.models.load_model(path)\n"
      ],
      "metadata": {
        "id": "LlVMMwy1O-E4"
      },
      "execution_count": null,
      "outputs": []
    },
    {
      "cell_type": "code",
      "source": [
        "filepath = '/content/quantised_16_bit/'\n",
        "!mkdir '/content/quantised_16_bit/'"
      ],
      "metadata": {
        "id": "PIrx8SJkaK2g"
      },
      "execution_count": null,
      "outputs": []
    },
    {
      "cell_type": "code",
      "source": [
        "converter = tf.lite.TFLiteConverter.from_keras_model(model)\n",
        "converter.optimizations = [tf.lite.Optimize.DEFAULT]\n",
        "converter.optimizations = [tf.lite.Optimize.DEFAULT]\n",
        "converter.target_spec.supported_types = [tf.float16]\n",
        "tflite_quant_model = converter.convert()\n",
        "#saving converted model in \"converted_quant_model.tflite\" file\n",
        "open((filepath +\"16_bit.tflite\"), \"wb\").write(tflite_quant_model)"
      ],
      "metadata": {
        "colab": {
          "base_uri": "https://localhost:8080/"
        },
        "id": "XVkn8lg5cWIa",
        "outputId": "20824fb0-1f41-4d1d-da49-53b7300ad4a4"
      },
      "execution_count": null,
      "outputs": [
        {
          "output_type": "execute_result",
          "data": {
            "text/plain": [
              "659204"
            ]
          },
          "metadata": {},
          "execution_count": 54
        }
      ]
    },
    {
      "cell_type": "code",
      "source": [
        "import os\n",
        "print(\"Float model in Mb:\", os.path.getsize(filepath +\"16_bit.tflite\") / float(2**20))\n",
        "print(\"Quantized model in Mb:\", os.path.getsize(filepath +\"16_bit.tflite\") / float(2**20))\n",
        "print(\"Compression ratio:\", os.path.getsize(filepath +\"16_bit.tflite\")/os.path.getsize(path))"
      ],
      "metadata": {
        "colab": {
          "base_uri": "https://localhost:8080/"
        },
        "id": "6S89XWCTbGHF",
        "outputId": "54d8bd9f-a975-4e4b-b472-36994d4fb680"
      },
      "execution_count": null,
      "outputs": [
        {
          "output_type": "stream",
          "name": "stdout",
          "text": [
            "Float model in Mb: 0.6286659240722656\n",
            "Quantized model in Mb: 0.6286659240722656\n",
            "Compression ratio: 160.9384765625\n"
          ]
        }
      ]
    },
    {
      "cell_type": "code",
      "source": [
        "interpreter = tf.lite.Interpreter(model_path=filepath +\"16_bit.tflite\")\n",
        "interpreter.allocate_tensors()\n",
        "# Get input and output tensors.\n",
        "input_details = interpreter.get_input_details()\n",
        "output_details = interpreter.get_output_details()\n",
        "# Test model on some input data.\n",
        "input_shape = input_details[0]['shape']\n",
        "acc=0\n",
        "results_16_b = pd.DataFrame()\n",
        "for i in range(len(x_test)):\n",
        "    input_data = x_test[i].reshape(input_shape)\n",
        "    interpreter.set_tensor(input_details[0]['index'], input_data)\n",
        "    interpreter.invoke()\n",
        "    output_data = interpreter.get_tensor(output_details[0]['index'])\n",
        "    row = pd.DataFrame(output_data)\n",
        "    results_16_b = pd.concat([results_16_b, row], ignore_index=True)\n",
        "    if(np.argmax(output_data) == np.argmax(y_test[i])):\n",
        "        acc+=1\n",
        "acc = acc/len(x_test)\n",
        "print(acc*100)"
      ],
      "metadata": {
        "colab": {
          "base_uri": "https://localhost:8080/"
        },
        "id": "5dGGvQ6SZlyV",
        "outputId": "f788048b-44c5-448c-d433-5b1967a2549b"
      },
      "execution_count": null,
      "outputs": [
        {
          "output_type": "stream",
          "name": "stdout",
          "text": [
            "32.68\n"
          ]
        }
      ]
    },
    {
      "cell_type": "code",
      "source": [
        "results_16_b"
      ],
      "metadata": {
        "colab": {
          "base_uri": "https://localhost:8080/",
          "height": 617
        },
        "id": "fm8vJ_qrfyYt",
        "outputId": "0e3b774b-3398-432a-cedf-ea6a4a909603"
      },
      "execution_count": null,
      "outputs": [
        {
          "output_type": "execute_result",
          "data": {
            "text/plain": [
              "                0             1             2             3             4   \\\n",
              "0     1.154083e-10  2.433531e-05  7.738088e-03  9.048959e-04  2.049274e-03   \n",
              "1     1.511638e-07  6.271142e-06  2.036370e-03  9.038667e-04  1.018601e-02   \n",
              "2     8.772491e-13  3.620785e-08  8.009392e-04  1.627400e-04  1.170393e-01   \n",
              "3     1.010227e-06  3.042602e-07  9.576094e-05  7.613872e-06  8.445079e-04   \n",
              "4     3.192942e-05  2.220893e-05  2.757205e-08  5.218703e-07  8.056850e-09   \n",
              "...            ...           ...           ...           ...           ...   \n",
              "9995  4.220821e-04  1.486664e-05  5.663338e-09  2.856021e-04  1.105136e-06   \n",
              "9996  3.122185e-12  5.658266e-10  2.787805e-06  2.386513e-04  2.302973e-03   \n",
              "9997  3.389526e-06  1.025101e-06  5.978344e-08  7.857775e-05  2.096892e-06   \n",
              "9998  1.307755e-07  1.672701e-10  6.470808e-05  3.589738e-03  1.837592e-03   \n",
              "9999  1.748420e-05  9.719647e-05  1.849093e-08  1.989087e-12  1.613180e-12   \n",
              "\n",
              "                5             6             7             8             9   \\\n",
              "0     8.322712e-05  1.297938e-06  4.698501e-06  2.371589e-04  1.635938e-05   \n",
              "1     3.003046e-06  4.659577e-05  2.116507e-06  1.129592e-07  1.728624e-05   \n",
              "2     1.445138e-11  1.792301e-07  1.092387e-09  8.538181e-07  2.417128e-08   \n",
              "3     1.622459e-04  2.218663e-07  5.444295e-10  1.512837e-08  2.928873e-07   \n",
              "4     1.248341e-06  2.633384e-11  2.303849e-07  2.973946e-08  9.021240e-07   \n",
              "...            ...           ...           ...           ...           ...   \n",
              "9995  2.435163e-12  9.642803e-04  5.645821e-06  8.174762e-08  1.495787e-05   \n",
              "9996  2.137102e-09  6.775127e-06  5.443222e-07  1.570331e-13  8.105628e-11   \n",
              "9997  2.839526e-06  2.631616e-02  6.525319e-04  3.136982e-07  5.859233e-07   \n",
              "9998  2.394744e-05  2.565926e-06  1.371135e-06  3.304201e-04  5.238783e-06   \n",
              "9999  1.021261e-13  2.205082e-08  2.902467e-10  7.811764e-11  3.216153e-10   \n",
              "\n",
              "      ...            90            91            92            93  \\\n",
              "0     ...  3.856127e-03  9.153683e-03  5.609628e-07  1.540727e-04   \n",
              "1     ...  7.205716e-04  1.075639e-03  4.814690e-07  1.739945e-05   \n",
              "2     ...  2.031927e-04  1.541040e-07  3.156807e-08  1.824085e-03   \n",
              "3     ...  5.053560e-08  4.297567e-02  1.222905e-06  2.360409e-04   \n",
              "4     ...  4.730752e-06  1.954864e-08  7.331705e-07  6.909420e-09   \n",
              "...   ...           ...           ...           ...           ...   \n",
              "9995  ...  3.973597e-09  1.754184e-07  1.572315e-03  1.281827e-04   \n",
              "9996  ...  1.957740e-06  1.044687e-06  3.042427e-09  1.699808e-06   \n",
              "9997  ...  1.129272e-03  4.489306e-04  2.854806e-02  1.122509e-05   \n",
              "9998  ...  1.493052e-04  7.382702e-05  4.228802e-06  1.316629e-04   \n",
              "9999  ...  1.511901e-07  1.659484e-08  3.400640e-04  1.731787e-07   \n",
              "\n",
              "                94            95            96            97            98  \\\n",
              "0     7.136915e-09  1.368164e-03  1.370599e-06  7.105721e-05  1.372787e-03   \n",
              "1     3.767681e-08  1.567135e-06  2.052840e-04  2.052322e-02  2.748728e-05   \n",
              "2     5.448002e-09  3.594116e-04  4.366271e-08  5.042875e-06  8.282229e-04   \n",
              "3     2.946462e-12  2.158532e-07  3.490223e-09  1.202043e-03  2.716021e-03   \n",
              "4     8.526355e-08  1.816685e-12  7.951930e-05  1.952529e-11  1.267734e-07   \n",
              "...            ...           ...           ...           ...           ...   \n",
              "9995  9.474374e-14  1.399717e-09  3.313992e-05  1.678192e-07  5.898331e-07   \n",
              "9996  5.082691e-13  4.071443e-07  6.920533e-11  2.791522e-06  2.390137e-06   \n",
              "9997  1.665750e-11  1.605582e-07  6.704971e-05  1.408988e-03  4.915388e-06   \n",
              "9998  2.760068e-08  4.071098e-10  4.534271e-07  6.869188e-01  4.514720e-05   \n",
              "9999  1.685152e-18  1.855627e-18  7.269348e-11  2.564598e-16  4.975847e-07   \n",
              "\n",
              "                99  \n",
              "0     1.526903e-03  \n",
              "1     3.273806e-07  \n",
              "2     1.213957e-04  \n",
              "3     9.927994e-06  \n",
              "4     6.001258e-07  \n",
              "...            ...  \n",
              "9995  7.323881e-05  \n",
              "9996  1.639048e-06  \n",
              "9997  3.812584e-02  \n",
              "9998  9.603621e-03  \n",
              "9999  1.613177e-06  \n",
              "\n",
              "[10000 rows x 100 columns]"
            ],
            "text/html": [
              "\n",
              "  <div id=\"df-fb89d87c-72b0-4b8c-9f59-3db599a52362\" class=\"colab-df-container\">\n",
              "    <div>\n",
              "<style scoped>\n",
              "    .dataframe tbody tr th:only-of-type {\n",
              "        vertical-align: middle;\n",
              "    }\n",
              "\n",
              "    .dataframe tbody tr th {\n",
              "        vertical-align: top;\n",
              "    }\n",
              "\n",
              "    .dataframe thead th {\n",
              "        text-align: right;\n",
              "    }\n",
              "</style>\n",
              "<table border=\"1\" class=\"dataframe\">\n",
              "  <thead>\n",
              "    <tr style=\"text-align: right;\">\n",
              "      <th></th>\n",
              "      <th>0</th>\n",
              "      <th>1</th>\n",
              "      <th>2</th>\n",
              "      <th>3</th>\n",
              "      <th>4</th>\n",
              "      <th>5</th>\n",
              "      <th>6</th>\n",
              "      <th>7</th>\n",
              "      <th>8</th>\n",
              "      <th>9</th>\n",
              "      <th>...</th>\n",
              "      <th>90</th>\n",
              "      <th>91</th>\n",
              "      <th>92</th>\n",
              "      <th>93</th>\n",
              "      <th>94</th>\n",
              "      <th>95</th>\n",
              "      <th>96</th>\n",
              "      <th>97</th>\n",
              "      <th>98</th>\n",
              "      <th>99</th>\n",
              "    </tr>\n",
              "  </thead>\n",
              "  <tbody>\n",
              "    <tr>\n",
              "      <th>0</th>\n",
              "      <td>1.154083e-10</td>\n",
              "      <td>2.433531e-05</td>\n",
              "      <td>7.738088e-03</td>\n",
              "      <td>9.048959e-04</td>\n",
              "      <td>2.049274e-03</td>\n",
              "      <td>8.322712e-05</td>\n",
              "      <td>1.297938e-06</td>\n",
              "      <td>4.698501e-06</td>\n",
              "      <td>2.371589e-04</td>\n",
              "      <td>1.635938e-05</td>\n",
              "      <td>...</td>\n",
              "      <td>3.856127e-03</td>\n",
              "      <td>9.153683e-03</td>\n",
              "      <td>5.609628e-07</td>\n",
              "      <td>1.540727e-04</td>\n",
              "      <td>7.136915e-09</td>\n",
              "      <td>1.368164e-03</td>\n",
              "      <td>1.370599e-06</td>\n",
              "      <td>7.105721e-05</td>\n",
              "      <td>1.372787e-03</td>\n",
              "      <td>1.526903e-03</td>\n",
              "    </tr>\n",
              "    <tr>\n",
              "      <th>1</th>\n",
              "      <td>1.511638e-07</td>\n",
              "      <td>6.271142e-06</td>\n",
              "      <td>2.036370e-03</td>\n",
              "      <td>9.038667e-04</td>\n",
              "      <td>1.018601e-02</td>\n",
              "      <td>3.003046e-06</td>\n",
              "      <td>4.659577e-05</td>\n",
              "      <td>2.116507e-06</td>\n",
              "      <td>1.129592e-07</td>\n",
              "      <td>1.728624e-05</td>\n",
              "      <td>...</td>\n",
              "      <td>7.205716e-04</td>\n",
              "      <td>1.075639e-03</td>\n",
              "      <td>4.814690e-07</td>\n",
              "      <td>1.739945e-05</td>\n",
              "      <td>3.767681e-08</td>\n",
              "      <td>1.567135e-06</td>\n",
              "      <td>2.052840e-04</td>\n",
              "      <td>2.052322e-02</td>\n",
              "      <td>2.748728e-05</td>\n",
              "      <td>3.273806e-07</td>\n",
              "    </tr>\n",
              "    <tr>\n",
              "      <th>2</th>\n",
              "      <td>8.772491e-13</td>\n",
              "      <td>3.620785e-08</td>\n",
              "      <td>8.009392e-04</td>\n",
              "      <td>1.627400e-04</td>\n",
              "      <td>1.170393e-01</td>\n",
              "      <td>1.445138e-11</td>\n",
              "      <td>1.792301e-07</td>\n",
              "      <td>1.092387e-09</td>\n",
              "      <td>8.538181e-07</td>\n",
              "      <td>2.417128e-08</td>\n",
              "      <td>...</td>\n",
              "      <td>2.031927e-04</td>\n",
              "      <td>1.541040e-07</td>\n",
              "      <td>3.156807e-08</td>\n",
              "      <td>1.824085e-03</td>\n",
              "      <td>5.448002e-09</td>\n",
              "      <td>3.594116e-04</td>\n",
              "      <td>4.366271e-08</td>\n",
              "      <td>5.042875e-06</td>\n",
              "      <td>8.282229e-04</td>\n",
              "      <td>1.213957e-04</td>\n",
              "    </tr>\n",
              "    <tr>\n",
              "      <th>3</th>\n",
              "      <td>1.010227e-06</td>\n",
              "      <td>3.042602e-07</td>\n",
              "      <td>9.576094e-05</td>\n",
              "      <td>7.613872e-06</td>\n",
              "      <td>8.445079e-04</td>\n",
              "      <td>1.622459e-04</td>\n",
              "      <td>2.218663e-07</td>\n",
              "      <td>5.444295e-10</td>\n",
              "      <td>1.512837e-08</td>\n",
              "      <td>2.928873e-07</td>\n",
              "      <td>...</td>\n",
              "      <td>5.053560e-08</td>\n",
              "      <td>4.297567e-02</td>\n",
              "      <td>1.222905e-06</td>\n",
              "      <td>2.360409e-04</td>\n",
              "      <td>2.946462e-12</td>\n",
              "      <td>2.158532e-07</td>\n",
              "      <td>3.490223e-09</td>\n",
              "      <td>1.202043e-03</td>\n",
              "      <td>2.716021e-03</td>\n",
              "      <td>9.927994e-06</td>\n",
              "    </tr>\n",
              "    <tr>\n",
              "      <th>4</th>\n",
              "      <td>3.192942e-05</td>\n",
              "      <td>2.220893e-05</td>\n",
              "      <td>2.757205e-08</td>\n",
              "      <td>5.218703e-07</td>\n",
              "      <td>8.056850e-09</td>\n",
              "      <td>1.248341e-06</td>\n",
              "      <td>2.633384e-11</td>\n",
              "      <td>2.303849e-07</td>\n",
              "      <td>2.973946e-08</td>\n",
              "      <td>9.021240e-07</td>\n",
              "      <td>...</td>\n",
              "      <td>4.730752e-06</td>\n",
              "      <td>1.954864e-08</td>\n",
              "      <td>7.331705e-07</td>\n",
              "      <td>6.909420e-09</td>\n",
              "      <td>8.526355e-08</td>\n",
              "      <td>1.816685e-12</td>\n",
              "      <td>7.951930e-05</td>\n",
              "      <td>1.952529e-11</td>\n",
              "      <td>1.267734e-07</td>\n",
              "      <td>6.001258e-07</td>\n",
              "    </tr>\n",
              "    <tr>\n",
              "      <th>...</th>\n",
              "      <td>...</td>\n",
              "      <td>...</td>\n",
              "      <td>...</td>\n",
              "      <td>...</td>\n",
              "      <td>...</td>\n",
              "      <td>...</td>\n",
              "      <td>...</td>\n",
              "      <td>...</td>\n",
              "      <td>...</td>\n",
              "      <td>...</td>\n",
              "      <td>...</td>\n",
              "      <td>...</td>\n",
              "      <td>...</td>\n",
              "      <td>...</td>\n",
              "      <td>...</td>\n",
              "      <td>...</td>\n",
              "      <td>...</td>\n",
              "      <td>...</td>\n",
              "      <td>...</td>\n",
              "      <td>...</td>\n",
              "      <td>...</td>\n",
              "    </tr>\n",
              "    <tr>\n",
              "      <th>9995</th>\n",
              "      <td>4.220821e-04</td>\n",
              "      <td>1.486664e-05</td>\n",
              "      <td>5.663338e-09</td>\n",
              "      <td>2.856021e-04</td>\n",
              "      <td>1.105136e-06</td>\n",
              "      <td>2.435163e-12</td>\n",
              "      <td>9.642803e-04</td>\n",
              "      <td>5.645821e-06</td>\n",
              "      <td>8.174762e-08</td>\n",
              "      <td>1.495787e-05</td>\n",
              "      <td>...</td>\n",
              "      <td>3.973597e-09</td>\n",
              "      <td>1.754184e-07</td>\n",
              "      <td>1.572315e-03</td>\n",
              "      <td>1.281827e-04</td>\n",
              "      <td>9.474374e-14</td>\n",
              "      <td>1.399717e-09</td>\n",
              "      <td>3.313992e-05</td>\n",
              "      <td>1.678192e-07</td>\n",
              "      <td>5.898331e-07</td>\n",
              "      <td>7.323881e-05</td>\n",
              "    </tr>\n",
              "    <tr>\n",
              "      <th>9996</th>\n",
              "      <td>3.122185e-12</td>\n",
              "      <td>5.658266e-10</td>\n",
              "      <td>2.787805e-06</td>\n",
              "      <td>2.386513e-04</td>\n",
              "      <td>2.302973e-03</td>\n",
              "      <td>2.137102e-09</td>\n",
              "      <td>6.775127e-06</td>\n",
              "      <td>5.443222e-07</td>\n",
              "      <td>1.570331e-13</td>\n",
              "      <td>8.105628e-11</td>\n",
              "      <td>...</td>\n",
              "      <td>1.957740e-06</td>\n",
              "      <td>1.044687e-06</td>\n",
              "      <td>3.042427e-09</td>\n",
              "      <td>1.699808e-06</td>\n",
              "      <td>5.082691e-13</td>\n",
              "      <td>4.071443e-07</td>\n",
              "      <td>6.920533e-11</td>\n",
              "      <td>2.791522e-06</td>\n",
              "      <td>2.390137e-06</td>\n",
              "      <td>1.639048e-06</td>\n",
              "    </tr>\n",
              "    <tr>\n",
              "      <th>9997</th>\n",
              "      <td>3.389526e-06</td>\n",
              "      <td>1.025101e-06</td>\n",
              "      <td>5.978344e-08</td>\n",
              "      <td>7.857775e-05</td>\n",
              "      <td>2.096892e-06</td>\n",
              "      <td>2.839526e-06</td>\n",
              "      <td>2.631616e-02</td>\n",
              "      <td>6.525319e-04</td>\n",
              "      <td>3.136982e-07</td>\n",
              "      <td>5.859233e-07</td>\n",
              "      <td>...</td>\n",
              "      <td>1.129272e-03</td>\n",
              "      <td>4.489306e-04</td>\n",
              "      <td>2.854806e-02</td>\n",
              "      <td>1.122509e-05</td>\n",
              "      <td>1.665750e-11</td>\n",
              "      <td>1.605582e-07</td>\n",
              "      <td>6.704971e-05</td>\n",
              "      <td>1.408988e-03</td>\n",
              "      <td>4.915388e-06</td>\n",
              "      <td>3.812584e-02</td>\n",
              "    </tr>\n",
              "    <tr>\n",
              "      <th>9998</th>\n",
              "      <td>1.307755e-07</td>\n",
              "      <td>1.672701e-10</td>\n",
              "      <td>6.470808e-05</td>\n",
              "      <td>3.589738e-03</td>\n",
              "      <td>1.837592e-03</td>\n",
              "      <td>2.394744e-05</td>\n",
              "      <td>2.565926e-06</td>\n",
              "      <td>1.371135e-06</td>\n",
              "      <td>3.304201e-04</td>\n",
              "      <td>5.238783e-06</td>\n",
              "      <td>...</td>\n",
              "      <td>1.493052e-04</td>\n",
              "      <td>7.382702e-05</td>\n",
              "      <td>4.228802e-06</td>\n",
              "      <td>1.316629e-04</td>\n",
              "      <td>2.760068e-08</td>\n",
              "      <td>4.071098e-10</td>\n",
              "      <td>4.534271e-07</td>\n",
              "      <td>6.869188e-01</td>\n",
              "      <td>4.514720e-05</td>\n",
              "      <td>9.603621e-03</td>\n",
              "    </tr>\n",
              "    <tr>\n",
              "      <th>9999</th>\n",
              "      <td>1.748420e-05</td>\n",
              "      <td>9.719647e-05</td>\n",
              "      <td>1.849093e-08</td>\n",
              "      <td>1.989087e-12</td>\n",
              "      <td>1.613180e-12</td>\n",
              "      <td>1.021261e-13</td>\n",
              "      <td>2.205082e-08</td>\n",
              "      <td>2.902467e-10</td>\n",
              "      <td>7.811764e-11</td>\n",
              "      <td>3.216153e-10</td>\n",
              "      <td>...</td>\n",
              "      <td>1.511901e-07</td>\n",
              "      <td>1.659484e-08</td>\n",
              "      <td>3.400640e-04</td>\n",
              "      <td>1.731787e-07</td>\n",
              "      <td>1.685152e-18</td>\n",
              "      <td>1.855627e-18</td>\n",
              "      <td>7.269348e-11</td>\n",
              "      <td>2.564598e-16</td>\n",
              "      <td>4.975847e-07</td>\n",
              "      <td>1.613177e-06</td>\n",
              "    </tr>\n",
              "  </tbody>\n",
              "</table>\n",
              "<p>10000 rows × 100 columns</p>\n",
              "</div>\n",
              "    <div class=\"colab-df-buttons\">\n",
              "\n",
              "  <div class=\"colab-df-container\">\n",
              "    <button class=\"colab-df-convert\" onclick=\"convertToInteractive('df-fb89d87c-72b0-4b8c-9f59-3db599a52362')\"\n",
              "            title=\"Convert this dataframe to an interactive table.\"\n",
              "            style=\"display:none;\">\n",
              "\n",
              "  <svg xmlns=\"http://www.w3.org/2000/svg\" height=\"24px\" viewBox=\"0 -960 960 960\">\n",
              "    <path d=\"M120-120v-720h720v720H120Zm60-500h600v-160H180v160Zm220 220h160v-160H400v160Zm0 220h160v-160H400v160ZM180-400h160v-160H180v160Zm440 0h160v-160H620v160ZM180-180h160v-160H180v160Zm440 0h160v-160H620v160Z\"/>\n",
              "  </svg>\n",
              "    </button>\n",
              "\n",
              "  <style>\n",
              "    .colab-df-container {\n",
              "      display:flex;\n",
              "      gap: 12px;\n",
              "    }\n",
              "\n",
              "    .colab-df-convert {\n",
              "      background-color: #E8F0FE;\n",
              "      border: none;\n",
              "      border-radius: 50%;\n",
              "      cursor: pointer;\n",
              "      display: none;\n",
              "      fill: #1967D2;\n",
              "      height: 32px;\n",
              "      padding: 0 0 0 0;\n",
              "      width: 32px;\n",
              "    }\n",
              "\n",
              "    .colab-df-convert:hover {\n",
              "      background-color: #E2EBFA;\n",
              "      box-shadow: 0px 1px 2px rgba(60, 64, 67, 0.3), 0px 1px 3px 1px rgba(60, 64, 67, 0.15);\n",
              "      fill: #174EA6;\n",
              "    }\n",
              "\n",
              "    .colab-df-buttons div {\n",
              "      margin-bottom: 4px;\n",
              "    }\n",
              "\n",
              "    [theme=dark] .colab-df-convert {\n",
              "      background-color: #3B4455;\n",
              "      fill: #D2E3FC;\n",
              "    }\n",
              "\n",
              "    [theme=dark] .colab-df-convert:hover {\n",
              "      background-color: #434B5C;\n",
              "      box-shadow: 0px 1px 3px 1px rgba(0, 0, 0, 0.15);\n",
              "      filter: drop-shadow(0px 1px 2px rgba(0, 0, 0, 0.3));\n",
              "      fill: #FFFFFF;\n",
              "    }\n",
              "  </style>\n",
              "\n",
              "    <script>\n",
              "      const buttonEl =\n",
              "        document.querySelector('#df-fb89d87c-72b0-4b8c-9f59-3db599a52362 button.colab-df-convert');\n",
              "      buttonEl.style.display =\n",
              "        google.colab.kernel.accessAllowed ? 'block' : 'none';\n",
              "\n",
              "      async function convertToInteractive(key) {\n",
              "        const element = document.querySelector('#df-fb89d87c-72b0-4b8c-9f59-3db599a52362');\n",
              "        const dataTable =\n",
              "          await google.colab.kernel.invokeFunction('convertToInteractive',\n",
              "                                                    [key], {});\n",
              "        if (!dataTable) return;\n",
              "\n",
              "        const docLinkHtml = 'Like what you see? Visit the ' +\n",
              "          '<a target=\"_blank\" href=https://colab.research.google.com/notebooks/data_table.ipynb>data table notebook</a>'\n",
              "          + ' to learn more about interactive tables.';\n",
              "        element.innerHTML = '';\n",
              "        dataTable['output_type'] = 'display_data';\n",
              "        await google.colab.output.renderOutput(dataTable, element);\n",
              "        const docLink = document.createElement('div');\n",
              "        docLink.innerHTML = docLinkHtml;\n",
              "        element.appendChild(docLink);\n",
              "      }\n",
              "    </script>\n",
              "  </div>\n",
              "\n",
              "\n",
              "<div id=\"df-30213d6a-d5de-4b36-be21-1e6dead578b2\">\n",
              "  <button class=\"colab-df-quickchart\" onclick=\"quickchart('df-30213d6a-d5de-4b36-be21-1e6dead578b2')\"\n",
              "            title=\"Suggest charts\"\n",
              "            style=\"display:none;\">\n",
              "\n",
              "<svg xmlns=\"http://www.w3.org/2000/svg\" height=\"24px\"viewBox=\"0 0 24 24\"\n",
              "     width=\"24px\">\n",
              "    <g>\n",
              "        <path d=\"M19 3H5c-1.1 0-2 .9-2 2v14c0 1.1.9 2 2 2h14c1.1 0 2-.9 2-2V5c0-1.1-.9-2-2-2zM9 17H7v-7h2v7zm4 0h-2V7h2v10zm4 0h-2v-4h2v4z\"/>\n",
              "    </g>\n",
              "</svg>\n",
              "  </button>\n",
              "\n",
              "<style>\n",
              "  .colab-df-quickchart {\n",
              "      --bg-color: #E8F0FE;\n",
              "      --fill-color: #1967D2;\n",
              "      --hover-bg-color: #E2EBFA;\n",
              "      --hover-fill-color: #174EA6;\n",
              "      --disabled-fill-color: #AAA;\n",
              "      --disabled-bg-color: #DDD;\n",
              "  }\n",
              "\n",
              "  [theme=dark] .colab-df-quickchart {\n",
              "      --bg-color: #3B4455;\n",
              "      --fill-color: #D2E3FC;\n",
              "      --hover-bg-color: #434B5C;\n",
              "      --hover-fill-color: #FFFFFF;\n",
              "      --disabled-bg-color: #3B4455;\n",
              "      --disabled-fill-color: #666;\n",
              "  }\n",
              "\n",
              "  .colab-df-quickchart {\n",
              "    background-color: var(--bg-color);\n",
              "    border: none;\n",
              "    border-radius: 50%;\n",
              "    cursor: pointer;\n",
              "    display: none;\n",
              "    fill: var(--fill-color);\n",
              "    height: 32px;\n",
              "    padding: 0;\n",
              "    width: 32px;\n",
              "  }\n",
              "\n",
              "  .colab-df-quickchart:hover {\n",
              "    background-color: var(--hover-bg-color);\n",
              "    box-shadow: 0 1px 2px rgba(60, 64, 67, 0.3), 0 1px 3px 1px rgba(60, 64, 67, 0.15);\n",
              "    fill: var(--button-hover-fill-color);\n",
              "  }\n",
              "\n",
              "  .colab-df-quickchart-complete:disabled,\n",
              "  .colab-df-quickchart-complete:disabled:hover {\n",
              "    background-color: var(--disabled-bg-color);\n",
              "    fill: var(--disabled-fill-color);\n",
              "    box-shadow: none;\n",
              "  }\n",
              "\n",
              "  .colab-df-spinner {\n",
              "    border: 2px solid var(--fill-color);\n",
              "    border-color: transparent;\n",
              "    border-bottom-color: var(--fill-color);\n",
              "    animation:\n",
              "      spin 1s steps(1) infinite;\n",
              "  }\n",
              "\n",
              "  @keyframes spin {\n",
              "    0% {\n",
              "      border-color: transparent;\n",
              "      border-bottom-color: var(--fill-color);\n",
              "      border-left-color: var(--fill-color);\n",
              "    }\n",
              "    20% {\n",
              "      border-color: transparent;\n",
              "      border-left-color: var(--fill-color);\n",
              "      border-top-color: var(--fill-color);\n",
              "    }\n",
              "    30% {\n",
              "      border-color: transparent;\n",
              "      border-left-color: var(--fill-color);\n",
              "      border-top-color: var(--fill-color);\n",
              "      border-right-color: var(--fill-color);\n",
              "    }\n",
              "    40% {\n",
              "      border-color: transparent;\n",
              "      border-right-color: var(--fill-color);\n",
              "      border-top-color: var(--fill-color);\n",
              "    }\n",
              "    60% {\n",
              "      border-color: transparent;\n",
              "      border-right-color: var(--fill-color);\n",
              "    }\n",
              "    80% {\n",
              "      border-color: transparent;\n",
              "      border-right-color: var(--fill-color);\n",
              "      border-bottom-color: var(--fill-color);\n",
              "    }\n",
              "    90% {\n",
              "      border-color: transparent;\n",
              "      border-bottom-color: var(--fill-color);\n",
              "    }\n",
              "  }\n",
              "</style>\n",
              "\n",
              "  <script>\n",
              "    async function quickchart(key) {\n",
              "      const quickchartButtonEl =\n",
              "        document.querySelector('#' + key + ' button');\n",
              "      quickchartButtonEl.disabled = true;  // To prevent multiple clicks.\n",
              "      quickchartButtonEl.classList.add('colab-df-spinner');\n",
              "      try {\n",
              "        const charts = await google.colab.kernel.invokeFunction(\n",
              "            'suggestCharts', [key], {});\n",
              "      } catch (error) {\n",
              "        console.error('Error during call to suggestCharts:', error);\n",
              "      }\n",
              "      quickchartButtonEl.classList.remove('colab-df-spinner');\n",
              "      quickchartButtonEl.classList.add('colab-df-quickchart-complete');\n",
              "    }\n",
              "    (() => {\n",
              "      let quickchartButtonEl =\n",
              "        document.querySelector('#df-30213d6a-d5de-4b36-be21-1e6dead578b2 button');\n",
              "      quickchartButtonEl.style.display =\n",
              "        google.colab.kernel.accessAllowed ? 'block' : 'none';\n",
              "    })();\n",
              "  </script>\n",
              "</div>\n",
              "    </div>\n",
              "  </div>\n"
            ]
          },
          "metadata": {},
          "execution_count": 57
        }
      ]
    },
    {
      "cell_type": "code",
      "source": [
        "results_16_b.to_csv(filepath +'25_softmax.csv',index =False)"
      ],
      "metadata": {
        "id": "3sYfcMpA0Ciz"
      },
      "execution_count": null,
      "outputs": []
    },
    {
      "cell_type": "markdown",
      "source": [
        "# Download Data"
      ],
      "metadata": {
        "id": "_sIXOiBbSgxM"
      }
    },
    {
      "cell_type": "code",
      "source": [
        "shutil.make_archive(\"quantised_16_bit\", 'zip', \"quantised_16_bit\")\n",
        "files.download(\"quantised_16_bit.zip\")"
      ],
      "metadata": {
        "colab": {
          "base_uri": "https://localhost:8080/",
          "height": 34
        },
        "id": "duQtnTAHSp03",
        "outputId": "0e948de2-a7a1-4188-c919-38c2e90bff56"
      },
      "execution_count": null,
      "outputs": [
        {
          "output_type": "display_data",
          "data": {
            "text/plain": [
              "<IPython.core.display.Javascript object>"
            ],
            "application/javascript": [
              "\n",
              "    async function download(id, filename, size) {\n",
              "      if (!google.colab.kernel.accessAllowed) {\n",
              "        return;\n",
              "      }\n",
              "      const div = document.createElement('div');\n",
              "      const label = document.createElement('label');\n",
              "      label.textContent = `Downloading \"${filename}\": `;\n",
              "      div.appendChild(label);\n",
              "      const progress = document.createElement('progress');\n",
              "      progress.max = size;\n",
              "      div.appendChild(progress);\n",
              "      document.body.appendChild(div);\n",
              "\n",
              "      const buffers = [];\n",
              "      let downloaded = 0;\n",
              "\n",
              "      const channel = await google.colab.kernel.comms.open(id);\n",
              "      // Send a message to notify the kernel that we're ready.\n",
              "      channel.send({})\n",
              "\n",
              "      for await (const message of channel.messages) {\n",
              "        // Send a message to notify the kernel that we're ready.\n",
              "        channel.send({})\n",
              "        if (message.buffers) {\n",
              "          for (const buffer of message.buffers) {\n",
              "            buffers.push(buffer);\n",
              "            downloaded += buffer.byteLength;\n",
              "            progress.value = downloaded;\n",
              "          }\n",
              "        }\n",
              "      }\n",
              "      const blob = new Blob(buffers, {type: 'application/binary'});\n",
              "      const a = document.createElement('a');\n",
              "      a.href = window.URL.createObjectURL(blob);\n",
              "      a.download = filename;\n",
              "      div.appendChild(a);\n",
              "      a.click();\n",
              "      div.remove();\n",
              "    }\n",
              "  "
            ]
          },
          "metadata": {}
        },
        {
          "output_type": "display_data",
          "data": {
            "text/plain": [
              "<IPython.core.display.Javascript object>"
            ],
            "application/javascript": [
              "download(\"download_640f21dd-4993-43b4-9cfe-91f3ff188836\", \"quantised_16_bit.zip\", 6122923)"
            ]
          },
          "metadata": {}
        }
      ]
    },
    {
      "cell_type": "code",
      "source": [
        "shutil.make_archive(\"quantised_8_bit\", 'zip', \"quantised_8_bit\")\n",
        "files.download(\"quantised_8_bit.zip\")"
      ],
      "metadata": {
        "colab": {
          "base_uri": "https://localhost:8080/",
          "height": 34
        },
        "id": "eWkTJRnsS6I1",
        "outputId": "b7c80601-b5ec-40ef-e4c3-b71e7e851f8c"
      },
      "execution_count": null,
      "outputs": [
        {
          "output_type": "display_data",
          "data": {
            "text/plain": [
              "<IPython.core.display.Javascript object>"
            ],
            "application/javascript": [
              "\n",
              "    async function download(id, filename, size) {\n",
              "      if (!google.colab.kernel.accessAllowed) {\n",
              "        return;\n",
              "      }\n",
              "      const div = document.createElement('div');\n",
              "      const label = document.createElement('label');\n",
              "      label.textContent = `Downloading \"${filename}\": `;\n",
              "      div.appendChild(label);\n",
              "      const progress = document.createElement('progress');\n",
              "      progress.max = size;\n",
              "      div.appendChild(progress);\n",
              "      document.body.appendChild(div);\n",
              "\n",
              "      const buffers = [];\n",
              "      let downloaded = 0;\n",
              "\n",
              "      const channel = await google.colab.kernel.comms.open(id);\n",
              "      // Send a message to notify the kernel that we're ready.\n",
              "      channel.send({})\n",
              "\n",
              "      for await (const message of channel.messages) {\n",
              "        // Send a message to notify the kernel that we're ready.\n",
              "        channel.send({})\n",
              "        if (message.buffers) {\n",
              "          for (const buffer of message.buffers) {\n",
              "            buffers.push(buffer);\n",
              "            downloaded += buffer.byteLength;\n",
              "            progress.value = downloaded;\n",
              "          }\n",
              "        }\n",
              "      }\n",
              "      const blob = new Blob(buffers, {type: 'application/binary'});\n",
              "      const a = document.createElement('a');\n",
              "      a.href = window.URL.createObjectURL(blob);\n",
              "      a.download = filename;\n",
              "      div.appendChild(a);\n",
              "      a.click();\n",
              "      div.remove();\n",
              "    }\n",
              "  "
            ]
          },
          "metadata": {}
        },
        {
          "output_type": "display_data",
          "data": {
            "text/plain": [
              "<IPython.core.display.Javascript object>"
            ],
            "application/javascript": [
              "download(\"download_5db7d8b1-dded-442d-864a-4664583de34b\", \"quantised_8_bit.zip\", 5753005)"
            ]
          },
          "metadata": {}
        }
      ]
    }
  ]
}