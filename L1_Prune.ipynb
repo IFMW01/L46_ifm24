{
  "nbformat": 4,
  "nbformat_minor": 0,
  "metadata": {
    "colab": {
      "provenance": [],
      "gpuType": "T4"
    },
    "kernelspec": {
      "name": "python3",
      "display_name": "Python 3"
    },
    "language_info": {
      "name": "python"
    },
    "accelerator": "GPU"
  },
  "cells": [
    {
      "cell_type": "code",
      "source": [
        "import tensorflow as tf\n",
        "import keras\n",
        "from keras import layers\n",
        "import numpy as np\n",
        "import pandas as pd\n",
        "from sklearn.decomposition import PCA\n",
        "from sklearn.preprocessing import StandardScaler\n",
        "import matplotlib.pyplot as plt\n",
        "from sklearn.manifold import TSNE\n",
        "!pip install tensorflow-model-optimization\n",
        "from tensorflow_model_optimization.python.core.sparsity.keras import prune, pruning_callbacks\n",
        "import tensorflow_model_optimization as tfmot\n",
        "from tensorflow_model_optimization.sparsity import keras as sparsity\n",
        "from tensorflow.keras.models import load_model\n",
        "from google.colab import files\n",
        "import shutil\n",
        "import gc\n",
        "from keras.datasets import cifar10\n",
        "from keras.datasets import cifar100\n",
        "from keras.datasets import mnist\n",
        "from tensorflow_model_optimization.python.core.keras import metrics\n",
        "from tensorflow_model_optimization.python.core.sparsity.keras import pruning_schedule as pruning_sched\n",
        "from tensorflow_model_optimization.python.core.sparsity.keras import pruning_wrapper\n",
        "\n",
        "\n",
        "np.random.seed(42)\n",
        "tf.random.set_seed(42)"
      ],
      "metadata": {
        "id": "g5UR0O-BbO19",
        "colab": {
          "base_uri": "https://localhost:8080/"
        },
        "outputId": "28c1ab57-e4ed-4ccd-87c2-5ad34e8369e1"
      },
      "execution_count": null,
      "outputs": [
        {
          "output_type": "stream",
          "name": "stdout",
          "text": [
            "Collecting tensorflow-model-optimization\n",
            "  Downloading tensorflow_model_optimization-0.7.5-py2.py3-none-any.whl (241 kB)\n",
            "\u001b[?25l     \u001b[90m━━━━━━━━━━━━━━━━━━━━━━━━━━━━━━━━━━━━━━━━\u001b[0m \u001b[32m0.0/241.2 kB\u001b[0m \u001b[31m?\u001b[0m eta \u001b[36m-:--:--\u001b[0m\r\u001b[2K     \u001b[91m━━━━━━━━━━━━━━━━━━━━━━━━━━━━━━━━\u001b[0m\u001b[90m╺\u001b[0m\u001b[90m━━━━━━━\u001b[0m \u001b[32m194.6/241.2 kB\u001b[0m \u001b[31m5.5 MB/s\u001b[0m eta \u001b[36m0:00:01\u001b[0m\r\u001b[2K     \u001b[90m━━━━━━━━━━━━━━━━━━━━━━━━━━━━━━━━━━━━━━━━\u001b[0m \u001b[32m241.2/241.2 kB\u001b[0m \u001b[31m5.1 MB/s\u001b[0m eta \u001b[36m0:00:00\u001b[0m\n",
            "\u001b[?25hRequirement already satisfied: absl-py~=1.2 in /usr/local/lib/python3.10/dist-packages (from tensorflow-model-optimization) (1.4.0)\n",
            "Requirement already satisfied: dm-tree~=0.1.1 in /usr/local/lib/python3.10/dist-packages (from tensorflow-model-optimization) (0.1.8)\n",
            "Requirement already satisfied: numpy~=1.23 in /usr/local/lib/python3.10/dist-packages (from tensorflow-model-optimization) (1.23.5)\n",
            "Requirement already satisfied: six~=1.14 in /usr/local/lib/python3.10/dist-packages (from tensorflow-model-optimization) (1.16.0)\n",
            "Installing collected packages: tensorflow-model-optimization\n",
            "Successfully installed tensorflow-model-optimization-0.7.5\n"
          ]
        }
      ]
    },
    {
      "cell_type": "code",
      "execution_count": null,
      "metadata": {
        "id": "kgdWDGbE0e-h",
        "colab": {
          "base_uri": "https://localhost:8080/"
        },
        "outputId": "cf6eb719-4a88-4ba1-9c74-49bbc9bf60eb"
      },
      "outputs": [
        {
          "output_type": "stream",
          "name": "stdout",
          "text": [
            "Downloading data from https://storage.googleapis.com/tensorflow/tf-keras-datasets/mnist.npz\n",
            "11490434/11490434 [==============================] - 0s 0us/step\n",
            "Downloading data from https://www.cs.toronto.edu/~kriz/cifar-10-python.tar.gz\n",
            "170498071/170498071 [==============================] - 5s 0us/step\n",
            "Downloading data from https://www.cs.toronto.edu/~kriz/cifar-100-python.tar.gz\n",
            "169001437/169001437 [==============================] - 4s 0us/step\n",
            "x_train shape: (60000, 28, 28, 1)\n",
            "60000 train samples\n",
            "10000 test samples\n",
            "x_train shape: (50000, 32, 32, 3, 1)\n",
            "50000 train samples\n",
            "10000 test samples\n",
            "x_train shape: (50000, 32, 32, 3, 1)\n",
            "50000 train samples\n",
            "10000 test samples\n"
          ]
        }
      ],
      "source": [
        "# Load and preprocess MNIST data\n",
        "\n",
        "# Load the data and split it between train and test sets\n",
        "(x_train_mnist, y_train_mnist), (x_test_mnist, y_test_mnist) = mnist.load_data()\n",
        "(x_train_c_10, y_train_c_10), (x_test_c_10, y_test_c_10) = cifar10.load_data()\n",
        "(x_train_c_100, y_train_c_100), (x_test_c_100, y_test_c_100) = cifar100.load_data()\n",
        "\n",
        "def preprocess(x_train,y_train,x_test,y_test,num_classes):\n",
        "  # Scale images to the [0, 1] range\n",
        "  x_train = x_train.astype(\"float32\") / 255\n",
        "  x_test = x_test.astype(\"float32\") / 255\n",
        "  # Make sure images have shape (28, 28, 1)\n",
        "  x_train = np.expand_dims(x_train, -1)\n",
        "  x_test = np.expand_dims(x_test, -1)\n",
        "  print(\"x_train shape:\", x_train.shape)\n",
        "  print(x_train.shape[0], \"train samples\")\n",
        "  print(x_test.shape[0], \"test samples\")\n",
        "  # convert class vectors to binary class matrices\n",
        "  y_train = keras.utils.to_categorical(y_train, num_classes)\n",
        "  y_test = keras.utils.to_categorical(y_test, num_classes)\n",
        "\n",
        "  return x_train,y_train,x_test,y_test\n",
        "\n",
        "x_train_mnist, y_train_mnist,x_test_mnist, y_test_mnist = preprocess(x_train_mnist, y_train_mnist,x_test_mnist, y_test_mnist,10)\n",
        "x_train_c_10, y_train_c_10,x_test_c_10, y_test_c_10 = preprocess(x_train_c_10, y_train_c_10,x_test_c_10, y_test_c_10,10)\n",
        "x_train_c_100, y_train_c_100,x_test_c_100, y_test_c_100 = preprocess(x_train_c_100, y_train_c_100,x_test_c_100, y_test_c_100,100)\n",
        "\n"
      ]
    },
    {
      "cell_type": "markdown",
      "source": [
        "# Implementing L1 Prune in Keras"
      ],
      "metadata": {
        "id": "SVU325S_JNga"
      }
    },
    {
      "cell_type": "code",
      "source": [
        "\n",
        "\n",
        "\n",
        "def _compute_nparams_toprune(amount, tensor_size):\n",
        "    return round(amount * tensor_size)\n",
        "\n",
        "\n",
        "def Ln_mask(x,amount):\n",
        "    if amount == 0:\n",
        "        return np.ones(x.shape)\n",
        "    mask = np.ones(x.shape)\n",
        "    norm = np.linalg.norm(x, ord=1, axis=-1)\n",
        "    nparams_to_prune = _compute_nparams_toprune(amount, x.shape[0])\n",
        "    if nparams_to_prune == x.shape[0]:\n",
        "        nparams_to_prune = nparams_to_prune - 1\n",
        "    topk = np.argpartition(norm, nparams_to_prune)\n",
        "    mask[topk[:nparams_to_prune]] = 0\n",
        "    return mask\n",
        "\n",
        "\n",
        "def prune(model, amount):\n",
        "    weights = model.get_weights()\n",
        "    shapes = []\n",
        "    for w in weights:\n",
        "        shapes.append(w.shape)\n",
        "    flatten_weights = []\n",
        "    for w in weights:\n",
        "        flatten_weights.extend(w.flatten())\n",
        "    flatten_weights = np.array(flatten_weights).reshape(-1, 1)\n",
        "    mask = Ln_mask(x=flatten_weights, amount=amount)\n",
        "    new_weights = flatten_weights * mask\n",
        "    new_weights = new_weights.flatten()\n",
        "    new_model_weights = []\n",
        "    elm_prod = []\n",
        "    for i in shapes:\n",
        "        elm_prod.append(np.prod(i))\n",
        "\n",
        "    for i in range(len(shapes)):\n",
        "        if i == 0:\n",
        "            new_model_weights.append(\n",
        "                np.array(new_weights[0 : np.prod(shapes[i])]).reshape(shapes[i])\n",
        "            )\n",
        "        else:\n",
        "            new_model_weights.append(\n",
        "                np.array(\n",
        "                    new_weights[np.sum(elm_prod[:i]) : np.sum(elm_prod[: i + 1])]\n",
        "                ).reshape(shapes[i])\n",
        "            )\n",
        "    model.set_weights(new_model_weights)\n",
        "    return model"
      ],
      "metadata": {
        "id": "sv4g9_QSbVlW"
      },
      "execution_count": null,
      "outputs": []
    },
    {
      "cell_type": "code",
      "source": [
        "def save_function(model,test_data,filepath):\n",
        "   results = model.predict(test_data)\n",
        "   softmax_df = pd.DataFrame(results)\n",
        "   filename = filepath+'25_softmax.csv'\n",
        "   softmax_df.to_csv(filename,index=False)"
      ],
      "metadata": {
        "id": "7kDdBEyvJT4t"
      },
      "execution_count": null,
      "outputs": []
    },
    {
      "cell_type": "code",
      "source": [
        "def prune_process(path,x_test,y_test,directory):\n",
        "  pruned_amount = 0.1\n",
        "  print(\"Orginal Model Accuracy\")\n",
        "  model = tf.keras.models.load_model(path)\n",
        "  print(model.evaluate(x_test,y_test))\n",
        "  for i in range(1,6):\n",
        "    if i>1:\n",
        "      pruned_amount = round((pruned_amount+(0.2)),3)\n",
        "    pruned_percentage = 100*pruned_amount\n",
        "    model = tf.keras.models.load_model(path)\n",
        "    model_pruned = prune(model,pruned_amount)\n",
        "    model_pruned.compile(optimizer='adam', loss='categorical_crossentropy', metrics=['accuracy'])\n",
        "    print(\"Pruned at:\",pruned_amount)\n",
        "    print(model_pruned.evaluate(x_test,y_test))\n",
        "    save_function(model_pruned,x_test,directory+str(round(pruned_percentage))+'_')"
      ],
      "metadata": {
        "id": "abMYqhTZcgKf"
      },
      "execution_count": null,
      "outputs": []
    },
    {
      "cell_type": "markdown",
      "source": [
        "# LeNet MNIST Prune"
      ],
      "metadata": {
        "id": "Wkun7VryZ4WT"
      }
    },
    {
      "cell_type": "code",
      "source": [
        "!mkdir 'MNIST_pruned'"
      ],
      "metadata": {
        "id": "-TR6aw-7aLx_"
      },
      "execution_count": null,
      "outputs": []
    },
    {
      "cell_type": "code",
      "source": [
        "path = '/content/baseMNIST/LeNetMNIST_final.tf'\n",
        "directory = 'MNIST_pruned/'\n",
        "prune_process(path,x_test_mnist,y_test_mnist,directory)"
      ],
      "metadata": {
        "colab": {
          "base_uri": "https://localhost:8080/"
        },
        "id": "2G5zfHfGaK9q",
        "outputId": "5d42df1c-3191-4dcb-d494-d26a0bb8c406"
      },
      "execution_count": null,
      "outputs": [
        {
          "output_type": "stream",
          "name": "stdout",
          "text": [
            "Orginal Model Accuracy\n",
            "313/313 [==============================] - 1s 3ms/step - loss: 0.0454 - accuracy: 0.9916\n",
            "[0.04537806287407875, 0.991599977016449]\n",
            "Pruned at: 0.1\n",
            "313/313 [==============================] - 1s 3ms/step - loss: 0.0452 - accuracy: 0.9916\n",
            "[0.045227717608213425, 0.991599977016449]\n",
            "313/313 [==============================] - 1s 2ms/step\n",
            "Pruned at: 0.3\n",
            "313/313 [==============================] - 1s 4ms/step - loss: 0.0449 - accuracy: 0.9915\n",
            "[0.044862985610961914, 0.9915000200271606]\n",
            "313/313 [==============================] - 1s 2ms/step\n",
            "Pruned at: 0.5\n",
            "313/313 [==============================] - 1s 3ms/step - loss: 0.0414 - accuracy: 0.9913\n",
            "[0.041362494230270386, 0.9912999868392944]\n",
            "313/313 [==============================] - 1s 2ms/step\n",
            "Pruned at: 0.7\n",
            "313/313 [==============================] - 1s 3ms/step - loss: 0.0660 - accuracy: 0.9819\n",
            "[0.06597433239221573, 0.9818999767303467]\n",
            "313/313 [==============================] - 1s 2ms/step\n",
            "Pruned at: 0.9\n",
            "313/313 [==============================] - 1s 3ms/step - loss: 0.8511 - accuracy: 0.7685\n",
            "[0.8511410355567932, 0.7684999704360962]\n",
            "313/313 [==============================] - 1s 2ms/step\n"
          ]
        }
      ]
    },
    {
      "cell_type": "markdown",
      "source": [
        "#LeNet CIFAR10"
      ],
      "metadata": {
        "id": "SySICwTwf7u4"
      }
    },
    {
      "cell_type": "code",
      "source": [
        "!mkdir 'CIFAR10_pruned'"
      ],
      "metadata": {
        "id": "7FQDUzQef612"
      },
      "execution_count": null,
      "outputs": []
    },
    {
      "cell_type": "code",
      "source": [
        "path = '/content/baseC10/LeNetCIFAR10_final.tf'\n",
        "directory = 'CIFAR10_pruned/'\n",
        "prune_process(path,x_test_c_10,y_test_c_10,directory)"
      ],
      "metadata": {
        "colab": {
          "base_uri": "https://localhost:8080/"
        },
        "id": "e_r9UahHa4eI",
        "outputId": "f99cb2d0-a471-461b-b77c-64aa67eea78f"
      },
      "execution_count": null,
      "outputs": [
        {
          "output_type": "stream",
          "name": "stdout",
          "text": [
            "Orginal Model Accuracy\n",
            "313/313 [==============================] - 1s 3ms/step - loss: 2.4273 - accuracy: 0.6339\n",
            "[2.427269220352173, 0.633899986743927]\n",
            "Pruned at: 0.1\n",
            "313/313 [==============================] - 1s 3ms/step - loss: 2.4208 - accuracy: 0.6355\n",
            "[2.4208269119262695, 0.6355000138282776]\n",
            "313/313 [==============================] - 1s 3ms/step\n",
            "Pruned at: 0.3\n",
            "313/313 [==============================] - 1s 3ms/step - loss: 2.4524 - accuracy: 0.6301\n",
            "[2.452402114868164, 0.6301000118255615]\n",
            "313/313 [==============================] - 1s 2ms/step\n",
            "Pruned at: 0.5\n",
            "313/313 [==============================] - 1s 3ms/step - loss: 2.4294 - accuracy: 0.6152\n",
            "[2.429434061050415, 0.6151999831199646]\n",
            "313/313 [==============================] - 1s 2ms/step\n",
            "Pruned at: 0.7\n",
            "313/313 [==============================] - 1s 3ms/step - loss: 2.6455 - accuracy: 0.5416\n",
            "[2.645512819290161, 0.5415999889373779]\n",
            "313/313 [==============================] - 1s 2ms/step\n",
            "Pruned at: 0.9\n",
            "313/313 [==============================] - 2s 4ms/step - loss: 5.2185 - accuracy: 0.1365\n",
            "[5.218473434448242, 0.13650000095367432]\n",
            "313/313 [==============================] - 1s 2ms/step\n"
          ]
        }
      ]
    },
    {
      "cell_type": "markdown",
      "source": [
        "# LeNet CIFAR100"
      ],
      "metadata": {
        "id": "gbIiWXCshJrO"
      }
    },
    {
      "cell_type": "code",
      "source": [
        "!mkdir 'CIFAR100_pruned'"
      ],
      "metadata": {
        "id": "U-70gYpahO17"
      },
      "execution_count": null,
      "outputs": []
    },
    {
      "cell_type": "code",
      "source": [
        "path = '/content/baseC100/LeNetCIFAR100_final.tf'\n",
        "directory = 'CIFAR100_pruned/'\n",
        "prune_process(path,x_test_c_100,y_test_c_100,directory)"
      ],
      "metadata": {
        "colab": {
          "base_uri": "https://localhost:8080/"
        },
        "id": "_enLDd7XHKdd",
        "outputId": "0794e898-45ed-48b2-c754-0a693b9de811"
      },
      "execution_count": null,
      "outputs": [
        {
          "output_type": "stream",
          "name": "stdout",
          "text": [
            "Orginal Model Accuracy\n",
            "313/313 [==============================] - 1s 3ms/step - loss: 3.9201 - accuracy: 0.3268\n",
            "[3.9201202392578125, 0.32679998874664307]\n",
            "Pruned at: 0.1\n",
            "313/313 [==============================] - 1s 3ms/step - loss: 3.9214 - accuracy: 0.3272\n",
            "[3.921401262283325, 0.3271999955177307]\n",
            "313/313 [==============================] - 1s 3ms/step\n",
            "Pruned at: 0.3\n",
            "313/313 [==============================] - 1s 3ms/step - loss: 3.9156 - accuracy: 0.3245\n",
            "[3.9156394004821777, 0.3244999945163727]\n",
            "313/313 [==============================] - 1s 2ms/step\n",
            "Pruned at: 0.5\n",
            "313/313 [==============================] - 1s 3ms/step - loss: 3.9938 - accuracy: 0.3137\n",
            "[3.993757486343384, 0.31369999051094055]\n",
            "313/313 [==============================] - 1s 2ms/step\n",
            "Pruned at: 0.7\n",
            "313/313 [==============================] - 1s 4ms/step - loss: 4.7243 - accuracy: 0.2212\n",
            "[4.7243194580078125, 0.22120000422000885]\n",
            "313/313 [==============================] - 1s 3ms/step\n",
            "Pruned at: 0.9\n",
            "313/313 [==============================] - 1s 3ms/step - loss: 4.9759 - accuracy: 0.0470\n",
            "[4.9759087562561035, 0.04699999839067459]\n",
            "313/313 [==============================] - 1s 2ms/step\n"
          ]
        }
      ]
    },
    {
      "cell_type": "code",
      "source": [
        "shutil.make_archive(\"CIFAR100_pruned\", 'zip', \"CIFAR100_pruned\")\n",
        "shutil.make_archive(\"CIFAR10_pruned\", 'zip', \"CIFAR10_pruned\")\n",
        "shutil.make_archive(\"MNIST_pruned\", 'zip', \"MNIST_pruned\")\n"
      ],
      "metadata": {
        "colab": {
          "base_uri": "https://localhost:8080/",
          "height": 35
        },
        "id": "11IVzWPWiB9W",
        "outputId": "3fc7a854-9d61-4932-aac1-ec88259db925"
      },
      "execution_count": null,
      "outputs": [
        {
          "output_type": "execute_result",
          "data": {
            "text/plain": [
              "'/content/MNIST_pruned.zip'"
            ],
            "application/vnd.google.colaboratory.intrinsic+json": {
              "type": "string"
            }
          },
          "metadata": {},
          "execution_count": 48
        }
      ]
    },
    {
      "cell_type": "markdown",
      "source": [
        "# ResNet 50 CIFAR 10"
      ],
      "metadata": {
        "id": "XpiTovQ_jx5B"
      }
    },
    {
      "cell_type": "code",
      "source": [
        "!mkdir 'CIFAR10_pruned'"
      ],
      "metadata": {
        "id": "33pxqC8ZkYCQ"
      },
      "execution_count": null,
      "outputs": []
    },
    {
      "cell_type": "code",
      "source": [
        "path = '/content/baseResC10/resnetCIFAR10_final.tf'\n",
        "directory = 'CIFAR10_pruned/'\n",
        "prune_process(path,x_test_c_10,y_test_c_10,directory)"
      ],
      "metadata": {
        "colab": {
          "base_uri": "https://localhost:8080/"
        },
        "id": "3f9k5Wr-kVAL",
        "outputId": "4eeff947-1dff-4538-8002-2bc8f488f312"
      },
      "execution_count": null,
      "outputs": [
        {
          "output_type": "stream",
          "name": "stdout",
          "text": [
            "Orginal Model Accuracy\n",
            "313/313 [==============================] - 6s 13ms/step - loss: 1.7435 - accuracy: 0.6738\n",
            "[1.7434873580932617, 0.673799991607666]\n",
            "Pruned at: 0.1\n",
            "313/313 [==============================] - 7s 12ms/step - loss: 1.7450 - accuracy: 0.6733\n",
            "[1.7450107336044312, 0.67330002784729]\n",
            "313/313 [==============================] - 4s 9ms/step\n",
            "Pruned at: 0.3\n",
            "313/313 [==============================] - 6s 13ms/step - loss: 1.7134 - accuracy: 0.6770\n",
            "[1.7133902311325073, 0.6769999861717224]\n",
            "313/313 [==============================] - 4s 9ms/step\n",
            "Pruned at: 0.5\n",
            "313/313 [==============================] - 6s 14ms/step - loss: 1.7194 - accuracy: 0.6736\n",
            "[1.7193787097930908, 0.6736000180244446]\n",
            "313/313 [==============================] - 4s 9ms/step\n",
            "Pruned at: 0.7\n",
            "313/313 [==============================] - 6s 15ms/step - loss: 1.6837 - accuracy: 0.6711\n",
            "[1.6836689710617065, 0.6711000204086304]\n",
            "313/313 [==============================] - 4s 9ms/step\n",
            "Pruned at: 0.9\n",
            "313/313 [==============================] - 7s 12ms/step - loss: 17.0233 - accuracy: 0.0991\n",
            "[17.023252487182617, 0.09910000115633011]\n",
            "313/313 [==============================] - 4s 9ms/step\n"
          ]
        }
      ]
    },
    {
      "cell_type": "code",
      "source": [
        "shutil.make_archive(\"CIFAR10_pruned\", 'zip', \"CIFAR10_pruned\")"
      ],
      "metadata": {
        "colab": {
          "base_uri": "https://localhost:8080/",
          "height": 35
        },
        "id": "0XNmtpTDqqcB",
        "outputId": "f65af108-30df-4f6c-a7df-53840ae85fb9"
      },
      "execution_count": null,
      "outputs": [
        {
          "output_type": "execute_result",
          "data": {
            "text/plain": [
              "'/content/CIFAR10_pruned.zip'"
            ],
            "application/vnd.google.colaboratory.intrinsic+json": {
              "type": "string"
            }
          },
          "metadata": {},
          "execution_count": 51
        }
      ]
    },
    {
      "cell_type": "markdown",
      "source": [
        "# ResNet 50 CIFAR 100"
      ],
      "metadata": {
        "id": "w2Iw84ZFlStm"
      }
    },
    {
      "cell_type": "code",
      "source": [
        "!mkdir 'CIFAR100_pruned'"
      ],
      "metadata": {
        "id": "aadxoFXGlZXl"
      },
      "execution_count": null,
      "outputs": []
    },
    {
      "cell_type": "code",
      "source": [
        "path = '/content/baseResC100/resnetCIFAR100_final.tf'\n",
        "directory = 'CIFAR100_pruned/'\n",
        "prune_process(path,x_test_c_100,y_test_c_100,directory)"
      ],
      "metadata": {
        "colab": {
          "base_uri": "https://localhost:8080/"
        },
        "id": "0ra2wO9xlblK",
        "outputId": "7edfe90b-71d9-49f5-94b1-59ce7e297265"
      },
      "execution_count": null,
      "outputs": [
        {
          "output_type": "stream",
          "name": "stdout",
          "text": [
            "Orginal Model Accuracy\n",
            "313/313 [==============================] - 5s 12ms/step - loss: 3.0026 - accuracy: 0.3792\n",
            "[3.00264573097229, 0.3792000114917755]\n",
            "Pruned at: 0.1\n",
            "313/313 [==============================] - 6s 12ms/step - loss: 3.0042 - accuracy: 0.3794\n",
            "[3.0041580200195312, 0.37940001487731934]\n",
            "313/313 [==============================] - 5s 11ms/step\n",
            "Pruned at: 0.3\n",
            "313/313 [==============================] - 5s 12ms/step - loss: 3.0036 - accuracy: 0.3786\n",
            "[3.003631830215454, 0.37860000133514404]\n",
            "313/313 [==============================] - 4s 9ms/step\n",
            "Pruned at: 0.5\n",
            "313/313 [==============================] - 6s 14ms/step - loss: 3.0090 - accuracy: 0.3737\n",
            "[3.0090384483337402, 0.37369999289512634]\n",
            "313/313 [==============================] - 4s 9ms/step\n",
            "Pruned at: 0.7\n",
            "313/313 [==============================] - 6s 12ms/step - loss: 4.9498 - accuracy: 0.0115\n",
            "[4.949783802032471, 0.011500000022351742]\n",
            "313/313 [==============================] - 3s 8ms/step\n",
            "Pruned at: 0.9\n",
            "313/313 [==============================] - 6s 12ms/step - loss: 21.1245 - accuracy: 0.0101\n",
            "[21.124549865722656, 0.010099999606609344]\n",
            "313/313 [==============================] - 4s 8ms/step\n"
          ]
        }
      ]
    },
    {
      "cell_type": "code",
      "source": [
        "shutil.make_archive(\"CIFAR100_pruned\", 'zip', \"CIFAR100_pruned\")"
      ],
      "metadata": {
        "id": "kvplabF2xDDg",
        "outputId": "b69434b3-3ddf-410b-ff16-e88ba2f52e64",
        "colab": {
          "base_uri": "https://localhost:8080/",
          "height": 35
        }
      },
      "execution_count": null,
      "outputs": [
        {
          "output_type": "execute_result",
          "data": {
            "text/plain": [
              "'/content/CIFAR100_pruned.zip'"
            ],
            "application/vnd.google.colaboratory.intrinsic+json": {
              "type": "string"
            }
          },
          "metadata": {},
          "execution_count": 54
        }
      ]
    },
    {
      "cell_type": "markdown",
      "source": [
        "# MobileNet CIFAR10"
      ],
      "metadata": {
        "id": "ogXOUMEALtO-"
      }
    },
    {
      "cell_type": "code",
      "source": [
        "!mkdir 'mobilenetCIFAR10'\n",
        "path = '/content/mobileNetCifar10.tf'\n",
        "directory = 'mobilenetCIFAR10/'\n",
        "prune_process(path,x_test_c_10,y_test_c_10,directory)"
      ],
      "metadata": {
        "colab": {
          "base_uri": "https://localhost:8080/"
        },
        "id": "LTo7nrPuLxOP",
        "outputId": "dbdeab77-f986-4cb9-c4c5-47b05e86655a"
      },
      "execution_count": null,
      "outputs": [
        {
          "output_type": "stream",
          "name": "stdout",
          "text": [
            "Orginal Model Accuracy\n",
            "313/313 [==============================] - 6s 9ms/step - loss: 1.4095 - accuracy: 0.6871\n",
            "[1.4094783067703247, 0.6870999932289124]\n",
            "Pruned at: 0.1\n",
            "313/313 [==============================] - 3s 6ms/step - loss: 4.5634 - accuracy: 0.5714\n",
            "[4.563412666320801, 0.571399986743927]\n",
            "313/313 [==============================] - 2s 4ms/step\n",
            "Pruned at: 0.3\n",
            "313/313 [==============================] - 3s 6ms/step - loss: 24.5981 - accuracy: 0.1123\n",
            "[24.598072052001953, 0.11230000108480453]\n",
            "313/313 [==============================] - 2s 4ms/step\n",
            "Pruned at: 0.5\n",
            "313/313 [==============================] - 3s 6ms/step - loss: 23.8613 - accuracy: 0.1001\n",
            "[23.861291885375977, 0.10010000318288803]\n",
            "313/313 [==============================] - 2s 4ms/step\n",
            "Pruned at: 0.7\n",
            "313/313 [==============================] - 3s 6ms/step - loss: 7.9449 - accuracy: 0.1110\n",
            "[7.944864273071289, 0.11100000143051147]\n",
            "313/313 [==============================] - 2s 4ms/step\n",
            "Pruned at: 0.9\n",
            "313/313 [==============================] - 3s 6ms/step - loss: 2.4431 - accuracy: 0.1003\n",
            "[2.443054437637329, 0.10029999911785126]\n",
            "313/313 [==============================] - 2s 4ms/step\n"
          ]
        }
      ]
    },
    {
      "cell_type": "code",
      "source": [
        "shutil.make_archive(\"mobilenetCIFAR10\", 'zip', \"mobilenetCIFAR10\")"
      ],
      "metadata": {
        "colab": {
          "base_uri": "https://localhost:8080/",
          "height": 35
        },
        "id": "N05amsu0MGRK",
        "outputId": "8cef634f-19a5-4c57-a6bd-5d2040fa98cd"
      },
      "execution_count": null,
      "outputs": [
        {
          "output_type": "execute_result",
          "data": {
            "text/plain": [
              "'/content/mobilenetCIFAR10.zip'"
            ],
            "application/vnd.google.colaboratory.intrinsic+json": {
              "type": "string"
            }
          },
          "metadata": {},
          "execution_count": 7
        }
      ]
    },
    {
      "cell_type": "markdown",
      "source": [
        "# MobileNet CIFAR100"
      ],
      "metadata": {
        "id": "yL63fvk4LyLr"
      }
    },
    {
      "cell_type": "code",
      "source": [
        "!mkdir 'mobilenetCIFAR100'\n",
        "path = '/content/mobileNetCifar100.tf'\n",
        "directory = 'mobilenetCIFAR100/'\n",
        "prune_process(path,x_test_c_100,y_test_c_100,directory)"
      ],
      "metadata": {
        "colab": {
          "base_uri": "https://localhost:8080/"
        },
        "id": "3qyU0VBlLyqm",
        "outputId": "c718c4ac-359e-4c0d-9551-d633b328b3e3"
      },
      "execution_count": null,
      "outputs": [
        {
          "output_type": "stream",
          "name": "stdout",
          "text": [
            "Orginal Model Accuracy\n",
            "313/313 [==============================] - 2s 6ms/step - loss: 4.0083 - accuracy: 0.2912\n",
            "[4.008255481719971, 0.29120001196861267]\n",
            "Pruned at: 0.1\n",
            "313/313 [==============================] - 3s 6ms/step - loss: 9.4435 - accuracy: 0.1857\n",
            "[9.443548202514648, 0.18569999933242798]\n",
            "313/313 [==============================] - 2s 4ms/step\n",
            "Pruned at: 0.3\n",
            "313/313 [==============================] - 4s 6ms/step - loss: 35.4507 - accuracy: 0.0124\n",
            "[35.4506950378418, 0.012400000356137753]\n",
            "313/313 [==============================] - 2s 4ms/step\n",
            "Pruned at: 0.5\n",
            "313/313 [==============================] - 3s 6ms/step - loss: 38.0786 - accuracy: 0.0117\n",
            "[38.07858657836914, 0.011699999682605267]\n",
            "313/313 [==============================] - 2s 4ms/step\n",
            "Pruned at: 0.7\n",
            "313/313 [==============================] - 4s 6ms/step - loss: 25.5027 - accuracy: 0.0104\n",
            "[25.502702713012695, 0.010400000028312206]\n",
            "313/313 [==============================] - 2s 4ms/step\n",
            "Pruned at: 0.9\n",
            "313/313 [==============================] - 3s 6ms/step - loss: 4.9750 - accuracy: 0.0100\n",
            "[4.975042343139648, 0.009999999776482582]\n",
            "313/313 [==============================] - 2s 4ms/step\n"
          ]
        }
      ]
    },
    {
      "cell_type": "code",
      "source": [
        "shutil.make_archive(\"mobilenetCIFAR100\", 'zip', \"mobilenetCIFAR100\")"
      ],
      "metadata": {
        "id": "Feil77WmQ3z8",
        "colab": {
          "base_uri": "https://localhost:8080/",
          "height": 35
        },
        "outputId": "a790e745-c227-46bc-bcf0-9720f799c6f4"
      },
      "execution_count": null,
      "outputs": [
        {
          "output_type": "execute_result",
          "data": {
            "text/plain": [
              "'/content/mobilenetCIFAR100.zip'"
            ],
            "application/vnd.google.colaboratory.intrinsic+json": {
              "type": "string"
            }
          },
          "metadata": {},
          "execution_count": 9
        }
      ]
    }
  ]
}