{
  "cells": [
    {
      "cell_type": "code",
      "execution_count": null,
      "metadata": {
        "colab": {
          "base_uri": "https://localhost:8080/"
        },
        "id": "g5UR0O-BbO19",
        "outputId": "37d96376-af89-4693-f0b6-fde52197c50d"
      },
      "outputs": [
        {
          "name": "stdout",
          "output_type": "stream",
          "text": [
            "Collecting tensorflow-model-optimization\n",
            "  Downloading tensorflow_model_optimization-0.7.5-py2.py3-none-any.whl (241 kB)\n",
            "\u001b[2K     \u001b[90m━━━━━━━━━━━━━━━━━━━━━━━━━━━━━━━━━━━━━━━━\u001b[0m \u001b[32m241.2/241.2 kB\u001b[0m \u001b[31m1.7 MB/s\u001b[0m eta \u001b[36m0:00:00\u001b[0m\n",
            "\u001b[?25hRequirement already satisfied: absl-py~=1.2 in /usr/local/lib/python3.10/dist-packages (from tensorflow-model-optimization) (1.4.0)\n",
            "Requirement already satisfied: dm-tree~=0.1.1 in /usr/local/lib/python3.10/dist-packages (from tensorflow-model-optimization) (0.1.8)\n",
            "Requirement already satisfied: numpy~=1.23 in /usr/local/lib/python3.10/dist-packages (from tensorflow-model-optimization) (1.23.5)\n",
            "Requirement already satisfied: six~=1.14 in /usr/local/lib/python3.10/dist-packages (from tensorflow-model-optimization) (1.16.0)\n",
            "Installing collected packages: tensorflow-model-optimization\n",
            "Successfully installed tensorflow-model-optimization-0.7.5\n",
            "Mounted at /content/drive\n"
          ]
        }
      ],
      "source": [
        "import tensorflow as tf\n",
        "import keras\n",
        "from keras import layers\n",
        "import numpy as np\n",
        "import pandas as pd\n",
        "from sklearn.decomposition import PCA\n",
        "from sklearn.preprocessing import StandardScaler\n",
        "import matplotlib.pyplot as plt\n",
        "from sklearn.manifold import TSNE\n",
        "!pip install tensorflow-model-optimization\n",
        "from tensorflow_model_optimization.python.core.sparsity.keras import prune, pruning_callbacks\n",
        "import tensorflow_model_optimization as tfmot\n",
        "from tensorflow_model_optimization.sparsity import keras as sparsity\n",
        "from tensorflow.keras.models import load_model\n",
        "from google.colab import files\n",
        "import shutil\n",
        "import gc\n",
        "from keras.datasets import cifar10\n",
        "from tensorflow.keras import layers\n",
        "import shutil\n",
        "from google.colab import drive\n",
        "drive.mount('/content/drive')\n",
        "\n",
        "np.random.seed(42)\n",
        "tf.random.set_seed(42)"
      ]
    },
    {
      "cell_type": "code",
      "execution_count": null,
      "metadata": {
        "colab": {
          "base_uri": "https://localhost:8080/"
        },
        "id": "kgdWDGbE0e-h",
        "outputId": "71d268c3-bf33-485a-b4a5-cc43d628dbcc"
      },
      "outputs": [
        {
          "name": "stdout",
          "output_type": "stream",
          "text": [
            "Downloading data from https://www.cs.toronto.edu/~kriz/cifar-10-python.tar.gz\n",
            "170498071/170498071 [==============================] - 3s 0us/step\n",
            "x_train shape: (50000, 32, 32, 3, 1)\n",
            "50000 train samples\n",
            "10000 test samples\n"
          ]
        }
      ],
      "source": [
        "def build_model(input_shape, num_classes):\n",
        "    model= tf.keras.applications.MobileNet(\n",
        "    input_shape=input_shape,\n",
        "    include_top=None,\n",
        "    weights=None,\n",
        "    pooling='avg',\n",
        "    classes=num_classes,\n",
        "    )\n",
        "    for layer in model.layers:\n",
        "      layer.trainable=True\n",
        "    dnn_model = keras.Sequential()\n",
        "    dnn_model.add(model)\n",
        "    dnn_model.add(keras.layers.Flatten())\n",
        "    dnn_model.add(keras.layers.Dense(512, activation='relu'))\n",
        "    dnn_model.add(keras.layers.Dense(num_classes, activation='softmax'))\n",
        "    dnn_model.compile(optimizer='adam', loss='categorical_crossentropy', metrics=['accuracy'])\n",
        "    return dnn_model\n",
        "\n",
        "num_classes = 10\n",
        "input_shape = (32, 32, 3)\n",
        "\n",
        "(x_train, y_train), (x_test, y_test) = cifar10.load_data()\n",
        "\n",
        "x_train = x_train.astype(\"float32\") / 255\n",
        "x_test = x_test.astype(\"float32\") / 255\n",
        "\n",
        "x_train = np.expand_dims(x_train, -1)\n",
        "x_test = np.expand_dims(x_test, -1)\n",
        "print(\"x_train shape:\", x_train.shape)\n",
        "print(x_train.shape[0], \"train samples\")\n",
        "print(x_test.shape[0], \"test samples\")\n",
        "\n",
        "y_train = keras.utils.to_categorical(y_train, num_classes)\n",
        "y_test = keras.utils.to_categorical(y_test, num_classes)\n",
        "\n"
      ]
    },
    {
      "cell_type": "code",
      "execution_count": null,
      "metadata": {
        "id": "ISdhEM6VaVA4"
      },
      "outputs": [],
      "source": [
        "def train_model(model, train_data, train_labels, test_data, test_labels):\n",
        "    model.save_weights(init_weights)\n",
        "    model.save(init_model)\n",
        "    initailsoftmax = model.predict(test_data)\n",
        "    initaildf = pd.DataFrame(initailsoftmax)\n",
        "    filename = filepath + '0_softmax.csv'\n",
        "    initaildf.to_csv(filename,index=False)\n",
        "    epoch = 1\n",
        "    while epoch < 26:\n",
        "        print(f\"Epoch {epoch}:\")\n",
        "\n",
        "        # Training on one epoch\n",
        "        model.fit(train_data, train_labels, epochs=1, batch_size=64, verbose=1)\n",
        "\n",
        "        # Evaluate on the test dataset\n",
        "        loss, accuracy = model.evaluate(test_data, test_labels, verbose=0)\n",
        "        results = model.predict(test_data)\n",
        "        softmax_df = pd.DataFrame(results)\n",
        "        filename = filepath+str(epoch)+'_softmax.csv'\n",
        "        softmax_df.to_csv(filename,index=False)\n",
        "\n",
        "        print(f\"Test Loss: {loss}, Test Accuracy: {accuracy}\")\n",
        "        if epoch ==25:\n",
        "          model.save_weights(final_weights)\n",
        "          model.save(final_model)\n",
        "        epoch += 1\n",
        "\n",
        "\n"
      ]
    },
    {
      "cell_type": "code",
      "execution_count": null,
      "metadata": {
        "id": "ZW6sVYElRjz-"
      },
      "outputs": [],
      "source": [
        "model_name = 'mobilenet'\n",
        "dataset = 'CIFAR10'"
      ]
    },
    {
      "cell_type": "markdown",
      "metadata": {
        "id": "2EJSiXMAb4UR"
      },
      "source": [
        "# Creating Base Models"
      ]
    },
    {
      "cell_type": "code",
      "execution_count": null,
      "metadata": {
        "id": "1WZTNNxJciha"
      },
      "outputs": [],
      "source": [
        "filepath = '/content/base/'\n",
        "init_weights = filepath + model_name + dataset + '_init_weights.tf'\n",
        "init_model = filepath + model_name + dataset +'_init.tf'\n",
        "final_weights = filepath + model_name + dataset +'_final_weights.tf'\n",
        "final_model= filepath + model_name + dataset +'_final.tf'"
      ]
    },
    {
      "cell_type": "code",
      "execution_count": null,
      "metadata": {
        "id": "slUSKBbwgTV4"
      },
      "outputs": [],
      "source": [
        "!mkdir '/content/base/'"
      ]
    },
    {
      "cell_type": "code",
      "execution_count": null,
      "metadata": {
        "id": "ws_M91l3fZ24"
      },
      "outputs": [],
      "source": [
        "base = build_model(input_shape, num_classes)"
      ]
    },
    {
      "cell_type": "code",
      "execution_count": null,
      "metadata": {
        "colab": {
          "base_uri": "https://localhost:8080/"
        },
        "id": "xEAxJbswxiTX",
        "outputId": "5adc3622-4425-4274-ebba-baa75e439120"
      },
      "outputs": [
        {
          "name": "stderr",
          "output_type": "stream",
          "text": [
            "WARNING:absl:`mobilenet_1.00_32_input` is not a valid tf.function parameter name. Sanitizing to `mobilenet_1_00_32_input`.\n",
            "WARNING:absl:`mobilenet_1.00_32_input` is not a valid tf.function parameter name. Sanitizing to `mobilenet_1_00_32_input`.\n",
            "WARNING:absl:`mobilenet_1.00_32_input` is not a valid tf.function parameter name. Sanitizing to `mobilenet_1_00_32_input`.\n"
          ]
        },
        {
          "name": "stdout",
          "output_type": "stream",
          "text": [
            "313/313 [==============================] - 7s 7ms/step\n",
            "Epoch 1:\n",
            "782/782 [==============================] - 35s 24ms/step - loss: 1.8720 - accuracy: 0.3015\n",
            "313/313 [==============================] - 1s 4ms/step\n",
            "Test Loss: 1.724470853805542, Test Accuracy: 0.36090001463890076\n",
            "Epoch 2:\n",
            "782/782 [==============================] - 20s 25ms/step - loss: 1.5162 - accuracy: 0.4429\n",
            "313/313 [==============================] - 1s 4ms/step\n",
            "Test Loss: 1.905683994293213, Test Accuracy: 0.4016999900341034\n",
            "Epoch 3:\n",
            "782/782 [==============================] - 19s 24ms/step - loss: 1.3424 - accuracy: 0.5167\n",
            "313/313 [==============================] - 1s 4ms/step\n",
            "Test Loss: 1.5260224342346191, Test Accuracy: 0.46790000796318054\n",
            "Epoch 4:\n",
            "782/782 [==============================] - 18s 23ms/step - loss: 1.1983 - accuracy: 0.5706\n",
            "313/313 [==============================] - 1s 4ms/step\n",
            "Test Loss: 1.4306920766830444, Test Accuracy: 0.5307999849319458\n",
            "Epoch 5:\n",
            "782/782 [==============================] - 18s 23ms/step - loss: 1.0852 - accuracy: 0.6165\n",
            "313/313 [==============================] - 1s 4ms/step\n",
            "Test Loss: 1.2858818769454956, Test Accuracy: 0.585099995136261\n",
            "Epoch 6:\n",
            "782/782 [==============================] - 18s 23ms/step - loss: 0.9870 - accuracy: 0.6556\n",
            "313/313 [==============================] - 2s 5ms/step\n",
            "Test Loss: 1.2375491857528687, Test Accuracy: 0.5907999873161316\n",
            "Epoch 7:\n",
            "782/782 [==============================] - 18s 23ms/step - loss: 0.8995 - accuracy: 0.6853\n",
            "313/313 [==============================] - 1s 4ms/step\n",
            "Test Loss: 1.1422829627990723, Test Accuracy: 0.6226999759674072\n",
            "Epoch 8:\n",
            "782/782 [==============================] - 19s 24ms/step - loss: 0.8203 - accuracy: 0.7143\n",
            "313/313 [==============================] - 1s 4ms/step\n",
            "Test Loss: 1.2645307779312134, Test Accuracy: 0.6162999868392944\n",
            "Epoch 9:\n",
            "782/782 [==============================] - 18s 23ms/step - loss: 0.7502 - accuracy: 0.7403\n",
            "313/313 [==============================] - 2s 5ms/step\n",
            "Test Loss: 1.108677625656128, Test Accuracy: 0.654699981212616\n",
            "Epoch 10:\n",
            "782/782 [==============================] - 18s 23ms/step - loss: 0.6826 - accuracy: 0.7633\n",
            "313/313 [==============================] - 2s 5ms/step\n",
            "Test Loss: 1.1588287353515625, Test Accuracy: 0.6453999876976013\n",
            "Epoch 11:\n",
            "782/782 [==============================] - 19s 25ms/step - loss: 0.6174 - accuracy: 0.7889\n",
            "313/313 [==============================] - 1s 4ms/step\n",
            "Test Loss: 1.1448395252227783, Test Accuracy: 0.6686000227928162\n",
            "Epoch 12:\n",
            "782/782 [==============================] - 19s 24ms/step - loss: 0.5515 - accuracy: 0.8083\n",
            "313/313 [==============================] - 1s 4ms/step\n",
            "Test Loss: 1.1558997631072998, Test Accuracy: 0.6625999808311462\n",
            "Epoch 13:\n",
            "782/782 [==============================] - 18s 23ms/step - loss: 0.5057 - accuracy: 0.8257\n",
            "313/313 [==============================] - 1s 4ms/step\n",
            "Test Loss: 1.2087723016738892, Test Accuracy: 0.6692000031471252\n",
            "Epoch 14:\n",
            "782/782 [==============================] - 18s 23ms/step - loss: 0.4574 - accuracy: 0.8444\n",
            "313/313 [==============================] - 1s 4ms/step\n",
            "Test Loss: 1.197222352027893, Test Accuracy: 0.6717000007629395\n",
            "Epoch 15:\n",
            "782/782 [==============================] - 18s 23ms/step - loss: 0.4092 - accuracy: 0.8606\n",
            "313/313 [==============================] - 1s 4ms/step\n",
            "Test Loss: 1.2108373641967773, Test Accuracy: 0.6743000149726868\n",
            "Epoch 16:\n",
            "782/782 [==============================] - 18s 23ms/step - loss: 0.3808 - accuracy: 0.8706\n",
            "313/313 [==============================] - 2s 5ms/step\n",
            "Test Loss: 1.3480466604232788, Test Accuracy: 0.6564000248908997\n",
            "Epoch 17:\n",
            "782/782 [==============================] - 18s 23ms/step - loss: 0.3375 - accuracy: 0.8846\n",
            "313/313 [==============================] - 1s 4ms/step\n",
            "Test Loss: 1.2756023406982422, Test Accuracy: 0.6866000294685364\n",
            "Epoch 18:\n",
            "782/782 [==============================] - 19s 24ms/step - loss: 0.3068 - accuracy: 0.8959\n",
            "313/313 [==============================] - 1s 4ms/step\n",
            "Test Loss: 1.521152138710022, Test Accuracy: 0.6402000188827515\n",
            "Epoch 19:\n",
            "782/782 [==============================] - 18s 23ms/step - loss: 0.2835 - accuracy: 0.9035\n",
            "313/313 [==============================] - 1s 5ms/step\n",
            "Test Loss: 1.5247766971588135, Test Accuracy: 0.6496000289916992\n",
            "Epoch 20:\n",
            "782/782 [==============================] - 19s 25ms/step - loss: 0.2541 - accuracy: 0.9117\n",
            "313/313 [==============================] - 1s 4ms/step\n",
            "Test Loss: 1.4622852802276611, Test Accuracy: 0.6618000268936157\n",
            "Epoch 21:\n",
            "782/782 [==============================] - 19s 24ms/step - loss: 0.2262 - accuracy: 0.9232\n",
            "313/313 [==============================] - 1s 4ms/step\n",
            "Test Loss: 1.3519738912582397, Test Accuracy: 0.6863999962806702\n",
            "Epoch 22:\n",
            "782/782 [==============================] - 18s 24ms/step - loss: 0.2196 - accuracy: 0.9249\n",
            "313/313 [==============================] - 1s 4ms/step\n",
            "Test Loss: 1.515212059020996, Test Accuracy: 0.6633999943733215\n",
            "Epoch 23:\n",
            "782/782 [==============================] - 18s 23ms/step - loss: 0.1990 - accuracy: 0.9313\n",
            "313/313 [==============================] - 1s 4ms/step\n",
            "Test Loss: 1.468894362449646, Test Accuracy: 0.6855000257492065\n",
            "Epoch 24:\n",
            "782/782 [==============================] - 18s 23ms/step - loss: 0.1820 - accuracy: 0.9380\n",
            "313/313 [==============================] - 2s 6ms/step\n",
            "Test Loss: 1.4325708150863647, Test Accuracy: 0.6947000026702881\n",
            "Epoch 25:\n",
            "782/782 [==============================] - 18s 23ms/step - loss: 0.1788 - accuracy: 0.9386\n",
            "313/313 [==============================] - 1s 4ms/step\n",
            "Test Loss: 1.4094783067703247, Test Accuracy: 0.6870999932289124\n"
          ]
        },
        {
          "name": "stderr",
          "output_type": "stream",
          "text": [
            "WARNING:absl:`mobilenet_1.00_32_input` is not a valid tf.function parameter name. Sanitizing to `mobilenet_1_00_32_input`.\n",
            "WARNING:absl:`mobilenet_1.00_32_input` is not a valid tf.function parameter name. Sanitizing to `mobilenet_1_00_32_input`.\n"
          ]
        }
      ],
      "source": [
        "train_model(base,x_train,y_train,x_test,y_test)"
      ]
    },
    {
      "cell_type": "code",
      "execution_count": null,
      "metadata": {
        "id": "FJTpZuPCRNuO"
      },
      "outputs": [],
      "source": [
        "del (base)\n",
        "gc.collect()\n",
        "keras.backend.clear_session()"
      ]
    },
    {
      "cell_type": "code",
      "execution_count": null,
      "metadata": {
        "colab": {
          "base_uri": "https://localhost:8080/",
          "height": 35
        },
        "id": "ur_5EgKU2dIb",
        "outputId": "8a05be19-b6cd-4845-8109-f73f51a75c25"
      },
      "outputs": [
        {
          "data": {
            "application/vnd.google.colaboratory.intrinsic+json": {
              "type": "string"
            },
            "text/plain": [
              "'/content/base.zip'"
            ]
          },
          "execution_count": 10,
          "metadata": {},
          "output_type": "execute_result"
        }
      ],
      "source": [
        "shutil.make_archive(\"base\", 'zip', \"base\")"
      ]
    },
    {
      "cell_type": "code",
      "execution_count": null,
      "metadata": {
        "colab": {
          "base_uri": "https://localhost:8080/",
          "height": 35
        },
        "id": "3HHnx5Ee2cJN",
        "outputId": "040b0d7e-321a-4a31-d70b-b89cb5d3fd55"
      },
      "outputs": [
        {
          "data": {
            "application/vnd.google.colaboratory.intrinsic+json": {
              "type": "string"
            },
            "text/plain": [
              "'/content/drive/MyDrive/MobileNet_CIFAR10/base.zip'"
            ]
          },
          "execution_count": 11,
          "metadata": {},
          "output_type": "execute_result"
        }
      ],
      "source": [
        "colab_link = \"/content/base.zip\"\n",
        "gdrive_link = \"/content/drive/MyDrive/MobileNet_CIFAR10\"\n",
        "shutil.copy(colab_link, gdrive_link)"
      ]
    },
    {
      "cell_type": "markdown",
      "metadata": {
        "id": "ug9epnRWclXx"
      },
      "source": [
        "# Independant model one"
      ]
    },
    {
      "cell_type": "code",
      "execution_count": null,
      "metadata": {
        "id": "CgYyTzPGckv5"
      },
      "outputs": [],
      "source": [
        "filepath = '/content/independant_1/'\n",
        "init_weights = filepath + model_name + dataset + '_init_weights.tf'\n",
        "init_model = filepath + model_name + dataset + '_init.tf'\n",
        "final_weights = filepath + model_name + dataset + '_final_weights.tf'\n",
        "final_model= filepath + model_name + dataset + '_final.tf'"
      ]
    },
    {
      "cell_type": "code",
      "execution_count": null,
      "metadata": {
        "id": "a27D5LR5gpFp"
      },
      "outputs": [],
      "source": [
        "!mkdir  '/content/independant_1/'"
      ]
    },
    {
      "cell_type": "code",
      "execution_count": null,
      "metadata": {
        "id": "0ZmvRweSc6P8"
      },
      "outputs": [],
      "source": [
        "model_independant_1 = build_model(input_shape, num_classes)"
      ]
    },
    {
      "cell_type": "code",
      "execution_count": null,
      "metadata": {
        "colab": {
          "base_uri": "https://localhost:8080/"
        },
        "id": "nbSGMFzRdA5Z",
        "outputId": "69728ad0-5317-4ba0-88c0-429a590f0712"
      },
      "outputs": [
        {
          "name": "stdout",
          "output_type": "stream",
          "text": [
            "313/313 [==============================] - 2s 5ms/step\n",
            "Epoch 1:\n",
            "782/782 [==============================] - 31s 23ms/step - loss: 1.8338 - accuracy: 0.3158\n",
            "313/313 [==============================] - 2s 6ms/step\n",
            "Test Loss: 1.7186713218688965, Test Accuracy: 0.37869998812675476\n",
            "Epoch 2:\n",
            "782/782 [==============================] - 18s 23ms/step - loss: 1.4960 - accuracy: 0.4510\n",
            "313/313 [==============================] - 2s 5ms/step\n",
            "Test Loss: 1.4551461935043335, Test Accuracy: 0.47609999775886536\n",
            "Epoch 3:\n",
            "782/782 [==============================] - 18s 23ms/step - loss: 1.3371 - accuracy: 0.5154\n",
            "313/313 [==============================] - 1s 4ms/step\n",
            "Test Loss: 1.651651382446289, Test Accuracy: 0.45419999957084656\n",
            "Epoch 4:\n",
            "782/782 [==============================] - 18s 23ms/step - loss: 1.2081 - accuracy: 0.5672\n",
            "313/313 [==============================] - 1s 4ms/step\n",
            "Test Loss: 1.2971620559692383, Test Accuracy: 0.5565000176429749\n",
            "Epoch 5:\n",
            "782/782 [==============================] - 18s 23ms/step - loss: 1.1010 - accuracy: 0.6089\n",
            "313/313 [==============================] - 2s 5ms/step\n",
            "Test Loss: 1.5865293741226196, Test Accuracy: 0.5099999904632568\n",
            "Epoch 6:\n",
            "782/782 [==============================] - 18s 23ms/step - loss: 1.0036 - accuracy: 0.6469\n",
            "313/313 [==============================] - 2s 6ms/step\n",
            "Test Loss: 1.3248112201690674, Test Accuracy: 0.5794000029563904\n",
            "Epoch 7:\n",
            "782/782 [==============================] - 18s 23ms/step - loss: 0.9165 - accuracy: 0.6831\n",
            "313/313 [==============================] - 1s 4ms/step\n",
            "Test Loss: 1.3815250396728516, Test Accuracy: 0.5716999769210815\n",
            "Epoch 8:\n",
            "782/782 [==============================] - 19s 24ms/step - loss: 0.8350 - accuracy: 0.7111\n",
            "313/313 [==============================] - 1s 4ms/step\n",
            "Test Loss: 1.3842817544937134, Test Accuracy: 0.5954999923706055\n",
            "Epoch 9:\n",
            "782/782 [==============================] - 18s 23ms/step - loss: 0.7653 - accuracy: 0.7360\n",
            "313/313 [==============================] - 1s 4ms/step\n",
            "Test Loss: 1.2706409692764282, Test Accuracy: 0.6103000044822693\n",
            "Epoch 10:\n",
            "782/782 [==============================] - 19s 24ms/step - loss: 0.6991 - accuracy: 0.7604\n",
            "313/313 [==============================] - 1s 4ms/step\n",
            "Test Loss: 1.3191951513290405, Test Accuracy: 0.6014999747276306\n",
            "Epoch 11:\n",
            "782/782 [==============================] - 18s 23ms/step - loss: 0.6277 - accuracy: 0.7866\n",
            "313/313 [==============================] - 2s 5ms/step\n",
            "Test Loss: 1.3127098083496094, Test Accuracy: 0.6144000291824341\n",
            "Epoch 12:\n",
            "782/782 [==============================] - 18s 23ms/step - loss: 0.5775 - accuracy: 0.8011\n",
            "313/313 [==============================] - 1s 4ms/step\n",
            "Test Loss: 1.121325969696045, Test Accuracy: 0.6736999750137329\n",
            "Epoch 13:\n",
            "782/782 [==============================] - 18s 24ms/step - loss: 0.5128 - accuracy: 0.8249\n",
            "313/313 [==============================] - 1s 4ms/step\n",
            "Test Loss: 1.2924588918685913, Test Accuracy: 0.6337000131607056\n",
            "Epoch 14:\n",
            "782/782 [==============================] - 18s 23ms/step - loss: 0.4743 - accuracy: 0.8392\n",
            "313/313 [==============================] - 1s 4ms/step\n",
            "Test Loss: 1.1358642578125, Test Accuracy: 0.6690999865531921\n",
            "Epoch 15:\n",
            "782/782 [==============================] - 19s 24ms/step - loss: 0.4232 - accuracy: 0.8560\n",
            "313/313 [==============================] - 1s 4ms/step\n",
            "Test Loss: 1.165255069732666, Test Accuracy: 0.6761000156402588\n",
            "Epoch 16:\n",
            "782/782 [==============================] - 18s 23ms/step - loss: 0.3961 - accuracy: 0.8634\n",
            "313/313 [==============================] - 2s 5ms/step\n",
            "Test Loss: 1.2164644002914429, Test Accuracy: 0.6775000095367432\n",
            "Epoch 17:\n",
            "782/782 [==============================] - 18s 23ms/step - loss: 0.3517 - accuracy: 0.8809\n",
            "313/313 [==============================] - 1s 4ms/step\n",
            "Test Loss: 1.2521661520004272, Test Accuracy: 0.6794999837875366\n",
            "Epoch 18:\n",
            "782/782 [==============================] - 18s 23ms/step - loss: 0.3240 - accuracy: 0.8893\n",
            "313/313 [==============================] - 1s 4ms/step\n",
            "Test Loss: 1.3051611185073853, Test Accuracy: 0.6654999852180481\n",
            "Epoch 19:\n",
            "782/782 [==============================] - 19s 25ms/step - loss: 0.2872 - accuracy: 0.9029\n",
            "313/313 [==============================] - 1s 4ms/step\n",
            "Test Loss: 1.2921419143676758, Test Accuracy: 0.6773999929428101\n",
            "Epoch 20:\n",
            "782/782 [==============================] - 18s 23ms/step - loss: 0.2711 - accuracy: 0.9076\n",
            "313/313 [==============================] - 1s 4ms/step\n",
            "Test Loss: 1.2974008321762085, Test Accuracy: 0.6848999857902527\n",
            "Epoch 21:\n",
            "782/782 [==============================] - 18s 23ms/step - loss: 0.2466 - accuracy: 0.9160\n",
            "313/313 [==============================] - 1s 5ms/step\n",
            "Test Loss: 1.3442261219024658, Test Accuracy: 0.6844000220298767\n",
            "Epoch 22:\n",
            "782/782 [==============================] - 18s 23ms/step - loss: 0.2263 - accuracy: 0.9239\n",
            "313/313 [==============================] - 1s 4ms/step\n",
            "Test Loss: 1.3447985649108887, Test Accuracy: 0.6789000034332275\n",
            "Epoch 23:\n",
            "782/782 [==============================] - 19s 24ms/step - loss: 0.2114 - accuracy: 0.9280\n",
            "313/313 [==============================] - 1s 4ms/step\n",
            "Test Loss: 1.3948144912719727, Test Accuracy: 0.6875\n",
            "Epoch 24:\n",
            "782/782 [==============================] - 18s 23ms/step - loss: 0.2022 - accuracy: 0.9308\n",
            "313/313 [==============================] - 1s 4ms/step\n",
            "Test Loss: 1.3626465797424316, Test Accuracy: 0.6955999732017517\n",
            "Epoch 25:\n",
            "782/782 [==============================] - 18s 23ms/step - loss: 0.1857 - accuracy: 0.9361\n",
            "313/313 [==============================] - 2s 5ms/step\n",
            "Test Loss: 1.523740291595459, Test Accuracy: 0.676800012588501\n"
          ]
        }
      ],
      "source": [
        "train_model(model_independant_1,x_train,y_train,x_test,y_test)"
      ]
    },
    {
      "cell_type": "code",
      "execution_count": null,
      "metadata": {
        "id": "XW6INm6kSxFS"
      },
      "outputs": [],
      "source": [
        "del (model_independant_1)\n",
        "gc.collect()\n",
        "keras.backend.clear_session()"
      ]
    },
    {
      "cell_type": "markdown",
      "metadata": {
        "id": "X2OTEYTFdUAE"
      },
      "source": [
        "# Independant 2"
      ]
    },
    {
      "cell_type": "code",
      "execution_count": null,
      "metadata": {
        "id": "m_6iAeLLdWyf"
      },
      "outputs": [],
      "source": [
        "filepath = '/content/independant_2/'\n",
        "init_weights = filepath + model_name + dataset + '_init_weights.tf'\n",
        "init_model = filepath + model_name + dataset + '_init.tf'\n",
        "final_weights =filepath + model_name + dataset + '_final_weights.tf'\n",
        "final_model= filepath + model_name + dataset + '_final.tf'"
      ]
    },
    {
      "cell_type": "code",
      "execution_count": null,
      "metadata": {
        "id": "Qq4QQMaTgwcV"
      },
      "outputs": [],
      "source": [
        "!mkdir '/content/independant_2/'"
      ]
    },
    {
      "cell_type": "code",
      "execution_count": null,
      "metadata": {
        "id": "WB-QyYy1df0r"
      },
      "outputs": [],
      "source": [
        "model_independant_2 = build_model(input_shape, num_classes)"
      ]
    },
    {
      "cell_type": "code",
      "execution_count": null,
      "metadata": {
        "colab": {
          "base_uri": "https://localhost:8080/"
        },
        "id": "axvsh5YIdjHr",
        "outputId": "afb2aef7-fb42-487f-e3d8-3e416e530f90"
      },
      "outputs": [
        {
          "name": "stdout",
          "output_type": "stream",
          "text": [
            "313/313 [==============================] - 2s 5ms/step\n",
            "Epoch 1:\n",
            "782/782 [==============================] - 30s 25ms/step - loss: 1.8592 - accuracy: 0.3005\n",
            "313/313 [==============================] - 1s 4ms/step\n",
            "Test Loss: 1.6630275249481201, Test Accuracy: 0.3871000111103058\n",
            "Epoch 2:\n",
            "782/782 [==============================] - 19s 24ms/step - loss: 1.5030 - accuracy: 0.4469\n",
            "313/313 [==============================] - 1s 4ms/step\n",
            "Test Loss: 1.5122004747390747, Test Accuracy: 0.4607999920845032\n",
            "Epoch 3:\n",
            "782/782 [==============================] - 18s 23ms/step - loss: 1.3438 - accuracy: 0.5152\n",
            "313/313 [==============================] - 1s 4ms/step\n",
            "Test Loss: 1.6246618032455444, Test Accuracy: 0.46160000562667847\n",
            "Epoch 4:\n",
            "782/782 [==============================] - 18s 23ms/step - loss: 1.2244 - accuracy: 0.5607\n",
            "313/313 [==============================] - 2s 6ms/step\n",
            "Test Loss: 1.4129894971847534, Test Accuracy: 0.5253999829292297\n",
            "Epoch 5:\n",
            "782/782 [==============================] - 18s 23ms/step - loss: 1.1296 - accuracy: 0.5972\n",
            "313/313 [==============================] - 1s 4ms/step\n",
            "Test Loss: 1.2768687009811401, Test Accuracy: 0.5738999843597412\n",
            "Epoch 6:\n",
            "782/782 [==============================] - 19s 24ms/step - loss: 1.0323 - accuracy: 0.6360\n",
            "313/313 [==============================] - 1s 4ms/step\n",
            "Test Loss: 1.205690622329712, Test Accuracy: 0.6021999716758728\n",
            "Epoch 7:\n",
            "782/782 [==============================] - 19s 24ms/step - loss: 0.9451 - accuracy: 0.6712\n",
            "313/313 [==============================] - 1s 4ms/step\n",
            "Test Loss: 1.1795929670333862, Test Accuracy: 0.6090999841690063\n",
            "Epoch 8:\n",
            "782/782 [==============================] - 18s 23ms/step - loss: 0.8627 - accuracy: 0.7012\n",
            "313/313 [==============================] - 2s 6ms/step\n",
            "Test Loss: 1.1735925674438477, Test Accuracy: 0.6198999881744385\n",
            "Epoch 9:\n",
            "782/782 [==============================] - 20s 26ms/step - loss: 0.7828 - accuracy: 0.7304\n",
            "313/313 [==============================] - 1s 4ms/step\n",
            "Test Loss: 1.2862244844436646, Test Accuracy: 0.5947999954223633\n",
            "Epoch 10:\n",
            "782/782 [==============================] - 19s 24ms/step - loss: 0.7109 - accuracy: 0.7552\n",
            "313/313 [==============================] - 1s 4ms/step\n",
            "Test Loss: 1.1707500219345093, Test Accuracy: 0.6370999813079834\n",
            "Epoch 11:\n",
            "782/782 [==============================] - 18s 23ms/step - loss: 0.6499 - accuracy: 0.7757\n",
            "313/313 [==============================] - 1s 4ms/step\n",
            "Test Loss: 1.160355567932129, Test Accuracy: 0.6492000222206116\n",
            "Epoch 12:\n",
            "782/782 [==============================] - 18s 23ms/step - loss: 0.5796 - accuracy: 0.8019\n",
            "313/313 [==============================] - 2s 5ms/step\n",
            "Test Loss: 1.2028368711471558, Test Accuracy: 0.6402999758720398\n",
            "Epoch 13:\n",
            "782/782 [==============================] - 18s 23ms/step - loss: 0.5308 - accuracy: 0.8186\n",
            "313/313 [==============================] - 1s 4ms/step\n",
            "Test Loss: 1.1446806192398071, Test Accuracy: 0.6635000109672546\n",
            "Epoch 14:\n",
            "782/782 [==============================] - 19s 24ms/step - loss: 0.4688 - accuracy: 0.8406\n",
            "313/313 [==============================] - 1s 4ms/step\n",
            "Test Loss: 1.2766516208648682, Test Accuracy: 0.6466000080108643\n",
            "Epoch 15:\n",
            "782/782 [==============================] - 18s 24ms/step - loss: 0.4263 - accuracy: 0.8553\n",
            "313/313 [==============================] - 1s 4ms/step\n",
            "Test Loss: 1.229856014251709, Test Accuracy: 0.6621999740600586\n",
            "Epoch 16:\n",
            "782/782 [==============================] - 18s 23ms/step - loss: 0.3831 - accuracy: 0.8697\n",
            "313/313 [==============================] - 1s 4ms/step\n",
            "Test Loss: 1.248030424118042, Test Accuracy: 0.6601999998092651\n",
            "Epoch 17:\n",
            "782/782 [==============================] - 18s 23ms/step - loss: 0.3422 - accuracy: 0.8836\n",
            "313/313 [==============================] - 2s 7ms/step\n",
            "Test Loss: 1.3929494619369507, Test Accuracy: 0.6485999822616577\n",
            "Epoch 18:\n",
            "782/782 [==============================] - 19s 24ms/step - loss: 0.3157 - accuracy: 0.8930\n",
            "313/313 [==============================] - 1s 4ms/step\n",
            "Test Loss: 1.3994580507278442, Test Accuracy: 0.6639999747276306\n",
            "Epoch 19:\n",
            "782/782 [==============================] - 19s 24ms/step - loss: 0.2889 - accuracy: 0.9020\n",
            "313/313 [==============================] - 1s 4ms/step\n",
            "Test Loss: 1.3985594511032104, Test Accuracy: 0.6571000218391418\n",
            "Epoch 20:\n",
            "782/782 [==============================] - 18s 24ms/step - loss: 0.2632 - accuracy: 0.9117\n",
            "313/313 [==============================] - 2s 5ms/step\n",
            "Test Loss: 1.5186811685562134, Test Accuracy: 0.6597999930381775\n",
            "Epoch 21:\n",
            "782/782 [==============================] - 18s 23ms/step - loss: 0.2408 - accuracy: 0.9186\n",
            "313/313 [==============================] - 1s 4ms/step\n",
            "Test Loss: 1.3534072637557983, Test Accuracy: 0.6739000082015991\n",
            "Epoch 22:\n",
            "782/782 [==============================] - 18s 24ms/step - loss: 0.2232 - accuracy: 0.9248\n",
            "313/313 [==============================] - 1s 4ms/step\n",
            "Test Loss: 1.4579737186431885, Test Accuracy: 0.6725999712944031\n",
            "Epoch 23:\n",
            "782/782 [==============================] - 18s 24ms/step - loss: 0.2042 - accuracy: 0.9297\n",
            "313/313 [==============================] - 1s 4ms/step\n",
            "Test Loss: 1.5085711479187012, Test Accuracy: 0.6642000079154968\n",
            "Epoch 24:\n",
            "782/782 [==============================] - 19s 24ms/step - loss: 0.1911 - accuracy: 0.9343\n",
            "313/313 [==============================] - 1s 4ms/step\n",
            "Test Loss: 1.4223335981369019, Test Accuracy: 0.6786999702453613\n",
            "Epoch 25:\n",
            "782/782 [==============================] - 18s 23ms/step - loss: 0.1787 - accuracy: 0.9388\n",
            "313/313 [==============================] - 2s 6ms/step\n",
            "Test Loss: 1.5098474025726318, Test Accuracy: 0.6728000044822693\n"
          ]
        }
      ],
      "source": [
        "train_model(model_independant_2,x_train,y_train,x_test,y_test)"
      ]
    },
    {
      "cell_type": "code",
      "execution_count": null,
      "metadata": {
        "id": "-t_bBGPKS9oi"
      },
      "outputs": [],
      "source": [
        "del (model_independant_2)\n",
        "gc.collect()\n",
        "keras.backend.clear_session()"
      ]
    },
    {
      "cell_type": "markdown",
      "metadata": {
        "id": "TxQrGkUBYePo"
      },
      "source": [
        "#Download Independant Models"
      ]
    },
    {
      "cell_type": "code",
      "execution_count": null,
      "metadata": {
        "colab": {
          "base_uri": "https://localhost:8080/",
          "height": 35
        },
        "id": "RcKQFmnYy7Rn",
        "outputId": "b76b7182-3d9a-470e-a6e4-76b8e2df9237"
      },
      "outputs": [
        {
          "data": {
            "application/vnd.google.colaboratory.intrinsic+json": {
              "type": "string"
            },
            "text/plain": [
              "'/content/independant_1.zip'"
            ]
          },
          "execution_count": 22,
          "metadata": {},
          "output_type": "execute_result"
        }
      ],
      "source": [
        "shutil.make_archive(\"independant_1\", 'zip', \"independant_1\")"
      ]
    },
    {
      "cell_type": "code",
      "execution_count": null,
      "metadata": {
        "colab": {
          "base_uri": "https://localhost:8080/",
          "height": 35
        },
        "id": "Lo0HHNIBuvmS",
        "outputId": "aaf203f0-8333-4122-9af9-b1e428ac9629"
      },
      "outputs": [
        {
          "data": {
            "application/vnd.google.colaboratory.intrinsic+json": {
              "type": "string"
            },
            "text/plain": [
              "'/content/drive/MyDrive/MobileNet_CIFAR10/independant_1.zip'"
            ]
          },
          "execution_count": 23,
          "metadata": {},
          "output_type": "execute_result"
        }
      ],
      "source": [
        "import shutil\n",
        "from google.colab import drive\n",
        "\n",
        "\n",
        "colab_link = \"/content/independant_1.zip\"\n",
        "gdrive_link = \"/content/drive/MyDrive/MobileNet_CIFAR10\"\n",
        "shutil.copy(colab_link, gdrive_link)"
      ]
    },
    {
      "cell_type": "code",
      "execution_count": null,
      "metadata": {
        "colab": {
          "base_uri": "https://localhost:8080/",
          "height": 35
        },
        "id": "cZgOWD-TxT7E",
        "outputId": "cc823855-82b2-4454-ccec-7bdb71b24a7d"
      },
      "outputs": [
        {
          "data": {
            "application/vnd.google.colaboratory.intrinsic+json": {
              "type": "string"
            },
            "text/plain": [
              "'/content/independant_2.zip'"
            ]
          },
          "execution_count": 24,
          "metadata": {},
          "output_type": "execute_result"
        }
      ],
      "source": [
        "shutil.make_archive(\"independant_2\", 'zip', \"independant_2\")"
      ]
    },
    {
      "cell_type": "code",
      "execution_count": null,
      "metadata": {
        "colab": {
          "base_uri": "https://localhost:8080/",
          "height": 35
        },
        "id": "EnX3-k2yyNGC",
        "outputId": "d55b4e53-e0fa-4c4c-accb-f82e6771c87f"
      },
      "outputs": [
        {
          "data": {
            "application/vnd.google.colaboratory.intrinsic+json": {
              "type": "string"
            },
            "text/plain": [
              "'/content/drive/MyDrive/MobileNet_CIFAR10/independant_2.zip'"
            ]
          },
          "execution_count": 25,
          "metadata": {},
          "output_type": "execute_result"
        }
      ],
      "source": [
        "import shutil\n",
        "from google.colab import drive\n",
        "colab_link = \"/content/independant_2.zip\"\n",
        "gdrive_link = \"/content/drive/MyDrive/MobileNet_CIFAR10\"\n",
        "shutil.copy(colab_link, gdrive_link)"
      ]
    },
    {
      "cell_type": "markdown",
      "metadata": {
        "id": "1M1eiG9hE3Up"
      },
      "source": [
        "---"
      ]
    },
    {
      "cell_type": "markdown",
      "metadata": {
        "id": "ZCQ1ucn3X8lA"
      },
      "source": [
        "---\n",
        "\n",
        "# Qunatisation\n",
        "\n",
        "https://github.com/sonalimedani/TF_Quantization/blob/master/quantization.ipynb\n",
        "\n",
        "https://medium.com/@sonalimedani/post-training-quantization-with-tensorflow-lite-on-a-keras-model-f373068966c4"
      ]
    },
    {
      "cell_type": "markdown",
      "metadata": {
        "id": "X69D_tTXecfn"
      },
      "source": [
        "**Default**: 8 Bit"
      ]
    },
    {
      "cell_type": "code",
      "execution_count": null,
      "metadata": {
        "colab": {
          "base_uri": "https://localhost:8080/"
        },
        "id": "h-3BCaalLyoM",
        "outputId": "29585917-ccdd-45e3-c207-6dd03112baab"
      },
      "outputs": [
        {
          "name": "stdout",
          "output_type": "stream",
          "text": [
            "313/313 [==============================] - 3s 7ms/step - loss: 1.4095 - accuracy: 0.6871\n"
          ]
        },
        {
          "data": {
            "text/plain": [
              "[1.4094783067703247, 0.6870999932289124]"
            ]
          },
          "execution_count": 65,
          "metadata": {},
          "output_type": "execute_result"
        }
      ],
      "source": [
        "path = '/content/base/mobilenetCIFAR10_final.tf'\n",
        "model = tf.keras.models.load_model(path)\n",
        "model.evaluate(x_test,y_test)"
      ]
    },
    {
      "cell_type": "code",
      "execution_count": null,
      "metadata": {
        "colab": {
          "base_uri": "https://localhost:8080/"
        },
        "id": "YB50uWzY8OAP",
        "outputId": "9c5b7d51-5cd5-490b-aaa7-e0c3db8bc5d6"
      },
      "outputs": [
        {
          "name": "stdout",
          "output_type": "stream",
          "text": [
            "mkdir: cannot create directory ‘/content/quantised_8_bit/’: File exists\n"
          ]
        }
      ],
      "source": [
        "filepath = '/content/quantised_8_bit/'\n",
        "!mkdir '/content/quantised_8_bit/'"
      ]
    },
    {
      "cell_type": "code",
      "execution_count": null,
      "metadata": {
        "colab": {
          "base_uri": "https://localhost:8080/"
        },
        "id": "Lm4Q_EbD8Qho",
        "outputId": "1a125d01-ddcd-40ce-cac1-cf3f9ceebcf4"
      },
      "outputs": [
        {
          "data": {
            "text/plain": [
              "3916608"
            ]
          },
          "execution_count": 67,
          "metadata": {},
          "output_type": "execute_result"
        }
      ],
      "source": [
        "converter = tf.lite.TFLiteConverter.from_keras_model(model)\n",
        "converter.optimizations = [tf.lite.Optimize.DEFAULT]\n",
        "tflite_quant_model = converter.convert()\n",
        "#saving converted model in \"converted_quant_model.tflite\" file\n",
        "open(filepath+\"8_bit.tflite\", \"wb\").write(tflite_quant_model)"
      ]
    },
    {
      "cell_type": "markdown",
      "metadata": {
        "id": "OdJ5EQc58Rvz"
      },
      "source": []
    },
    {
      "cell_type": "code",
      "execution_count": null,
      "metadata": {
        "colab": {
          "base_uri": "https://localhost:8080/"
        },
        "id": "4Il7AvI1ZvPy",
        "outputId": "8ede0a56-b884-4b45-a9f9-14fa7791543e"
      },
      "outputs": [
        {
          "name": "stdout",
          "output_type": "stream",
          "text": [
            "Float model in Mb: 3.73516845703125\n",
            "Quantized model in Mb: 3.73516845703125\n",
            "Compression ratio: 956.203125\n"
          ]
        }
      ],
      "source": [
        "import os\n",
        "print(\"Float model in Mb:\", os.path.getsize(filepath+\"8_bit.tflite\") / float(2**20))\n",
        "print(\"Quantized model in Mb:\", os.path.getsize(filepath+\"8_bit.tflite\") / float(2**20))\n",
        "print(\"Compression ratio:\", os.path.getsize(filepath+\"8_bit.tflite\")/os.path.getsize(path))"
      ]
    },
    {
      "cell_type": "code",
      "execution_count": null,
      "metadata": {
        "colab": {
          "base_uri": "https://localhost:8080/"
        },
        "id": "Cd3PJ4YU8YR4",
        "outputId": "eb6d3851-97fe-4c06-a8a2-9f15a6c25b8f"
      },
      "outputs": [
        {
          "name": "stdout",
          "output_type": "stream",
          "text": [
            "68.75\n"
          ]
        }
      ],
      "source": [
        "interpreter = tf.lite.Interpreter(model_path=(filepath+\"8_bit.tflite\"))\n",
        "interpreter.allocate_tensors()\n",
        "# Get input and output tensors.\n",
        "input_details = interpreter.get_input_details()\n",
        "output_details = interpreter.get_output_details()\n",
        "# Test model on some input data.\n",
        "input_shape = input_details[0]['shape']\n",
        "acc=0\n",
        "results_default = pd.DataFrame()\n",
        "for i in range(len(x_test)):\n",
        "    input_data = x_test[i].reshape(input_shape)\n",
        "    interpreter.set_tensor(input_details[0]['index'], input_data)\n",
        "    interpreter.invoke()\n",
        "    output_data = interpreter.get_tensor(output_details[0]['index'])\n",
        "    row = pd.DataFrame(output_data)\n",
        "    results_default = pd.concat([results_default, row], ignore_index=True)\n",
        "    if(np.argmax(output_data) == np.argmax(y_test[i])):\n",
        "        acc+=1\n",
        "acc = acc/len(x_test)\n",
        "print(acc*100)"
      ]
    },
    {
      "cell_type": "code",
      "execution_count": null,
      "metadata": {
        "id": "Zq33BpCA8ajP"
      },
      "outputs": [],
      "source": [
        "results_default\n",
        "results_default.to_csv((filepath+\"25_softmax.csv\"),index=False)"
      ]
    },
    {
      "cell_type": "markdown",
      "metadata": {
        "id": "jpxVyxMGefBb"
      },
      "source": [
        "**16 bit**"
      ]
    },
    {
      "cell_type": "code",
      "execution_count": null,
      "metadata": {
        "id": "LlVMMwy1O-E4"
      },
      "outputs": [],
      "source": [
        "model = tf.keras.models.load_model(path)\n"
      ]
    },
    {
      "cell_type": "code",
      "execution_count": null,
      "metadata": {
        "colab": {
          "base_uri": "https://localhost:8080/"
        },
        "id": "rGzR-nZA8klY",
        "outputId": "faebe85c-59aa-4f7a-ebe8-24d28295295b"
      },
      "outputs": [
        {
          "name": "stdout",
          "output_type": "stream",
          "text": [
            "mkdir: cannot create directory ‘/content/quantised_16_bit/’: File exists\n"
          ]
        }
      ],
      "source": [
        "filepath = '/content/quantised_16_bit/'\n",
        "!mkdir '/content/quantised_16_bit/'"
      ]
    },
    {
      "cell_type": "code",
      "execution_count": null,
      "metadata": {
        "colab": {
          "base_uri": "https://localhost:8080/"
        },
        "id": "XQHa3Zsi8mb3",
        "outputId": "eb83e804-7282-483b-8d59-1bd9524b2269"
      },
      "outputs": [
        {
          "data": {
            "text/plain": [
              "7482388"
            ]
          },
          "execution_count": 73,
          "metadata": {},
          "output_type": "execute_result"
        }
      ],
      "source": [
        "converter = tf.lite.TFLiteConverter.from_keras_model(model)\n",
        "converter.optimizations = [tf.lite.Optimize.DEFAULT]\n",
        "converter.optimizations = [tf.lite.Optimize.DEFAULT]\n",
        "converter.target_spec.supported_types = [tf.float16]\n",
        "tflite_quant_model = converter.convert()\n",
        "#saving converted model in \"converted_quant_model.tflite\" file\n",
        "open((filepath +\"16_bit.tflite\"), \"wb\").write(tflite_quant_model)"
      ]
    },
    {
      "cell_type": "code",
      "execution_count": null,
      "metadata": {
        "colab": {
          "base_uri": "https://localhost:8080/"
        },
        "id": "6S89XWCTbGHF",
        "outputId": "e0157b24-d035-4526-e801-6e0f1cfcca21"
      },
      "outputs": [
        {
          "name": "stdout",
          "output_type": "stream",
          "text": [
            "Float model in Mb: 7.135761260986328\n",
            "Quantized model in Mb: 7.135761260986328\n",
            "Compression ratio: 1826.7548828125\n"
          ]
        }
      ],
      "source": [
        "import os\n",
        "print(\"Float model in Mb:\", os.path.getsize(filepath +\"16_bit.tflite\") / float(2**20))\n",
        "print(\"Quantized model in Mb:\", os.path.getsize(filepath +\"16_bit.tflite\") / float(2**20))\n",
        "print(\"Compression ratio:\", os.path.getsize(filepath +\"16_bit.tflite\")/os.path.getsize(path))"
      ]
    },
    {
      "cell_type": "code",
      "execution_count": null,
      "metadata": {
        "colab": {
          "base_uri": "https://localhost:8080/"
        },
        "id": "fS4dAKxd8qBG",
        "outputId": "d9061bfa-4bf6-4fc9-a65b-bf0b81fb6f64"
      },
      "outputs": [
        {
          "name": "stdout",
          "output_type": "stream",
          "text": [
            "68.71000000000001\n"
          ]
        }
      ],
      "source": [
        "interpreter = tf.lite.Interpreter(model_path=filepath +\"16_bit.tflite\")\n",
        "interpreter.allocate_tensors()\n",
        "# Get input and output tensors.\n",
        "input_details = interpreter.get_input_details()\n",
        "output_details = interpreter.get_output_details()\n",
        "# Test model on some input data.\n",
        "input_shape = input_details[0]['shape']\n",
        "acc=0\n",
        "results_16_b = pd.DataFrame()\n",
        "for i in range(len(x_test)):\n",
        "    input_data = x_test[i].reshape(input_shape)\n",
        "    interpreter.set_tensor(input_details[0]['index'], input_data)\n",
        "    interpreter.invoke()\n",
        "    output_data = interpreter.get_tensor(output_details[0]['index'])\n",
        "    row = pd.DataFrame(output_data)\n",
        "    results_16_b = pd.concat([results_16_b, row], ignore_index=True)\n",
        "    if(np.argmax(output_data) == np.argmax(y_test[i])):\n",
        "        acc+=1\n",
        "acc = acc/len(x_test)\n",
        "print(acc*100)"
      ]
    },
    {
      "cell_type": "code",
      "execution_count": null,
      "metadata": {
        "id": "OIvSAbiK8sGw"
      },
      "outputs": [],
      "source": [
        "results_16_b\n",
        "results_16_b.to_csv(filepath +'25_softmax.csv',index =False)"
      ]
    },
    {
      "cell_type": "markdown",
      "metadata": {
        "id": "_sIXOiBbSgxM"
      },
      "source": [
        "# Download Data"
      ]
    },
    {
      "cell_type": "code",
      "execution_count": null,
      "metadata": {
        "colab": {
          "base_uri": "https://localhost:8080/",
          "height": 17
        },
        "id": "891YAeIu8vHW",
        "outputId": "8d40c27b-ed07-46a3-d317-32921e74bf68"
      },
      "outputs": [
        {
          "data": {
            "application/javascript": "\n    async function download(id, filename, size) {\n      if (!google.colab.kernel.accessAllowed) {\n        return;\n      }\n      const div = document.createElement('div');\n      const label = document.createElement('label');\n      label.textContent = `Downloading \"${filename}\": `;\n      div.appendChild(label);\n      const progress = document.createElement('progress');\n      progress.max = size;\n      div.appendChild(progress);\n      document.body.appendChild(div);\n\n      const buffers = [];\n      let downloaded = 0;\n\n      const channel = await google.colab.kernel.comms.open(id);\n      // Send a message to notify the kernel that we're ready.\n      channel.send({})\n\n      for await (const message of channel.messages) {\n        // Send a message to notify the kernel that we're ready.\n        channel.send({})\n        if (message.buffers) {\n          for (const buffer of message.buffers) {\n            buffers.push(buffer);\n            downloaded += buffer.byteLength;\n            progress.value = downloaded;\n          }\n        }\n      }\n      const blob = new Blob(buffers, {type: 'application/binary'});\n      const a = document.createElement('a');\n      a.href = window.URL.createObjectURL(blob);\n      a.download = filename;\n      div.appendChild(a);\n      a.click();\n      div.remove();\n    }\n  ",
            "text/plain": [
              "<IPython.core.display.Javascript object>"
            ]
          },
          "metadata": {},
          "output_type": "display_data"
        },
        {
          "data": {
            "application/javascript": "download(\"download_5fe77f91-7acc-404e-a54c-75248328c72a\", \"quantised_16_bit.zip\", 7457722)",
            "text/plain": [
              "<IPython.core.display.Javascript object>"
            ]
          },
          "metadata": {},
          "output_type": "display_data"
        }
      ],
      "source": [
        "shutil.make_archive(\"quantised_16_bit\", 'zip', \"quantised_16_bit\")\n",
        "files.download(\"quantised_16_bit.zip\")"
      ]
    },
    {
      "cell_type": "code",
      "execution_count": null,
      "metadata": {
        "colab": {
          "base_uri": "https://localhost:8080/",
          "height": 17
        },
        "id": "d2pTCOzc8w2T",
        "outputId": "2dca8fd9-5e97-457c-e3b9-45390fe55a4e"
      },
      "outputs": [
        {
          "data": {
            "application/javascript": "\n    async function download(id, filename, size) {\n      if (!google.colab.kernel.accessAllowed) {\n        return;\n      }\n      const div = document.createElement('div');\n      const label = document.createElement('label');\n      label.textContent = `Downloading \"${filename}\": `;\n      div.appendChild(label);\n      const progress = document.createElement('progress');\n      progress.max = size;\n      div.appendChild(progress);\n      document.body.appendChild(div);\n\n      const buffers = [];\n      let downloaded = 0;\n\n      const channel = await google.colab.kernel.comms.open(id);\n      // Send a message to notify the kernel that we're ready.\n      channel.send({})\n\n      for await (const message of channel.messages) {\n        // Send a message to notify the kernel that we're ready.\n        channel.send({})\n        if (message.buffers) {\n          for (const buffer of message.buffers) {\n            buffers.push(buffer);\n            downloaded += buffer.byteLength;\n            progress.value = downloaded;\n          }\n        }\n      }\n      const blob = new Blob(buffers, {type: 'application/binary'});\n      const a = document.createElement('a');\n      a.href = window.URL.createObjectURL(blob);\n      a.download = filename;\n      div.appendChild(a);\n      a.click();\n      div.remove();\n    }\n  ",
            "text/plain": [
              "<IPython.core.display.Javascript object>"
            ]
          },
          "metadata": {},
          "output_type": "display_data"
        },
        {
          "data": {
            "application/javascript": "download(\"download_3da4ccc7-fd04-4886-a2f5-d577a7fc597d\", \"quantised_8_bit.zip\", 3840000)",
            "text/plain": [
              "<IPython.core.display.Javascript object>"
            ]
          },
          "metadata": {},
          "output_type": "display_data"
        }
      ],
      "source": [
        "shutil.make_archive(\"quantised_8_bit\", 'zip', \"quantised_8_bit\")\n",
        "files.download(\"quantised_8_bit.zip\")"
      ]
    }
  ],
  "metadata": {
    "accelerator": "GPU",
    "colab": {
      "provenance": []
    },
    "kernelspec": {
      "display_name": "Python 3",
      "name": "python3"
    },
    "language_info": {
      "name": "python"
    }
  },
  "nbformat": 4,
  "nbformat_minor": 0
}
