{
  "cells": [
    {
      "cell_type": "code",
      "execution_count": null,
      "metadata": {
        "colab": {
          "base_uri": "https://localhost:8080/"
        },
        "id": "g5UR0O-BbO19",
        "outputId": "37d96376-af89-4693-f0b6-fde52197c50d"
      },
      "outputs": [
        {
          "output_type": "stream",
          "name": "stdout",
          "text": [
            "Collecting tensorflow-model-optimization\n",
            "  Downloading tensorflow_model_optimization-0.7.5-py2.py3-none-any.whl (241 kB)\n",
            "\u001b[2K     \u001b[90m━━━━━━━━━━━━━━━━━━━━━━━━━━━━━━━━━━━━━━━━\u001b[0m \u001b[32m241.2/241.2 kB\u001b[0m \u001b[31m1.7 MB/s\u001b[0m eta \u001b[36m0:00:00\u001b[0m\n",
            "\u001b[?25hRequirement already satisfied: absl-py~=1.2 in /usr/local/lib/python3.10/dist-packages (from tensorflow-model-optimization) (1.4.0)\n",
            "Requirement already satisfied: dm-tree~=0.1.1 in /usr/local/lib/python3.10/dist-packages (from tensorflow-model-optimization) (0.1.8)\n",
            "Requirement already satisfied: numpy~=1.23 in /usr/local/lib/python3.10/dist-packages (from tensorflow-model-optimization) (1.23.5)\n",
            "Requirement already satisfied: six~=1.14 in /usr/local/lib/python3.10/dist-packages (from tensorflow-model-optimization) (1.16.0)\n",
            "Installing collected packages: tensorflow-model-optimization\n",
            "Successfully installed tensorflow-model-optimization-0.7.5\n",
            "Mounted at /content/drive\n"
          ]
        }
      ],
      "source": [
        "import tensorflow as tf\n",
        "import keras\n",
        "from keras import layers\n",
        "import numpy as np\n",
        "import pandas as pd\n",
        "from sklearn.decomposition import PCA\n",
        "from sklearn.preprocessing import StandardScaler\n",
        "import matplotlib.pyplot as plt\n",
        "from sklearn.manifold import TSNE\n",
        "!pip install tensorflow-model-optimization\n",
        "from tensorflow_model_optimization.python.core.sparsity.keras import prune, pruning_callbacks\n",
        "import tensorflow_model_optimization as tfmot\n",
        "from tensorflow_model_optimization.sparsity import keras as sparsity\n",
        "from tensorflow.keras.models import load_model\n",
        "from google.colab import files\n",
        "import shutil\n",
        "import gc\n",
        "from keras.datasets import cifar10\n",
        "from tensorflow.keras import layers\n",
        "import shutil\n",
        "from google.colab import drive\n",
        "drive.mount('/content/drive')\n",
        "\n",
        "np.random.seed(42)\n",
        "tf.random.set_seed(42)"
      ]
    },
    {
      "cell_type": "code",
      "execution_count": null,
      "metadata": {
        "colab": {
          "base_uri": "https://localhost:8080/"
        },
        "id": "kgdWDGbE0e-h",
        "outputId": "71d268c3-bf33-485a-b4a5-cc43d628dbcc"
      },
      "outputs": [
        {
          "output_type": "stream",
          "name": "stdout",
          "text": [
            "Downloading data from https://www.cs.toronto.edu/~kriz/cifar-10-python.tar.gz\n",
            "170498071/170498071 [==============================] - 3s 0us/step\n",
            "x_train shape: (50000, 32, 32, 3, 1)\n",
            "50000 train samples\n",
            "10000 test samples\n"
          ]
        }
      ],
      "source": [
        "def build_model(input_shape, num_classes):\n",
        "    model= tf.keras.applications.MobileNet(\n",
        "    input_shape=input_shape,\n",
        "    include_top=None,\n",
        "    weights=None,\n",
        "    pooling='avg',\n",
        "    classes=num_classes,\n",
        "    )\n",
        "    for layer in model.layers:\n",
        "      layer.trainable=True\n",
        "    dnn_model = keras.Sequential()\n",
        "    dnn_model.add(model)\n",
        "    dnn_model.add(keras.layers.Flatten())\n",
        "    dnn_model.add(keras.layers.Dense(512, activation='relu'))\n",
        "    dnn_model.add(keras.layers.Dense(num_classes, activation='softmax'))\n",
        "    dnn_model.compile(optimizer='adam', loss='categorical_crossentropy', metrics=['accuracy'])\n",
        "    return dnn_model\n",
        "\n",
        "num_classes = 10\n",
        "input_shape = (32, 32, 3)\n",
        "\n",
        "# Load the data and split it between train and test sets\n",
        "(x_train, y_train), (x_test, y_test) = cifar10.load_data()\n",
        "\n",
        "# Load the data and split it between train and test sets\n",
        "\n",
        "# Scale images to the [0, 1] range\n",
        "x_train = x_train.astype(\"float32\") / 255\n",
        "x_test = x_test.astype(\"float32\") / 255\n",
        "# Make sure images have shape (28, 28, 1)\n",
        "x_train = np.expand_dims(x_train, -1)\n",
        "x_test = np.expand_dims(x_test, -1)\n",
        "print(\"x_train shape:\", x_train.shape)\n",
        "print(x_train.shape[0], \"train samples\")\n",
        "print(x_test.shape[0], \"test samples\")\n",
        "\n",
        "\n",
        "# convert class vectors to binary class matrices\n",
        "y_train = keras.utils.to_categorical(y_train, num_classes)\n",
        "y_test = keras.utils.to_categorical(y_test, num_classes)\n",
        "\n"
      ]
    },
    {
      "cell_type": "code",
      "execution_count": null,
      "metadata": {
        "id": "ISdhEM6VaVA4"
      },
      "outputs": [],
      "source": [
        "def train_model(model, train_data, train_labels, test_data, test_labels):\n",
        "    model.save_weights(init_weights)\n",
        "    model.save(init_model)\n",
        "    initailsoftmax = model.predict(test_data)\n",
        "    initaildf = pd.DataFrame(initailsoftmax)\n",
        "    filename = filepath + '0_softmax.csv'\n",
        "    initaildf.to_csv(filename,index=False)\n",
        "    epoch = 1\n",
        "    while epoch < 26:\n",
        "        print(f\"Epoch {epoch}:\")\n",
        "\n",
        "        # Training on one epoch\n",
        "        model.fit(train_data, train_labels, epochs=1, batch_size=64, verbose=1)\n",
        "\n",
        "        # Evaluate on the test dataset\n",
        "        loss, accuracy = model.evaluate(test_data, test_labels, verbose=0)\n",
        "        results = model.predict(test_data)\n",
        "        softmax_df = pd.DataFrame(results)\n",
        "        filename = filepath+str(epoch)+'_softmax.csv'\n",
        "        softmax_df.to_csv(filename,index=False)\n",
        "\n",
        "        print(f\"Test Loss: {loss}, Test Accuracy: {accuracy}\")\n",
        "        if epoch ==25:\n",
        "          model.save_weights(final_weights)\n",
        "          model.save(final_model)\n",
        "        epoch += 1\n",
        "\n",
        "\n"
      ]
    },
    {
      "cell_type": "code",
      "execution_count": null,
      "metadata": {
        "id": "ZW6sVYElRjz-"
      },
      "outputs": [],
      "source": [
        "model_name = 'mobilenet'\n",
        "dataset = 'CIFAR10'"
      ]
    },
    {
      "cell_type": "markdown",
      "metadata": {
        "id": "2EJSiXMAb4UR"
      },
      "source": [
        "# Creating Base Models"
      ]
    },
    {
      "cell_type": "code",
      "execution_count": null,
      "metadata": {
        "id": "1WZTNNxJciha"
      },
      "outputs": [],
      "source": [
        "filepath = '/content/base/'\n",
        "init_weights = filepath + model_name + dataset + '_init_weights.tf'\n",
        "init_model = filepath + model_name + dataset +'_init.tf'\n",
        "final_weights = filepath + model_name + dataset +'_final_weights.tf'\n",
        "final_model= filepath + model_name + dataset +'_final.tf'"
      ]
    },
    {
      "cell_type": "code",
      "execution_count": null,
      "metadata": {
        "id": "slUSKBbwgTV4"
      },
      "outputs": [],
      "source": [
        "!mkdir '/content/base/'"
      ]
    },
    {
      "cell_type": "code",
      "execution_count": null,
      "metadata": {
        "id": "ws_M91l3fZ24"
      },
      "outputs": [],
      "source": [
        "base = build_model(input_shape, num_classes)"
      ]
    },
    {
      "cell_type": "code",
      "execution_count": null,
      "metadata": {
        "colab": {
          "base_uri": "https://localhost:8080/"
        },
        "id": "xEAxJbswxiTX",
        "outputId": "5adc3622-4425-4274-ebba-baa75e439120"
      },
      "outputs": [
        {
          "output_type": "stream",
          "name": "stderr",
          "text": [
            "WARNING:absl:`mobilenet_1.00_32_input` is not a valid tf.function parameter name. Sanitizing to `mobilenet_1_00_32_input`.\n",
            "WARNING:absl:`mobilenet_1.00_32_input` is not a valid tf.function parameter name. Sanitizing to `mobilenet_1_00_32_input`.\n",
            "WARNING:absl:`mobilenet_1.00_32_input` is not a valid tf.function parameter name. Sanitizing to `mobilenet_1_00_32_input`.\n"
          ]
        },
        {
          "output_type": "stream",
          "name": "stdout",
          "text": [
            "313/313 [==============================] - 7s 7ms/step\n",
            "Epoch 1:\n",
            "782/782 [==============================] - 35s 24ms/step - loss: 1.8720 - accuracy: 0.3015\n",
            "313/313 [==============================] - 1s 4ms/step\n",
            "Test Loss: 1.724470853805542, Test Accuracy: 0.36090001463890076\n",
            "Epoch 2:\n",
            "782/782 [==============================] - 20s 25ms/step - loss: 1.5162 - accuracy: 0.4429\n",
            "313/313 [==============================] - 1s 4ms/step\n",
            "Test Loss: 1.905683994293213, Test Accuracy: 0.4016999900341034\n",
            "Epoch 3:\n",
            "782/782 [==============================] - 19s 24ms/step - loss: 1.3424 - accuracy: 0.5167\n",
            "313/313 [==============================] - 1s 4ms/step\n",
            "Test Loss: 1.5260224342346191, Test Accuracy: 0.46790000796318054\n",
            "Epoch 4:\n",
            "782/782 [==============================] - 18s 23ms/step - loss: 1.1983 - accuracy: 0.5706\n",
            "313/313 [==============================] - 1s 4ms/step\n",
            "Test Loss: 1.4306920766830444, Test Accuracy: 0.5307999849319458\n",
            "Epoch 5:\n",
            "782/782 [==============================] - 18s 23ms/step - loss: 1.0852 - accuracy: 0.6165\n",
            "313/313 [==============================] - 1s 4ms/step\n",
            "Test Loss: 1.2858818769454956, Test Accuracy: 0.585099995136261\n",
            "Epoch 6:\n",
            "782/782 [==============================] - 18s 23ms/step - loss: 0.9870 - accuracy: 0.6556\n",
            "313/313 [==============================] - 2s 5ms/step\n",
            "Test Loss: 1.2375491857528687, Test Accuracy: 0.5907999873161316\n",
            "Epoch 7:\n",
            "782/782 [==============================] - 18s 23ms/step - loss: 0.8995 - accuracy: 0.6853\n",
            "313/313 [==============================] - 1s 4ms/step\n",
            "Test Loss: 1.1422829627990723, Test Accuracy: 0.6226999759674072\n",
            "Epoch 8:\n",
            "782/782 [==============================] - 19s 24ms/step - loss: 0.8203 - accuracy: 0.7143\n",
            "313/313 [==============================] - 1s 4ms/step\n",
            "Test Loss: 1.2645307779312134, Test Accuracy: 0.6162999868392944\n",
            "Epoch 9:\n",
            "782/782 [==============================] - 18s 23ms/step - loss: 0.7502 - accuracy: 0.7403\n",
            "313/313 [==============================] - 2s 5ms/step\n",
            "Test Loss: 1.108677625656128, Test Accuracy: 0.654699981212616\n",
            "Epoch 10:\n",
            "782/782 [==============================] - 18s 23ms/step - loss: 0.6826 - accuracy: 0.7633\n",
            "313/313 [==============================] - 2s 5ms/step\n",
            "Test Loss: 1.1588287353515625, Test Accuracy: 0.6453999876976013\n",
            "Epoch 11:\n",
            "782/782 [==============================] - 19s 25ms/step - loss: 0.6174 - accuracy: 0.7889\n",
            "313/313 [==============================] - 1s 4ms/step\n",
            "Test Loss: 1.1448395252227783, Test Accuracy: 0.6686000227928162\n",
            "Epoch 12:\n",
            "782/782 [==============================] - 19s 24ms/step - loss: 0.5515 - accuracy: 0.8083\n",
            "313/313 [==============================] - 1s 4ms/step\n",
            "Test Loss: 1.1558997631072998, Test Accuracy: 0.6625999808311462\n",
            "Epoch 13:\n",
            "782/782 [==============================] - 18s 23ms/step - loss: 0.5057 - accuracy: 0.8257\n",
            "313/313 [==============================] - 1s 4ms/step\n",
            "Test Loss: 1.2087723016738892, Test Accuracy: 0.6692000031471252\n",
            "Epoch 14:\n",
            "782/782 [==============================] - 18s 23ms/step - loss: 0.4574 - accuracy: 0.8444\n",
            "313/313 [==============================] - 1s 4ms/step\n",
            "Test Loss: 1.197222352027893, Test Accuracy: 0.6717000007629395\n",
            "Epoch 15:\n",
            "782/782 [==============================] - 18s 23ms/step - loss: 0.4092 - accuracy: 0.8606\n",
            "313/313 [==============================] - 1s 4ms/step\n",
            "Test Loss: 1.2108373641967773, Test Accuracy: 0.6743000149726868\n",
            "Epoch 16:\n",
            "782/782 [==============================] - 18s 23ms/step - loss: 0.3808 - accuracy: 0.8706\n",
            "313/313 [==============================] - 2s 5ms/step\n",
            "Test Loss: 1.3480466604232788, Test Accuracy: 0.6564000248908997\n",
            "Epoch 17:\n",
            "782/782 [==============================] - 18s 23ms/step - loss: 0.3375 - accuracy: 0.8846\n",
            "313/313 [==============================] - 1s 4ms/step\n",
            "Test Loss: 1.2756023406982422, Test Accuracy: 0.6866000294685364\n",
            "Epoch 18:\n",
            "782/782 [==============================] - 19s 24ms/step - loss: 0.3068 - accuracy: 0.8959\n",
            "313/313 [==============================] - 1s 4ms/step\n",
            "Test Loss: 1.521152138710022, Test Accuracy: 0.6402000188827515\n",
            "Epoch 19:\n",
            "782/782 [==============================] - 18s 23ms/step - loss: 0.2835 - accuracy: 0.9035\n",
            "313/313 [==============================] - 1s 5ms/step\n",
            "Test Loss: 1.5247766971588135, Test Accuracy: 0.6496000289916992\n",
            "Epoch 20:\n",
            "782/782 [==============================] - 19s 25ms/step - loss: 0.2541 - accuracy: 0.9117\n",
            "313/313 [==============================] - 1s 4ms/step\n",
            "Test Loss: 1.4622852802276611, Test Accuracy: 0.6618000268936157\n",
            "Epoch 21:\n",
            "782/782 [==============================] - 19s 24ms/step - loss: 0.2262 - accuracy: 0.9232\n",
            "313/313 [==============================] - 1s 4ms/step\n",
            "Test Loss: 1.3519738912582397, Test Accuracy: 0.6863999962806702\n",
            "Epoch 22:\n",
            "782/782 [==============================] - 18s 24ms/step - loss: 0.2196 - accuracy: 0.9249\n",
            "313/313 [==============================] - 1s 4ms/step\n",
            "Test Loss: 1.515212059020996, Test Accuracy: 0.6633999943733215\n",
            "Epoch 23:\n",
            "782/782 [==============================] - 18s 23ms/step - loss: 0.1990 - accuracy: 0.9313\n",
            "313/313 [==============================] - 1s 4ms/step\n",
            "Test Loss: 1.468894362449646, Test Accuracy: 0.6855000257492065\n",
            "Epoch 24:\n",
            "782/782 [==============================] - 18s 23ms/step - loss: 0.1820 - accuracy: 0.9380\n",
            "313/313 [==============================] - 2s 6ms/step\n",
            "Test Loss: 1.4325708150863647, Test Accuracy: 0.6947000026702881\n",
            "Epoch 25:\n",
            "782/782 [==============================] - 18s 23ms/step - loss: 0.1788 - accuracy: 0.9386\n",
            "313/313 [==============================] - 1s 4ms/step\n",
            "Test Loss: 1.4094783067703247, Test Accuracy: 0.6870999932289124\n"
          ]
        },
        {
          "output_type": "stream",
          "name": "stderr",
          "text": [
            "WARNING:absl:`mobilenet_1.00_32_input` is not a valid tf.function parameter name. Sanitizing to `mobilenet_1_00_32_input`.\n",
            "WARNING:absl:`mobilenet_1.00_32_input` is not a valid tf.function parameter name. Sanitizing to `mobilenet_1_00_32_input`.\n"
          ]
        }
      ],
      "source": [
        "train_model(base,x_train,y_train,x_test,y_test)"
      ]
    },
    {
      "cell_type": "code",
      "execution_count": null,
      "metadata": {
        "id": "FJTpZuPCRNuO"
      },
      "outputs": [],
      "source": [
        "del (base)\n",
        "gc.collect()\n",
        "keras.backend.clear_session()"
      ]
    },
    {
      "cell_type": "code",
      "source": [
        "shutil.make_archive(\"base\", 'zip', \"base\")"
      ],
      "metadata": {
        "id": "ur_5EgKU2dIb",
        "colab": {
          "base_uri": "https://localhost:8080/",
          "height": 35
        },
        "outputId": "8a05be19-b6cd-4845-8109-f73f51a75c25"
      },
      "execution_count": null,
      "outputs": [
        {
          "output_type": "execute_result",
          "data": {
            "text/plain": [
              "'/content/base.zip'"
            ],
            "application/vnd.google.colaboratory.intrinsic+json": {
              "type": "string"
            }
          },
          "metadata": {},
          "execution_count": 10
        }
      ]
    },
    {
      "cell_type": "code",
      "source": [
        "colab_link = \"/content/base.zip\"\n",
        "gdrive_link = \"/content/drive/MyDrive/MobileNet_CIFAR10\"\n",
        "shutil.copy(colab_link, gdrive_link)"
      ],
      "metadata": {
        "id": "3HHnx5Ee2cJN",
        "colab": {
          "base_uri": "https://localhost:8080/",
          "height": 35
        },
        "outputId": "040b0d7e-321a-4a31-d70b-b89cb5d3fd55"
      },
      "execution_count": null,
      "outputs": [
        {
          "output_type": "execute_result",
          "data": {
            "text/plain": [
              "'/content/drive/MyDrive/MobileNet_CIFAR10/base.zip'"
            ],
            "application/vnd.google.colaboratory.intrinsic+json": {
              "type": "string"
            }
          },
          "metadata": {},
          "execution_count": 11
        }
      ]
    },
    {
      "cell_type": "markdown",
      "metadata": {
        "id": "ug9epnRWclXx"
      },
      "source": [
        "# Independant model one"
      ]
    },
    {
      "cell_type": "code",
      "execution_count": null,
      "metadata": {
        "id": "CgYyTzPGckv5"
      },
      "outputs": [],
      "source": [
        "filepath = '/content/independant_1/'\n",
        "init_weights = filepath + model_name + dataset + '_init_weights.tf'\n",
        "init_model = filepath + model_name + dataset + '_init.tf'\n",
        "final_weights = filepath + model_name + dataset + '_final_weights.tf'\n",
        "final_model= filepath + model_name + dataset + '_final.tf'"
      ]
    },
    {
      "cell_type": "code",
      "execution_count": null,
      "metadata": {
        "id": "a27D5LR5gpFp"
      },
      "outputs": [],
      "source": [
        "!mkdir  '/content/independant_1/'"
      ]
    },
    {
      "cell_type": "code",
      "execution_count": null,
      "metadata": {
        "id": "0ZmvRweSc6P8"
      },
      "outputs": [],
      "source": [
        "model_independant_1 = build_model(input_shape, num_classes)"
      ]
    },
    {
      "cell_type": "code",
      "execution_count": null,
      "metadata": {
        "id": "nbSGMFzRdA5Z",
        "colab": {
          "base_uri": "https://localhost:8080/"
        },
        "outputId": "69728ad0-5317-4ba0-88c0-429a590f0712"
      },
      "outputs": [
        {
          "output_type": "stream",
          "name": "stdout",
          "text": [
            "313/313 [==============================] - 2s 5ms/step\n",
            "Epoch 1:\n",
            "782/782 [==============================] - 31s 23ms/step - loss: 1.8338 - accuracy: 0.3158\n",
            "313/313 [==============================] - 2s 6ms/step\n",
            "Test Loss: 1.7186713218688965, Test Accuracy: 0.37869998812675476\n",
            "Epoch 2:\n",
            "782/782 [==============================] - 18s 23ms/step - loss: 1.4960 - accuracy: 0.4510\n",
            "313/313 [==============================] - 2s 5ms/step\n",
            "Test Loss: 1.4551461935043335, Test Accuracy: 0.47609999775886536\n",
            "Epoch 3:\n",
            "782/782 [==============================] - 18s 23ms/step - loss: 1.3371 - accuracy: 0.5154\n",
            "313/313 [==============================] - 1s 4ms/step\n",
            "Test Loss: 1.651651382446289, Test Accuracy: 0.45419999957084656\n",
            "Epoch 4:\n",
            "782/782 [==============================] - 18s 23ms/step - loss: 1.2081 - accuracy: 0.5672\n",
            "313/313 [==============================] - 1s 4ms/step\n",
            "Test Loss: 1.2971620559692383, Test Accuracy: 0.5565000176429749\n",
            "Epoch 5:\n",
            "782/782 [==============================] - 18s 23ms/step - loss: 1.1010 - accuracy: 0.6089\n",
            "313/313 [==============================] - 2s 5ms/step\n",
            "Test Loss: 1.5865293741226196, Test Accuracy: 0.5099999904632568\n",
            "Epoch 6:\n",
            "782/782 [==============================] - 18s 23ms/step - loss: 1.0036 - accuracy: 0.6469\n",
            "313/313 [==============================] - 2s 6ms/step\n",
            "Test Loss: 1.3248112201690674, Test Accuracy: 0.5794000029563904\n",
            "Epoch 7:\n",
            "782/782 [==============================] - 18s 23ms/step - loss: 0.9165 - accuracy: 0.6831\n",
            "313/313 [==============================] - 1s 4ms/step\n",
            "Test Loss: 1.3815250396728516, Test Accuracy: 0.5716999769210815\n",
            "Epoch 8:\n",
            "782/782 [==============================] - 19s 24ms/step - loss: 0.8350 - accuracy: 0.7111\n",
            "313/313 [==============================] - 1s 4ms/step\n",
            "Test Loss: 1.3842817544937134, Test Accuracy: 0.5954999923706055\n",
            "Epoch 9:\n",
            "782/782 [==============================] - 18s 23ms/step - loss: 0.7653 - accuracy: 0.7360\n",
            "313/313 [==============================] - 1s 4ms/step\n",
            "Test Loss: 1.2706409692764282, Test Accuracy: 0.6103000044822693\n",
            "Epoch 10:\n",
            "782/782 [==============================] - 19s 24ms/step - loss: 0.6991 - accuracy: 0.7604\n",
            "313/313 [==============================] - 1s 4ms/step\n",
            "Test Loss: 1.3191951513290405, Test Accuracy: 0.6014999747276306\n",
            "Epoch 11:\n",
            "782/782 [==============================] - 18s 23ms/step - loss: 0.6277 - accuracy: 0.7866\n",
            "313/313 [==============================] - 2s 5ms/step\n",
            "Test Loss: 1.3127098083496094, Test Accuracy: 0.6144000291824341\n",
            "Epoch 12:\n",
            "782/782 [==============================] - 18s 23ms/step - loss: 0.5775 - accuracy: 0.8011\n",
            "313/313 [==============================] - 1s 4ms/step\n",
            "Test Loss: 1.121325969696045, Test Accuracy: 0.6736999750137329\n",
            "Epoch 13:\n",
            "782/782 [==============================] - 18s 24ms/step - loss: 0.5128 - accuracy: 0.8249\n",
            "313/313 [==============================] - 1s 4ms/step\n",
            "Test Loss: 1.2924588918685913, Test Accuracy: 0.6337000131607056\n",
            "Epoch 14:\n",
            "782/782 [==============================] - 18s 23ms/step - loss: 0.4743 - accuracy: 0.8392\n",
            "313/313 [==============================] - 1s 4ms/step\n",
            "Test Loss: 1.1358642578125, Test Accuracy: 0.6690999865531921\n",
            "Epoch 15:\n",
            "782/782 [==============================] - 19s 24ms/step - loss: 0.4232 - accuracy: 0.8560\n",
            "313/313 [==============================] - 1s 4ms/step\n",
            "Test Loss: 1.165255069732666, Test Accuracy: 0.6761000156402588\n",
            "Epoch 16:\n",
            "782/782 [==============================] - 18s 23ms/step - loss: 0.3961 - accuracy: 0.8634\n",
            "313/313 [==============================] - 2s 5ms/step\n",
            "Test Loss: 1.2164644002914429, Test Accuracy: 0.6775000095367432\n",
            "Epoch 17:\n",
            "782/782 [==============================] - 18s 23ms/step - loss: 0.3517 - accuracy: 0.8809\n",
            "313/313 [==============================] - 1s 4ms/step\n",
            "Test Loss: 1.2521661520004272, Test Accuracy: 0.6794999837875366\n",
            "Epoch 18:\n",
            "782/782 [==============================] - 18s 23ms/step - loss: 0.3240 - accuracy: 0.8893\n",
            "313/313 [==============================] - 1s 4ms/step\n",
            "Test Loss: 1.3051611185073853, Test Accuracy: 0.6654999852180481\n",
            "Epoch 19:\n",
            "782/782 [==============================] - 19s 25ms/step - loss: 0.2872 - accuracy: 0.9029\n",
            "313/313 [==============================] - 1s 4ms/step\n",
            "Test Loss: 1.2921419143676758, Test Accuracy: 0.6773999929428101\n",
            "Epoch 20:\n",
            "782/782 [==============================] - 18s 23ms/step - loss: 0.2711 - accuracy: 0.9076\n",
            "313/313 [==============================] - 1s 4ms/step\n",
            "Test Loss: 1.2974008321762085, Test Accuracy: 0.6848999857902527\n",
            "Epoch 21:\n",
            "782/782 [==============================] - 18s 23ms/step - loss: 0.2466 - accuracy: 0.9160\n",
            "313/313 [==============================] - 1s 5ms/step\n",
            "Test Loss: 1.3442261219024658, Test Accuracy: 0.6844000220298767\n",
            "Epoch 22:\n",
            "782/782 [==============================] - 18s 23ms/step - loss: 0.2263 - accuracy: 0.9239\n",
            "313/313 [==============================] - 1s 4ms/step\n",
            "Test Loss: 1.3447985649108887, Test Accuracy: 0.6789000034332275\n",
            "Epoch 23:\n",
            "782/782 [==============================] - 19s 24ms/step - loss: 0.2114 - accuracy: 0.9280\n",
            "313/313 [==============================] - 1s 4ms/step\n",
            "Test Loss: 1.3948144912719727, Test Accuracy: 0.6875\n",
            "Epoch 24:\n",
            "782/782 [==============================] - 18s 23ms/step - loss: 0.2022 - accuracy: 0.9308\n",
            "313/313 [==============================] - 1s 4ms/step\n",
            "Test Loss: 1.3626465797424316, Test Accuracy: 0.6955999732017517\n",
            "Epoch 25:\n",
            "782/782 [==============================] - 18s 23ms/step - loss: 0.1857 - accuracy: 0.9361\n",
            "313/313 [==============================] - 2s 5ms/step\n",
            "Test Loss: 1.523740291595459, Test Accuracy: 0.676800012588501\n"
          ]
        }
      ],
      "source": [
        "train_model(model_independant_1,x_train,y_train,x_test,y_test)"
      ]
    },
    {
      "cell_type": "code",
      "execution_count": null,
      "metadata": {
        "id": "XW6INm6kSxFS"
      },
      "outputs": [],
      "source": [
        "del (model_independant_1)\n",
        "gc.collect()\n",
        "keras.backend.clear_session()"
      ]
    },
    {
      "cell_type": "markdown",
      "metadata": {
        "id": "X2OTEYTFdUAE"
      },
      "source": [
        "# Independant 2"
      ]
    },
    {
      "cell_type": "code",
      "execution_count": null,
      "metadata": {
        "id": "m_6iAeLLdWyf"
      },
      "outputs": [],
      "source": [
        "filepath = '/content/independant_2/'\n",
        "init_weights = filepath + model_name + dataset + '_init_weights.tf'\n",
        "init_model = filepath + model_name + dataset + '_init.tf'\n",
        "final_weights =filepath + model_name + dataset + '_final_weights.tf'\n",
        "final_model= filepath + model_name + dataset + '_final.tf'"
      ]
    },
    {
      "cell_type": "code",
      "execution_count": null,
      "metadata": {
        "id": "Qq4QQMaTgwcV"
      },
      "outputs": [],
      "source": [
        "!mkdir '/content/independant_2/'"
      ]
    },
    {
      "cell_type": "code",
      "execution_count": null,
      "metadata": {
        "id": "WB-QyYy1df0r"
      },
      "outputs": [],
      "source": [
        "model_independant_2 = build_model(input_shape, num_classes)"
      ]
    },
    {
      "cell_type": "code",
      "execution_count": null,
      "metadata": {
        "id": "axvsh5YIdjHr",
        "colab": {
          "base_uri": "https://localhost:8080/"
        },
        "outputId": "afb2aef7-fb42-487f-e3d8-3e416e530f90"
      },
      "outputs": [
        {
          "output_type": "stream",
          "name": "stdout",
          "text": [
            "313/313 [==============================] - 2s 5ms/step\n",
            "Epoch 1:\n",
            "782/782 [==============================] - 30s 25ms/step - loss: 1.8592 - accuracy: 0.3005\n",
            "313/313 [==============================] - 1s 4ms/step\n",
            "Test Loss: 1.6630275249481201, Test Accuracy: 0.3871000111103058\n",
            "Epoch 2:\n",
            "782/782 [==============================] - 19s 24ms/step - loss: 1.5030 - accuracy: 0.4469\n",
            "313/313 [==============================] - 1s 4ms/step\n",
            "Test Loss: 1.5122004747390747, Test Accuracy: 0.4607999920845032\n",
            "Epoch 3:\n",
            "782/782 [==============================] - 18s 23ms/step - loss: 1.3438 - accuracy: 0.5152\n",
            "313/313 [==============================] - 1s 4ms/step\n",
            "Test Loss: 1.6246618032455444, Test Accuracy: 0.46160000562667847\n",
            "Epoch 4:\n",
            "782/782 [==============================] - 18s 23ms/step - loss: 1.2244 - accuracy: 0.5607\n",
            "313/313 [==============================] - 2s 6ms/step\n",
            "Test Loss: 1.4129894971847534, Test Accuracy: 0.5253999829292297\n",
            "Epoch 5:\n",
            "782/782 [==============================] - 18s 23ms/step - loss: 1.1296 - accuracy: 0.5972\n",
            "313/313 [==============================] - 1s 4ms/step\n",
            "Test Loss: 1.2768687009811401, Test Accuracy: 0.5738999843597412\n",
            "Epoch 6:\n",
            "782/782 [==============================] - 19s 24ms/step - loss: 1.0323 - accuracy: 0.6360\n",
            "313/313 [==============================] - 1s 4ms/step\n",
            "Test Loss: 1.205690622329712, Test Accuracy: 0.6021999716758728\n",
            "Epoch 7:\n",
            "782/782 [==============================] - 19s 24ms/step - loss: 0.9451 - accuracy: 0.6712\n",
            "313/313 [==============================] - 1s 4ms/step\n",
            "Test Loss: 1.1795929670333862, Test Accuracy: 0.6090999841690063\n",
            "Epoch 8:\n",
            "782/782 [==============================] - 18s 23ms/step - loss: 0.8627 - accuracy: 0.7012\n",
            "313/313 [==============================] - 2s 6ms/step\n",
            "Test Loss: 1.1735925674438477, Test Accuracy: 0.6198999881744385\n",
            "Epoch 9:\n",
            "782/782 [==============================] - 20s 26ms/step - loss: 0.7828 - accuracy: 0.7304\n",
            "313/313 [==============================] - 1s 4ms/step\n",
            "Test Loss: 1.2862244844436646, Test Accuracy: 0.5947999954223633\n",
            "Epoch 10:\n",
            "782/782 [==============================] - 19s 24ms/step - loss: 0.7109 - accuracy: 0.7552\n",
            "313/313 [==============================] - 1s 4ms/step\n",
            "Test Loss: 1.1707500219345093, Test Accuracy: 0.6370999813079834\n",
            "Epoch 11:\n",
            "782/782 [==============================] - 18s 23ms/step - loss: 0.6499 - accuracy: 0.7757\n",
            "313/313 [==============================] - 1s 4ms/step\n",
            "Test Loss: 1.160355567932129, Test Accuracy: 0.6492000222206116\n",
            "Epoch 12:\n",
            "782/782 [==============================] - 18s 23ms/step - loss: 0.5796 - accuracy: 0.8019\n",
            "313/313 [==============================] - 2s 5ms/step\n",
            "Test Loss: 1.2028368711471558, Test Accuracy: 0.6402999758720398\n",
            "Epoch 13:\n",
            "782/782 [==============================] - 18s 23ms/step - loss: 0.5308 - accuracy: 0.8186\n",
            "313/313 [==============================] - 1s 4ms/step\n",
            "Test Loss: 1.1446806192398071, Test Accuracy: 0.6635000109672546\n",
            "Epoch 14:\n",
            "782/782 [==============================] - 19s 24ms/step - loss: 0.4688 - accuracy: 0.8406\n",
            "313/313 [==============================] - 1s 4ms/step\n",
            "Test Loss: 1.2766516208648682, Test Accuracy: 0.6466000080108643\n",
            "Epoch 15:\n",
            "782/782 [==============================] - 18s 24ms/step - loss: 0.4263 - accuracy: 0.8553\n",
            "313/313 [==============================] - 1s 4ms/step\n",
            "Test Loss: 1.229856014251709, Test Accuracy: 0.6621999740600586\n",
            "Epoch 16:\n",
            "782/782 [==============================] - 18s 23ms/step - loss: 0.3831 - accuracy: 0.8697\n",
            "313/313 [==============================] - 1s 4ms/step\n",
            "Test Loss: 1.248030424118042, Test Accuracy: 0.6601999998092651\n",
            "Epoch 17:\n",
            "782/782 [==============================] - 18s 23ms/step - loss: 0.3422 - accuracy: 0.8836\n",
            "313/313 [==============================] - 2s 7ms/step\n",
            "Test Loss: 1.3929494619369507, Test Accuracy: 0.6485999822616577\n",
            "Epoch 18:\n",
            "782/782 [==============================] - 19s 24ms/step - loss: 0.3157 - accuracy: 0.8930\n",
            "313/313 [==============================] - 1s 4ms/step\n",
            "Test Loss: 1.3994580507278442, Test Accuracy: 0.6639999747276306\n",
            "Epoch 19:\n",
            "782/782 [==============================] - 19s 24ms/step - loss: 0.2889 - accuracy: 0.9020\n",
            "313/313 [==============================] - 1s 4ms/step\n",
            "Test Loss: 1.3985594511032104, Test Accuracy: 0.6571000218391418\n",
            "Epoch 20:\n",
            "782/782 [==============================] - 18s 24ms/step - loss: 0.2632 - accuracy: 0.9117\n",
            "313/313 [==============================] - 2s 5ms/step\n",
            "Test Loss: 1.5186811685562134, Test Accuracy: 0.6597999930381775\n",
            "Epoch 21:\n",
            "782/782 [==============================] - 18s 23ms/step - loss: 0.2408 - accuracy: 0.9186\n",
            "313/313 [==============================] - 1s 4ms/step\n",
            "Test Loss: 1.3534072637557983, Test Accuracy: 0.6739000082015991\n",
            "Epoch 22:\n",
            "782/782 [==============================] - 18s 24ms/step - loss: 0.2232 - accuracy: 0.9248\n",
            "313/313 [==============================] - 1s 4ms/step\n",
            "Test Loss: 1.4579737186431885, Test Accuracy: 0.6725999712944031\n",
            "Epoch 23:\n",
            "782/782 [==============================] - 18s 24ms/step - loss: 0.2042 - accuracy: 0.9297\n",
            "313/313 [==============================] - 1s 4ms/step\n",
            "Test Loss: 1.5085711479187012, Test Accuracy: 0.6642000079154968\n",
            "Epoch 24:\n",
            "782/782 [==============================] - 19s 24ms/step - loss: 0.1911 - accuracy: 0.9343\n",
            "313/313 [==============================] - 1s 4ms/step\n",
            "Test Loss: 1.4223335981369019, Test Accuracy: 0.6786999702453613\n",
            "Epoch 25:\n",
            "782/782 [==============================] - 18s 23ms/step - loss: 0.1787 - accuracy: 0.9388\n",
            "313/313 [==============================] - 2s 6ms/step\n",
            "Test Loss: 1.5098474025726318, Test Accuracy: 0.6728000044822693\n"
          ]
        }
      ],
      "source": [
        "train_model(model_independant_2,x_train,y_train,x_test,y_test)"
      ]
    },
    {
      "cell_type": "code",
      "execution_count": null,
      "metadata": {
        "id": "-t_bBGPKS9oi"
      },
      "outputs": [],
      "source": [
        "del (model_independant_2)\n",
        "gc.collect()\n",
        "keras.backend.clear_session()"
      ]
    },
    {
      "cell_type": "markdown",
      "metadata": {
        "id": "TxQrGkUBYePo"
      },
      "source": [
        "#Download Independant Models"
      ]
    },
    {
      "cell_type": "code",
      "source": [
        "shutil.make_archive(\"independant_1\", 'zip', \"independant_1\")"
      ],
      "metadata": {
        "id": "RcKQFmnYy7Rn",
        "colab": {
          "base_uri": "https://localhost:8080/",
          "height": 35
        },
        "outputId": "b76b7182-3d9a-470e-a6e4-76b8e2df9237"
      },
      "execution_count": null,
      "outputs": [
        {
          "output_type": "execute_result",
          "data": {
            "text/plain": [
              "'/content/independant_1.zip'"
            ],
            "application/vnd.google.colaboratory.intrinsic+json": {
              "type": "string"
            }
          },
          "metadata": {},
          "execution_count": 22
        }
      ]
    },
    {
      "cell_type": "code",
      "source": [
        "import shutil\n",
        "from google.colab import drive\n",
        "\n",
        "\n",
        "colab_link = \"/content/independant_1.zip\"\n",
        "gdrive_link = \"/content/drive/MyDrive/MobileNet_CIFAR10\"\n",
        "shutil.copy(colab_link, gdrive_link)"
      ],
      "metadata": {
        "id": "Lo0HHNIBuvmS",
        "colab": {
          "base_uri": "https://localhost:8080/",
          "height": 35
        },
        "outputId": "aaf203f0-8333-4122-9af9-b1e428ac9629"
      },
      "execution_count": null,
      "outputs": [
        {
          "output_type": "execute_result",
          "data": {
            "text/plain": [
              "'/content/drive/MyDrive/MobileNet_CIFAR10/independant_1.zip'"
            ],
            "application/vnd.google.colaboratory.intrinsic+json": {
              "type": "string"
            }
          },
          "metadata": {},
          "execution_count": 23
        }
      ]
    },
    {
      "cell_type": "code",
      "source": [
        "shutil.make_archive(\"independant_2\", 'zip', \"independant_2\")"
      ],
      "metadata": {
        "id": "cZgOWD-TxT7E",
        "colab": {
          "base_uri": "https://localhost:8080/",
          "height": 35
        },
        "outputId": "cc823855-82b2-4454-ccec-7bdb71b24a7d"
      },
      "execution_count": null,
      "outputs": [
        {
          "output_type": "execute_result",
          "data": {
            "text/plain": [
              "'/content/independant_2.zip'"
            ],
            "application/vnd.google.colaboratory.intrinsic+json": {
              "type": "string"
            }
          },
          "metadata": {},
          "execution_count": 24
        }
      ]
    },
    {
      "cell_type": "code",
      "source": [
        "import shutil\n",
        "from google.colab import drive\n",
        "colab_link = \"/content/independant_2.zip\"\n",
        "gdrive_link = \"/content/drive/MyDrive/MobileNet_CIFAR10\"\n",
        "shutil.copy(colab_link, gdrive_link)"
      ],
      "metadata": {
        "id": "EnX3-k2yyNGC",
        "colab": {
          "base_uri": "https://localhost:8080/",
          "height": 35
        },
        "outputId": "d55b4e53-e0fa-4c4c-accb-f82e6771c87f"
      },
      "execution_count": null,
      "outputs": [
        {
          "output_type": "execute_result",
          "data": {
            "text/plain": [
              "'/content/drive/MyDrive/MobileNet_CIFAR10/independant_2.zip'"
            ],
            "application/vnd.google.colaboratory.intrinsic+json": {
              "type": "string"
            }
          },
          "metadata": {},
          "execution_count": 25
        }
      ]
    },
    {
      "cell_type": "markdown",
      "metadata": {
        "id": "1M1eiG9hE3Up"
      },
      "source": [
        "---"
      ]
    },
    {
      "cell_type": "markdown",
      "metadata": {
        "id": "BXdp-pUi2U5_"
      },
      "source": [
        "# Distillation"
      ]
    },
    {
      "cell_type": "code",
      "execution_count": null,
      "metadata": {
        "id": "q1gaVGRegqu_"
      },
      "outputs": [],
      "source": [
        "def train_custom(model, train_data, train_labels, test_data, test_labels):\n",
        "    initailsoftmax = model.student.predict(test_data)\n",
        "    model.student.save_weights(init_weights)\n",
        "    model.student.save(init_model)\n",
        "    initaildf = pd.DataFrame(initailsoftmax)\n",
        "    filename = filepath + '0_softmax.csv'\n",
        "    initaildf.to_csv(filename,index=False)\n",
        "    epoch = 1\n",
        "    while epoch < 26:\n",
        "        print(f\"Epoch {epoch}:\")\n",
        "\n",
        "        # Training on one epoch\n",
        "        model.fit(train_data, train_labels, epochs=1, batch_size=64, verbose=1)\n",
        "\n",
        "        # Evaluate on the test dataset\n",
        "        results = model.student.predict(test_data)\n",
        "        softmax_df = pd.DataFrame(results)\n",
        "        filename = filepath+str(epoch)+'_softmax.csv'\n",
        "        softmax_df.to_csv(filename,index=False)\n",
        "        loss,accuracy = model.student.evaluate(test_data,test_labels)\n",
        "        print(f\"Test Loss: {loss}, Test Accuracy: {accuracy}\")\n",
        "\n",
        "        if epoch ==25:\n",
        "          model.student.save_weights(final_weights)\n",
        "          model.student.save(final_model)\n",
        "        epoch += 1\n",
        "\n",
        "# TO DO EVALUATE FUNCTION\n"
      ]
    },
    {
      "cell_type": "code",
      "execution_count": null,
      "metadata": {
        "id": "HfM5ezDj2mCH"
      },
      "outputs": [],
      "source": [
        "class Distiller(tf.keras.Model):\n",
        "    def __init__(self, student, teacher):\n",
        "        super().__init__()\n",
        "        self.teacher = teacher\n",
        "        self.student = student\n",
        "\n",
        "    def compile(\n",
        "        self,\n",
        "        optimizer,\n",
        "        metrics,\n",
        "        student_loss_fn,\n",
        "        distillation_loss_fn,\n",
        "        alpha,\n",
        "        temperature,\n",
        "    ):\n",
        "        super().compile(optimizer=optimizer, metrics=metrics)\n",
        "        self.student_loss_fn = student_loss_fn\n",
        "        self.distillation_loss_fn = distillation_loss_fn\n",
        "        self.alpha = alpha\n",
        "        self.temperature = temperature\n",
        "\n",
        "    def train_step(self, data):\n",
        "        # Unpack data\n",
        "        x, y = data\n",
        "\n",
        "        # Forward pass of teacher\n",
        "        teacher_predictions = self.teacher(x, training=False)\n",
        "\n",
        "        with tf.GradientTape() as tape:\n",
        "            # Forward pass of student\n",
        "            student_predictions = self.student(x, training=True)\n",
        "\n",
        "            # Compute losses\n",
        "            student_loss = self.student_loss_fn(y, student_predictions)\n",
        "\n",
        "            distillation_loss = (\n",
        "                self.distillation_loss_fn(\n",
        "                    tf.nn.softmax(teacher_predictions / self.temperature, axis=1),\n",
        "                    tf.nn.softmax(student_predictions / self.temperature, axis=1),\n",
        "                )\n",
        "                * self.temperature**2\n",
        "            )\n",
        "\n",
        "            loss = self.alpha * student_loss + (1 - self.alpha) * distillation_loss\n",
        "\n",
        "        # Compute gradients\n",
        "        trainable_vars = self.student.trainable_variables\n",
        "        gradients = tape.gradient(loss, trainable_vars)\n",
        "\n",
        "        # Update weights\n",
        "        self.optimizer.apply_gradients(zip(gradients, trainable_vars))\n",
        "\n",
        "        # Update the metrics configured in `compile()`.\n",
        "        self.compiled_metrics.update_state(y, student_predictions)\n",
        "\n",
        "        # Return a dict of performance\n",
        "        results = {m.name: m.result() for m in self.metrics}\n",
        "        results.update(\n",
        "            {\"student_loss\": student_loss, \"distillation_loss\": distillation_loss}\n",
        "        )\n",
        "\n",
        "        return results\n",
        "\n",
        "    def test_step(self, data):\n",
        "        # Unpack the data\n",
        "        x, y = data\n",
        "\n",
        "        # Compute predictions\n",
        "        y_prediction = self.student(x, training=False)\n",
        "        print(y_prediction)\n",
        "        # Calculate the loss\n",
        "        student_loss = self.student_loss_fn(y, y_prediction)\n",
        "\n",
        "        # Update the metrics.\n",
        "        self.compiled_metrics.update_state(y, y_prediction)\n",
        "\n",
        "        # Return a dict of performance\n",
        "        results = {m.name: m.result() for m in self.metrics}\n",
        "        results.update({\"student_loss\": student_loss})\n",
        "        return results"
      ]
    },
    {
      "cell_type": "markdown",
      "metadata": {
        "id": "OgQPe37aj3Ek"
      },
      "source": [
        "# Student 0.1 Alpha"
      ]
    },
    {
      "cell_type": "code",
      "execution_count": null,
      "metadata": {
        "id": "EGgaXEX8j7IG"
      },
      "outputs": [],
      "source": [
        "model_path = '/content/base/mobilenetCIFAR10_init.tf'\n",
        "student = load_model(model_path)\n",
        "student_scratch = tf.keras.models.clone_model(student)\n"
      ]
    },
    {
      "cell_type": "code",
      "execution_count": null,
      "metadata": {
        "id": "ab_sFwqB-Tsh"
      },
      "outputs": [],
      "source": [
        "teacher_model_path = '/content/base/mobilenetCIFAR10_final.tf'\n",
        "techer_model = load_model(teacher_model_path)"
      ]
    },
    {
      "cell_type": "code",
      "execution_count": null,
      "metadata": {
        "id": "KL5sBYc19ITH"
      },
      "outputs": [],
      "source": [
        "distiller = Distiller(student=student, teacher=techer_model)\n",
        "distiller.compile(\n",
        "    optimizer=tf.keras.optimizers.Adamax(learning_rate=0.001),\n",
        "    metrics=[tf.keras.metrics.CategoricalCrossentropy()],\n",
        "    student_loss_fn=tf.keras.losses.CategoricalCrossentropy(from_logits=True),\n",
        "    distillation_loss_fn=tf.keras.losses.KLDivergence(),\n",
        "    alpha=0.1,\n",
        "    temperature=3,\n",
        ")"
      ]
    },
    {
      "cell_type": "code",
      "execution_count": null,
      "metadata": {
        "id": "mvIefPKXnZ17"
      },
      "outputs": [],
      "source": [
        "filepath = '/content/student_same/'\n",
        "init_weights = filepath + model_name + dataset + '_init_weights.tf'\n",
        "init_model = filepath + model_name + dataset + '_init.tf'\n",
        "final_weights = filepath + model_name + dataset + '_final_weights.tf'\n",
        "final_model= filepath + model_name + dataset + 'final.tf'"
      ]
    },
    {
      "cell_type": "code",
      "execution_count": null,
      "metadata": {
        "id": "UqIWgvFfnUH2"
      },
      "outputs": [],
      "source": [
        "!mkdir '/content/student_same/'"
      ]
    },
    {
      "cell_type": "code",
      "execution_count": null,
      "metadata": {
        "id": "K9Or3ngvlCSk",
        "colab": {
          "base_uri": "https://localhost:8080/"
        },
        "outputId": "fee2ca1e-3b4b-4672-acd2-a73c823d6c7c"
      },
      "outputs": [
        {
          "output_type": "stream",
          "name": "stdout",
          "text": [
            "313/313 [==============================] - 2s 4ms/step\n",
            "Epoch 1:\n"
          ]
        },
        {
          "output_type": "stream",
          "name": "stderr",
          "text": [
            "/usr/local/lib/python3.10/dist-packages/keras/src/backend.py:5575: UserWarning: \"`categorical_crossentropy` received `from_logits=True`, but the `output` argument was produced by a Softmax activation and thus does not represent logits. Was this intended?\n",
            "  output, from_logits = _get_logits(\n"
          ]
        },
        {
          "output_type": "stream",
          "name": "stdout",
          "text": [
            "782/782 [==============================] - 38s 27ms/step - categorical_crossentropy: 2.0433 - student_loss: 2.0436 - distillation_loss: 0.0436\n",
            "313/313 [==============================] - 2s 6ms/step\n",
            "313/313 [==============================] - 3s 8ms/step - loss: 1.8911 - accuracy: 0.2962\n",
            "Test Loss: 1.8911157846450806, Test Accuracy: 0.2962000072002411\n",
            "Epoch 2:\n",
            "782/782 [==============================] - 21s 27ms/step - categorical_crossentropy: 1.7002 - student_loss: 1.7015 - distillation_loss: 0.0381\n",
            "313/313 [==============================] - 1s 4ms/step\n",
            "313/313 [==============================] - 2s 6ms/step - loss: 1.7216 - accuracy: 0.3935\n",
            "Test Loss: 1.721573829650879, Test Accuracy: 0.3935000002384186\n",
            "Epoch 3:\n",
            "782/782 [==============================] - 21s 27ms/step - categorical_crossentropy: 1.5043 - student_loss: 1.5054 - distillation_loss: 0.0342\n",
            "313/313 [==============================] - 1s 4ms/step\n",
            "313/313 [==============================] - 2s 6ms/step - loss: 1.5585 - accuracy: 0.4525\n",
            "Test Loss: 1.5584732294082642, Test Accuracy: 0.45249998569488525\n",
            "Epoch 4:\n",
            "782/782 [==============================] - 22s 28ms/step - categorical_crossentropy: 1.3533 - student_loss: 1.3539 - distillation_loss: 0.0310\n",
            "313/313 [==============================] - 1s 4ms/step\n",
            "313/313 [==============================] - 2s 6ms/step - loss: 1.4613 - accuracy: 0.4869\n",
            "Test Loss: 1.4613144397735596, Test Accuracy: 0.4869000017642975\n",
            "Epoch 5:\n",
            "782/782 [==============================] - 22s 28ms/step - categorical_crossentropy: 1.2134 - student_loss: 1.2141 - distillation_loss: 0.0279\n",
            "313/313 [==============================] - 2s 5ms/step\n",
            "313/313 [==============================] - 3s 8ms/step - loss: 1.3668 - accuracy: 0.5192\n",
            "Test Loss: 1.3667863607406616, Test Accuracy: 0.5192000269889832\n",
            "Epoch 6:\n",
            "782/782 [==============================] - 21s 27ms/step - categorical_crossentropy: 1.0819 - student_loss: 1.0821 - distillation_loss: 0.0251\n",
            "313/313 [==============================] - 2s 6ms/step\n",
            "313/313 [==============================] - 2s 7ms/step - loss: 1.5161 - accuracy: 0.5046\n",
            "Test Loss: 1.516116976737976, Test Accuracy: 0.5045999884605408\n",
            "Epoch 7:\n",
            "782/782 [==============================] - 21s 27ms/step - categorical_crossentropy: 0.9644 - student_loss: 0.9647 - distillation_loss: 0.0227\n",
            "313/313 [==============================] - 1s 4ms/step\n",
            "313/313 [==============================] - 2s 6ms/step - loss: 1.4635 - accuracy: 0.5261\n",
            "Test Loss: 1.4635473489761353, Test Accuracy: 0.5260999798774719\n",
            "Epoch 8:\n",
            "782/782 [==============================] - 22s 27ms/step - categorical_crossentropy: 0.8580 - student_loss: 0.8576 - distillation_loss: 0.0205\n",
            "313/313 [==============================] - 1s 4ms/step\n",
            "313/313 [==============================] - 2s 6ms/step - loss: 1.5062 - accuracy: 0.5392\n",
            "Test Loss: 1.5061750411987305, Test Accuracy: 0.5392000079154968\n",
            "Epoch 9:\n",
            "782/782 [==============================] - 22s 28ms/step - categorical_crossentropy: 0.7688 - student_loss: 0.7683 - distillation_loss: 0.0189\n",
            "313/313 [==============================] - 2s 5ms/step\n",
            "313/313 [==============================] - 3s 9ms/step - loss: 1.5772 - accuracy: 0.5274\n",
            "Test Loss: 1.5772427320480347, Test Accuracy: 0.527400016784668\n",
            "Epoch 10:\n",
            "782/782 [==============================] - 21s 27ms/step - categorical_crossentropy: 0.6890 - student_loss: 0.6886 - distillation_loss: 0.0174\n",
            "313/313 [==============================] - 1s 4ms/step\n",
            "313/313 [==============================] - 2s 7ms/step - loss: 1.5865 - accuracy: 0.5344\n",
            "Test Loss: 1.5865345001220703, Test Accuracy: 0.5343999862670898\n",
            "Epoch 11:\n",
            "782/782 [==============================] - 22s 28ms/step - categorical_crossentropy: 0.6236 - student_loss: 0.6226 - distillation_loss: 0.0163\n",
            "313/313 [==============================] - 1s 4ms/step\n",
            "313/313 [==============================] - 2s 7ms/step - loss: 1.6245 - accuracy: 0.5453\n",
            "Test Loss: 1.6244536638259888, Test Accuracy: 0.5453000068664551\n",
            "Epoch 12:\n",
            "782/782 [==============================] - 22s 28ms/step - categorical_crossentropy: 0.5536 - student_loss: 0.5529 - distillation_loss: 0.0150\n",
            "313/313 [==============================] - 2s 7ms/step\n",
            "313/313 [==============================] - 3s 8ms/step - loss: 1.6915 - accuracy: 0.5510\n",
            "Test Loss: 1.6915103197097778, Test Accuracy: 0.5509999990463257\n",
            "Epoch 13:\n",
            "782/782 [==============================] - 21s 27ms/step - categorical_crossentropy: 0.5062 - student_loss: 0.5054 - distillation_loss: 0.0142\n",
            "313/313 [==============================] - 1s 5ms/step\n",
            "313/313 [==============================] - 2s 7ms/step - loss: 1.7588 - accuracy: 0.5454\n",
            "Test Loss: 1.758800745010376, Test Accuracy: 0.5454000234603882\n",
            "Epoch 14:\n",
            "782/782 [==============================] - 22s 27ms/step - categorical_crossentropy: 0.4640 - student_loss: 0.4634 - distillation_loss: 0.0136\n",
            "313/313 [==============================] - 1s 4ms/step\n",
            "313/313 [==============================] - 2s 6ms/step - loss: 1.8380 - accuracy: 0.5400\n",
            "Test Loss: 1.837989091873169, Test Accuracy: 0.5400000214576721\n",
            "Epoch 15:\n",
            "782/782 [==============================] - 22s 28ms/step - categorical_crossentropy: 0.4209 - student_loss: 0.4209 - distillation_loss: 0.0131\n",
            "313/313 [==============================] - 1s 4ms/step\n",
            "313/313 [==============================] - 2s 6ms/step - loss: 1.9654 - accuracy: 0.5339\n",
            "Test Loss: 1.9653911590576172, Test Accuracy: 0.5339000225067139\n",
            "Epoch 16:\n",
            "782/782 [==============================] - 23s 29ms/step - categorical_crossentropy: 0.3782 - student_loss: 0.3775 - distillation_loss: 0.0123\n",
            "313/313 [==============================] - 1s 4ms/step\n",
            "313/313 [==============================] - 2s 6ms/step - loss: 1.8298 - accuracy: 0.5515\n",
            "Test Loss: 1.8298392295837402, Test Accuracy: 0.5515000224113464\n",
            "Epoch 17:\n",
            "782/782 [==============================] - 22s 28ms/step - categorical_crossentropy: 0.3449 - student_loss: 0.3447 - distillation_loss: 0.0119\n",
            "313/313 [==============================] - 2s 6ms/step\n",
            "313/313 [==============================] - 3s 8ms/step - loss: 1.9602 - accuracy: 0.5505\n",
            "Test Loss: 1.9602041244506836, Test Accuracy: 0.5504999756813049\n",
            "Epoch 18:\n",
            "782/782 [==============================] - 21s 27ms/step - categorical_crossentropy: 0.3164 - student_loss: 0.3158 - distillation_loss: 0.0115\n",
            "313/313 [==============================] - 2s 5ms/step\n",
            "313/313 [==============================] - 3s 9ms/step - loss: 2.0445 - accuracy: 0.5421\n",
            "Test Loss: 2.0444538593292236, Test Accuracy: 0.5421000123023987\n",
            "Epoch 19:\n",
            "782/782 [==============================] - 21s 27ms/step - categorical_crossentropy: 0.2856 - student_loss: 0.2854 - distillation_loss: 0.0111\n",
            "313/313 [==============================] - 2s 5ms/step\n",
            "313/313 [==============================] - 3s 9ms/step - loss: 2.0352 - accuracy: 0.5471\n",
            "Test Loss: 2.0351762771606445, Test Accuracy: 0.5471000075340271\n",
            "Epoch 20:\n",
            "782/782 [==============================] - 21s 27ms/step - categorical_crossentropy: 0.2648 - student_loss: 0.2644 - distillation_loss: 0.0109\n",
            "313/313 [==============================] - 2s 5ms/step\n",
            "313/313 [==============================] - 3s 9ms/step - loss: 2.2617 - accuracy: 0.5312\n",
            "Test Loss: 2.261662244796753, Test Accuracy: 0.5311999917030334\n",
            "Epoch 21:\n",
            "782/782 [==============================] - 21s 27ms/step - categorical_crossentropy: 0.2456 - student_loss: 0.2453 - distillation_loss: 0.0107\n",
            "313/313 [==============================] - 2s 6ms/step\n",
            "313/313 [==============================] - 3s 9ms/step - loss: 2.1731 - accuracy: 0.5509\n",
            "Test Loss: 2.1730782985687256, Test Accuracy: 0.5508999824523926\n",
            "Epoch 22:\n",
            "782/782 [==============================] - 22s 28ms/step - categorical_crossentropy: 0.2308 - student_loss: 0.2304 - distillation_loss: 0.0104\n",
            "313/313 [==============================] - 2s 8ms/step\n",
            "313/313 [==============================] - 3s 9ms/step - loss: 2.3766 - accuracy: 0.5345\n",
            "Test Loss: 2.376610040664673, Test Accuracy: 0.534500002861023\n",
            "Epoch 23:\n",
            "782/782 [==============================] - 21s 27ms/step - categorical_crossentropy: 0.2161 - student_loss: 0.2157 - distillation_loss: 0.0103\n",
            "313/313 [==============================] - 2s 5ms/step\n",
            "313/313 [==============================] - 3s 9ms/step - loss: 2.2441 - accuracy: 0.5502\n",
            "Test Loss: 2.2441048622131348, Test Accuracy: 0.5501999855041504\n",
            "Epoch 24:\n",
            "782/782 [==============================] - 21s 27ms/step - categorical_crossentropy: 0.2010 - student_loss: 0.2009 - distillation_loss: 0.0101\n",
            "313/313 [==============================] - 1s 4ms/step\n",
            "313/313 [==============================] - 2s 7ms/step - loss: 2.2717 - accuracy: 0.5511\n",
            "Test Loss: 2.271657705307007, Test Accuracy: 0.5511000156402588\n",
            "Epoch 25:\n",
            "782/782 [==============================] - 22s 28ms/step - categorical_crossentropy: 0.1891 - student_loss: 0.1893 - distillation_loss: 0.0100\n",
            "313/313 [==============================] - 1s 4ms/step\n",
            "313/313 [==============================] - 3s 9ms/step - loss: 2.3351 - accuracy: 0.5535\n",
            "Test Loss: 2.3350772857666016, Test Accuracy: 0.5534999966621399\n"
          ]
        }
      ],
      "source": [
        "train_custom(distiller, x_train,y_train,x_test,y_test)"
      ]
    },
    {
      "cell_type": "code",
      "execution_count": null,
      "metadata": {
        "id": "lTMYO7__Uzxz"
      },
      "outputs": [],
      "source": [
        "del (student)\n",
        "gc.collect()\n",
        "keras.backend.clear_session()"
      ]
    },
    {
      "cell_type": "code",
      "source": [
        "shutil.make_archive(\"student_same\", 'zip', \"student_same\")\n",
        "colab_link = \"/content/student_same.zip\"\n",
        "gdrive_link = \"/content/drive/MyDrive/MobileNet_CIFAR10\"\n",
        "shutil.copy(colab_link, gdrive_link)"
      ],
      "metadata": {
        "id": "r3Js-JdJyPm4",
        "colab": {
          "base_uri": "https://localhost:8080/",
          "height": 35
        },
        "outputId": "e89ae760-0d32-4dd1-82a4-975169e98a1d"
      },
      "execution_count": null,
      "outputs": [
        {
          "output_type": "execute_result",
          "data": {
            "text/plain": [
              "'/content/drive/MyDrive/MobileNet_CIFAR10/student_same.zip'"
            ],
            "application/vnd.google.colaboratory.intrinsic+json": {
              "type": "string"
            }
          },
          "metadata": {},
          "execution_count": 35
        }
      ]
    },
    {
      "cell_type": "markdown",
      "metadata": {
        "id": "OaN0-7_6U9e6"
      },
      "source": [
        "# Student same Alpha 0.5"
      ]
    },
    {
      "cell_type": "code",
      "execution_count": null,
      "metadata": {
        "id": "HLTcfc2UVIfO"
      },
      "outputs": [],
      "source": [
        "model_path = '/content/base/mobilenetCIFAR10_init.tf'\n",
        "student = load_model(model_path)\n",
        "student_scratch = tf.keras.models.clone_model(student)"
      ]
    },
    {
      "cell_type": "code",
      "execution_count": null,
      "metadata": {
        "id": "q0xmOf5IVI-G"
      },
      "outputs": [],
      "source": [
        "distiller = Distiller(student=student, teacher=techer_model)\n",
        "distiller.compile(\n",
        "    optimizer=tf.keras.optimizers.Adamax(learning_rate=0.001),\n",
        "    metrics=[tf.keras.metrics.CategoricalCrossentropy()],\n",
        "    student_loss_fn=tf.keras.losses.CategoricalCrossentropy(from_logits=True),\n",
        "    distillation_loss_fn=tf.keras.losses.KLDivergence(),\n",
        "    alpha=0.5,\n",
        "    temperature=3,\n",
        ")"
      ]
    },
    {
      "cell_type": "code",
      "execution_count": null,
      "metadata": {
        "id": "U4fyr8rwVPsI"
      },
      "outputs": [],
      "source": [
        "filepath = '/content/student_same_50/'\n",
        "init_weights = filepath + model_name + dataset + '_init_weights.tf'\n",
        "init_model = filepath + model_name + dataset + '_init.tf'\n",
        "final_weights = filepath + model_name + dataset + '_final_weights.tf'\n",
        "final_model= filepath + model_name + dataset + 'final.tf'"
      ]
    },
    {
      "cell_type": "code",
      "execution_count": null,
      "metadata": {
        "id": "IzbhPktzVokH"
      },
      "outputs": [],
      "source": [
        "!mkdir '/content/student_same_50/'"
      ]
    },
    {
      "cell_type": "code",
      "execution_count": null,
      "metadata": {
        "id": "yKi3Se4kVoIT",
        "colab": {
          "base_uri": "https://localhost:8080/"
        },
        "outputId": "76b5338d-7ad8-4e9c-82d6-ff69ebd68775"
      },
      "outputs": [
        {
          "output_type": "stream",
          "name": "stdout",
          "text": [
            "313/313 [==============================] - 3s 6ms/step\n",
            "Epoch 1:\n"
          ]
        },
        {
          "output_type": "stream",
          "name": "stderr",
          "text": [
            "/usr/local/lib/python3.10/dist-packages/keras/src/backend.py:5575: UserWarning: \"`categorical_crossentropy` received `from_logits=True`, but the `output` argument was produced by a Softmax activation and thus does not represent logits. Was this intended?\n",
            "  output, from_logits = _get_logits(\n"
          ]
        },
        {
          "output_type": "stream",
          "name": "stdout",
          "text": [
            "782/782 [==============================] - 33s 28ms/step - categorical_crossentropy: 2.0286 - student_loss: 2.0291 - distillation_loss: 0.0434\n",
            "313/313 [==============================] - 1s 4ms/step\n",
            "313/313 [==============================] - 3s 6ms/step - loss: 1.9152 - accuracy: 0.2698\n",
            "Test Loss: 1.915187120437622, Test Accuracy: 0.26980000734329224\n",
            "Epoch 2:\n",
            "782/782 [==============================] - 22s 28ms/step - categorical_crossentropy: 1.7051 - student_loss: 1.7053 - distillation_loss: 0.0383\n",
            "313/313 [==============================] - 1s 4ms/step\n",
            "313/313 [==============================] - 2s 6ms/step - loss: 1.6443 - accuracy: 0.3969\n",
            "Test Loss: 1.6443384885787964, Test Accuracy: 0.3968999981880188\n",
            "Epoch 3:\n",
            "782/782 [==============================] - 22s 28ms/step - categorical_crossentropy: 1.5262 - student_loss: 1.5264 - distillation_loss: 0.0349\n",
            "313/313 [==============================] - 1s 4ms/step\n",
            "313/313 [==============================] - 3s 8ms/step - loss: 1.5283 - accuracy: 0.4490\n",
            "Test Loss: 1.528266191482544, Test Accuracy: 0.4490000009536743\n",
            "Epoch 4:\n",
            "782/782 [==============================] - 21s 27ms/step - categorical_crossentropy: 1.3786 - student_loss: 1.3791 - distillation_loss: 0.0318\n",
            "313/313 [==============================] - 1s 4ms/step\n",
            "313/313 [==============================] - 2s 6ms/step - loss: 1.4878 - accuracy: 0.4856\n",
            "Test Loss: 1.4878153800964355, Test Accuracy: 0.48559999465942383\n",
            "Epoch 5:\n",
            "782/782 [==============================] - 22s 28ms/step - categorical_crossentropy: 1.2303 - student_loss: 1.2312 - distillation_loss: 0.0287\n",
            "313/313 [==============================] - 2s 5ms/step\n",
            "313/313 [==============================] - 2s 6ms/step - loss: 1.4586 - accuracy: 0.5087\n",
            "Test Loss: 1.4585691690444946, Test Accuracy: 0.5087000131607056\n",
            "Epoch 6:\n",
            "782/782 [==============================] - 22s 27ms/step - categorical_crossentropy: 1.0989 - student_loss: 1.0990 - distillation_loss: 0.0261\n",
            "313/313 [==============================] - 2s 5ms/step\n",
            "313/313 [==============================] - 2s 6ms/step - loss: 1.4336 - accuracy: 0.5178\n",
            "Test Loss: 1.4336429834365845, Test Accuracy: 0.517799973487854\n",
            "Epoch 7:\n",
            "782/782 [==============================] - 23s 29ms/step - categorical_crossentropy: 0.9767 - student_loss: 0.9767 - distillation_loss: 0.0238\n",
            "313/313 [==============================] - 1s 5ms/step\n",
            "313/313 [==============================] - 2s 6ms/step - loss: 1.4468 - accuracy: 0.5237\n",
            "Test Loss: 1.4467856884002686, Test Accuracy: 0.5236999988555908\n",
            "Epoch 8:\n",
            "782/782 [==============================] - 22s 28ms/step - categorical_crossentropy: 0.8493 - student_loss: 0.8489 - distillation_loss: 0.0213\n",
            "313/313 [==============================] - 2s 5ms/step\n",
            "313/313 [==============================] - 3s 9ms/step - loss: 1.5064 - accuracy: 0.5290\n",
            "Test Loss: 1.5063538551330566, Test Accuracy: 0.5289999842643738\n",
            "Epoch 9:\n",
            "782/782 [==============================] - 21s 27ms/step - categorical_crossentropy: 0.7498 - student_loss: 0.7492 - distillation_loss: 0.0195\n",
            "313/313 [==============================] - 1s 4ms/step\n",
            "313/313 [==============================] - 2s 7ms/step - loss: 1.5498 - accuracy: 0.5347\n",
            "Test Loss: 1.5497592687606812, Test Accuracy: 0.5346999764442444\n",
            "Epoch 10:\n",
            "782/782 [==============================] - 21s 27ms/step - categorical_crossentropy: 0.6757 - student_loss: 0.6750 - distillation_loss: 0.0182\n",
            "313/313 [==============================] - 2s 6ms/step\n",
            "313/313 [==============================] - 2s 6ms/step - loss: 1.5963 - accuracy: 0.5357\n",
            "Test Loss: 1.596341609954834, Test Accuracy: 0.5357000231742859\n",
            "Epoch 11:\n",
            "782/782 [==============================] - 21s 27ms/step - categorical_crossentropy: 0.6085 - student_loss: 0.6080 - distillation_loss: 0.0172\n",
            "313/313 [==============================] - 2s 7ms/step\n",
            "313/313 [==============================] - 2s 6ms/step - loss: 1.8242 - accuracy: 0.5071\n",
            "Test Loss: 1.8241946697235107, Test Accuracy: 0.507099986076355\n",
            "Epoch 12:\n",
            "782/782 [==============================] - 22s 29ms/step - categorical_crossentropy: 0.5439 - student_loss: 0.5431 - distillation_loss: 0.0161\n",
            "313/313 [==============================] - 1s 5ms/step\n",
            "313/313 [==============================] - 2s 6ms/step - loss: 1.8060 - accuracy: 0.5238\n",
            "Test Loss: 1.8060262203216553, Test Accuracy: 0.5238000154495239\n",
            "Epoch 13:\n",
            "782/782 [==============================] - 22s 28ms/step - categorical_crossentropy: 0.4836 - student_loss: 0.4830 - distillation_loss: 0.0152\n",
            "313/313 [==============================] - 2s 6ms/step\n",
            "313/313 [==============================] - 3s 9ms/step - loss: 1.8766 - accuracy: 0.5277\n",
            "Test Loss: 1.8766217231750488, Test Accuracy: 0.5277000069618225\n",
            "Epoch 14:\n",
            "782/782 [==============================] - 21s 27ms/step - categorical_crossentropy: 0.4360 - student_loss: 0.4356 - distillation_loss: 0.0145\n",
            "313/313 [==============================] - 2s 6ms/step\n",
            "313/313 [==============================] - 2s 7ms/step - loss: 1.9072 - accuracy: 0.5424\n",
            "Test Loss: 1.9071966409683228, Test Accuracy: 0.5424000024795532\n",
            "Epoch 15:\n",
            "782/782 [==============================] - 21s 27ms/step - categorical_crossentropy: 0.3922 - student_loss: 0.3919 - distillation_loss: 0.0138\n",
            "313/313 [==============================] - 2s 6ms/step\n",
            "313/313 [==============================] - 2s 7ms/step - loss: 1.9526 - accuracy: 0.5343\n",
            "Test Loss: 1.95255708694458, Test Accuracy: 0.5343000292778015\n",
            "Epoch 16:\n",
            "782/782 [==============================] - 21s 27ms/step - categorical_crossentropy: 0.3487 - student_loss: 0.3480 - distillation_loss: 0.0132\n",
            "313/313 [==============================] - 1s 4ms/step\n",
            "313/313 [==============================] - 2s 7ms/step - loss: 2.1022 - accuracy: 0.5312\n",
            "Test Loss: 2.1021904945373535, Test Accuracy: 0.5311999917030334\n",
            "Epoch 17:\n",
            "782/782 [==============================] - 23s 29ms/step - categorical_crossentropy: 0.3195 - student_loss: 0.3190 - distillation_loss: 0.0128\n",
            "313/313 [==============================] - 2s 5ms/step\n",
            "313/313 [==============================] - 3s 9ms/step - loss: 2.1303 - accuracy: 0.5362\n",
            "Test Loss: 2.1303210258483887, Test Accuracy: 0.5361999869346619\n",
            "Epoch 18:\n",
            "782/782 [==============================] - 21s 27ms/step - categorical_crossentropy: 0.2930 - student_loss: 0.2925 - distillation_loss: 0.0124\n",
            "313/313 [==============================] - 2s 6ms/step\n",
            "313/313 [==============================] - 2s 7ms/step - loss: 2.2378 - accuracy: 0.5339\n",
            "Test Loss: 2.237766742706299, Test Accuracy: 0.5339000225067139\n",
            "Epoch 19:\n",
            "782/782 [==============================] - 21s 27ms/step - categorical_crossentropy: 0.2673 - student_loss: 0.2673 - distillation_loss: 0.0120\n",
            "313/313 [==============================] - 2s 6ms/step\n",
            "313/313 [==============================] - 2s 6ms/step - loss: 2.1536 - accuracy: 0.5466\n",
            "Test Loss: 2.1535677909851074, Test Accuracy: 0.5465999841690063\n",
            "Epoch 20:\n",
            "782/782 [==============================] - 21s 27ms/step - categorical_crossentropy: 0.2437 - student_loss: 0.2436 - distillation_loss: 0.0117\n",
            "313/313 [==============================] - 2s 7ms/step\n",
            "313/313 [==============================] - 2s 7ms/step - loss: 2.4164 - accuracy: 0.5249\n",
            "Test Loss: 2.4164178371429443, Test Accuracy: 0.5249000191688538\n",
            "Epoch 21:\n",
            "782/782 [==============================] - 21s 27ms/step - categorical_crossentropy: 0.2214 - student_loss: 0.2210 - distillation_loss: 0.0114\n",
            "313/313 [==============================] - 1s 4ms/step\n",
            "313/313 [==============================] - 2s 7ms/step - loss: 2.2880 - accuracy: 0.5473\n",
            "Test Loss: 2.2880303859710693, Test Accuracy: 0.5472999811172485\n",
            "Epoch 22:\n",
            "782/782 [==============================] - 21s 27ms/step - categorical_crossentropy: 0.2039 - student_loss: 0.2035 - distillation_loss: 0.0112\n",
            "313/313 [==============================] - 2s 6ms/step\n",
            "313/313 [==============================] - 2s 7ms/step - loss: 2.4034 - accuracy: 0.5259\n",
            "Test Loss: 2.40340518951416, Test Accuracy: 0.5259000062942505\n",
            "Epoch 23:\n",
            "782/782 [==============================] - 21s 27ms/step - categorical_crossentropy: 0.1979 - student_loss: 0.1979 - distillation_loss: 0.0110\n",
            "313/313 [==============================] - 2s 5ms/step\n",
            "313/313 [==============================] - 2s 7ms/step - loss: 2.4386 - accuracy: 0.5295\n",
            "Test Loss: 2.4385743141174316, Test Accuracy: 0.5295000076293945\n",
            "Epoch 24:\n",
            "782/782 [==============================] - 21s 27ms/step - categorical_crossentropy: 0.1812 - student_loss: 0.1810 - distillation_loss: 0.0107\n",
            "313/313 [==============================] - 2s 5ms/step\n",
            "313/313 [==============================] - 2s 6ms/step - loss: 2.3618 - accuracy: 0.5537\n",
            "Test Loss: 2.361771583557129, Test Accuracy: 0.5536999702453613\n",
            "Epoch 25:\n",
            "782/782 [==============================] - 21s 27ms/step - categorical_crossentropy: 0.1717 - student_loss: 0.1713 - distillation_loss: 0.0106\n",
            "313/313 [==============================] - 1s 4ms/step\n",
            "313/313 [==============================] - 2s 7ms/step - loss: 2.3427 - accuracy: 0.5544\n",
            "Test Loss: 2.342731237411499, Test Accuracy: 0.5544000267982483\n"
          ]
        }
      ],
      "source": [
        "train_custom(distiller, x_train,y_train,x_test,y_test)"
      ]
    },
    {
      "cell_type": "code",
      "execution_count": null,
      "metadata": {
        "id": "VFEgkn-4V38i"
      },
      "outputs": [],
      "source": [
        "del (student)\n",
        "gc.collect()\n",
        "keras.backend.clear_session()"
      ]
    },
    {
      "cell_type": "code",
      "source": [
        "shutil.make_archive(\"student_same_50\", 'zip', \"student_same_50\")\n",
        "colab_link = \"/content/student_same_50.zip\"\n",
        "gdrive_link = \"/content/drive/MyDrive/MobileNet_CIFAR10\"\n",
        "shutil.copy(colab_link, gdrive_link)"
      ],
      "metadata": {
        "id": "N1Tpio3AzHkb",
        "colab": {
          "base_uri": "https://localhost:8080/",
          "height": 35
        },
        "outputId": "c09755d5-2cd9-4b9d-a2a5-c74df27fbd8a"
      },
      "execution_count": null,
      "outputs": [
        {
          "output_type": "execute_result",
          "data": {
            "text/plain": [
              "'/content/drive/MyDrive/MobileNet_CIFAR10/student_same_50.zip'"
            ],
            "application/vnd.google.colaboratory.intrinsic+json": {
              "type": "string"
            }
          },
          "metadata": {},
          "execution_count": 42
        }
      ]
    },
    {
      "cell_type": "markdown",
      "metadata": {
        "id": "gMgWdqc_Vyr4"
      },
      "source": [
        "# Student same Alpha 0.9"
      ]
    },
    {
      "cell_type": "code",
      "execution_count": null,
      "metadata": {
        "id": "ispYXVKaV46U"
      },
      "outputs": [],
      "source": [
        "model_path = '/content/base/mobilenetCIFAR10_init.tf'\n",
        "student = load_model(model_path)\n",
        "student_scratch = tf.keras.models.clone_model(student)\n",
        "\n",
        "distiller = Distiller(student=student, teacher=techer_model)\n",
        "distiller.compile(\n",
        "    optimizer=tf.keras.optimizers.Adamax(learning_rate=0.001),\n",
        "    metrics=[tf.keras.metrics.CategoricalCrossentropy()],\n",
        "    student_loss_fn=tf.keras.losses.CategoricalCrossentropy(from_logits=True),\n",
        "    distillation_loss_fn=tf.keras.losses.KLDivergence(),\n",
        "    alpha=0.5,\n",
        "    temperature=3,\n",
        ")\n",
        "\n",
        "filepath = '/content/student_same_90/'\n",
        "init_weights = filepath + model_name + dataset + '_init_weights.tf'\n",
        "init_model = filepath + model_name + dataset + '_init.tf'\n",
        "final_weights = filepath + model_name + dataset + '_final_weights.tf'\n",
        "final_model= filepath + model_name + dataset + 'final.tf'\n",
        "\n",
        "!mkdir '/content/student_same_90/'"
      ]
    },
    {
      "cell_type": "code",
      "execution_count": null,
      "metadata": {
        "id": "lCOpusp6WA5k",
        "colab": {
          "base_uri": "https://localhost:8080/"
        },
        "outputId": "7a0aa739-343c-4800-8517-2791fb7d3ba1"
      },
      "outputs": [
        {
          "metadata": {
            "tags": null
          },
          "name": "stdout",
          "output_type": "stream",
          "text": [
            "313/313 [==============================] - 2s 4ms/step\n",
            "Epoch 1:\n"
          ]
        },
        {
          "metadata": {
            "tags": null
          },
          "name": "stderr",
          "output_type": "stream",
          "text": [
            "/usr/local/lib/python3.10/dist-packages/keras/src/backend.py:5575: UserWarning: \"`categorical_crossentropy` received `from_logits=True`, but the `output` argument was produced by a Softmax activation and thus does not represent logits. Was this intended?\n",
            "  output, from_logits = _get_logits(\n"
          ]
        },
        {
          "output_type": "stream",
          "name": "stdout",
          "text": [
            "782/782 [==============================] - 35s 29ms/step - categorical_crossentropy: 2.0484 - student_loss: 2.0489 - distillation_loss: 0.0437\n",
            "313/313 [==============================] - 2s 6ms/step\n",
            "313/313 [==============================] - 3s 7ms/step - loss: 1.9389 - accuracy: 0.2716\n",
            "Test Loss: 1.938905119895935, Test Accuracy: 0.27160000801086426\n",
            "Epoch 2:\n",
            "782/782 [==============================] - 21s 27ms/step - categorical_crossentropy: 1.7208 - student_loss: 1.7219 - distillation_loss: 0.0386\n",
            "313/313 [==============================] - 1s 4ms/step\n",
            "313/313 [==============================] - 2s 6ms/step - loss: 1.6286 - accuracy: 0.4054\n",
            "Test Loss: 1.6286094188690186, Test Accuracy: 0.40540000796318054\n",
            "Epoch 3:\n",
            "782/782 [==============================] - 22s 28ms/step - categorical_crossentropy: 1.5268 - student_loss: 1.5275 - distillation_loss: 0.0348\n",
            "313/313 [==============================] - 2s 6ms/step\n",
            "313/313 [==============================] - 2s 7ms/step - loss: 1.5460 - accuracy: 0.4470\n",
            "Test Loss: 1.54599928855896, Test Accuracy: 0.44699999690055847\n",
            "Epoch 4:\n",
            "782/782 [==============================] - 21s 27ms/step - categorical_crossentropy: 1.3764 - student_loss: 1.3770 - distillation_loss: 0.0317\n",
            "313/313 [==============================] - 2s 6ms/step\n",
            "313/313 [==============================] - 2s 8ms/step - loss: 1.5814 - accuracy: 0.4555\n",
            "Test Loss: 1.5813814401626587, Test Accuracy: 0.4555000066757202\n",
            "Epoch 5:\n",
            "782/782 [==============================] - 20s 26ms/step - categorical_crossentropy: 1.2352 - student_loss: 1.2358 - distillation_loss: 0.0289\n",
            "313/313 [==============================] - 2s 5ms/step\n",
            "313/313 [==============================] - 3s 8ms/step - loss: 1.4103 - accuracy: 0.5135\n",
            "Test Loss: 1.41025972366333, Test Accuracy: 0.5134999752044678\n",
            "Epoch 6:\n",
            "782/782 [==============================] - 21s 27ms/step - categorical_crossentropy: 1.1017 - student_loss: 1.1019 - distillation_loss: 0.0261\n",
            "313/313 [==============================] - 1s 4ms/step\n",
            "313/313 [==============================] - 2s 6ms/step - loss: 1.3848 - accuracy: 0.5246\n",
            "Test Loss: 1.3847965002059937, Test Accuracy: 0.5246000289916992\n",
            "Epoch 7:\n",
            "782/782 [==============================] - 21s 27ms/step - categorical_crossentropy: 0.9797 - student_loss: 0.9791 - distillation_loss: 0.0237\n",
            "313/313 [==============================] - 2s 6ms/step\n",
            "313/313 [==============================] - 2s 8ms/step - loss: 1.3963 - accuracy: 0.5392\n",
            "Test Loss: 1.396321415901184, Test Accuracy: 0.5392000079154968\n",
            "Epoch 8:\n",
            "782/782 [==============================] - 20s 26ms/step - categorical_crossentropy: 0.8650 - student_loss: 0.8642 - distillation_loss: 0.0216\n",
            "313/313 [==============================] - 1s 5ms/step\n",
            "313/313 [==============================] - 3s 8ms/step - loss: 1.5192 - accuracy: 0.5371\n",
            "Test Loss: 1.5192073583602905, Test Accuracy: 0.5371000170707703\n",
            "Epoch 9:\n",
            "782/782 [==============================] - 20s 26ms/step - categorical_crossentropy: 0.7631 - student_loss: 0.7625 - distillation_loss: 0.0197\n",
            "313/313 [==============================] - 1s 4ms/step\n",
            "313/313 [==============================] - 3s 8ms/step - loss: 1.6838 - accuracy: 0.5213\n",
            "Test Loss: 1.6838250160217285, Test Accuracy: 0.5213000178337097\n",
            "Epoch 10:\n",
            "782/782 [==============================] - 20s 26ms/step - categorical_crossentropy: 0.6797 - student_loss: 0.6792 - distillation_loss: 0.0184\n",
            "313/313 [==============================] - 1s 4ms/step\n",
            "313/313 [==============================] - 3s 9ms/step - loss: 1.5840 - accuracy: 0.5437\n",
            "Test Loss: 1.5839877128601074, Test Accuracy: 0.5436999797821045\n",
            "Epoch 11:\n",
            "782/782 [==============================] - 20s 26ms/step - categorical_crossentropy: 0.6048 - student_loss: 0.6044 - distillation_loss: 0.0171\n",
            "313/313 [==============================] - 1s 5ms/step\n",
            "313/313 [==============================] - 3s 8ms/step - loss: 1.7196 - accuracy: 0.5315\n",
            "Test Loss: 1.7196463346481323, Test Accuracy: 0.531499981880188\n",
            "Epoch 12:\n",
            "782/782 [==============================] - 22s 28ms/step - categorical_crossentropy: 0.5325 - student_loss: 0.5334 - distillation_loss: 0.0159\n",
            "313/313 [==============================] - 1s 4ms/step\n",
            "313/313 [==============================] - 2s 8ms/step - loss: 1.7717 - accuracy: 0.5401\n",
            "Test Loss: 1.7716892957687378, Test Accuracy: 0.5400999784469604\n",
            "Epoch 13:\n",
            "782/782 [==============================] - 20s 26ms/step - categorical_crossentropy: 0.4768 - student_loss: 0.4762 - distillation_loss: 0.0150\n",
            "313/313 [==============================] - 1s 4ms/step\n",
            "313/313 [==============================] - 2s 6ms/step - loss: 1.7670 - accuracy: 0.5450\n",
            "Test Loss: 1.7670445442199707, Test Accuracy: 0.5450000166893005\n",
            "Epoch 14:\n",
            "782/782 [==============================] - 21s 27ms/step - categorical_crossentropy: 0.4212 - student_loss: 0.4206 - distillation_loss: 0.0142\n",
            "313/313 [==============================] - 1s 4ms/step\n",
            "313/313 [==============================] - 2s 6ms/step - loss: 1.9281 - accuracy: 0.5315\n",
            "Test Loss: 1.928118109703064, Test Accuracy: 0.531499981880188\n",
            "Epoch 15:\n",
            "782/782 [==============================] - 21s 27ms/step - categorical_crossentropy: 0.3848 - student_loss: 0.3846 - distillation_loss: 0.0136\n",
            "313/313 [==============================] - 1s 4ms/step\n",
            "313/313 [==============================] - 2s 6ms/step - loss: 1.9943 - accuracy: 0.5268\n",
            "Test Loss: 1.9942985773086548, Test Accuracy: 0.5267999768257141\n",
            "Epoch 16:\n",
            "782/782 [==============================] - 21s 27ms/step - categorical_crossentropy: 0.3485 - student_loss: 0.3479 - distillation_loss: 0.0131\n",
            "313/313 [==============================] - 1s 4ms/step\n",
            "313/313 [==============================] - 2s 6ms/step - loss: 2.0270 - accuracy: 0.5386\n",
            "Test Loss: 2.026951313018799, Test Accuracy: 0.5386000275611877\n",
            "Epoch 17:\n",
            "782/782 [==============================] - 21s 27ms/step - categorical_crossentropy: 0.3170 - student_loss: 0.3164 - distillation_loss: 0.0127\n",
            "313/313 [==============================] - 2s 7ms/step\n",
            "313/313 [==============================] - 2s 6ms/step - loss: 2.0505 - accuracy: 0.5536\n",
            "Test Loss: 2.0505099296569824, Test Accuracy: 0.553600013256073\n",
            "Epoch 18:\n",
            "782/782 [==============================] - 22s 28ms/step - categorical_crossentropy: 0.2881 - student_loss: 0.2878 - distillation_loss: 0.0123\n",
            "313/313 [==============================] - 1s 4ms/step\n",
            "313/313 [==============================] - 2s 6ms/step - loss: 2.1783 - accuracy: 0.5493\n",
            "Test Loss: 2.1782689094543457, Test Accuracy: 0.5493000149726868\n",
            "Epoch 19:\n",
            "782/782 [==============================] - 21s 27ms/step - categorical_crossentropy: 0.2617 - student_loss: 0.2612 - distillation_loss: 0.0120\n",
            "313/313 [==============================] - 1s 4ms/step\n",
            "313/313 [==============================] - 3s 9ms/step - loss: 2.2025 - accuracy: 0.5373\n",
            "Test Loss: 2.2025322914123535, Test Accuracy: 0.5372999906539917\n",
            "Epoch 20:\n",
            "782/782 [==============================] - 21s 27ms/step - categorical_crossentropy: 0.2418 - student_loss: 0.2415 - distillation_loss: 0.0117\n",
            "313/313 [==============================] - 1s 4ms/step\n",
            "313/313 [==============================] - 3s 9ms/step - loss: 2.3554 - accuracy: 0.5402\n",
            "Test Loss: 2.3553881645202637, Test Accuracy: 0.5401999950408936\n",
            "Epoch 21:\n",
            "782/782 [==============================] - 21s 26ms/step - categorical_crossentropy: 0.2267 - student_loss: 0.2264 - distillation_loss: 0.0113\n",
            "313/313 [==============================] - 1s 4ms/step\n",
            "313/313 [==============================] - 2s 6ms/step - loss: 2.3616 - accuracy: 0.5435\n",
            "Test Loss: 2.3615951538085938, Test Accuracy: 0.5435000061988831\n",
            "Epoch 22:\n",
            "782/782 [==============================] - 21s 27ms/step - categorical_crossentropy: 0.2181 - student_loss: 0.2178 - distillation_loss: 0.0113\n",
            "313/313 [==============================] - 2s 5ms/step\n",
            "313/313 [==============================] - 3s 9ms/step - loss: 2.4064 - accuracy: 0.5349\n",
            "Test Loss: 2.406432867050171, Test Accuracy: 0.5349000096321106\n",
            "Epoch 23:\n",
            "782/782 [==============================] - 22s 28ms/step - categorical_crossentropy: 0.1982 - student_loss: 0.1977 - distillation_loss: 0.0110\n",
            "313/313 [==============================] - 2s 6ms/step\n",
            "313/313 [==============================] - 3s 8ms/step - loss: 2.5659 - accuracy: 0.5276\n",
            "Test Loss: 2.565913200378418, Test Accuracy: 0.5275999903678894\n",
            "Epoch 24:\n",
            "782/782 [==============================] - 21s 27ms/step - categorical_crossentropy: 0.1874 - student_loss: 0.1870 - distillation_loss: 0.0108\n",
            "313/313 [==============================] - 2s 5ms/step\n",
            "313/313 [==============================] - 2s 7ms/step - loss: 2.3557 - accuracy: 0.5387\n",
            "Test Loss: 2.355724334716797, Test Accuracy: 0.5386999845504761\n",
            "Epoch 25:\n",
            "782/782 [==============================] - 21s 27ms/step - categorical_crossentropy: 0.1769 - student_loss: 0.1767 - distillation_loss: 0.0107\n",
            "313/313 [==============================] - 1s 4ms/step\n",
            "313/313 [==============================] - 3s 9ms/step - loss: 2.4294 - accuracy: 0.5526\n",
            "Test Loss: 2.4294497966766357, Test Accuracy: 0.5526000261306763\n"
          ]
        }
      ],
      "source": [
        "train_custom(distiller, x_train,y_train,x_test,y_test)"
      ]
    },
    {
      "cell_type": "code",
      "execution_count": null,
      "metadata": {
        "id": "XYgkhmXlWC0H"
      },
      "outputs": [],
      "source": [
        "del (student)\n",
        "gc.collect()\n",
        "keras.backend.clear_session()"
      ]
    },
    {
      "cell_type": "code",
      "source": [
        "shutil.make_archive(\"student_same_90\", 'zip', \"student_same_90\")\n",
        "colab_link = \"/content/student_same_90.zip\"\n",
        "gdrive_link = \"/content/drive/MyDrive/MobileNet_CIFAR10\"\n",
        "shutil.copy(colab_link, gdrive_link)"
      ],
      "metadata": {
        "id": "YYcIh9efzLad",
        "colab": {
          "base_uri": "https://localhost:8080/",
          "height": 35
        },
        "outputId": "4cf59f82-3e00-4882-8224-8d04c75cff39"
      },
      "execution_count": null,
      "outputs": [
        {
          "output_type": "execute_result",
          "data": {
            "text/plain": [
              "'/content/drive/MyDrive/MobileNet_CIFAR10/student_same_90.zip'"
            ],
            "application/vnd.google.colaboratory.intrinsic+json": {
              "type": "string"
            }
          },
          "metadata": {},
          "execution_count": 46
        }
      ]
    },
    {
      "cell_type": "markdown",
      "metadata": {
        "id": "6dvNBKhsWLqR"
      },
      "source": [
        "---"
      ]
    },
    {
      "cell_type": "markdown",
      "metadata": {
        "id": "ZCQ1ucn3X8lA"
      },
      "source": [
        "---\n",
        "\n",
        "# Qunatisation\n",
        "\n",
        "https://github.com/sonalimedani/TF_Quantization/blob/master/quantization.ipynb\n",
        "\n",
        "https://medium.com/@sonalimedani/post-training-quantization-with-tensorflow-lite-on-a-keras-model-f373068966c4"
      ]
    },
    {
      "cell_type": "markdown",
      "metadata": {
        "id": "X69D_tTXecfn"
      },
      "source": [
        "**Default**: 8 Bit"
      ]
    },
    {
      "cell_type": "code",
      "execution_count": null,
      "metadata": {
        "id": "h-3BCaalLyoM",
        "colab": {
          "base_uri": "https://localhost:8080/"
        },
        "outputId": "29585917-ccdd-45e3-c207-6dd03112baab"
      },
      "outputs": [
        {
          "output_type": "stream",
          "name": "stdout",
          "text": [
            "313/313 [==============================] - 3s 7ms/step - loss: 1.4095 - accuracy: 0.6871\n"
          ]
        },
        {
          "output_type": "execute_result",
          "data": {
            "text/plain": [
              "[1.4094783067703247, 0.6870999932289124]"
            ]
          },
          "metadata": {},
          "execution_count": 65
        }
      ],
      "source": [
        "path = '/content/base/mobilenetCIFAR10_final.tf'\n",
        "model = tf.keras.models.load_model(path)\n",
        "model.evaluate(x_test,y_test)"
      ]
    },
    {
      "cell_type": "code",
      "source": [
        "filepath = '/content/quantised_8_bit/'\n",
        "!mkdir '/content/quantised_8_bit/'"
      ],
      "metadata": {
        "colab": {
          "base_uri": "https://localhost:8080/"
        },
        "id": "YB50uWzY8OAP",
        "outputId": "9c5b7d51-5cd5-490b-aaa7-e0c3db8bc5d6"
      },
      "execution_count": null,
      "outputs": [
        {
          "output_type": "stream",
          "name": "stdout",
          "text": [
            "mkdir: cannot create directory ‘/content/quantised_8_bit/’: File exists\n"
          ]
        }
      ]
    },
    {
      "cell_type": "code",
      "source": [
        "converter = tf.lite.TFLiteConverter.from_keras_model(model)\n",
        "converter.optimizations = [tf.lite.Optimize.DEFAULT]\n",
        "tflite_quant_model = converter.convert()\n",
        "#saving converted model in \"converted_quant_model.tflite\" file\n",
        "open(filepath+\"8_bit.tflite\", \"wb\").write(tflite_quant_model)"
      ],
      "metadata": {
        "colab": {
          "base_uri": "https://localhost:8080/"
        },
        "id": "Lm4Q_EbD8Qho",
        "outputId": "1a125d01-ddcd-40ce-cac1-cf3f9ceebcf4"
      },
      "execution_count": null,
      "outputs": [
        {
          "output_type": "execute_result",
          "data": {
            "text/plain": [
              "3916608"
            ]
          },
          "metadata": {},
          "execution_count": 67
        }
      ]
    },
    {
      "cell_type": "markdown",
      "source": [],
      "metadata": {
        "id": "OdJ5EQc58Rvz"
      }
    },
    {
      "cell_type": "code",
      "execution_count": null,
      "metadata": {
        "id": "4Il7AvI1ZvPy",
        "colab": {
          "base_uri": "https://localhost:8080/"
        },
        "outputId": "8ede0a56-b884-4b45-a9f9-14fa7791543e"
      },
      "outputs": [
        {
          "output_type": "stream",
          "name": "stdout",
          "text": [
            "Float model in Mb: 3.73516845703125\n",
            "Quantized model in Mb: 3.73516845703125\n",
            "Compression ratio: 956.203125\n"
          ]
        }
      ],
      "source": [
        "import os\n",
        "print(\"Float model in Mb:\", os.path.getsize(filepath+\"8_bit.tflite\") / float(2**20))\n",
        "print(\"Quantized model in Mb:\", os.path.getsize(filepath+\"8_bit.tflite\") / float(2**20))\n",
        "print(\"Compression ratio:\", os.path.getsize(filepath+\"8_bit.tflite\")/os.path.getsize(path))"
      ]
    },
    {
      "cell_type": "code",
      "source": [
        "interpreter = tf.lite.Interpreter(model_path=(filepath+\"8_bit.tflite\"))\n",
        "interpreter.allocate_tensors()\n",
        "# Get input and output tensors.\n",
        "input_details = interpreter.get_input_details()\n",
        "output_details = interpreter.get_output_details()\n",
        "# Test model on some input data.\n",
        "input_shape = input_details[0]['shape']\n",
        "acc=0\n",
        "results_default = pd.DataFrame()\n",
        "for i in range(len(x_test)):\n",
        "    input_data = x_test[i].reshape(input_shape)\n",
        "    interpreter.set_tensor(input_details[0]['index'], input_data)\n",
        "    interpreter.invoke()\n",
        "    output_data = interpreter.get_tensor(output_details[0]['index'])\n",
        "    row = pd.DataFrame(output_data)\n",
        "    results_default = pd.concat([results_default, row], ignore_index=True)\n",
        "    if(np.argmax(output_data) == np.argmax(y_test[i])):\n",
        "        acc+=1\n",
        "acc = acc/len(x_test)\n",
        "print(acc*100)"
      ],
      "metadata": {
        "colab": {
          "base_uri": "https://localhost:8080/"
        },
        "id": "Cd3PJ4YU8YR4",
        "outputId": "eb6d3851-97fe-4c06-a8a2-9f15a6c25b8f"
      },
      "execution_count": null,
      "outputs": [
        {
          "output_type": "stream",
          "name": "stdout",
          "text": [
            "68.75\n"
          ]
        }
      ]
    },
    {
      "cell_type": "code",
      "source": [
        "results_default\n",
        "results_default.to_csv((filepath+\"25_softmax.csv\"),index=False)"
      ],
      "metadata": {
        "id": "Zq33BpCA8ajP"
      },
      "execution_count": null,
      "outputs": []
    },
    {
      "cell_type": "markdown",
      "metadata": {
        "id": "jpxVyxMGefBb"
      },
      "source": [
        "**16 bit**"
      ]
    },
    {
      "cell_type": "code",
      "execution_count": null,
      "metadata": {
        "id": "LlVMMwy1O-E4"
      },
      "outputs": [],
      "source": [
        "model = tf.keras.models.load_model(path)\n"
      ]
    },
    {
      "cell_type": "code",
      "source": [
        "filepath = '/content/quantised_16_bit/'\n",
        "!mkdir '/content/quantised_16_bit/'"
      ],
      "metadata": {
        "colab": {
          "base_uri": "https://localhost:8080/"
        },
        "id": "rGzR-nZA8klY",
        "outputId": "faebe85c-59aa-4f7a-ebe8-24d28295295b"
      },
      "execution_count": null,
      "outputs": [
        {
          "output_type": "stream",
          "name": "stdout",
          "text": [
            "mkdir: cannot create directory ‘/content/quantised_16_bit/’: File exists\n"
          ]
        }
      ]
    },
    {
      "cell_type": "code",
      "source": [
        "converter = tf.lite.TFLiteConverter.from_keras_model(model)\n",
        "converter.optimizations = [tf.lite.Optimize.DEFAULT]\n",
        "converter.optimizations = [tf.lite.Optimize.DEFAULT]\n",
        "converter.target_spec.supported_types = [tf.float16]\n",
        "tflite_quant_model = converter.convert()\n",
        "#saving converted model in \"converted_quant_model.tflite\" file\n",
        "open((filepath +\"16_bit.tflite\"), \"wb\").write(tflite_quant_model)"
      ],
      "metadata": {
        "colab": {
          "base_uri": "https://localhost:8080/"
        },
        "id": "XQHa3Zsi8mb3",
        "outputId": "eb83e804-7282-483b-8d59-1bd9524b2269"
      },
      "execution_count": null,
      "outputs": [
        {
          "output_type": "execute_result",
          "data": {
            "text/plain": [
              "7482388"
            ]
          },
          "metadata": {},
          "execution_count": 73
        }
      ]
    },
    {
      "cell_type": "code",
      "execution_count": null,
      "metadata": {
        "id": "6S89XWCTbGHF",
        "colab": {
          "base_uri": "https://localhost:8080/"
        },
        "outputId": "e0157b24-d035-4526-e801-6e0f1cfcca21"
      },
      "outputs": [
        {
          "output_type": "stream",
          "name": "stdout",
          "text": [
            "Float model in Mb: 7.135761260986328\n",
            "Quantized model in Mb: 7.135761260986328\n",
            "Compression ratio: 1826.7548828125\n"
          ]
        }
      ],
      "source": [
        "import os\n",
        "print(\"Float model in Mb:\", os.path.getsize(filepath +\"16_bit.tflite\") / float(2**20))\n",
        "print(\"Quantized model in Mb:\", os.path.getsize(filepath +\"16_bit.tflite\") / float(2**20))\n",
        "print(\"Compression ratio:\", os.path.getsize(filepath +\"16_bit.tflite\")/os.path.getsize(path))"
      ]
    },
    {
      "cell_type": "code",
      "source": [
        "interpreter = tf.lite.Interpreter(model_path=filepath +\"16_bit.tflite\")\n",
        "interpreter.allocate_tensors()\n",
        "# Get input and output tensors.\n",
        "input_details = interpreter.get_input_details()\n",
        "output_details = interpreter.get_output_details()\n",
        "# Test model on some input data.\n",
        "input_shape = input_details[0]['shape']\n",
        "acc=0\n",
        "results_16_b = pd.DataFrame()\n",
        "for i in range(len(x_test)):\n",
        "    input_data = x_test[i].reshape(input_shape)\n",
        "    interpreter.set_tensor(input_details[0]['index'], input_data)\n",
        "    interpreter.invoke()\n",
        "    output_data = interpreter.get_tensor(output_details[0]['index'])\n",
        "    row = pd.DataFrame(output_data)\n",
        "    results_16_b = pd.concat([results_16_b, row], ignore_index=True)\n",
        "    if(np.argmax(output_data) == np.argmax(y_test[i])):\n",
        "        acc+=1\n",
        "acc = acc/len(x_test)\n",
        "print(acc*100)"
      ],
      "metadata": {
        "colab": {
          "base_uri": "https://localhost:8080/"
        },
        "id": "fS4dAKxd8qBG",
        "outputId": "d9061bfa-4bf6-4fc9-a65b-bf0b81fb6f64"
      },
      "execution_count": null,
      "outputs": [
        {
          "output_type": "stream",
          "name": "stdout",
          "text": [
            "68.71000000000001\n"
          ]
        }
      ]
    },
    {
      "cell_type": "code",
      "source": [
        "results_16_b\n",
        "results_16_b.to_csv(filepath +'25_softmax.csv',index =False)"
      ],
      "metadata": {
        "id": "OIvSAbiK8sGw"
      },
      "execution_count": null,
      "outputs": []
    },
    {
      "cell_type": "markdown",
      "metadata": {
        "id": "_sIXOiBbSgxM"
      },
      "source": [
        "# Download Data"
      ]
    },
    {
      "cell_type": "code",
      "source": [
        "shutil.make_archive(\"quantised_16_bit\", 'zip', \"quantised_16_bit\")\n",
        "files.download(\"quantised_16_bit.zip\")"
      ],
      "metadata": {
        "colab": {
          "base_uri": "https://localhost:8080/",
          "height": 17
        },
        "id": "891YAeIu8vHW",
        "outputId": "8d40c27b-ed07-46a3-d317-32921e74bf68"
      },
      "execution_count": null,
      "outputs": [
        {
          "output_type": "display_data",
          "data": {
            "text/plain": [
              "<IPython.core.display.Javascript object>"
            ],
            "application/javascript": [
              "\n",
              "    async function download(id, filename, size) {\n",
              "      if (!google.colab.kernel.accessAllowed) {\n",
              "        return;\n",
              "      }\n",
              "      const div = document.createElement('div');\n",
              "      const label = document.createElement('label');\n",
              "      label.textContent = `Downloading \"${filename}\": `;\n",
              "      div.appendChild(label);\n",
              "      const progress = document.createElement('progress');\n",
              "      progress.max = size;\n",
              "      div.appendChild(progress);\n",
              "      document.body.appendChild(div);\n",
              "\n",
              "      const buffers = [];\n",
              "      let downloaded = 0;\n",
              "\n",
              "      const channel = await google.colab.kernel.comms.open(id);\n",
              "      // Send a message to notify the kernel that we're ready.\n",
              "      channel.send({})\n",
              "\n",
              "      for await (const message of channel.messages) {\n",
              "        // Send a message to notify the kernel that we're ready.\n",
              "        channel.send({})\n",
              "        if (message.buffers) {\n",
              "          for (const buffer of message.buffers) {\n",
              "            buffers.push(buffer);\n",
              "            downloaded += buffer.byteLength;\n",
              "            progress.value = downloaded;\n",
              "          }\n",
              "        }\n",
              "      }\n",
              "      const blob = new Blob(buffers, {type: 'application/binary'});\n",
              "      const a = document.createElement('a');\n",
              "      a.href = window.URL.createObjectURL(blob);\n",
              "      a.download = filename;\n",
              "      div.appendChild(a);\n",
              "      a.click();\n",
              "      div.remove();\n",
              "    }\n",
              "  "
            ]
          },
          "metadata": {}
        },
        {
          "output_type": "display_data",
          "data": {
            "text/plain": [
              "<IPython.core.display.Javascript object>"
            ],
            "application/javascript": [
              "download(\"download_5fe77f91-7acc-404e-a54c-75248328c72a\", \"quantised_16_bit.zip\", 7457722)"
            ]
          },
          "metadata": {}
        }
      ]
    },
    {
      "cell_type": "code",
      "source": [
        "shutil.make_archive(\"quantised_8_bit\", 'zip', \"quantised_8_bit\")\n",
        "files.download(\"quantised_8_bit.zip\")"
      ],
      "metadata": {
        "colab": {
          "base_uri": "https://localhost:8080/",
          "height": 17
        },
        "id": "d2pTCOzc8w2T",
        "outputId": "2dca8fd9-5e97-457c-e3b9-45390fe55a4e"
      },
      "execution_count": null,
      "outputs": [
        {
          "output_type": "display_data",
          "data": {
            "text/plain": [
              "<IPython.core.display.Javascript object>"
            ],
            "application/javascript": [
              "\n",
              "    async function download(id, filename, size) {\n",
              "      if (!google.colab.kernel.accessAllowed) {\n",
              "        return;\n",
              "      }\n",
              "      const div = document.createElement('div');\n",
              "      const label = document.createElement('label');\n",
              "      label.textContent = `Downloading \"${filename}\": `;\n",
              "      div.appendChild(label);\n",
              "      const progress = document.createElement('progress');\n",
              "      progress.max = size;\n",
              "      div.appendChild(progress);\n",
              "      document.body.appendChild(div);\n",
              "\n",
              "      const buffers = [];\n",
              "      let downloaded = 0;\n",
              "\n",
              "      const channel = await google.colab.kernel.comms.open(id);\n",
              "      // Send a message to notify the kernel that we're ready.\n",
              "      channel.send({})\n",
              "\n",
              "      for await (const message of channel.messages) {\n",
              "        // Send a message to notify the kernel that we're ready.\n",
              "        channel.send({})\n",
              "        if (message.buffers) {\n",
              "          for (const buffer of message.buffers) {\n",
              "            buffers.push(buffer);\n",
              "            downloaded += buffer.byteLength;\n",
              "            progress.value = downloaded;\n",
              "          }\n",
              "        }\n",
              "      }\n",
              "      const blob = new Blob(buffers, {type: 'application/binary'});\n",
              "      const a = document.createElement('a');\n",
              "      a.href = window.URL.createObjectURL(blob);\n",
              "      a.download = filename;\n",
              "      div.appendChild(a);\n",
              "      a.click();\n",
              "      div.remove();\n",
              "    }\n",
              "  "
            ]
          },
          "metadata": {}
        },
        {
          "output_type": "display_data",
          "data": {
            "text/plain": [
              "<IPython.core.display.Javascript object>"
            ],
            "application/javascript": [
              "download(\"download_3da4ccc7-fd04-4886-a2f5-d577a7fc597d\", \"quantised_8_bit.zip\", 3840000)"
            ]
          },
          "metadata": {}
        }
      ]
    }
  ],
  "metadata": {
    "accelerator": "GPU",
    "colab": {
      "provenance": []
    },
    "kernelspec": {
      "display_name": "Python 3",
      "name": "python3"
    },
    "language_info": {
      "name": "python"
    }
  },
  "nbformat": 4,
  "nbformat_minor": 0
}